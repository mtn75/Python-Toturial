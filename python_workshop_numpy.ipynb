{
  "nbformat": 4,
  "nbformat_minor": 0,
  "metadata": {
    "colab": {
      "provenance": [],
      "authorship_tag": "ABX9TyOzMoWRyfmTuQ/lKBR5Z90x",
      "include_colab_link": true
    },
    "kernelspec": {
      "name": "python3",
      "display_name": "Python 3"
    },
    "language_info": {
      "name": "python"
    }
  },
  "cells": [
    {
      "cell_type": "markdown",
      "metadata": {
        "id": "view-in-github",
        "colab_type": "text"
      },
      "source": [
        "<a href=\"https://colab.research.google.com/github/mtn75/Python-Toturial/blob/main/python_workshop_numpy.ipynb\" target=\"_parent\"><img src=\"https://colab.research.google.com/assets/colab-badge.svg\" alt=\"Open In Colab\"/></a>"
      ]
    },
    {
      "cell_type": "markdown",
      "source": [
        "# Numpy\n",
        "\n",
        "NumPy is a Python library used for working with arrays.\n",
        "\n",
        "It also has functions for working in domain of linear algebra, fourier transform, and matrices.\n",
        "\n",
        "In Python we have lists that serve the purpose of arrays, but they are slow to process.\n",
        "\n",
        "NumPy aims to provide an array object that is up to 50x faster than traditional Python lists."
      ],
      "metadata": {
        "id": "hyQj0xw6pQ7u"
      }
    },
    {
      "cell_type": "code",
      "source": [
        "import numpy as np"
      ],
      "metadata": {
        "id": "MY3bf85vvbKz"
      },
      "execution_count": null,
      "outputs": []
    },
    {
      "cell_type": "code",
      "execution_count": null,
      "metadata": {
        "id": "azXZIAkYvKY6",
        "colab": {
          "base_uri": "https://localhost:8080/",
          "height": 35
        },
        "outputId": "484c0404-473d-41e0-a862-d75d6d8af6d7"
      },
      "outputs": [
        {
          "output_type": "execute_result",
          "data": {
            "text/plain": [
              "'1.21.6'"
            ],
            "application/vnd.google.colaboratory.intrinsic+json": {
              "type": "string"
            }
          },
          "metadata": {},
          "execution_count": 1
        }
      ],
      "source": [
        "import numpy\n",
        "numpy.__version__"
      ]
    },
    {
      "cell_type": "code",
      "source": [
        "arr = np.array([1, 2, 3, 4, 5])\n",
        "\n",
        "print(arr)\n",
        "print(type(arr))"
      ],
      "metadata": {
        "colab": {
          "base_uri": "https://localhost:8080/"
        },
        "id": "8MXRk0MTqK94",
        "outputId": "35abb9c4-c429-4bcf-ead8-cc81b66439d2"
      },
      "execution_count": null,
      "outputs": [
        {
          "output_type": "stream",
          "name": "stdout",
          "text": [
            "[1 2 3 4 5]\n",
            "<class 'numpy.ndarray'>\n"
          ]
        }
      ]
    },
    {
      "cell_type": "markdown",
      "source": [
        "##Numpy Dimensions\n",
        "\n",
        "We can create multiple dimensions arrays with Numpy.\n",
        "Here are some examples of 0D, 1D, 2D, and 3D arrays:"
      ],
      "metadata": {
        "id": "S5jaUzNFszWq"
      }
    },
    {
      "cell_type": "code",
      "source": [
        "arr_0 = np.array(5)                                                         #0D array\n",
        "\n",
        "arr_1 = np.array([1, 2, 3, 4, 5])                                           #1D array\n",
        "\n",
        "arr_2 = np.array([[1, 2, 3], [4, 5, 6]])                                    #2D array\n",
        "\n",
        "arr_3 = np.array([[[1, 2, 3], [4, 5, 6]], [[1, 2, 3], [4, 5, 6]]])          #3D array\n",
        "\n",
        "print(arr_0)\n",
        "print(arr_1)"
      ],
      "metadata": {
        "colab": {
          "base_uri": "https://localhost:8080/"
        },
        "id": "xEkfzLk7tD_T",
        "outputId": "e551926e-d8b2-4d0d-c51b-690072f2aaf7"
      },
      "execution_count": null,
      "outputs": [
        {
          "output_type": "stream",
          "name": "stdout",
          "text": [
            "5\n",
            "[1 2 3 4 5]\n"
          ]
        }
      ]
    },
    {
      "cell_type": "code",
      "source": [
        "print(arr_2)"
      ],
      "metadata": {
        "colab": {
          "base_uri": "https://localhost:8080/"
        },
        "id": "2RO_OjxFtxQY",
        "outputId": "67bfa229-4e56-4595-972b-03d9f3b60f0b"
      },
      "execution_count": null,
      "outputs": [
        {
          "output_type": "stream",
          "name": "stdout",
          "text": [
            "[[1 2 3]\n",
            " [4 5 6]]\n"
          ]
        }
      ]
    },
    {
      "cell_type": "code",
      "source": [
        "print(arr_3)"
      ],
      "metadata": {
        "colab": {
          "base_uri": "https://localhost:8080/"
        },
        "id": "zjdxzU2GtxSs",
        "outputId": "0e2411a5-96ce-4e5d-99dc-8b45d97f479e"
      },
      "execution_count": null,
      "outputs": [
        {
          "output_type": "stream",
          "name": "stdout",
          "text": [
            "[[[1 2 3]\n",
            "  [4 5 6]]\n",
            "\n",
            " [[1 2 3]\n",
            "  [4 5 6]]]\n"
          ]
        }
      ]
    },
    {
      "cell_type": "markdown",
      "source": [
        "## NumPy Array Attributes\n",
        "\n",
        "First let's discuss some useful array attributes.\n",
        "We'll start by defining three random arrays, a one-dimensional, two-dimensional, and three-dimensional array.\n",
        "We'll use NumPy's random number generator, which we will *seed* with a set value in order to ensure that the same random arrays are generated each time this code is run:"
      ],
      "metadata": {
        "id": "dDOM74pNrWMc"
      }
    },
    {
      "cell_type": "code",
      "source": [
        "import numpy as np\n",
        "np.random.seed(0)  # seed for reproducibility\n",
        "\n",
        "x1 = np.random.randint(10, size=9) # One-dimensional array\n",
        "x2 = np.random.randint(10, size=(3, 4)) # Two-dimensional array\n",
        "x3 = np.random.randint(10, size=(3, 4, 5)) # Three-dimensional array"
      ],
      "metadata": {
        "id": "LQ8jNlQNq7zs"
      },
      "execution_count": null,
      "outputs": []
    },
    {
      "cell_type": "code",
      "source": [
        "print(x1)"
      ],
      "metadata": {
        "colab": {
          "base_uri": "https://localhost:8080/"
        },
        "id": "j4ZMK9PxuISP",
        "outputId": "c78d5de0-c5ed-4341-fb52-a962bc4bdc2e"
      },
      "execution_count": null,
      "outputs": [
        {
          "output_type": "stream",
          "name": "stdout",
          "text": [
            "[5 0 3 3 7 9 3 5 2]\n"
          ]
        }
      ]
    },
    {
      "cell_type": "code",
      "source": [
        "print(x2)"
      ],
      "metadata": {
        "colab": {
          "base_uri": "https://localhost:8080/"
        },
        "id": "JzE5dvg9uLGC",
        "outputId": "8e25dd2d-7640-49fc-9dec-e5f119a142a1"
      },
      "execution_count": null,
      "outputs": [
        {
          "output_type": "stream",
          "name": "stdout",
          "text": [
            "[[3 5 2 4]\n",
            " [7 6 8 8]\n",
            " [1 6 7 7]]\n"
          ]
        }
      ]
    },
    {
      "cell_type": "code",
      "source": [
        "print(x3)"
      ],
      "metadata": {
        "colab": {
          "base_uri": "https://localhost:8080/"
        },
        "id": "0FOtThPiuLT5",
        "outputId": "9de2bd1f-70a4-45ff-b943-fa9a776cd040"
      },
      "execution_count": null,
      "outputs": [
        {
          "output_type": "stream",
          "name": "stdout",
          "text": [
            "[[[8 1 5 9 8]\n",
            "  [9 4 3 0 3]\n",
            "  [5 0 2 3 8]\n",
            "  [1 3 3 3 7]]\n",
            "\n",
            " [[0 1 9 9 0]\n",
            "  [4 7 3 2 7]\n",
            "  [2 0 0 4 5]\n",
            "  [5 6 8 4 1]]\n",
            "\n",
            " [[4 9 8 1 1]\n",
            "  [7 9 9 3 6]\n",
            "  [7 2 0 3 5]\n",
            "  [9 4 4 6 4]]]\n"
          ]
        }
      ]
    },
    {
      "cell_type": "markdown",
      "source": [
        "Each array has attributes ``ndim`` (the number of dimensions), ``shape`` (the size of each dimension), ``size`` (the total size of the array), ``dtype`` (the data type of the array).\n",
        "\n",
        "Other attributes include ``itemsize``, which lists the size (in bytes) of each array element, and ``nbytes``, which lists the total size (in bytes) of the array:"
      ],
      "metadata": {
        "id": "w2YX6CTIrhAE"
      }
    },
    {
      "cell_type": "code",
      "source": [
        "print(\"x3 ndim: \", x3.ndim)\n",
        "print(\"x3 shape:\", x3.shape)\n",
        "print(\"x3 size: \", x3.size)\n",
        "print(\"dtype:\", x3.dtype)\n",
        "print(\"itemsize:\", x3.itemsize, \"bytes\")\n",
        "print(\"nbytes:\", x3.nbytes, \"bytes\")"
      ],
      "metadata": {
        "colab": {
          "base_uri": "https://localhost:8080/"
        },
        "id": "AlP8tD1kreZ5",
        "outputId": "0385698d-707a-428a-a12d-8f412061beea"
      },
      "execution_count": null,
      "outputs": [
        {
          "output_type": "stream",
          "name": "stdout",
          "text": [
            "x3 ndim:  3\n",
            "x3 shape: (3, 4, 5)\n",
            "x3 size:  60\n",
            "dtype: int64\n",
            "itemsize: 8 bytes\n",
            "nbytes: 480 bytes\n"
          ]
        }
      ]
    },
    {
      "cell_type": "markdown",
      "source": [
        "## Access (Array Indexing)"
      ],
      "metadata": {
        "id": "rlJy6RNHvBKj"
      }
    },
    {
      "cell_type": "markdown",
      "source": [
        "### 1D Array Indexing"
      ],
      "metadata": {
        "id": "sSmND3fEkhK1"
      }
    },
    {
      "cell_type": "code",
      "source": [
        "x1 #array"
      ],
      "metadata": {
        "id": "_QbZPEvJrjaA",
        "colab": {
          "base_uri": "https://localhost:8080/"
        },
        "outputId": "6e153cf9-125a-4b38-a200-50fae26761d8"
      },
      "execution_count": null,
      "outputs": [
        {
          "output_type": "execute_result",
          "data": {
            "text/plain": [
              "array([5, 0, 3, 3, 7, 9, 3, 5, 2])"
            ]
          },
          "metadata": {},
          "execution_count": 29
        }
      ]
    },
    {
      "cell_type": "code",
      "source": [
        "x1[1]     #Access single cell"
      ],
      "metadata": {
        "colab": {
          "base_uri": "https://localhost:8080/"
        },
        "id": "ym4b3pt6knLr",
        "outputId": "d2ef5bd6-bf74-410c-e17f-51b95c760118"
      },
      "execution_count": null,
      "outputs": [
        {
          "output_type": "execute_result",
          "data": {
            "text/plain": [
              "0"
            ]
          },
          "metadata": {},
          "execution_count": 30
        }
      ]
    },
    {
      "cell_type": "code",
      "source": [
        "x1[3:5]       #Access multiple cells"
      ],
      "metadata": {
        "colab": {
          "base_uri": "https://localhost:8080/"
        },
        "id": "hPBaO6n8kotx",
        "outputId": "b00abfdc-99bd-4cc1-aac9-a686c99e4ece"
      },
      "execution_count": null,
      "outputs": [
        {
          "output_type": "execute_result",
          "data": {
            "text/plain": [
              "array([3, 7])"
            ]
          },
          "metadata": {},
          "execution_count": 31
        }
      ]
    },
    {
      "cell_type": "code",
      "source": [
        "x1[2:]        #Access multiple cells: from the third cell to the end"
      ],
      "metadata": {
        "colab": {
          "base_uri": "https://localhost:8080/"
        },
        "id": "qCZh5HPVk6BQ",
        "outputId": "7ce7a3ca-210b-4f69-a902-cc29b4dbbd05"
      },
      "execution_count": null,
      "outputs": [
        {
          "output_type": "execute_result",
          "data": {
            "text/plain": [
              "array([3, 3, 7, 9, 3, 5, 2])"
            ]
          },
          "metadata": {},
          "execution_count": 32
        }
      ]
    },
    {
      "cell_type": "code",
      "source": [
        "x1[:3]        #Access multiple cells: up to the third cell (Exclusive)."
      ],
      "metadata": {
        "colab": {
          "base_uri": "https://localhost:8080/"
        },
        "id": "axucB763k6I0",
        "outputId": "97120bfb-c519-4d1a-f538-81b8ea9a8a5c"
      },
      "execution_count": null,
      "outputs": [
        {
          "output_type": "execute_result",
          "data": {
            "text/plain": [
              "array([5, 0, 3])"
            ]
          },
          "metadata": {},
          "execution_count": 33
        }
      ]
    },
    {
      "cell_type": "code",
      "source": [
        "x1[-4]       #Access single cell-Negative indexing"
      ],
      "metadata": {
        "colab": {
          "base_uri": "https://localhost:8080/"
        },
        "id": "Gqd8X4xpkq0y",
        "outputId": "2eb7a81e-f8c3-494e-892c-3b2f5101ba39"
      },
      "execution_count": null,
      "outputs": [
        {
          "output_type": "execute_result",
          "data": {
            "text/plain": [
              "9"
            ]
          },
          "metadata": {},
          "execution_count": 34
        }
      ]
    },
    {
      "cell_type": "code",
      "source": [
        "x1[::2]  # every other element"
      ],
      "metadata": {
        "colab": {
          "base_uri": "https://localhost:8080/"
        },
        "id": "y8S2tTFCo-vL",
        "outputId": "25cab494-dd74-4c8d-d30d-5f3b918c761a"
      },
      "execution_count": null,
      "outputs": [
        {
          "output_type": "execute_result",
          "data": {
            "text/plain": [
              "array([5, 3, 7, 3, 2])"
            ]
          },
          "metadata": {},
          "execution_count": 10
        }
      ]
    },
    {
      "cell_type": "code",
      "source": [
        "x1[1::2]  # every other element, starting at index 1"
      ],
      "metadata": {
        "colab": {
          "base_uri": "https://localhost:8080/"
        },
        "id": "RCV6TvUWpBMJ",
        "outputId": "43782db4-92f6-4120-b2a4-2f687a05a99e"
      },
      "execution_count": null,
      "outputs": [
        {
          "output_type": "execute_result",
          "data": {
            "text/plain": [
              "array([0, 3, 9, 5])"
            ]
          },
          "metadata": {},
          "execution_count": 36
        }
      ]
    },
    {
      "cell_type": "code",
      "source": [
        "x1[::-1]  # all elements, reversed"
      ],
      "metadata": {
        "colab": {
          "base_uri": "https://localhost:8080/"
        },
        "id": "30rTvvJ-pHcy",
        "outputId": "4d722131-5179-4fa0-80ee-9c5f81809a11"
      },
      "execution_count": null,
      "outputs": [
        {
          "output_type": "execute_result",
          "data": {
            "text/plain": [
              "array([2, 5, 3, 9, 7, 3, 3, 0, 5])"
            ]
          },
          "metadata": {},
          "execution_count": 37
        }
      ]
    },
    {
      "cell_type": "code",
      "source": [
        "x1[5::-2]  # reversed every other from index 5"
      ],
      "metadata": {
        "colab": {
          "base_uri": "https://localhost:8080/"
        },
        "id": "gL99_OqhpKrI",
        "outputId": "7767a094-6604-4e2f-e6d5-cd53c6e080c2"
      },
      "execution_count": null,
      "outputs": [
        {
          "output_type": "execute_result",
          "data": {
            "text/plain": [
              "array([7, 3, 5])"
            ]
          },
          "metadata": {},
          "execution_count": 42
        }
      ]
    },
    {
      "cell_type": "code",
      "source": [
        "x1[-4:-2]        #Access multiple cells- Negative indexing "
      ],
      "metadata": {
        "colab": {
          "base_uri": "https://localhost:8080/"
        },
        "id": "4SB882D5k1uQ",
        "outputId": "2e5affb6-dfc6-4905-f19c-e943054ddea9"
      },
      "execution_count": null,
      "outputs": [
        {
          "output_type": "execute_result",
          "data": {
            "text/plain": [
              "array([9, 3])"
            ]
          },
          "metadata": {},
          "execution_count": 39
        }
      ]
    },
    {
      "cell_type": "code",
      "source": [
        "x1[:-2]        #Access multiple cells: up to the second cell from the last. Negative indexing (Exclusive)."
      ],
      "metadata": {
        "colab": {
          "base_uri": "https://localhost:8080/"
        },
        "id": "zu4Fc7Juk4Hl",
        "outputId": "63369e5a-0852-4cbd-f7df-7e2fe5a5a0fc"
      },
      "execution_count": null,
      "outputs": [
        {
          "output_type": "execute_result",
          "data": {
            "text/plain": [
              "array([5, 0, 3, 3, 7, 9, 3])"
            ]
          },
          "metadata": {},
          "execution_count": 40
        }
      ]
    },
    {
      "cell_type": "code",
      "source": [
        "x1[-2:]        #Access multiple cells: from the second cell from the last to the end."
      ],
      "metadata": {
        "colab": {
          "base_uri": "https://localhost:8080/"
        },
        "id": "XRZGRYPalK2a",
        "outputId": "da513560-5bab-4123-c9da-ce112dd31a90"
      },
      "execution_count": null,
      "outputs": [
        {
          "output_type": "execute_result",
          "data": {
            "text/plain": [
              "array([5, 2])"
            ]
          },
          "metadata": {},
          "execution_count": 41
        }
      ]
    },
    {
      "cell_type": "markdown",
      "source": [
        "### Multi-Dimension Array Indexing"
      ],
      "metadata": {
        "id": "el_40KTCnyLa"
      }
    },
    {
      "cell_type": "code",
      "source": [
        "x2"
      ],
      "metadata": {
        "colab": {
          "base_uri": "https://localhost:8080/"
        },
        "id": "1PVKt1s_lO7K",
        "outputId": "a9ea08b1-369e-4efa-f6ed-8b1758609246"
      },
      "execution_count": null,
      "outputs": [
        {
          "output_type": "execute_result",
          "data": {
            "text/plain": [
              "array([[4, 7, 6, 8],\n",
              "       [8, 1, 6, 7],\n",
              "       [7, 8, 1, 5]])"
            ]
          },
          "metadata": {},
          "execution_count": 12
        }
      ]
    },
    {
      "cell_type": "code",
      "source": [
        "x2[0,0]     #Access single cell"
      ],
      "metadata": {
        "colab": {
          "base_uri": "https://localhost:8080/"
        },
        "id": "x5InaJRgn_Cu",
        "outputId": "d999ea12-5018-466d-9bb5-6b90ea781281"
      },
      "execution_count": null,
      "outputs": [
        {
          "output_type": "execute_result",
          "data": {
            "text/plain": [
              "4"
            ]
          },
          "metadata": {},
          "execution_count": 23
        }
      ]
    },
    {
      "cell_type": "code",
      "source": [
        "x2[1,2]     #Access single cell [row,column]"
      ],
      "metadata": {
        "colab": {
          "base_uri": "https://localhost:8080/"
        },
        "id": "Tg2vd7vBn2X2",
        "outputId": "8271b8f0-4407-4433-d622-20320cd1e950"
      },
      "execution_count": null,
      "outputs": [
        {
          "output_type": "execute_result",
          "data": {
            "text/plain": [
              "6"
            ]
          },
          "metadata": {},
          "execution_count": 24
        }
      ]
    },
    {
      "cell_type": "code",
      "source": [
        "x2[2,1]     #Access single cell"
      ],
      "metadata": {
        "colab": {
          "base_uri": "https://localhost:8080/"
        },
        "id": "Jc528PxBn7en",
        "outputId": "1da40aea-ea2b-457d-cdfa-8ab477b54bb2"
      },
      "execution_count": null,
      "outputs": [
        {
          "output_type": "execute_result",
          "data": {
            "text/plain": [
              "8"
            ]
          },
          "metadata": {},
          "execution_count": 25
        }
      ]
    },
    {
      "cell_type": "code",
      "source": [
        "x2[2, -1]     #Access single cell"
      ],
      "metadata": {
        "colab": {
          "base_uri": "https://localhost:8080/"
        },
        "id": "QNRv6c8PoQVg",
        "outputId": "fc7f829f-765a-40d5-8264-f9d7346897ea"
      },
      "execution_count": null,
      "outputs": [
        {
          "output_type": "execute_result",
          "data": {
            "text/plain": [
              "5"
            ]
          },
          "metadata": {},
          "execution_count": 26
        }
      ]
    },
    {
      "cell_type": "code",
      "source": [
        "x2[:2, :3]  # two rows, three columns"
      ],
      "metadata": {
        "colab": {
          "base_uri": "https://localhost:8080/"
        },
        "id": "YYxUNksTo5eS",
        "outputId": "2dc881c8-6e1e-40f7-84b6-235f98fce723"
      },
      "execution_count": null,
      "outputs": [
        {
          "output_type": "execute_result",
          "data": {
            "text/plain": [
              "array([[4, 7, 6],\n",
              "       [8, 1, 6]])"
            ]
          },
          "metadata": {},
          "execution_count": 15
        }
      ]
    },
    {
      "cell_type": "code",
      "source": [
        "x2[::-1, ::-1]"
      ],
      "metadata": {
        "colab": {
          "base_uri": "https://localhost:8080/"
        },
        "id": "ZIwtmURsqrMs",
        "outputId": "cbc107a1-d110-4693-dd97-e9d4116bc4ea"
      },
      "execution_count": null,
      "outputs": [
        {
          "output_type": "execute_result",
          "data": {
            "text/plain": [
              "array([[5, 1, 8, 7],\n",
              "       [7, 6, 1, 8],\n",
              "       [8, 6, 7, 4]])"
            ]
          },
          "metadata": {},
          "execution_count": 45
        }
      ]
    },
    {
      "cell_type": "code",
      "source": [
        "x2[:, 0] #first column"
      ],
      "metadata": {
        "colab": {
          "base_uri": "https://localhost:8080/"
        },
        "id": "-BmSAJEzq15R",
        "outputId": "6f6d9501-de1c-481e-c308-be559950f162"
      },
      "execution_count": null,
      "outputs": [
        {
          "output_type": "execute_result",
          "data": {
            "text/plain": [
              "array([4, 8, 7])"
            ]
          },
          "metadata": {},
          "execution_count": 48
        }
      ]
    },
    {
      "cell_type": "code",
      "source": [
        "print(x2[0, :]) #first row\n",
        "\n",
        "print(x2[0])  # equivalent to x2[0, :]"
      ],
      "metadata": {
        "colab": {
          "base_uri": "https://localhost:8080/"
        },
        "id": "5ik2pQBAq22S",
        "outputId": "86f0b0d3-4a7b-4a5a-a238-c1dfbf05e5fc"
      },
      "execution_count": null,
      "outputs": [
        {
          "output_type": "stream",
          "name": "stdout",
          "text": [
            "[4 7 6 8]\n",
            "[4 7 6 8]\n"
          ]
        }
      ]
    },
    {
      "cell_type": "markdown",
      "source": [
        "## Copy and View\n",
        "\n",
        "Main difference: \n",
        "* Copy is a new array\n",
        "* View is just a view of the original array."
      ],
      "metadata": {
        "id": "PxezvJv8rM08"
      }
    },
    {
      "cell_type": "code",
      "source": [
        "import numpy as np\n",
        "\n",
        "arr = np.array([1, 2, 3, 4, 5])\n",
        "x = arr.copy()\n",
        "arr[0] = 30\n",
        "\n",
        "print(arr)\n",
        "print(x)"
      ],
      "metadata": {
        "colab": {
          "base_uri": "https://localhost:8080/"
        },
        "id": "hR4wowLTot5k",
        "outputId": "766e1297-9546-4a4a-9172-a8d0c38d8855"
      },
      "execution_count": null,
      "outputs": [
        {
          "output_type": "stream",
          "name": "stdout",
          "text": [
            "[30  2  3  4  5]\n",
            "[1 2 3 4 5]\n"
          ]
        }
      ]
    },
    {
      "cell_type": "code",
      "source": [
        "import numpy as np\n",
        "\n",
        "arr = np.array([1, 2, 3, 4, 5])\n",
        "x = arr[:4].view()\n",
        "arr[0] = 30\n",
        "\n",
        "print(arr)\n",
        "print(x)"
      ],
      "metadata": {
        "colab": {
          "base_uri": "https://localhost:8080/"
        },
        "id": "gsnWU_RQE_9n",
        "outputId": "1f0afa3b-32bd-45b1-d16b-6f259a1392f6"
      },
      "execution_count": null,
      "outputs": [
        {
          "output_type": "stream",
          "name": "stdout",
          "text": [
            "[30  2  3  4  5]\n",
            "[30  2  3  4]\n"
          ]
        }
      ]
    },
    {
      "cell_type": "markdown",
      "source": [
        "One important–and extremely useful–thing to know about array slices is that they return *views* rather than *copies* of the array data.\n",
        "This is one area in which NumPy array slicing differs from Python list slicing: in lists, slices will be copies.\n",
        "Consider our two-dimensional array from before:"
      ],
      "metadata": {
        "id": "XmigEIEgHB4n"
      }
    },
    {
      "cell_type": "code",
      "source": [
        "arr = np.array([1, 2, 3, 4, 5])\n",
        "x = arr[:4]\n",
        "arr[0] = 30\n",
        "\n",
        "print(arr)\n",
        "print(x)"
      ],
      "metadata": {
        "colab": {
          "base_uri": "https://localhost:8080/"
        },
        "id": "4APCkC_-HGd9",
        "outputId": "7a5f3b1c-9c5f-4222-a4f6-f975ee2353d8"
      },
      "execution_count": null,
      "outputs": [
        {
          "output_type": "stream",
          "name": "stdout",
          "text": [
            "[30  2  3  4  5]\n",
            "[30  2  3  4]\n"
          ]
        }
      ]
    },
    {
      "cell_type": "code",
      "source": [
        "arr = np.array([1, 2, 3, 4, 5])\n",
        "x = arr[:4]\n",
        "x[0] = 30\n",
        "\n",
        "print(arr)\n",
        "print(x)"
      ],
      "metadata": {
        "colab": {
          "base_uri": "https://localhost:8080/"
        },
        "id": "zI5ks9jJHWh8",
        "outputId": "2a782ad6-cfc6-4fee-9ea0-9d33da02dbd3"
      },
      "execution_count": null,
      "outputs": [
        {
          "output_type": "stream",
          "name": "stdout",
          "text": [
            "[30  2  3  4  5]\n",
            "[30  2  3  4]\n"
          ]
        }
      ]
    },
    {
      "cell_type": "markdown",
      "source": [
        "Keep in mind that, unlike Python lists, NumPy arrays have a fixed type. This means, for example, that if you attempt to insert a floating-point value to an integer array, the value will be silently truncated. Don't be caught unaware by this behavior!\n"
      ],
      "metadata": {
        "id": "_orZrZQ6oqV1"
      }
    },
    {
      "cell_type": "code",
      "source": [
        "x1[0] = 3.14159  # this will be truncated!\n",
        "x1"
      ],
      "metadata": {
        "colab": {
          "base_uri": "https://localhost:8080/"
        },
        "id": "gmw58nSPobSJ",
        "outputId": "3c719b70-ef82-4902-e6f8-76b873028eda"
      },
      "execution_count": null,
      "outputs": [
        {
          "output_type": "execute_result",
          "data": {
            "text/plain": [
              "array([3, 0, 3, 3, 7, 9])"
            ]
          },
          "metadata": {},
          "execution_count": 20
        }
      ]
    },
    {
      "cell_type": "markdown",
      "source": [
        "## Methods\n",
        "\n",
        "Numpy had many useful functions for reshaping the array, sorting, and so forth. "
      ],
      "metadata": {
        "id": "Cb_6fdS3IZ1X"
      }
    },
    {
      "cell_type": "markdown",
      "source": [
        "### Reshape\n",
        "You can change the dimensions of the array and reshape it to more or less dimension with the following code:\n",
        "\n",
        "`array.reshape(dimensions)`\n",
        "\n",
        "Here are some of the examples:"
      ],
      "metadata": {
        "id": "tCrkYKT9IeKc"
      }
    },
    {
      "cell_type": "code",
      "source": [
        "arr = np.random.randint(10, size=10)  # One-dimensional array\n",
        "arr"
      ],
      "metadata": {
        "colab": {
          "base_uri": "https://localhost:8080/"
        },
        "id": "HP9iELq9VKrC",
        "outputId": "75f36b52-8eb7-44d2-cf29-022c9b9d6138"
      },
      "execution_count": null,
      "outputs": [
        {
          "output_type": "execute_result",
          "data": {
            "text/plain": [
              "array([3, 2, 0, 7, 5, 9, 0, 2, 7, 2])"
            ]
          },
          "metadata": {},
          "execution_count": 61
        }
      ]
    },
    {
      "cell_type": "code",
      "source": [
        "arr.reshape(5,2)"
      ],
      "metadata": {
        "colab": {
          "base_uri": "https://localhost:8080/"
        },
        "id": "pGj9AVEJVUTo",
        "outputId": "c6939ead-75b2-450b-a25b-9480f2eb4992"
      },
      "execution_count": null,
      "outputs": [
        {
          "output_type": "execute_result",
          "data": {
            "text/plain": [
              "array([[3, 2],\n",
              "       [0, 7],\n",
              "       [5, 9],\n",
              "       [0, 2],\n",
              "       [7, 2]])"
            ]
          },
          "metadata": {},
          "execution_count": 62
        }
      ]
    },
    {
      "cell_type": "code",
      "source": [
        "arr.reshape(2,5)"
      ],
      "metadata": {
        "colab": {
          "base_uri": "https://localhost:8080/"
        },
        "id": "NdVh91qgVaSU",
        "outputId": "66d2ba55-f131-4747-d055-8921632965c7"
      },
      "execution_count": null,
      "outputs": [
        {
          "output_type": "execute_result",
          "data": {
            "text/plain": [
              "array([[3, 2, 0, 7, 5],\n",
              "       [9, 0, 2, 7, 2]])"
            ]
          },
          "metadata": {},
          "execution_count": 63
        }
      ]
    },
    {
      "cell_type": "markdown",
      "source": [
        "The size of the dimensions should match the number of the items:\n",
        "\n",
        "\n"
      ],
      "metadata": {
        "id": "dUxd5jXIVhY2"
      }
    },
    {
      "cell_type": "code",
      "source": [
        "arr.reshape(2,6)"
      ],
      "metadata": {
        "colab": {
          "base_uri": "https://localhost:8080/",
          "height": 166
        },
        "id": "98eAumSnVcxF",
        "outputId": "0170e11b-ed67-4b55-dc22-d52677a05285"
      },
      "execution_count": null,
      "outputs": [
        {
          "output_type": "error",
          "ename": "ValueError",
          "evalue": "ignored",
          "traceback": [
            "\u001b[0;31m---------------------------------------------------------------------------\u001b[0m",
            "\u001b[0;31mValueError\u001b[0m                                Traceback (most recent call last)",
            "\u001b[0;32m<ipython-input-64-8a7d04ae16fd>\u001b[0m in \u001b[0;36m<module>\u001b[0;34m\u001b[0m\n\u001b[0;32m----> 1\u001b[0;31m \u001b[0marr\u001b[0m\u001b[0;34m.\u001b[0m\u001b[0mreshape\u001b[0m\u001b[0;34m(\u001b[0m\u001b[0;36m2\u001b[0m\u001b[0;34m,\u001b[0m\u001b[0;36m6\u001b[0m\u001b[0;34m)\u001b[0m\u001b[0;34m\u001b[0m\u001b[0;34m\u001b[0m\u001b[0m\n\u001b[0m",
            "\u001b[0;31mValueError\u001b[0m: cannot reshape array of size 10 into shape (2,6)"
          ]
        }
      ]
    },
    {
      "cell_type": "code",
      "source": [
        "arr = np.random.randint(10, size=24)  # One-dimensional array\n",
        "arr"
      ],
      "metadata": {
        "colab": {
          "base_uri": "https://localhost:8080/"
        },
        "id": "sTb9YwaKV23A",
        "outputId": "97e6202f-06f2-45a3-80c1-b9c96f2cb60b"
      },
      "execution_count": null,
      "outputs": [
        {
          "output_type": "execute_result",
          "data": {
            "text/plain": [
              "array([6, 8, 2, 3, 0, 0, 6, 0, 6, 3, 3, 8, 8, 8, 2, 3, 2, 0, 8, 8, 3, 8,\n",
              "       2, 8])"
            ]
          },
          "metadata": {},
          "execution_count": 68
        }
      ]
    },
    {
      "cell_type": "code",
      "source": [
        "arr.reshape(2,4,3)"
      ],
      "metadata": {
        "colab": {
          "base_uri": "https://localhost:8080/"
        },
        "id": "cNV20l1mV5vG",
        "outputId": "c572af2e-7f00-41af-c46e-5731b5d73d58"
      },
      "execution_count": null,
      "outputs": [
        {
          "output_type": "execute_result",
          "data": {
            "text/plain": [
              "array([[[6, 8, 2],\n",
              "        [3, 0, 0],\n",
              "        [6, 0, 6],\n",
              "        [3, 3, 8]],\n",
              "\n",
              "       [[8, 8, 2],\n",
              "        [3, 2, 0],\n",
              "        [8, 8, 3],\n",
              "        [8, 2, 8]]])"
            ]
          },
          "metadata": {},
          "execution_count": 69
        }
      ]
    },
    {
      "cell_type": "markdown",
      "source": [
        "### Concatenate\n",
        "You can join multiple arrays with the following code:\n",
        "\n",
        "`np.concatenate(arr1, arr2)`\n",
        "\n",
        "Here are some examples:"
      ],
      "metadata": {
        "id": "FValmRKUTFOS"
      }
    },
    {
      "cell_type": "code",
      "source": [
        "arr1 = np.random.randint(100, size=5)\n",
        "arr2 = np.random.randint(100, size=5)\n",
        "\n",
        "print(arr1)\n",
        "print(arr2)\n",
        "\n",
        "arr = np.concatenate((arr1, arr2))\n",
        "\n",
        "print(arr)"
      ],
      "metadata": {
        "colab": {
          "base_uri": "https://localhost:8080/"
        },
        "id": "_TvojAlCWQNY",
        "outputId": "4356b5bb-3372-463e-b919-929b75b82ff0"
      },
      "execution_count": null,
      "outputs": [
        {
          "output_type": "stream",
          "name": "stdout",
          "text": [
            "[32 70 85 31 13]\n",
            "[71 56 24 79 41]\n",
            "[32 70 85 31 13 71 56 24 79 41]\n"
          ]
        }
      ]
    },
    {
      "cell_type": "code",
      "source": [
        "arr1 = np.random.randint(100, size=(2,3))\n",
        "arr2 = np.random.randint(100, size=(2,3))\n",
        "\n",
        "print(arr1)\n",
        "print(arr2)\n",
        "\n",
        "arr = np.concatenate((arr1, arr2))\n",
        "\n",
        "print(arr)"
      ],
      "metadata": {
        "colab": {
          "base_uri": "https://localhost:8080/"
        },
        "id": "-vEOivQVWQXp",
        "outputId": "6f93dc6d-4da7-41dd-f5e0-c86fe5b8b3a2"
      },
      "execution_count": null,
      "outputs": [
        {
          "output_type": "stream",
          "name": "stdout",
          "text": [
            "[[18 40 54]\n",
            " [79 11 38]]\n",
            "[[93  1 95]\n",
            " [44 88 24]]\n",
            "[[18 40 54]\n",
            " [79 11 38]\n",
            " [93  1 95]\n",
            " [44 88 24]]\n"
          ]
        }
      ]
    },
    {
      "cell_type": "markdown",
      "source": [
        "stack function is used if you want to concatenate two arrays along a specific axis: \n",
        "\n",
        "`np.stack((arr1,arr2), axis = number of axis)`"
      ],
      "metadata": {
        "id": "9ugio1UGW_Fh"
      }
    },
    {
      "cell_type": "code",
      "source": [
        "arr1 = np.array([1, 2, 3])\n",
        "arr2 = np.array([9, 8, 7])\n",
        "\n",
        "arr = np.stack((arr1, arr2), axis=0)\n",
        "\n",
        "print(arr)"
      ],
      "metadata": {
        "colab": {
          "base_uri": "https://localhost:8080/"
        },
        "id": "-1INDkDuXUFO",
        "outputId": "4b00daf4-e60d-437f-e39f-105090c7fe8a"
      },
      "execution_count": null,
      "outputs": [
        {
          "output_type": "stream",
          "name": "stdout",
          "text": [
            "[[1 9]\n",
            " [2 8]\n",
            " [3 7]]\n"
          ]
        }
      ]
    },
    {
      "cell_type": "code",
      "source": [
        "arr = np.stack((arr1, arr2), axis=1)\n",
        "\n",
        "print(arr)"
      ],
      "metadata": {
        "id": "PVfvlFNyWQdv"
      },
      "execution_count": null,
      "outputs": []
    },
    {
      "cell_type": "markdown",
      "source": [
        "### Split\n",
        "You can split a single array into multiple array using this code:\n",
        "\n",
        "\n",
        "`np.array_split(array, number of parts)`\n",
        "\n",
        "Here are some examples:"
      ],
      "metadata": {
        "id": "FTNcLk8ZTR56"
      }
    },
    {
      "cell_type": "code",
      "source": [
        "arr1 = np.random.randint(100, size=5)\n",
        "print(arr1)\n",
        "\n",
        "arr = np.array_split(arr1, 4)\n",
        "print(arr)"
      ],
      "metadata": {
        "colab": {
          "base_uri": "https://localhost:8080/"
        },
        "id": "vqKlShQ-Xx_b",
        "outputId": "c622c539-c028-4b5d-9a6d-bbcf7da33a8f"
      },
      "execution_count": null,
      "outputs": [
        {
          "output_type": "stream",
          "name": "stdout",
          "text": [
            "[86 61 69 87 43]\n",
            "[array([86, 61]), array([69]), array([87]), array([43])]\n"
          ]
        }
      ]
    },
    {
      "cell_type": "code",
      "source": [
        "arr1 = np.random.randint(100, size=(6,2))\n",
        "print(arr1)\n",
        "\n",
        "arr = np.array_split(arr1, 3)\n",
        "print(arr)"
      ],
      "metadata": {
        "colab": {
          "base_uri": "https://localhost:8080/"
        },
        "id": "TM8--2wzYRhS",
        "outputId": "a4ea7cc5-6b7e-4de8-86b1-85f5dc4a846e"
      },
      "execution_count": null,
      "outputs": [
        {
          "output_type": "stream",
          "name": "stdout",
          "text": [
            "[[69 53]\n",
            " [80 62]\n",
            " [ 8 61]\n",
            " [ 1 81]\n",
            " [35 91]\n",
            " [40 36]]\n",
            "[array([[69, 53],\n",
            "       [80, 62]]), array([[ 8, 61],\n",
            "       [ 1, 81]]), array([[35, 91],\n",
            "       [40, 36]])]\n"
          ]
        }
      ]
    },
    {
      "cell_type": "markdown",
      "source": [
        "### Search\n",
        "\n",
        "You can search for a value or a sub-array with the following code:\n",
        "\n",
        "\n",
        "`np.where(condition)`\n",
        "\n",
        "Here are some examples and conditions:\n"
      ],
      "metadata": {
        "id": "bqTNc3smTjcy"
      }
    },
    {
      "cell_type": "code",
      "source": [
        "arr =np.array([84, 2, 69, 12, 22, 44, 66, 91, 85, 39, 39, 75, 22])\n",
        "print(arr)"
      ],
      "metadata": {
        "colab": {
          "base_uri": "https://localhost:8080/"
        },
        "id": "XK6J1BFQZhv9",
        "outputId": "45e6285d-4541-4361-c1a0-7e7bea70f8d3"
      },
      "execution_count": null,
      "outputs": [
        {
          "output_type": "stream",
          "name": "stdout",
          "text": [
            "[84  2 69 12 22 44 66 91 85 39 39 75 22]\n"
          ]
        }
      ]
    },
    {
      "cell_type": "code",
      "source": [
        "#Find the index of a value:\n",
        "x = np.where(arr == 22)\n",
        "x"
      ],
      "metadata": {
        "colab": {
          "base_uri": "https://localhost:8080/"
        },
        "id": "DcjU8JlOZVSC",
        "outputId": "07607dc9-ea37-476e-8dc1-d9e82d71f110"
      },
      "execution_count": null,
      "outputs": [
        {
          "output_type": "execute_result",
          "data": {
            "text/plain": [
              "(array([ 4, 12]),)"
            ]
          },
          "metadata": {},
          "execution_count": 93
        }
      ]
    },
    {
      "cell_type": "code",
      "source": [
        "#Find the index of the odd values:\n",
        "x = np.where(arr%2 == 1)\n",
        "x\n"
      ],
      "metadata": {
        "colab": {
          "base_uri": "https://localhost:8080/"
        },
        "id": "BoY_lszXaBJy",
        "outputId": "b7c6456b-6b45-457c-9082-f1570e0080c4"
      },
      "execution_count": null,
      "outputs": [
        {
          "output_type": "execute_result",
          "data": {
            "text/plain": [
              "(array([ 2,  7,  8,  9, 10, 11]),)"
            ]
          },
          "metadata": {},
          "execution_count": 94
        }
      ]
    },
    {
      "cell_type": "markdown",
      "source": [
        "### Sort\n",
        "\n",
        "You can sort the array using this code: \n",
        "\n",
        "`np.sort(array)`"
      ],
      "metadata": {
        "id": "w91AVrdyTzai"
      }
    },
    {
      "cell_type": "code",
      "source": [
        "arr = np.array([3, 2, 5, 1, 4])\n",
        "print(np.sort(arr))"
      ],
      "metadata": {
        "colab": {
          "base_uri": "https://localhost:8080/"
        },
        "id": "MJ12TEw_ajuP",
        "outputId": "33657eec-d62e-431a-e65c-b40634f919de"
      },
      "execution_count": null,
      "outputs": [
        {
          "output_type": "stream",
          "name": "stdout",
          "text": [
            "[1 2 3 4 5]\n"
          ]
        }
      ]
    },
    {
      "cell_type": "code",
      "source": [
        "arr = np.array([[3, 2, 5], [1, 4, 6]])\n",
        "print(np.sort(arr))"
      ],
      "metadata": {
        "colab": {
          "base_uri": "https://localhost:8080/"
        },
        "id": "U0qTnyWsamBm",
        "outputId": "adff0069-c19c-445a-a00d-06f14137c528"
      },
      "execution_count": null,
      "outputs": [
        {
          "output_type": "stream",
          "name": "stdout",
          "text": [
            "[[2 3 5]\n",
            " [1 4 6]]\n"
          ]
        }
      ]
    },
    {
      "cell_type": "code",
      "source": [
        "arr = np.array(['cat', 'dog', 'bird', 'ant'])\n",
        "print(np.sort(arr))"
      ],
      "metadata": {
        "colab": {
          "base_uri": "https://localhost:8080/"
        },
        "id": "2q_-rUa1bBGA",
        "outputId": "7f182388-8a8c-4e93-ecf3-4b4b356ae8c6"
      },
      "execution_count": null,
      "outputs": [
        {
          "output_type": "stream",
          "name": "stdout",
          "text": [
            "['ant' 'bird' 'cat' 'dog']\n"
          ]
        }
      ]
    },
    {
      "cell_type": "code",
      "source": [
        "arr = np.array([True, False, True])\n",
        "print(np.sort(arr))"
      ],
      "metadata": {
        "colab": {
          "base_uri": "https://localhost:8080/"
        },
        "id": "FYFYVeBdbBIX",
        "outputId": "e294d26d-26bc-402d-d4a6-a7e4de8f07e0"
      },
      "execution_count": null,
      "outputs": [
        {
          "output_type": "stream",
          "name": "stdout",
          "text": [
            "[False  True  True]\n"
          ]
        }
      ]
    },
    {
      "cell_type": "code",
      "source": [],
      "metadata": {
        "id": "M97AvtJm6-NZ"
      },
      "execution_count": null,
      "outputs": []
    },
    {
      "cell_type": "markdown",
      "source": [
        "##Exercises"
      ],
      "metadata": {
        "id": "Z_Byx7hJUVUl"
      }
    },
    {
      "cell_type": "markdown",
      "source": [
        "Q1:Create a 1D NumPy array with 10 random integer values between 0 and 10, and then sort it in ascending order.\n",
        "\n",
        "Hint:To create a 1D NumPy array with 10 random integer values between 0 and 10, you can use the random.randint function from the numpy.random module. You can then use the sort function to sort the array in ascending order.\n"
      ],
      "metadata": {
        "id": "p1fRXr-rUjNB"
      }
    },
    {
      "cell_type": "code",
      "source": [
        "#write your code here."
      ],
      "metadata": {
        "id": "sUv5On52Ukx7"
      },
      "execution_count": null,
      "outputs": []
    },
    {
      "cell_type": "markdown",
      "source": [
        "Q2:Create a 2D NumPy array with 5 rows and 4 columns of random integer values between 0 and 10, and then sort each row in ascending order.\n",
        "\n",
        "Hint:\n",
        "To create a 2D NumPy array with 5 rows and 4 columns of random integer values between 0 and 10, you can use the random.randint function and specify the shape of the array as (5, 4). You can then use the sort function and specify the axis parameter as 1 to sort each row in ascending order.\n"
      ],
      "metadata": {
        "id": "USoKbyblUo8d"
      }
    },
    {
      "cell_type": "code",
      "source": [
        "#write your code here."
      ],
      "metadata": {
        "id": "Z36n13ITUo8d"
      },
      "execution_count": null,
      "outputs": []
    },
    {
      "cell_type": "markdown",
      "source": [
        "Q3:Create a 3D NumPy array with 3 matrices, each with 2 rows and 3 columns of random integer values between 0 and 10. Then, sort each matrix along the columns in descending order.\n",
        "\n",
        "Hint:\n",
        "To create a 3D NumPy array with 3 matrices, each with 2 rows and 3 columns of random integer values between 0 and 10, you can use the random.randint function and specify the shape of the array as (3, 2, 3). You can then use the sort function and specify the axis parameter as 2 to sort each matrix along the columns in descending order.\n"
      ],
      "metadata": {
        "id": "7BAJeJxdUpMV"
      }
    },
    {
      "cell_type": "code",
      "source": [
        "#write your code here."
      ],
      "metadata": {
        "id": "TtIc6_OtUpMW"
      },
      "execution_count": null,
      "outputs": []
    },
    {
      "cell_type": "markdown",
      "source": [
        "Q4:\n",
        "Create a 1D NumPy array with 10 random floating-point values between 0 and 1, and then calculate the mean, median, and standard deviation of the array.\n",
        "\n",
        "\n",
        "Hint:To calculate the mean, median, and standard deviation of a 1D NumPy array, you can use the mean, median, and std functions from the numpy module.\n"
      ],
      "metadata": {
        "id": "WWiMapNPUpVy"
      }
    },
    {
      "cell_type": "code",
      "source": [
        "#write your code here."
      ],
      "metadata": {
        "id": "afwvpvUJUpVz"
      },
      "execution_count": null,
      "outputs": []
    },
    {
      "cell_type": "markdown",
      "source": [
        "Q5:Create a 2D NumPy array with 4 rows and 5 columns of random floating-point values between 0 and 1. Then, calculate the mean of each row and column, and the standard deviation of the entire array.\n",
        "\n",
        "Hint:\n",
        "To calculate the mean of each row and column, and the standard deviation of a 2D NumPy array, you can use the mean and std functions and specify the axis parameter as 0 or 1 to calculate the mean along the rows or columns, respectively.\n"
      ],
      "metadata": {
        "id": "iCUSwD3RUpdt"
      }
    },
    {
      "cell_type": "code",
      "source": [
        "#write your code here."
      ],
      "metadata": {
        "id": "5CFW_pypUpdt"
      },
      "execution_count": null,
      "outputs": []
    },
    {
      "cell_type": "markdown",
      "source": [
        "Q6:\n",
        "Create a 3D NumPy array with 2 matrices, each with 3 rows and 4 columns of random floating-point values between 0 and 1. Then, calculate the mean of each matrix along the rows and columns, and the standard deviation of the entire array.\n",
        "\n",
        "Hint:\n",
        "To calculate the mean of each matrix along the rows and columns, and the standard deviation of a 3D NumPy array, you can use the mean and std functions and specify the axis parameter as (1, 2) or (2, 3) to calculate the mean along the rows or columns, respectively.\n"
      ],
      "metadata": {
        "id": "yEYcxcRbUplz"
      }
    },
    {
      "cell_type": "code",
      "source": [
        "#write your code here."
      ],
      "metadata": {
        "id": "7xtG0f0fUpl0"
      },
      "execution_count": null,
      "outputs": []
    },
    {
      "cell_type": "markdown",
      "source": [
        "Q7:Create a 1D NumPy array with 10 random boolean values (True or False). Then, count the number of True values and the number of False values in the array.\n",
        "\n",
        "\n",
        "Hint:To count the number of True values and the number of False values in a 1D NumPy array of boolean values, you can use the sum function and pass the array as an argument. You can then subtract the number of True values from the length of the array to get the number of False values.\n"
      ],
      "metadata": {
        "id": "BG1TAtWCUpr4"
      }
    },
    {
      "cell_type": "code",
      "source": [
        "#write your code here."
      ],
      "metadata": {
        "id": "ZC1zTJGgUpr4"
      },
      "execution_count": null,
      "outputs": []
    },
    {
      "cell_type": "markdown",
      "source": [
        "Q8:Create a 2D NumPy array with 3 rows and 4 columns of random boolean values. Then, count the number of True values in each row and column, and the total number of True values in the entire array.\n",
        "\n",
        "\n",
        "Hint:\n",
        "To count the number of True values in each row and column, and the total number of True values in a 2D NumPy array of boolean values, you can use the sum function and specify the axis parameter as 0 or 1 to sum along the rows or columns, respectively.\n"
      ],
      "metadata": {
        "id": "QgDS-t07Upyr"
      }
    },
    {
      "cell_type": "code",
      "source": [
        "#write your code here."
      ],
      "metadata": {
        "id": "oBz74u1CUpyr"
      },
      "execution_count": null,
      "outputs": []
    },
    {
      "cell_type": "markdown",
      "source": [
        "Q9:Create a 3D NumPy array with 2 matrices, each with 3 rows and 4 columns of random boolean values. Then, count the number of True values in each matrix along the rows and columns, and the total number of True values in the entire array.\n",
        "\n",
        "Hint:\n",
        "To count the number of True values in each matrix along the rows and columns, and the total number of True values in a 3D NumPy array of boolean values, you can use the sum function and specify the axis parameter as (1, 2) or (2, 3) to sum along the rows or columns, respectively."
      ],
      "metadata": {
        "id": "MQ-8WwqBUp4Z"
      }
    },
    {
      "cell_type": "code",
      "source": [
        "#write your code here."
      ],
      "metadata": {
        "id": "8SUPN5qnUp4Z"
      },
      "execution_count": null,
      "outputs": []
    },
    {
      "cell_type": "markdown",
      "source": [
        "Q10:Create a 1D NumPy array with the values [1, 2, 3, 4, 5] and another array with the values [10, 20, 30, 40, 50]. Then, use NumPy's broadcasting capabilities to add the two arrays element-wise and create a new array with the resulting values.\n",
        "\n",
        "Hint:To use NumPy's broadcasting capabilities to add two 1D arrays element-wise and create a new array with the resulting values, you can simply use the + operator to add the two arrays. NumPy will automatically broadcast the arrays to the same shape and perform element-wise addition."
      ],
      "metadata": {
        "id": "BNtqbqnRUp-J"
      }
    },
    {
      "cell_type": "code",
      "source": [
        "#write your code here."
      ],
      "metadata": {
        "id": "ghbGACWeUp-J"
      },
      "execution_count": null,
      "outputs": []
    },
    {
      "cell_type": "markdown",
      "source": [
        "# Further Reading:\n",
        "\n",
        "\n",
        "\n",
        "*   https://www.w3schools.com/python/numpy/default.asp\n",
        "*   https://numpy.org/doc/stable/user/quickstart.html\n",
        "*   https://realpython.com/numpy-tutorial/\n",
        "\n"
      ],
      "metadata": {
        "id": "_LRLFVGe6309"
      }
    }
  ]
}