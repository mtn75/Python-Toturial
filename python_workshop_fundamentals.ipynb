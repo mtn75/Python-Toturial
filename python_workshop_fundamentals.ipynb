{
  "nbformat": 4,
  "nbformat_minor": 0,
  "metadata": {
    "colab": {
      "provenance": [],
      "authorship_tag": "ABX9TyMoxUqBSyC/p0d+9JFkl+Vz",
      "include_colab_link": true
    },
    "kernelspec": {
      "name": "python3",
      "display_name": "Python 3"
    },
    "language_info": {
      "name": "python"
    }
  },
  "cells": [
    {
      "cell_type": "markdown",
      "metadata": {
        "id": "view-in-github",
        "colab_type": "text"
      },
      "source": [
        "<a href=\"https://colab.research.google.com/github/mtn75/Python-Toturial/blob/main/python_workshop_fundamentals.ipynb\" target=\"_parent\"><img src=\"https://colab.research.google.com/assets/colab-badge.svg\" alt=\"Open In Colab\"/></a>"
      ]
    },
    {
      "cell_type": "markdown",
      "source": [
        "# Variables\n",
        "A Python variable is a symbolic name that is a reference or pointer to an object. Once an object is assigned to a variable, you can refer to the object by that name."
      ],
      "metadata": {
        "id": "zajGETQuihFu"
      }
    },
    {
      "cell_type": "code",
      "source": [
        "x = 1 \n",
        "text = \"Hello World!\"\n",
        "\n",
        "print(x)\n",
        "print(text)"
      ],
      "metadata": {
        "colab": {
          "base_uri": "https://localhost:8080/"
        },
        "id": "s-cAaFeoGL5p",
        "outputId": "2e582988-f365-40a7-cbd5-412cb63a19e0"
      },
      "execution_count": null,
      "outputs": [
        {
          "output_type": "stream",
          "name": "stdout",
          "text": [
            "1\n",
            "Hello World!\n"
          ]
        }
      ]
    },
    {
      "cell_type": "code",
      "source": [
        "x = y = 31\n",
        "\n",
        "print(x)\n",
        "print(y)"
      ],
      "metadata": {
        "colab": {
          "base_uri": "https://localhost:8080/"
        },
        "id": "HGWacZVcKsLV",
        "outputId": "f62074cb-2291-45d8-ccd1-90ff35b96a8a"
      },
      "execution_count": null,
      "outputs": [
        {
          "output_type": "stream",
          "name": "stdout",
          "text": [
            "31\n",
            "31\n"
          ]
        }
      ]
    },
    {
      "cell_type": "code",
      "source": [
        "x , y = 12, 45\n",
        "\n",
        "print(x)\n",
        "print(y)"
      ],
      "metadata": {
        "colab": {
          "base_uri": "https://localhost:8080/"
        },
        "id": "PZYN65trKyfO",
        "outputId": "01c39313-d780-4db9-e72b-4599f80617d2"
      },
      "execution_count": null,
      "outputs": [
        {
          "output_type": "stream",
          "name": "stdout",
          "text": [
            "12\n",
            "45\n"
          ]
        }
      ]
    },
    {
      "cell_type": "markdown",
      "source": [
        "Q1: Create a variable named \"name\" and assign it to the value of your first name."
      ],
      "metadata": {
        "id": "7DapGq-Ux-bM"
      }
    },
    {
      "cell_type": "code",
      "source": [
        "# Write your answer here"
      ],
      "metadata": {
        "id": "fOe52LWDx-oz"
      },
      "execution_count": null,
      "outputs": []
    },
    {
      "cell_type": "markdown",
      "source": [
        "Q2: Create a variable named \"last_name\" and assign it to the value of your last name."
      ],
      "metadata": {
        "id": "P6Es0NrUZF_I"
      }
    },
    {
      "cell_type": "code",
      "source": [
        "# Write your answer here"
      ],
      "metadata": {
        "id": "0zDUuF45YLnw"
      },
      "execution_count": null,
      "outputs": []
    },
    {
      "cell_type": "markdown",
      "source": [
        "# Data Types in Python\n",
        "\n"
      ],
      "metadata": {
        "id": "ZSsOLgZ3YXhw"
      }
    },
    {
      "cell_type": "markdown",
      "source": [
        "## Numeric\n",
        "\n",
        "\n",
        "\n",
        "*   int - integer: -5, 10, 77, 0\n",
        "*   float - Floating Point numbers: 3.1457, 0.34, 0.78\n",
        "\n",
        "\n",
        "\n"
      ],
      "metadata": {
        "id": "Pe2eIuFDh22O"
      }
    },
    {
      "cell_type": "code",
      "execution_count": null,
      "metadata": {
        "colab": {
          "base_uri": "https://localhost:8080/"
        },
        "id": "y88U6gGY12Ab",
        "outputId": "4b2842b0-e601-45a5-9ae7-2def7778c53a"
      },
      "outputs": [
        {
          "output_type": "stream",
          "name": "stdout",
          "text": [
            "1\n",
            "1.2\n",
            "-56\n"
          ]
        }
      ],
      "source": [
        "x = 1\n",
        "y = 1.2\n",
        "z = -56\n",
        "\n",
        "print(x)\n",
        "print(y)\n",
        "print(z)"
      ]
    },
    {
      "cell_type": "code",
      "source": [
        "print(type(x))\n",
        "print(type(y))\n",
        "print(type(z))"
      ],
      "metadata": {
        "colab": {
          "base_uri": "https://localhost:8080/"
        },
        "id": "YHBJUGmoYlh6",
        "outputId": "9557ced6-83dd-4f4c-96e7-8621c0b74f11"
      },
      "execution_count": null,
      "outputs": [
        {
          "output_type": "stream",
          "name": "stdout",
          "text": [
            "<class 'int'>\n",
            "<class 'float'>\n",
            "<class 'int'>\n"
          ]
        }
      ]
    },
    {
      "cell_type": "code",
      "source": [
        "x = 2.5\n",
        "\n",
        "print(type(x))"
      ],
      "metadata": {
        "colab": {
          "base_uri": "https://localhost:8080/"
        },
        "id": "JyRL5fOxHl-7",
        "outputId": "653e5964-b07e-4677-b595-87a1f59c1375"
      },
      "execution_count": null,
      "outputs": [
        {
          "output_type": "stream",
          "name": "stdout",
          "text": [
            "<class 'float'>\n"
          ]
        }
      ]
    },
    {
      "cell_type": "markdown",
      "source": [
        "## Boolean\n",
        "\n",
        "bool - boolean : True or False"
      ],
      "metadata": {
        "id": "Clr2BlQNH5_P"
      }
    },
    {
      "cell_type": "code",
      "source": [
        "x, y = True, False\n",
        "\n",
        "print(x)\n",
        "print(y)"
      ],
      "metadata": {
        "colab": {
          "base_uri": "https://localhost:8080/"
        },
        "id": "eIkBdMCMIG0m",
        "outputId": "50977658-e2f2-4a36-98e5-83af328893e9"
      },
      "execution_count": null,
      "outputs": [
        {
          "output_type": "stream",
          "name": "stdout",
          "text": [
            "True\n",
            "False\n"
          ]
        }
      ]
    },
    {
      "cell_type": "code",
      "source": [
        "print(type(x))\n",
        "print(type(y))"
      ],
      "metadata": {
        "colab": {
          "base_uri": "https://localhost:8080/"
        },
        "id": "gDyK1--vIKrT",
        "outputId": "1be91b2e-84bf-4eac-fe31-b034fe0aa9b9"
      },
      "execution_count": null,
      "outputs": [
        {
          "output_type": "stream",
          "name": "stdout",
          "text": [
            "<class 'bool'>\n",
            "<class 'bool'>\n"
          ]
        }
      ]
    },
    {
      "cell_type": "markdown",
      "source": [
        "## Text\n",
        "\n",
        "strings - Sequence of characters representing a text. \n",
        "\n",
        "Are used with single qoute '' or double qoutes \"\"\n",
        "\n"
      ],
      "metadata": {
        "id": "sThj5QSaIfE7"
      }
    },
    {
      "cell_type": "code",
      "source": [
        "text = \"welcome to the data analyst toolkit workshop!\"\n",
        "\n",
        "print (text)"
      ],
      "metadata": {
        "colab": {
          "base_uri": "https://localhost:8080/"
        },
        "id": "uohtWm7yJV7U",
        "outputId": "d2cc4461-bf64-498e-ef18-b8a23dc06073"
      },
      "execution_count": null,
      "outputs": [
        {
          "output_type": "stream",
          "name": "stdout",
          "text": [
            "welcome to the data analyst toolkit workshop!\n"
          ]
        }
      ]
    },
    {
      "cell_type": "markdown",
      "source": [
        "### Capitalise \n",
        "\n",
        "capitalize()"
      ],
      "metadata": {
        "id": "YZLn3IrFMMt4"
      }
    },
    {
      "cell_type": "code",
      "source": [
        "capital_text = text.capitalize()\n",
        "\n",
        "print(capital_text)"
      ],
      "metadata": {
        "colab": {
          "base_uri": "https://localhost:8080/"
        },
        "id": "vdFlMkDQMQ_r",
        "outputId": "d2f74069-3f60-4f2a-968f-0a7cef1c3914"
      },
      "execution_count": null,
      "outputs": [
        {
          "output_type": "stream",
          "name": "stdout",
          "text": [
            "Welcome to the data analyst toolkit workshop!\n"
          ]
        }
      ]
    },
    {
      "cell_type": "markdown",
      "source": [
        "### Search\n",
        "\n",
        "find()"
      ],
      "metadata": {
        "id": "qtBw1h5xMfwL"
      }
    },
    {
      "cell_type": "code",
      "source": [
        "has_data = text.find('data')\n",
        "has_hello = text.find('hello')\n",
        "\n",
        "print(has_data)\n",
        "print(has_hello)"
      ],
      "metadata": {
        "colab": {
          "base_uri": "https://localhost:8080/"
        },
        "id": "fMn_8covMrZ-",
        "outputId": "d8d7ab22-9cfd-4710-d93a-492b16d4d32e"
      },
      "execution_count": null,
      "outputs": [
        {
          "output_type": "stream",
          "name": "stdout",
          "text": [
            "15\n",
            "-1\n"
          ]
        }
      ]
    },
    {
      "cell_type": "markdown",
      "source": [
        "### Search for ending\n",
        "\n",
        "endswith()"
      ],
      "metadata": {
        "id": "GQ4KYMIVMro4"
      }
    },
    {
      "cell_type": "code",
      "source": [
        "ends_with_workshop = text.endswith('workshop!')\n",
        "ends_with_world = text.endswith('world')\n",
        "\n",
        "print(ends_with_workshop)\n",
        "print(ends_with_world)"
      ],
      "metadata": {
        "colab": {
          "base_uri": "https://localhost:8080/"
        },
        "id": "9_lSbO3xSSi1",
        "outputId": "f2b1d5ce-ebfa-48a5-c703-3c7f604ed8b6"
      },
      "execution_count": null,
      "outputs": [
        {
          "output_type": "stream",
          "name": "stdout",
          "text": [
            "True\n",
            "False\n"
          ]
        }
      ]
    },
    {
      "cell_type": "markdown",
      "source": [
        "### Replace\n",
        "\n",
        "replace()"
      ],
      "metadata": {
        "id": "IpbpuHKpM2eE"
      }
    },
    {
      "cell_type": "code",
      "source": [
        "replaced_text = text.replace('workshop', 'tutorial')\n",
        "\n",
        "print(replaced_text)\n",
        "print(text)"
      ],
      "metadata": {
        "colab": {
          "base_uri": "https://localhost:8080/"
        },
        "id": "iS-fn6fZRQCh",
        "outputId": "27b75272-a463-4f9c-9a99-27c760ae8a4c"
      },
      "execution_count": null,
      "outputs": [
        {
          "output_type": "stream",
          "name": "stdout",
          "text": [
            "welcome to the data analyst toolkit tutorial!\n",
            "welcome to the data analyst toolkit workshop!\n"
          ]
        }
      ]
    },
    {
      "cell_type": "markdown",
      "source": [
        "### Lower/Upper Case\n",
        "\n",
        "lower()\n",
        "upper()"
      ],
      "metadata": {
        "id": "Fs-Tchp0RQKu"
      }
    },
    {
      "cell_type": "code",
      "source": [
        "upper_case = text.upper()\n",
        "\n",
        "print(upper_case)"
      ],
      "metadata": {
        "colab": {
          "base_uri": "https://localhost:8080/"
        },
        "id": "Bm-rfK6NRcTt",
        "outputId": "85607ba1-6d92-4369-b1e8-669a29d8de42"
      },
      "execution_count": null,
      "outputs": [
        {
          "output_type": "stream",
          "name": "stdout",
          "text": [
            "WELCOME TO THE DATA ANALYST TOOLKIT WORKSHOP!\n"
          ]
        }
      ]
    },
    {
      "cell_type": "code",
      "source": [
        "lower_case = upper_case.lower()\n",
        "\n",
        "print(lower_case)"
      ],
      "metadata": {
        "colab": {
          "base_uri": "https://localhost:8080/"
        },
        "id": "pw2fVbPDTJ7l",
        "outputId": "e3b42ade-c328-4e87-ddb7-9a17689bee48"
      },
      "execution_count": null,
      "outputs": [
        {
          "output_type": "stream",
          "name": "stdout",
          "text": [
            "welcome to the data analyst toolkit workshop!\n"
          ]
        }
      ]
    },
    {
      "cell_type": "markdown",
      "source": [
        "### Slicing"
      ],
      "metadata": {
        "id": "I-AsshkPRcbV"
      }
    },
    {
      "cell_type": "code",
      "source": [
        "middle_text = text[10:20]\n",
        "\n",
        "print(middle_text)"
      ],
      "metadata": {
        "colab": {
          "base_uri": "https://localhost:8080/"
        },
        "id": "WsGIO2OaRfOw",
        "outputId": "9d46777e-aa54-4dcf-c049-83f86cd5e50a"
      },
      "execution_count": null,
      "outputs": [
        {
          "output_type": "stream",
          "name": "stdout",
          "text": [
            " the data \n"
          ]
        }
      ]
    },
    {
      "cell_type": "code",
      "source": [
        "end_text = text[20:]\n",
        "\n",
        "print(end_text)"
      ],
      "metadata": {
        "colab": {
          "base_uri": "https://localhost:8080/"
        },
        "id": "j6l2R6HKTQl3",
        "outputId": "b7a175f5-720c-49cd-edf7-070ecb29c47e"
      },
      "execution_count": null,
      "outputs": [
        {
          "output_type": "stream",
          "name": "stdout",
          "text": [
            "analyst toolkit workshop!\n"
          ]
        }
      ]
    },
    {
      "cell_type": "code",
      "source": [
        "first_text = text[:20]\n",
        "\n",
        "print(first_text)"
      ],
      "metadata": {
        "colab": {
          "base_uri": "https://localhost:8080/"
        },
        "id": "wSMA6Uf2TQoO",
        "outputId": "3ee4e34a-b55c-42f7-d5f5-b92e0f6d8675"
      },
      "execution_count": null,
      "outputs": [
        {
          "output_type": "stream",
          "name": "stdout",
          "text": [
            "welcome to the data \n"
          ]
        }
      ]
    },
    {
      "cell_type": "code",
      "source": [
        "last_x_chars = text[-17:]\n",
        "\n",
        "print(last_x_chars)"
      ],
      "metadata": {
        "colab": {
          "base_uri": "https://localhost:8080/"
        },
        "id": "DM06ZtnYTQqq",
        "outputId": "c3716e8e-2ef4-4990-9990-fcbee8b17acd"
      },
      "execution_count": null,
      "outputs": [
        {
          "output_type": "stream",
          "name": "stdout",
          "text": [
            "toolkit workshop!\n"
          ]
        }
      ]
    },
    {
      "cell_type": "markdown",
      "source": [
        "## Type Casting\n",
        "\n",
        "Data can sometimes be converted from one type to another. \n",
        "\n",
        "string “3.0” = floating point number 3.0 = integer number 3\n",
        "\n",
        "int() - Converts compatible data into an integer. This function will truncate floating point numbers.\n",
        "\n",
        "float() - Convert compatible data into a float.\n",
        "\n",
        "str() - Converts compatible data into a string."
      ],
      "metadata": {
        "id": "lBjUan6H6_Va"
      }
    },
    {
      "cell_type": "code",
      "source": [
        "number = 5.7\n",
        "\n",
        "print(type(number))\n",
        "\n",
        "int_cast = int(number)\n",
        "print(int_cast)\n",
        "print(type(int_cast))\n",
        "\n",
        "str_cast = str(number)\n",
        "print(str_cast)\n",
        "print(type(str_cast))\n",
        "\n",
        "string_num = '7'\n",
        "\n",
        "int_cast = int(string_num)\n",
        "print(int_cast)\n",
        "print(type(int_cast))\n",
        "\n",
        "float_cast = float(string_num)\n",
        "print(float_cast)\n",
        "print(type(float_cast))"
      ],
      "metadata": {
        "colab": {
          "base_uri": "https://localhost:8080/"
        },
        "id": "NK7XRMUi79us",
        "outputId": "cb5e46ac-f930-4d71-f391-6f154186addb"
      },
      "execution_count": null,
      "outputs": [
        {
          "output_type": "stream",
          "name": "stdout",
          "text": [
            "7\n",
            "<class 'int'>\n",
            "7.0\n",
            "<class 'float'>\n"
          ]
        }
      ]
    },
    {
      "cell_type": "markdown",
      "source": [
        "##Mutable and Immutable\n",
        "\n",
        "for simple built-in data types (integers, floats, strings, tuples), the assignment behaves as you would expect, which is immutable.\n",
        "\n",
        "For other data types (lists, dictionaries, user-defined types), assignments are mutable.\n",
        "![image.png](data:image/png;base64,iVBORw0KGgoAAAANSUhEUgAABAQAAAGICAYAAADWLTLrAAAAAXNSR0IArs4c6QAAAIRlWElmTU0AKgAAAAgABQESAAMAAAABAAEAAAEaAAUAAAABAAAASgEbAAUAAAABAAAAUgEoAAMAAAABAAIAAIdpAAQAAAABAAAAWgAAAAAAAACQAAAAAQAAAJAAAAABAAOgAQADAAAAAQABAACgAgAEAAAAAQAABASgAwAEAAAAAQAAAYgAAAAAY7ZGpwAAAAlwSFlzAAAWJQAAFiUBSVIk8AAAQABJREFUeAHsvWeTneeZ53d1zjkndEAiASaQFMUkiZJmRprZ2tkdb3lrXV6Xy29c9huXX/gD+Ht47TdTtePdqvWudrWa0UhUIiXmCIJIBNCN7kbnnMPp49//OX2apxsNAiBIoIH+P+TBSfdz3df9e07fV7jDk5fmCB8mYAImYAImYAImYAImYAImYAImYAKHikD+oWqtG2sCJmACJmACJmACJmACJmACJmACJpAQcELAPwQTMAETMAETMAETMAETMAETMAETOIQEnBA4hBfdTTYBEzABEzABEzABEzABEzABEzABJwT8GzABEzABEzABEzABEzABEzABEzCBQ0jACYFDeNHdZBMwARMwARMwARMwARMwARMwARNwQsC/ARMwARMwARMwARMwARMwARMwARM4hAScEDiEF91NNgETMAETMAETMAETMAETMAETMAEnBPwbMAETMAETMAETMAETMAETMAETMIFDSMAJgUN40d1kEzABEzABEzABEzABEzABEzABE3BCwL8BEzABEzABEzABEzABEzABEzABEziEBJwQOIQX3U02ARMwARMwARMwARMwARMwARMwAScE/BswARMwARMwARMwARMwARMwARMwgUNIwAmBQ3jR3WQTMAETMAETMAETMAETMAETMAETcELAvwETMAETMAETMAETMAETMAETMAETOIQEnBA4hBfdTTYBEzABEzABEzABEzABEzABEzABJwT8GzABEzABEzABEzABEzABEzABEzCBQ0jACYFDeNHdZBMwARMwARMwARMwARMwARMwARNwQsC/ARMwARMwARMwARMwARMwARMwARM4hAScEDiEF91NNgETMAETMAETMAETMAETMAETMAEnBPwbMAETMAETMAETMAETMAETMAETMIFDSMAJgUN40d1kEzABEzABEzABEzABEzABEzABE3BCwL8BEzABEzABEzABEzABEzABEzABEziEBJwQOIQX3U02ARMwARMwARMwARMwARMwARMwAScE/BswARMwARMwARMwARMwARMwARMwgUNIwAmBQ3jR3WQTMAETMAETMAETMAETMAETMAETKDQCEzhQBNJbEVupiOzzVvZ9OqKwnEdRREHeXarMuZIpWent56QOPo/iiCJkFvlP4S6hurgJmIAJmIAJmIAJmIAJmMBDTsBR0EN+AR8p9dObERsLETPDEXPjPKYiFiYipni/SjDf9S8i+k5FdJIYuOO5LQT96TXkjEbMjvFA7gJyZ25ELK2QCHg24vhTEad6SDYUPFI43RgTMAETMAETMAETMAETMAET+CoCTgh8FR1/d38JpAjQlxW0j0Tc+JzHZxGD1yNG+SyvIaLqJwT3d5wJ2NadJENqPpMMGL8UMX4h4spFZF8j+cDPv7s7okMy73bWwf1F49pMwARMwARMwARMwARMwARM4JsmcIATAozsbq0TtG3wzOt8pnYXoK5Hcb/p38DBkbfFtd4kKbDFSP2GgniSAlfOkxBgdkBdfUR5KUmBkruM3bX8gBkC61oqsEpygORC/0cRV/sjSjqZHVATUVmHTCcEDs4PwZqYgAmYgAmYgAmYgAmYgAncDwIHNyGQInib/iDii3MRI0sEhM8zXfwk08abSQ44eLsfP477XkdhJQF/T0RpL1P5Z5jS/27Ep4zwp6sjyvr4DVRFVHDt7+rya88BZhe0IruJ17XIfef3mdkBJa0R7fyeGvnOv6n7frldoQmYgAmYgAmYgAmYgAmYwIMlcHATApuMEF/+RcR7b0RcY+S4kmnkG0SCrU3sA3e3QeGDheza75BAPgF7MSP2JUzhLytjRJ9E0Caj+6UE9E2PRVSTEGCiyN0dzDbIQ1Yl+w5scn6hNink95RPkqGCJENjLXIP7p/B3bXVpU3ABEzABEzABEzABEzABEzgzgkc3EhIMwTGLzNdnPXe4wR1Uy082GCOAeMgbry7UeI7B+KSOQSSKfZausHPRLvwf+uj6Er08NCxMhcxwUaAqywbqWYUv/NxAnhG8re/zhS6w3+zMtdIMEwOIpvnkkaSASQZakkSsBLha8m9w+pdzARMwARMwARMwARMwARMwAQOIoGDmxAoYuT21D9lzTeJgGbWlde8HHGSoLCEiFB7wPn4dglox//pX7OpH2vvF45GPNnLlP2Kb7fORDoJiND+AcPUPUnwztsmfgMd6FDKKP+9HAvIG74QsbhAcoHfUvupTJLBv6d7oepzTcAETMAETMAETMAETMAEHlICBzchoHvOt7/EyG0Ho8PMFqgiIGxu/xr3oH9Ir8wDVZugfPVqxCe/YnYGSzRqjzFL4OsMzX+dRmgTwH5uC8hjYjlijSUENW2ZvSPK7nq9wG4F5ll2orsWLLJkoJEkQ9dxNiq8H0mO3Wr4nQmYgAmYgAmYgAmYgAmYgAkcBAIHNyGQx7qASkalezpJCBAkFrC7vO4ycL/i0oNwdR6UDuvXCJzfYPO9D1nL/wqbOZIUKL7HYPxO26KZCXOXWB7Sz0QB1vvndZGQ4DfQQoJIewt8rQM5weyA2SFmCEyT7EBWDcmlTh6lWi/gwwRMwARMwARMwARMwARMwAQOH4GDmxBIrgXqae269gzwcX8IbA1GnP95xBs/49Z8zBQ4wwyNbm7LV3GffiopEgKjl5mZMMB+EWR/apgZUk9CoIofwddWgYRS6kpm1sEk8rdoUy2PdiUZCu4PV9diAiZgAiZgAiZgAiZgAiZgAgeMwNcOsb75dhC0bbI0YGWRaeKaKs7Gbyus9d5kZkAxG8C1M8W7lNfJwYjvBmX0/TqLzFc5Z5XnJQLYekZ9W49sJxGQuT7ObQv7GR1mk7oUo8ENJyjDrvW6n33uscmGhVPDDCRPIYuR6LouRqV7qBNEuTFjGpkp6lpGv6yeq8jeRHZJc0Sb9NweTV8huJ5E5vT29/Xo1dLN98jPHezeYNR6igB4ilHsDeSUMUW+kyC4Yr/Ra9q+fIPp9NcJcGl/MfU1KGgmuC3KVTTbOMqvUf8it9tbR/cipuBXwFOj7YkOMNtgzf4inCb7I258EHH21zzOwhNW67RzhnX3KWYJVLMzfyU79mc36ctWkTxTzwJtmKDN02JIXWUE3Y3o1l4JH+qYHGHUn2tVLp37MkmGvSpvwfbGVRICcEujYBNr/cWsZA09+GxmDBm0exO9C9GnClZtR5BZtEubXW+20GWaJMPENdihp+4u0NBFsoFz7ugvgLoXRjO/j1mu1TI6aglFIcsNqvi96bo2osu+/Hdp4jcmYAImYAImYAIPPQF8iU38UPmf8gfXeZ34rbxP4fNUtLL3Ef6J/FbchTs+tvA35Hct4+ckPma2DnyekrqII8fxd/DDCu5G6B3X7oImYAKHlMAdhUP3hc06nV8SdA1lgt1xAsspHpsEbs0vZ4LRJCFAJ7xBgDtPgKagWCPJkzxPzxL0E5Q99WOCeYJpBZorBICD70R8+PuIfsmiMz36N4x6fzfiMeRmd81fJRkw8kdGxt+KuPAFU9Y5+ehfRHznr1myUE9gm8VEh7yBnlqLrjoV/E6g7xSv070kIr5PkMlmiEoiKGi/+nrE529HXKHcKoH4iZ8g85+wdp0yicxNdCJQH3yXcuh4+RKBOW1oeiHix+h5hIAaW7JzpDEUa9R9DV3P/gH5yK2iLaco+9wxRr1JCuw60DcwLJOfI/sT9E4h+2mWALxIEFucSQhsrWcC+evvR1x8C7k8Bq6gB6dqVH6VAPwqbag6hT5HMXKlexIC1KHbAy7A4Ys/UfYcLLk2y9Slc3pIBJR1UTdcP0b2ENfpyPfgwGd7ky3SfZOkyA2xhUteA8F+D3JKYHyWNrxJHTzfQP4Kv4NSgvGO5yKe/XNmMcC/mnL5ErLn0G0GR0gIjCE3RYHW4wTw1K/ZAfuVz56u5M86IObQffg8XLg+49Q9TxvW4bbJyTWPw5Pr/ix6tDbuTh5l5fjZBEzABEzABEzgESEg3wq/Yhl/Rf6f/NDEH8Qnm8FHiNP4PvgFtXX4GfgleXfRbPmYc8iRvDHJ5TGNzGmSAM1n8HNINJTyGvfFhwmYgAl8UwSIXB/0QWAXc3Sq/RHXLxKA0vld+pDgnMBvbpoAlgC69s8IuLdVTREUjxHgzgwxtZxzzr5OkHmFuJdOt/hVgm7KFRBoLyLjw58z9f2XBHMjBHF0snk1vKZnVmfa3Ulwy+tlAr2L/yniN/9IMHuVcisEe+i0SJnCowSOBHplBOkhPQluZ+j8BzhnjsD30qc8CBIXGBFv+2eMOldRdymJCer+9N9HvPkmiQjas7jK6QSPS+iWR71138nI3KCTf+//iXj/d+hAGxbIBK/Ry9ejbydllGFu4z1qAgZdqestdD1HQmCAAHcCPmUErZvdEcdb9kkI8F2QmBj4bcTrsJhGv2fh1EXCQfZMR4o23aA9o9KTti8Q7K5QV7o8k4TJp90alS/oo57sSZlTM/+STPniV7QDztc4vxxden7EdYPZIu2Y+Q2M+GyA6/kePOZoUyVMS2kUSHYfJAHWvkAXGVm+zMeYdpK4mKW9P/sFCQG+mxgHBZxSsCxCx6HPeaDDS38Z8QrtKs3yypGsWQfDVzHasFCGpe0E1/UIbbpJgZyTeDmPzudo1wcfwYTr2vg4v5sfk6BA95X+zO/ri/9IQgd+8b9HPMM16+B3cxuxuyvxOxMwARMwARMwgYeHAH5RmsECzbycwq+Yu4ifw6DKlQt8tsSsyC58BfytfPl8d9mqJWTOIXMRv+v6u/g9H+D34JflPYvvhI+hGZr2Me4SqoubgAncjgC91UE4COKK6Tx1v/nqBQJMAr5xArhZRmEbULGWz4uKMorm0RMmZelw18jQ5qnzpOxcPSPPlCvj+xU65bO/Jwjlu/KTdMzIGCKAHiSYnKXjnpoi6N/k3AE62z9R9hpxIqPGzQp4CfJvcJ4yszeGqeOJbUB0wkrJFlVm9CxD1rU1Rt85dxY9WglOa2vR4z1Go3lcoo7qJwkQ0XvkY+QReCvovkFHnyJQXya4vfob2kqnn9dCEE2gepnzFHwHwec4Omg3/CQNjPGZJhnQj8FZJ9Aupp4ijM4KiZQ1guFZym7Snr2HRriXr1DnJ5wLk5XHOJ9CubduzCvGyHQQJBM0a1rAOdqpMkVNzJLA+ByDSz36VLfxINjdWS6ATutDzKj4ewLmNzCEo5Qj0D/6AkmZUyQEuJ4KqPspc+VtZkB8RFBO+4v6eNRwnWDJ/7uOFMym0VNLLNbhUUa9U7BbQacF3rc+D09eb/L9KLIV4I+eo/20s4br3/0YyQ5ka0nGzgGXFNdxZASjyvXKa80Y66YGjCqy9jtk6EfQ+dPfRnwGuzXKttCmvjP8xtBfMzGWYTb2Jr8pvh/mWlzrJ3lB/e3ofNcewH5K+DMTMAETMAETMIEDSUAbX5fid9TjG5XgX5zDb53ieQn/o6eCgZ9GBpXwPW/hZtyyTUWcW4lMDS7141ut4efM4PM04H9piWIRvtCtfJdbCvUXJmACJvDVBOitHvSh4I0OsKab4J1AVwHneYLeNAHnFs+aHqX9A0rofHXk81x3jNFaoskKgvPzPPSVAts2gjWtNR95hwB0gO9PM3LMo+BXEX8i4NW07w0CRE0hXyeIHifg06jzLMHdCz8lyKPz/VSdL99tImd9lbLokRzq1QkEq7sIVAk69VaBbn4aXen4a3g0IHvwdyQiJglCn4h4+QckCH7NDIB+6iAhoLXsKereIPAdfC8zPX/z6Ygnezh3lo5/kGCY75I1ZJRLRuSRHwvoSnsGRiN6f4IRQqcVzqd4pGl3SQV6wGPvoXaOXeBBUmCF1+VH0BOeFTDPFi+AX/vzBPDIkFHTJo6bvK6C5WOvRjyNfhoRL8Q4FQI6mxDYGCbJ8oeI3/0diQ1YVb0c8fw/jzhJ4FzH+cXIqYdfIXW/+waGTeyR0XqUtnbyPTqIYe6xOEHygnILtFft0rUe/4Lr+jgG9q9JTvDcCPtN9Pycet/9DdeL7+dIGlx/iusxjmyu0c5eExI+jYG+hByuyRz1l8GgjWSHymXbkquDkiLTZyPe/tuIj6QLvL77U5aikOjo4rwy2qa9AjS7REkFPY9wTrKnBJmUtK7X3obtqsBvTMAETMAETMAEHloC+C+J34r/VFmCf4XfVo1PIccqjyRBAwF9G/6B/Km7PcrxM8rxczQwca0RXwl/QjNktbly4uNSn12Mu6Xq8iZgArch8DV6q9tI/Fpf04kW8sgnA7pK4LzGY4P3BT10gmREW/m8SB2wDp4LFcwR4BavMKhNVlYZ2UI60G4655lrdKIEdB2vMaL7Xc4lsJx6i+85NY9/yumoywlU1z4lUL+KODrZlwjcTzxGgH2OehTQcRQRPJZXoQN67Bw5ei6jo3SVnqUnsQ3IjD8xYo5Omhnw6isE792ZUf/8zYyEcjr3qjpGtX9J0Mm5K88RaH6P6f4kPtbRRwxUvTLD2jSmBN2VGEnPUAdGoo2y2ldgDWuwtEDdlK0miaL18MWcs/dIodN1glrNTBCAFtqoqfIKaLMGJY/XxTzWCGbnrhPYIrcAHWsp29pCeV4XopTKJwG0FIT5wB9IBvwtSY1R5L4W8f1/CUM4NNCWwm3h+QTPSvJswmQtlQnw21QGffO5ZnuPORIC0ncZQ7iJTgGD3r8iYUIw3s51q0EX3SYwDYtqGr9G+4YHaR/y58ZIJvB6FZ2j5EvJayQCxrmuSvKkOb/mRCapUImOWQZflqbsh/wuaNcfuZZpGDzzrzN7TnRRfxkJimxmPo/rN4W+07BIN9Mmrm0tbd83yZBbgV+bgAmYgAmYgAk8vATkPOCj8H+y+fEKvoBmbG7hsxX34Q/ghzTgq+z4rXfR0gL8jMQRlI/IYx6fK9WAPHyQdiUI9L0PEzABE/hmCewTlX2zFdyVNAW/2m1fm7Kk6Gmrj2YSAlXbHW9WWBLI0VGuXqc8nfAKyYBCOuCtywTWvM/jvN5neHQTgJM8WJ4mgOZzredq7qUMAefAR7wnGaBN6Y4RJNbw3RbBnXbBV6CtQLahgw49J7jM1q9R4OltPbfQTQG5ZhRoWUIldXcjs7cHGZyQIsCeI3DdQOkaDEQd5/aPoBPBshIWvaobI5JCx1WVU1sJeOuVeea1Asw0gXENgXzXcZ6pZ51s9NQKz8ivIhhto50lyN51EIBrSv9APwHzLHJQpuMYo9okWPYLxhep/wb6Kxgvo/7mx6kLrqiWBMHZQDdNcmP6LabS/wOPz9D1JO34HhsbnkJnmGWTAYku6E4TYhOg/B/5GLUOWDXVZ2QmZbL/IHcOLoPDXCvaVoHx636FGQcvsQzhNMmJDtoKMyUztGSi/gzGER71GEfpqB1+F/lN6LaFucciCQHNDNHeCMXU3/QYvysSPTpn18Fvb/0CSzheZwnEH2kjZZqfZ4YE16gDZhWckE0GbA5Q7tc8LqMrujSjYzfXpxHG2TK7ZPuNCZiACZiACZjAt0Jg4wY2+3MGgwbxH/FhtvCz7texiSM2dg3/BV9DgxGawVqHD1WJb/K1/QFkaj8tDZIs4vMU4Tc1tOJjyAc6WG77/cLsekzABL5dAgerZ9FtB4cJsiaGaTWdadMJAj6CMU2Z4v9dxyZJgykMwBRB4KYCV4K9mUucRlDW92es56YDpe+MLYzDCB2rbumnGQLNlFslqL5OANz9AqPzBJa1dOJBMDo7RPC8kBmBr2kh0EaGdojde2jEe4i6tIZdmwXqln+IjFFeH3sOmQTH5YqEr6MTbdHadelYRtBZTjA/w+uKk4x8n+Zcgn0F+OMXSUZQ9yYBZmkPHT8JgWpEaM+EfALoGji0cN5WP+cjd4rAd4OgtbaNgBVDodkEu45x5H1KgI2OkxjHwkbKKWhFFiJvOmZp/wBGbQldq5DXQeBcRrv2Hutw/PwXTNV/i3YhSKxPvci1Ql8u2e6D66lbMm6sZ5IaxdSvDLfWwu26nilOg5N21r1B4A7eaIbh039FwuRohu+uRINqoR2ldRhddBDqWx3zcBj8AqOK0EqMdNIu/TD2HKklyv2WdYC/IdDnnBp+Gyde5XrCV4Zdh5Zy6C4IX7wR8c7PKD/Pd89EPPHXJC34rdTy+9rVrsxp/tcETMAETMAETODbIID/MP4uGzP/kkGKK/g7+FG4WvftkI8zhI+hGYMF+DYt+K21+BoK3Pfzte5EMd3OcPIiMvHL1vArKo/j8uCTVuOLfJW/cyeyXcYETMAE9iFAT3OAjk068qGrdIQEZAUEju10rNqwJTs6nauqAj2N/GrJgNajVxL0rnTTYRLInuC5ko5ZViFFh6qN/KYI5jRKXjxIR/0kAfQZgsOezKhuHt9tYkh054IpjMtGMx06AXgnAed+07O0M//wNcpiCLTWXdnp8qPIIzDWCLhmGyhDoI0Dp69npnwVHEE/Ppujnu4/I5BGhxr0UQA5p7ZcpC20v6QTnWhDLQF2Cd/p0OY1KqcZFJMkTCYHkMUH+cisY+RcGxqW7LE889R79U0MJUZqjURCDfq10Z46dJOsnQOZQZA7N4QOJElW+VIJBt1iUHdj2HWQuJh/l9sHvsN6fbgXPk0wzKMPHYo4b5dcTtStJJUQWSXYLiCA13R93YlB6+5zyya394PLdD/lxb+NNp1C9kk4ELznlt2lD9dc6vMUhcAqQ7ZmgSSHPkTHeeofJHm0zHtN++88Rrm9CQHVSfs/+QMOBb+pVeSceIUHwX4V1zc5SChMf0SZXzCD4Pe0n99V9Q9J6vyEWyh+HyegAR22i/rJBEzABEzABEzgWyYg232JAQrZZPyXIy/hi+APfe2R+btVFwdkbQzfCf9B+0QV4gvJb60hIbDfvk53Kn4N32WYdul2g3n4Ns0n8YVICOhWyfv5w3cq1+VMwARM4BYEDlAIw2jyxiDBOx2ggnIFkBrlbyCI3S8gnKWcpuhrmn1KQSOdZsuT29PICaaTlmEglq4ynYvnBQnBUKytEeQRvPVQVlPcibVja5OYmM53kiBagXZxD/XSsTeVZgLdXfAIDNfRc2Sc4JVAN029aeqv7yYwfpxOW0EpJ2jzwAnJxFCsYTSKCUiVkNiiU+/sI+DFYGTpa/374BWCVuRVNhO4I6cCmZKTe0jPUdosmZqZUH0MPWGkBERWVlKeNmozwc8+xEgx4l6EbvUYlDp0Q4XdB6xT1zA8A8jlvA3YKMnQSUKmVHByjsXrTMn7PQ8SHWt834vxPUL9uguB8O49dDvGoYtcAwxl2fFbT9fXZotiNd7P9URIGe1q4qEERumuhm3XAEsF+xvwWoUtWJKNHhtgV5QN4Pk8maFBu0Ypu6aERDvton1725We4DcHK90yaBQF8nthgJz0CEkVeC/pe9o+eoXfJ6xW0avvKWYFvBbx+HP8luC1r56o4MMETMAETMAETOAbJoCNXzjPzID/SqKe52V8q2dl5/H/9vpO33DNX4rDN1iSj4GPOYevokRAB/6A7jhF7P61jzX8Ng2OTSO3EB9LyyO1DEF7WuV9bak+0QRMwARuSWC/aOuWhb/dL+hYFwkex2YY1S0j0O0kIKQDrOP1TR0gEaCmuA8RmK8TxKaJcosJ9o6fpjPmOduqTQXtyJxeJIhDiKbAJ5uz0GEfo1z5dsCr9f9aPz8xhCw63Do6XyUEKnjN/7sPRtOl5/gcevJNIfpVkhFuO5YJNrVBn46UZBI4T5K40G0GSwg0yzFYtQSQTQTTmuqeHCsYEtoyfAMdCXRbW2kD8kpvityRs0S5fvREppY/tBDkN8FJtxHcYbRBoEy9Q+eY2k4Qu8T7SuptJclQWXGzoVSSYZq2KxmC+Cjsof20vVnJkKyOiaKUISA+/yfqx1hV0Y5jL5IMIDjO8t4utvM0NUhADSvN4lCi41bT9TUVX/zHKZ+mzobHaBd6VCD4Jv6SrmB/jOQNCYd5XqfQVbes1CaI2aUTmnWwpHb1w5fXeV2wp10tXK+9sykWYT/0NkmeUZyKYsrVUMUw+izgcAzxfIkHv88llKntY1+D55k98B2MNPK0kWDJrQBIVx8mYAImYAIm8AAIJJsSYyN1t6Tsa+XTZVh1S7zspsnaG0iDGLp9cVr+BN8nt7fDHu/4FjoPOVozr716eJn4Ibr70C0DVSpLbZdP8Vp+i8prA+V9D8rIJ9EeAPyf6KE9j7Ij/tk2SNcV/JHLv474/X/gmXOa8RuqUbZQ50tvtWPfSvgQ5ZP2Iidho7rQTW0u4CTpoDYmOmy3rwCZe49NfIeZLxgwwHlawxcqw8/QQIZmQardYpXIly6cX4h/UUA92fbslZe855xVfJFhfBDd0roYeR09JBtIMuyjws0ittsm/eV7as+rpB2crDs3feX1ulmaPzEBEzgcBOiZDsixTIA3ep7gjSAsryEz+q119MSwuw86uRigoxwiiKQscXY09jFi+/1MMK0gPnsskBC4cYFAjoBUiQPF2J0vEMgpOFbHTCetI8X3w1cJdAnM80rp0DEsSkho3fp2kUxB/k30/JxAUXVTVx1B6OPI7D2GMeB9tsPeJFsw3E+wjQ70z7FG4NjQy3p7Ga1ssK+2UGZ2kLavYOAIVms6GHWn7l23zqOYhsE30O8Gjwn0zWumLcjShoYyNNljCyAXP2DGwWWMABWrbt26sfMU+sFz7yGjMXKJgPc6HJCjZIhub1PO6x2UEkKiZgKZlwYI8Pmi7QjMT1DupgtEWYxQXKFNJCUujsIKa9QHp66jt0h0wHK4Hx1omy5SO+1q6ob/jgJ8nnMo2N/oz3DTDrx5fRm2XbRP10CHDLpmU2jWwQbva6lbsyn2S/LMoWP/p5lrKqdAtx5UgiLVhr60r+WViB6MsWaWVPLQ1L1akjq6RrfSESk+TMAETMAETOCBEFCQvzGHT8UgxjwPzdibJYDVLMgibLfurKRldPJxlrDX1/EbLmP35uQHnOQOSD/CDjPiLl8ge2wio/8tEv3n8W2QX4yc0yTIe7DX+91KWMsrb7zL4AT2dYJAt+QJyj9NeWyx/C/VnXto7byWVWrPp1WCVwXYGkDRqL/KbuCHaACj/yNkvo++PF+n/ArltOR0AN1W0VG2vh0fKXu76tw69HpjHL/nE/yTj9EPJqvF2Hd8pGd+QPBNm+f5XMs4xaKC9vX14F8qIN+jsJaZjuI/LaO3Nv6rxw9sxtdLE8xfw//5Av9zCn3WkVPWjp/4XdqO/6nbPO+VtaMj/sgibdKg0xKyqpDbQVKgBn8j51LsFN/7YgN2g+KC/qPoJ59am3SXwqORuk8+h4/Zy3vasqc5e0X5vQmYwOEhoOjnYBzzY3TAGBntcl+KcWnEICW7yu9RT0ZuFYOgKdyzMngYCt1O79STBGm8zu0wtTZfywpWyN7m1yCPoPAoctvoGHc2qUthSEYwCjwmCabzMT4dlGskiN5vN/5EJnrqtn9F6mCfppOnfJOMRVZX5GhN+ij1T/FaSwUa0E9BeRvGpngbu9qifQbUFo1053VgUDAabfuNOs9QVkZimnZTT0kTemIoGnOMlG5POP3Zdpk1khDI3yyFC0ZftyssxejtPbZgo2nwExhFZQA06yC5NSGN2TEWMEpTZoqHNl1cpw3JHgsNyNznJ5RewRi9gbF+j4F8ruc6xkzlu2C7d7q+MjpaKqLR+ckN6qQ9HT0YVdp3K4OpRMfo5+jNtdUtGFueR/ZpnJiSL6+rZh2MiBeyNetAa/CUZNAMjp12bcNYwmCPUm5lme8pI6Opa6UZALofsJIA1TyqeF1MHUU4KvuNFuxl6/cmYAImYAImcN8JYEvX8AfG+vEJ8DFGeAxcxc7zPg/fpgNb3I1d3Jgn1/8xm+n+lse7lCGQXUpjA8+QVMcGn3ka3wF7rwGJ6U+x6W8wPf+P2HdkzVGu5Bh2Gv9GsxCby7CNOcZ1gToH8QHOU/7iJ9hidCrBzpbj3zTik1TJju4Bs0owe/WX3L75IvaY+o/8M3wG7C7/40hQ5wB+4ln8Ouz/FfS+doHP8Dcq8UMK8QsmsPmBH6hbJ2tfn707HafxRybOMbCBXoO0YZFzdMsh2fQN3o/Sjnnej/+CYJ561mGlxAmuwM2OAx9ND8OW81bRoe4I/ht1Tr0JJ/T64kN4XoMvjFPopzsn6f1j34947lX8EbhqdufeYwVfbOoyft4S3zTT9j7k0qbsYMfe8sl7rsUqbIc+ywwGaabtBn5b4K9wWRJu8pf64Ta7gC+5Rbu60InvfZiACZgABOilDsgxM5LpoFdWMyPa7SfpyNST7Tk0DUvr4yeu0wFiTYqO01kTwB0n4MwuAUhOoTNM9hmgk9Q+AxUnCLRfJDtLOa0P3zkIBhWUK9Ceo3Muxwgp0NZU+H366kSmDIkywjVPY7BeJnOMEajYEcgLjNoSBk1T6+d4W0iQe+wlDDCGpRzk2OHk0Oj82KVMW5RBLqfjb+wkeUAZ7NOuQ7vbzyJzBoFrVTDqoT3UW0fAn9Vz+gqGGkO3gaxN2rgMg8AI1WPNOrCoN01tx4hoWcXIEAYIQ5nfSrljGCoY5SZDNCI/jyGbxfgtco6MVCUORT115DoAicKUXboecfZ3GMWzGcOjDRXraNd+0/UD/lqCMQH/edpS2YUO6KHZITRj32MTBlc+wfihj25leJJr0EsAX8rvIXvOJvJG0ENyNeOk/ejN7UqEo+/qAtcJo71B20poV/N32NDwtcxvRVMhC2hnMs0uKzyrFediV5OEg5IX2euQ/drPJmACJmACJnDfCawTzGLTZvAbFrGTkwSKn71DwHsDu41968BhycN4zRIkfvZzNgr+EJuKjddt7jTYMY9vUvwMiXbsdgcB/yYyLv4q4sNfU052dRS5BMHB63Z8m67vIpfgUrcFllFMEZAOfUAy4HcE358SuFOPZggUYDOf+B5+AfIVxO81msvUc+EfI94l2N86jV/1F7RDhlV+xwbn0SYNGmnavfYe0i2N00UMOBDIK8mgPYT0nZZD7JWtNZET6PLhv6e9+BxL+FFHf4Bv9gS6U3wRBpoFeQUdhv6B4BlWlS8wowE/tDjHz6Jo5kDeJGU1mLSGLo34WMVrtJdzBy7hz/L5OvqtUW59NeM/DV+hjrHMbIEn4dWyj5+jWQcj6CEfs+Ip/JZj6EH9O4NY2fqzz7BZGqTO19nw+LfojU9X/Bg+0RlmNnBuLUxGYHr27/me9s/gx+huVpoJUY4O9luyIP1sAoeagHrNB3wooiLAm1EnjDGi34x2OvZkHT0d9t5D675u0NlO0AEqam56mpj3aCbIzy4BSHaZQ16yrGCeTDNF2+kYT75KEE9HKJuVPTR1bPI8ZdFhg+/KkKVR/AYK7eoopedsplMfIohdoRPu6sGgPE9njZ65ZVdoh5IWuo3gGh1uJTIfo4PuJJDOjSm31sl2f0FbhpBNfbrNYsORzCh6rjzpuohh19S0ZGZCE+09iRGj3gp9yZGiPiUqLmCQunlfTqPFsqw3E4xr47+bstFqB4ZnlOcpFCtpgXs7etTtZqQRec3gWJimHmQWwamUunftXcDnOpZoz6Wf8UDuGO1Xzkn35a3vQleuF293HStq1zl+ArAN6q2GQROGtRp99jJITkTm8ifc+vAs7GBW+xK3J8Ro9sF2Z9Sea76B4b2hays5fKd2taC3jCqXLjny9IJroP0e1jczwb3WHurOEZoZUEV5rb+71a6+KTEByApl67kQ2gHYhwmYgAmYgAk8UALYME0R71LAh20qwL5+9EfsIvZPGza3Yw9XCIBHPibQx74f+RcEkJS58u8I4rHHCwSx87zXoMX8APb23zJyj52s+EHET5H96X8lwPxTxm9axN4u8p32CNCxht0d/BX2Xz7Fsyw94DPNwtNtmmVnZYD3NZX4Fyv4MIP4Q2P4L9o/qqGWOvFdEmeAtjSepl0E0e0f4S/yuIhPkcZv6H4x4oW/YnCmnPK0T/Z71x2isPP9v4x4n+TH+/h7NfhtZ15juSfyWlrxk6hCMx+X/hOj/n/At8B/nKGdNTBsqcaH4/UufwR5Wro6SZvGlgmw0UO+lPyNFXi3/JREAoxr0X3pc7i+RTD+Lt/TNi1V+IjXDejYiG+UO/iC1GTWwQ04aCCrsQN/9DgcURDR+x5zXMfP/z7ijdepC32bf8zShxfwebphSJvkl1SNco0uMLuDx5T4DvJboA1f5d/sW5k/NAETeFQJFD74hikQu0YneB2DQQe4QefeQEem6eV5dLjjfL9AJ99BR6fp5so8D/P5BIFkPsai82k63146f3rLvO3WJGvnvsjInOH8TTreFjrekyfo2NXz5xwLE3TQl+gsFwl06XwbTlGWMsq4Do7Tueocgl9lttP9GAn0nJCe1N3YQ0LgCMYEQ5V7JLdEpOOVoSxqpdwztAfjoAx6VkeVV1tGkTeJscyj4+7AcirLvA6PgQ0MGyxamjLnLGIsR/oxNst8/jiGD0NW25AxrNrY5nMMziiGXcmHvI+RQbs2MQS6u0AL7SrhvIGRjDFtRBclT7QecPoibZqlPEavjnNb2wjGMcbLGBCKRzXva5G7soChR0ay2Q8sFCTnF+82Uitw7MfYXaZu7bGgQDsf463NfqRDEU7G4BjXqoJ2Ilc6iNUQBnphDh0xfM3wr0EXRO97yKidw/hdQfcS5D7zV1yD3ozhRVxypPluBplTMFulfiUkOjpxEqhjErYL6FIBu8ZS9OM3VcBDIxv8n6w/nKIdcz+ED+/3zcrzW5ni96XpippW2fRsJpmQqd3/moAJmIAJmMADJIBrV1SFLS3HVmMHtbRPI+qa3VeGX1E9jH3Hhk2vYr/woU6/iC0cwB7/AttKMc2MK8EOK0AfwY/px3aXYm+78Id68QfG32fwAZ9LswG0h1HuLfa0kV6ymTF2t4rv1y9m7Lk2KizBz9HmztrYN2uvs5RS6CTbq5mV2nNJa+6beNZAQlKW8yuwt4X4FZoOn+Z5C0ehpIegGT+nD/3kYykRkGwoKP04tmSv32FmwH8mkfEZfglt6HmFmQq0WXdTkv8m+WXIKkbuBnos0V4t4azGF61D39JtWYlA/YOPtHAZfvgzczDU7MK8MvyvLpIT6KJ9AtrwOarxMTZ4XYdfN3cDFvgli5yj/QWmn0K3XtqRZYGMmMZHof4RntfRqwEGbeihzZL38tKMiRWu4bn/EvHeG/jFyOnlWj75GssBYK87XhVx3XUsw0QjRJvorcxCAXrdMsPAVz5MwAQOHYHt3uIBtnuLTm0eIzA9yDMdYpoOsIZOuo6OawajM0QHvUSnqdsPlvJ6fSgzRUsb2hTyWQ9GoJngMncUVzJ1G0Htcr9K56dlBa10kN0Yo73T5rXZjtbQr1CflgtoM0FNYx/k3Kt0zM+2YijoWPOkJ4ZtagBDQJGCPgLKbgJNAs69I8PJbQQxpJryVY2B6HoeQ4VBoE//8pBRG8WwEjzP0q4CjI7aUcQ5Nz7H2NKB6362zbBQ25Ywktr0UFPQlP2uR6888UDHsU/J1mMYqjEGxzAyI68jk7K6Y0JTD0aKzl+b1FzAGDXwXnsKKBhX1n7sMt/RoELqqYGRllOk+tHhAwJ7eHXxvrp2W23OkQOg6fiL41wzdNL6wWI+X5GRo97ryFpoQD51F3I9lTRohlMVOsxLB/TUWjtN8VMZJQS0KdAy/Kv4rOMURh+mqmrXwfVOU++Vt8m0/4n6uFbHfhjxMo9m1ZdTeIlrqhkaSjIEuleqfn4HyuAPc/7yK7AlKdGATpqyUE47G2h/yXzGaI8i//KrnArndnRJNg6kLVo6ISM89RltRc456tFay3au1a32O8hRyy9NwARMwARM4NsngAGVDdXU+WXs9AL2WXsKlfZk/JmNj/CRpMXxiOe/jx+FjZzEFst3SmHji7HrsonyzVaxi1vY5d4XGVRpRgY2vAB7uIlN1eyDcvwj+RjJDD0+1y2gS08SyOJPbFHv+Rlk4BcU8Hkt9Vdhb+Uz7bWZ09ewz/go8/gCRZyrDfoakL8TjKtBHNq1X/sZaXmDbvtcSxs0yFGnsrR3u1imMP8uXMU/+v9ICLzDefgDZ/4qkwA5gh+0I1uly9BJzzDQwEd1J3LRoYLP9y6NXMdPG8fHmBmlbegjDnWnwflj5D+WYadNhxN5tLdvnba9AeMR9OG1ZsSuyD+hnuQhpVeptx8d+W6cMin416NjK+cnSzEoknuswvba37O84h+ZKcE1av4XJAN+xAM9atSWLAhkjcFr6Dr+Ity14WJbL9cA/XL95lzZfm0CJnDoCNB7PuAjWUdPQDhNR6ld7jVtPZ/Ab+oPjHoTGFedJNvZTV+NgYpBOtOLBMZ0pAvqgPswZK0EvbzO9n1qTu6yAq0va36KTpUOsJrOkP93HQsKHofoKDGWus1dPh3rO/8BQ0FHXPUMn2HsiGmTtWpaqqBN6rYQ0kCnmwS6uTLVuWP4lAkeHqfD533nEUawJQcddx0ykv0YCMovorx2w81H/tUBdKF93T9G5/YvO/VknTuGHTWTf9bgdf23BKWwu44BqcNYH/0OOvH1eYzU9BQvqjMjBJMwe582bj2L8cbIFcJZxxI6jF1HDwxwGSc29MDnGkE3OnzeD9sTjOxzPTQ7QhvqKTGioHiL766+EfHbBq4NOgaydYeIEfjJ0DxBW8apA7GRBzxtiKOZCO9xPdPSgXMoigKw4txh2rLIW+1d0PsEatfpy93HOnp+9HdcmzcZrYDlM3+TmfLXjd57NyrU0gZNuVtGfhGJA2XXJ34Dawz3WAnOAPKbkZE1mEoCnTxDm8WMxxKG/s3/i5cE/if57WjDyEKchCWu69DHyOA6rNH2oy/hAPC9lmPsvUXjbu39zgRMwARMwATuPwENjGjju5U1bBW2T9PPL+AztGG/er6Ln4EPVYitXMcOT+D/6C5CFdjMlmVs4DrlOeeJ7+CTHMUHwFBrCYHuXLBCucBm1/F9I+WT2XR5lMdX0J2aKrGbE/gTI5SfxSYXUk/zcew7tjPrg+zQwDaP4ssM4EfIH6npypQtw7buLAXdLryGjtosemaC76hbm0rXYOeVuKf6XUeKdg/9LuJt/IYRZLXQ3jNnWCLRsicZoLPwbbQngabSK+mgfY80kJQEzrukYv/hNXQJv2YUnwbftAa5j73M8gj8l2SzQHygXF00K0NLEyrxhfLmqIdrId9XU/azxxbt1m2yp/AzlvCfinvxydBTAxc38YLBNL7IW/+Av4evWfA4iZ0f4I+IL/pweuagnsnfMTPidZIig7SL9hznWj4Fs3J+B7k6Zk/xswmYwKEkUPjAW63p/bo94KKCLDrEfAK/65/SGdNT5WFsmunAlCEljoulITrh9wnI6DC1c331SQwRRoc+dteh265cI/jUKP8GQWzbaTrpHjpYesldHSCdfhJoY6zoN2OLusfOYQwJMvswBt3UXUHnqkO377mGXrqdn6ZytdIBa9d6BYI7MtXBf0EwTKd+ncBykQ63Fjm9PG66jSBtlZ5aq6fEge4QMIB83RKxuY9nzqmrztStf2U4xAqVYw4drv4959N23RZPt+bpJjDt6kCXAWSqbgybMvtDb2EsejNT4/oo19j4pbGQUVKZdQzgKkwn3iNxMIJMDHr5iYwOtbS1gO9rTqHXUYzTBxhunILhd9AFh2EQVtr9tkht/W4kIw31XE8lZWhi6LZDA2/yrLq5FrrdUKID3ASupofA+kXa9AnvqVs7DJdTTwvXt5CPNuWA8Ll2Dxb7TX4Tj8Ho2R9yjbg+WtsnUbmHjLXuBqE1eJq5MI3s87xuxQjqDgKadVGZY7Cr4HP0zwn+h/mNwWACfv2/5zXvRzG6tTCWsyMDrtGTMjhrecfxJ3nmtUYl9uqQq49fm4AJmIAJmMB9J5AiIBzCtOILreNDVGAHMX2Rh81rPYnPcAR7i40PbN18P7YSeyvfqhK/Z30AnwkfpwFfQAMbuouPfBZtvDeDfd3kfQVy6gjwq2QDsZE6NB29ku/yqWsd+zsygT3GhyjCn+k4jt9Wz3cYzO3iGFV8m+sk8bHxA/ghq+jZ3oXf1pcJxnfZVr5bQ6Y2FJ7Fzks/7TeVLJ/cEZjRQ3JHPiTR/1v8CsqX/hA7/yptxoeoLtsuk31Crm6trKWR2hcoRfsbsO2a9l+Mj7FX9Po0yAbgha9Q2ITMVyJ68Ada8C20ufHeQ0sTlVhIkhY0qBCZWmaRK3cDh0mbTGtwbIvytfg3dfhXyUBVbkGEL1ygTb8nsfM5OrfRrhcYnMG/0UbTSfX4KvKXr7+fWVJw9hrXq5dEwJ8xmIKfdgS5t7ol417d/d4ETOBQEKAXf9AHHZ2my5cQ3FbQIW/NZrLJ43SYL79MR4dRqOa1Du0uq93gVVZTy3ufIaBUsJb5OvOvOnMMxTIdfF4VASCd4LHTBIGtvKeuXQdlNI2tDANVSQevAHIdHer/ks79+UwWWWvddGzxnYLsdCUyMRJHJZOOOFemRs9XMZSa1l/Id/XU3Xkc48Y5e5cVKILU1Lpk87pRjAMGYHYZXTFCp3+AscbIlG3Xrfo1rV0JiJoBGKDj1MfodJKyf84Usb/gvB6MMpx0O5lCeCr7q5Hz6fPI4rvGl2gP59fzXRZDEa8rMQzV1KXpa7MfsOMwuj+FzGelQwsyVDmAy5/g/O+wCY/qRQdtmDh1FqNTQ7lnCaa/T+adc45xwgrXqQzjL6dgDZ1GP8Wwwf/Uj0lcoEs9uiU6UH8HhuxVjFfRf+Y2PTeYnfAfYUi7mqlbd2RYhc34ELaaa1p9iiD8ReRwbVrQuxzZOYikaXJoT4Bi6tfmQtrsSDskT2OslUB48gws+C53b4AiHIS2H5Jh76fsOhvvXKQNcFjk/dVxdEMPyavqQQbtPIXO2iQy2bCH73yYgAmYgAmYwIEjgK8wgf0bIyjXhoKb2FHdOld3R9Kdd7L3tteeSZNf4Fus0AL8q8A2z01h71/B13macvgwstkaQBi+jK+AvHzsuG4PXYf/kHuHHzFIkgNj2NBr2G/O0ayDJsp14oNoY+dcu72F7zHzIQl/6h9Bvw3qTjbT60BXbPmug3qXBig3jQ+CkLrGTLKiGj9E+u0c+EFpbPcX7zEyjs+ygBy143F8hyraklt/cg5+Quo6bUY+6uKAoEMbfgY+RPY20Tuy8W90N4QbtG+W80rR4RhyW/ELb/Lztk+Sb7hOWc1A0F0Q5JtoWUai9Lbia/hUmvkwLbb4G60nuBQw0+yAXfoia5g2XXiD6wqHypdggH9TCeMUfmqKa7g8hO/yJv7c70kIfEbdtEV3VHj1r3nu4xrgp+2SudM4vzABEzikBB58NKPg9chPuC8rz2VX6KQwAm0En0efIuuK8cjN5FaeYura/0In+d8QlDZgDI6Sxa3ac+no5Uq7Il75PwhSJ+kc+b4dQ9CYDUJzi9OBdjxH4uF/QhadeyEd+hE6dq3Db8Ug5G58o6UM3/nfInr+FZ06BqWVclqqkNup5mF0ik4TTP/P2JN/Rt3VtAUda8FMVbsPOvoqgtuXBtEPA5Cmw+4j0FSioY3v9k6Db0PPV/5XGH2E8cTYlR/JzAo4QmDaSnuraJ+OokaCXuouoN5xDI02DOojCO7FuGiDoVw96h4n+P8fMB69OA0YqvIeylJeG+IoGVCWNcZqJEa898cRfwHPzg+RPcs14HUTZTtwCjr6MJ60QQYxzWfP/RPq43qt1tA+6lf2vAv5e3UobeVzDFUp558exBiOYrwXcQoIzNdoZyG/BzGpgon2PtBaQd3rV45CLns03Dm0keIz/z1G8CMMPOzVTi3b0JTHBq5JsifATmleoHMJsh//7/i9PcXv5hzGHl0WMK7pskzSpBHerejYxLOm8Wnjw5vk5Mr0axMwARMwARN4UASW8VWukrjHpk4s8Rp/IA//oAo71odvVY8Ny9rQ6SGCy2skwtewa5TVXksF2OwGfINmbHjW1q3OEIz2EwhPY4P5TksDtBN/MvK9p50ryNTmuwsEqBvYbPksHXXYWBL5qLJz6E5D539HMHyJYB+F8vDDmvALWvGz9q6dT5L7+IkaIFhDlmZHtuObSGa2LRK8tYDtf49ZnWeRS/2F+ABHjuPD0H61be+RgtUUdl8b+i3hDxT1wId2NZTAIVdZnThC0oB2jVPHIj5QGzr0yi9B31wdcuvY3IQDPtMqemsATHddKkd/bbSYFb8GB63znyYjUYi8ZOZDE+Ups3Pgp2np7ODn3MlpAN+Nt7qzQgkvrr3BXgJc63Gu+XA/7dC1hE3vf4vv8wQ+GNeqneteWXFrPXfq8QsTMIHDRmCfnvE+I9Cmc7V0Vifp1GrH6fzoAOvoDBvpjHc2ZdnWqYTPZJzqU3SiqK7R/b0GQ72rbovX9TKdH+XUQ2skfFenmtNGbUjzGLJq5iiH0WrqQQ/Ol9HIdtQqXkBn30kA3yqZdNCaIn+TTOoqIFhsJ/vbRDlt6qf74mqpwk0H5+uWgKd/SnkMlm6d09pD3TxrCvreQ7vX9v4Z8jlnKY1+cGrGwCrbruRBVtcCDNSR7/MZQTF2JeoorwC2GiOw17CV8nkbnJ6l3YvoWwxfJRck86bpZOhU1UNgDQcZ9lmM4RZc6/hMWfoq5Gcz6UVtXE90bcR5WOdzzdJQGd0+aK8OGmXQngKdtEfltAOvMuRLMNGeEppmWI1eypSXU5+m3e2VsZdVGfV3/gD9MH6aoVApB4O2amTgprV42ydLj7oTcENP3fdX91mWDtrFWDNItAliPTqUUi7ZxXhvpX5vAiZgAiZgAgeEgJb0zV7EnuJXJdPgsX+N2Lju09i4XD8D269b0emOR0rEK3FQjM3rfIJy2FLN1EtcmCUSBgTMN7DPc5wju9jZl/EXcHVuOmaQOXaFc7CjJUexrzx0e95dG/lNod85prYPogMOyxY+QiX2V8F4DbY3uwwhK3yW+scIxheRWYQfUivfAr9gl0wKa5+BwfcJjKl/Gf2bnmLAQuWx3/v5D2v4Klc+yDBIUW9yq2TsfQUN21t+AR20bGIeHnmUqUEH+aW6G8Ktjk38y0m4zTPIoDtPdXIdavE1du7OQIJlCf6jk5RB32r8jQ7Ya2ZGwn5bcJp2605Lo/1woI0bfKnlrAvXaCuvdc21yaHu0CA/Vv5fB9dRMzMauF773q3gVkr7cxMwgcNEgJ7nQR90YrovbguGooEsqha4FfG4KdjmK02rVzBGf/2Vh5IFJXSkd3IU0ymrM6+lbsnX2q69BkBylMktRuZX1o0h1SZ6SgIg6qsPyhYS7Grkv5kOXNPyNZVvrwHMCsnD6FX0EJBjTFRcuhapfLbA9rM+rzlBWQwBNnsncUF1Nx8Y31JG4HvhvyMT3W+pA+UVvB/BmehAeJLw4DNdq1z5yR0Tnsaow3SnDIrmltmljH4DtKUCI6ilEbV96I78rE66JvpN3PL8XcLQn+tUiYxj6Lolg45sJY5ud75+N7rTRKkM6TF0SBTIsC6k/uwoyZ7q/NYETMAETMAEDhSBtUUGs88zmk5CYB3bpqVx3U/iQ+AfaN8AzG7mmCVYvUGASTJ+QyPQ2OBq7Ofxo/hk+EY75SijHfsnGAxYxl/TwI2CVm1id5NtxXYmt88boO51bHoXPh42tYJ6d5brpUkGkLAY/oxnAt1VbL58LN2mOFmGQMU7dW+rqv0QdFeoNQJr3QVAyXu1Za/PtkqArT2fdGemAnRUUKxli7v2fNqWGeg3R7vOfwwv2qhZqtqosJakRPE+fsP0MOWuoC86V5wiyXKcwQYSDXvvRJAVr82TNYVfeyksIK9cPhfnaKYjb5Nji3pnL8OMa7YGfw26tOKHaBloLlvdNnDyErxGkQmvND6k9E9xXgp51VyzTvTW3Ql0dyhtil0KUyUCkrtAbNfnJxMwARPYQ6Bwz/sH9IIsnL8AAEAASURBVJZev1CB5Xb1uevyv22NFOiro0w2/aPnze18v+26VZlmGmSvwle2W7pRsBhDnBy30pXPNesim5T4SpkIShIdt5O5XWXyBCvNuPhKndHha11PtQndk3WDOAvJwWfipKc7PlSeAD47Y+F2DHbJ5Vzx29Fhu+K7krFLoN+YgAmYgAmYwP0loA2TBwkeZwj0CwkMG19g5uQxAm5eKzBODgLMFAH2FGXGCVzXCeTbTxOwUlYbNudukLc4RID9BUEt50QLAWcPQSvBpja9u+nQiPgNgmDk6naHrQS4ug2hZvglVZN42EJeP99fmSewpXwecksI2rWxspYhyC/bZfeX0ZNgfJTzlGRoJsnQRmCtWXvZ5iR6ECjrlnzDlNXGg0XomNxlioGM/ez40lmSB68z3X4AndGrgiBb0/WrGym/SzDS4SMdbvTTrjUCb3TQ5oxl6LA3KZFlsknZSZITGv1Pd6P3cyzZgF8dPm+2fTszH2hjSS+JGFjV4mdl97DakUWdSkgsznDdimg3XI9+n2Wvr2VmE5Thy5Xw0GbT2gwxGayhkv3anZXpZxMwAROAQOHBoaBO60Fp8xDVfUcd+122545k5l6bO5F/J2VyZea8TvTh/Hs97rpdORV+UzrkiPRLEzABEzABE7gvBLTB8TDB8yzBdjEB5hGC/BYC2NzNeNMEoLpr0TQB9DxJ+DSj052Meh9nhLxSQW6OpsntC68QbDM6X06ZBkajNaU9d/PjpDhB6xZBq2ROUFZ7LiWbBLZnglSVWSc47n+H5AIBeD7Bq9bWr2HzS1R/D8Eyo907Mwl0AuXSyNQt+cZIdGgpYgPy2js4h8B5l7tAe9dou9bia3NpbTxdi1wF7bvKIXYLHfvf404EH5AQYVbBMg3WcoUOZNeREMltfzJlkfJJUmKWOgjI65mloDsiKNGxV7bU1jF+nqTHh5xHYqTxKZaovkJSgOSE7s6UPbSHwwjJFs06qKJu3Z6xAm57Zx3oTkfLah/lUjqZNtWSFOjielShgzZAVhJj31meMJxnJkERiYgSHvuWySrkZxMwgcNGYG/687C13+01ARMwARMwARMwgUeIwBSB4yBBJs8K9MsIcvueIIBt2j0MpFv0jl3ILCvYIEgsZmT8CI9uRrB3bb5H9JkEwtcJRtcJlgmCW/ooj2yNlGvvAd0aOTkIVleukoiYoG65mG0Ewjw0BT7Z84mAfpLvP79IwM05uh3xvM4hsE/2/0HXcqJr7cifLNuTUH1PwDw1gq5638p5BM4tnJtP/ZoxsE6wnKhA0LtJwL6oz6hfsw61J9LeGQcbJADGCdSvfkpSgIB8mfJBIqKCtrWzVKKMNu/VYeMKOpCU0EyCFDMImtChHaYKxG86ttCHxMTVj5h9cJnkAwyOvcimz88RvJOk2MkHkDRJZh2gwxp11nVmZjQUw0CJkiV4aQll9tjhzGdaKqC7Wm0iTEtINSNgb6CvOxykaOsMvwcliHSHqK3stcoK9bMJmMBhJ7BfL3bYmbj9JmACJmACJmACJvBwEtB0/JkrBJoEjKsEuW09LAMg0Namerkj2dpnQLv7a1lBAUFqy7MEo12Uyx1BVvBIQKl16xpF3yTIbmIEu41gOHWBW9sR0G4SQD/xOME0Qf0m76f7CTyZBaAN+sqPZhICjcgvQtbA77gdIOelHyMwxgVNkxiYX+Y8AmytgW9l9HzxY4JuRsJLv0NdfF7M9xOUk54byCyjXJP0JNhdeZeAnqB4g8D8tEbWSRBs8Vjnu2QvIgJ9BdppGr7TdnQb/yTi7feYpUA9yWwI2qU9kjRdX3cjmkWHGyQWKtGhAYZFJCUmPs8E7yvoXdJHu1p5wGpnCQaosofudDD8DxGfvoUcZB//G+7q9DLJFtqzk2xB7xjOJBlGCf43mBXQ1MssCcoU9nNrQdqrWyY+xXWpRSftZVQJa92yMI92xQAbMsLlEte79gRcdhqY1QKZlDn7W64zySHdorC8he/2KfflGX5lAiZwCAnQq/kwARMwARMwARMwARN4JAjMEiBqvb924y/uIaAlUG4ioCwv2N28VQLj4cHMsgLdCeDImczIu24fvBMzElynCFpnJghcCfZTBMDlBNibjJSf7yfYVqKBgDl7wiblZ/luaZ7AnEC4oIxgfJEkwWfsacDMgGvnCeL5rP0Uci4RmFN2GbmF6FnC52uUG+MzTcnvph6pvEE7xqlrjqBW0+R1R6Bqvli9QjLgQ9rZhg4E5wr6A/3yFaTzUh7uyjhT9v9I+5lBoA0Tt2aQhQ5jfL7B+yIlKqhHSwIqW0goMOtg+Sz6ooMC/6NZHQjYtUnjBGw3+LwJ/bWPge5yoHpyj01kD/wp4j0SAmMwaP5exPM/YoYAjKs1kp8tTLtXr2WSLbPol0IfmhfaZPA8dc3yprSHD5ChQ/s3NT9OM0hklMJuiWTGIAmHD2rRgWC/sx39abs2GlwlmZHdm0CJnHyuk277WI7MvbMIEuH+xwRM4DAT2NuNHWYWbrsJmIAJmIAJmIAJPNwEJq8zKn2FoJDgvKaHUfeTjMYrSN6J8mkfwaR2v9dtBOcJeisZYe9VsMnotDbI2ymKjI0RyhBgLjLCn8JtXEP+BIGzprSfQHbnERIPxRlmWue+QgJAywi2GAFPEYCPEmB/2k9wfI6g/TiB6dMsYUAvBd5zo5lp7/kEvRuUvU7wvkpgXn6C4Jnglf9jHh1mSV4sI1d3XCrjsTrIqDcyL5Ik6EFvrftPdKghsUBb6tGvikYsoPu5/0jAzPMkQfEW9Q0jq6Aj4um/on4+H6EdWzDQnYR0i8BBgvllOJSiQ2UJ8tBhSe0igN9CpjbvqyZ4V5y+skCbyD5o36G0gnp0HH6DUfnf8IBv9XcjTv2Eup4g2ULgThU7xxaMFgfRkXavkJDYElvOGf0kMxOhi3O7jlKfgnwOzeJofhbe7zBDA5aDnDf5fsQnPC+RWOg7SaKCOrRB47yu0TAP6uh4GR1ehRPXSXsqSG8fJmACJpBDgN7HhwmYgAmYgAmYgAmYwMNPgIB05DJr1y8QFBLAHu8iIUBgW0xQuRPk08o0AeMUQeUQAfIMUXc9AfIRAukaXueW08j5FgHzOkGmNhRc53H1PPIo/8xrmSSCptgXbkeZWseugF23QN4guN78IOKdEQJ9gtWu5yMeJzg9/iQj6wSmS8hcns/InPuIMhvo8ecsPyAIPk6Qr4RAcpCISDYW5HkZWUM/i/g9bTr6NPUzMt57imCbBECS8EAX3Xb4NHWMT2RmNky8E/EuTC63ZhIkvS9u63GMkXj03YDZJsH8xNsE3SQfKr5HAH2cABu5uq2ijpJGRvj/hsQE5Yto041fR/wRdjdOs9SiBR4kFJZ5P3aJOuEVddTxr5BxhkAcWWK0d2mBkhDr1K3bKK6L8QDJiz+iC3WcRoce2tBC4iHZeyFRgnrQ+Ykfw26Kx6+41iQkJj9DBm29Th3JHbOKaEMb5z5GIuJ5+JCM0OaHasteHSTWhwmYwKEnUPB/chx6CgZgAiZgAiZgAiZgAg89AYLqeYLDLYLpJgLBJ3/KzvZP8bryy6BdbdQa95VlAskKEgbPZQLQZwhea3m/6xZ6SggQuI+PE7ASkNf0MkLNKPXxFwhMCTZbGHUvZ2xp564+BLmasr5IYJ3m8yqSDPU6h+D9JKPUCvRb+Uyb5m0gc5GEwAKvqwlgO9C37xVmHfDcQfCutfbJyDuytFHgkmSjXw1ltRP/kWdom3QgIC8nCEZMcuRzXrESFMW0uYQERQ16oKfujNCN7o+/RHBPHfUE0OvDmaSE1u/XdpO0kA4kDI6dQgfqyeogmSWMvktWJc/lpQTXfJairQrml2d4LCZNj/IOAnDaq+RHL3VqZsBOUL+tY/JEe1KcOz0LC/RV/W2nqZ/r8Th829szMxR2pvirgbRHdwkoq0Im11i3SSxXIgAuepQ30C4SIuKtayQ+HdvJgGzSJlcFvzYBEzABCOSlOUzCBEzABEzABEzABEzgYSdAkLk0yWMuGVSPskaCRwJG7QuwE1jSxjRB/irB+ByJAW0UWEJAXFOfCXKzgXWCgoRAmnJX3mRd/BUCeGS1EtR3KtBlFLyYoHhXeUbatYP/tXco/wXykV1/jOCWAL6FALtSo9ToomN9kBHuc4yKf05gjCyV62Xkv57XpQTz2UO6LvezPICR+eFR9CG4b6dcJ4FvHTrv1UE762v5wchZZhNcZNQe/QtJQjT2EvDzqON1OXqgWsxR/9AnbHTIzIMi9GuWXAJz3XZQdyfYdeAubyyRSEH2IsmM8evMspjgPSP8WjZQit61neiPfO2roGC9mM9zue+Sh54pRvqvvM1eCNeQQ5CvREfClutWAgPpuPdIk/RZQ4dZ6temkGNDJFXQQcsplFiRjEaSJDW0QXsiKBGw6xrtFej3JmACh52AEwKH/Rfg9puACZiACZiACTw6BDQVPa1AniblE3zr3vQ3BYR8qTJb2+WS+9er3E0FEYK8JQJfjYBrl//yGgJNRqML9yYDsghJCmhKu5YDrCGvlPLlBKZa4597+780QWySlGCEPM2odwllqkhMJHJz9ZCelNWdC7QBoTYWSEbGv0IHJQXWkCsdVhjFz+ecUuQneucE6ZskRFbmCKiXKYM8JU+08Z72E9iXBdy2aJ/uZLCsc0kQbBCgp2FXyHk6v5S2FKkOycgy2e9ZFwhZi0rgICe5K4Pqh4GSJvvWvy0n2a8AFkr8JNeF9uZxPYrVBniXMJNAbRBvHyZgAiZwGwJOCNwGkL82ARMwARMwARMwgcNNQIkDJRGIcLUB4G2PbMKBgl8ZGFNOtwdMkhZKSHyFYAX5WwqiFeh+VcEcGdlzsgmPnK8yL6UnDyVG8pB7y9H8m07kA86R7knyBX10vvZQuEPVdiQm56tdnHhHbHfO5IV03+aiBMJdtyFXll+bgAkcVgJOCBzWK+92m4AJmIAJmIAJmIAJmIAJmIAJHGoCd5LmPdSA3HgTMAETMAETMAETMAETMAETMAETeBQJOCHwKF5Vt8kETMAETMAETMAETMAETMAETMAEbkPACYHbAPLXJmACJmACJmACJmACJmACJmACJvAoEnBC4FG8qm6TCZiACZiACZiACZiACZiACZiACdyGgBMCtwHkr03ABEzABEzABEzABEzABEzABEzgUSTghMCjeFXdJhMwARMwARMwARMwARMwARMwARO4DQEnBG4DyF+bgAmYgAmYgAmYgAmYgAmYgAmYwKNIwAmBR/Gquk0mYAImYAImYAImYAImYAImYAImcBsCTgjcBpC/NgETMAETMAETMAETMAETMAETMIFHkYATAo/iVXWbTMAETMAETMAETMAETMAETMAETOA2BJwQuA0gf20CJmACJmACJmACJmACJmACJmACjyIBJwQexavqNpmACZiACZiACZiACZiACZiACZjAbQg4IXAbQP7aBEzABEzABEzABEzABEzABEzABB5FAk4IPIpX1W0yARMwARMwARMwARMwARMwARMwgdsQcELgNoD8tQmYgAmYgAl8GwTS6XTo4cMETMAETMAETMAEHhSBwgdVses1ARMwARMwgcNKQImA5eXlpPllZWWRn+/8/GH9LbjdJmACJmACJvAgCdgDeZD0XbcJmIAJmMChJLCxsRFvvPFG8lhZWfFMgUP5K3CjTcAETMAETODBE/AMgQd/DayBCZiACZjAISOwtrYWv/jFL5JEwJkzZ6K8vPyQEXBzTcAETMAETMAEDgIBJwQOwlWwDiZgAiZgAoeKwNbWVkxMTCQJgVQqdaja7saagAmYgAmYgAkcHAJOCByca2FNTMAETMAEDgkB7SGgZQPeWPCQXHA30wRMwARMwAQOKAEnBA7ohbFaJmACJmACjzYBbSTouww82tfYrTMBEzABEzCBg07Amwoe9Ctk/UzABEzABB45Ak4EPHKX1A0yARMwARMwgYeSgBMCD+Vls9ImYAImYAImYAImYAImYAImYAImcG8EnBC4N34+2wRMwARMwARMwARMwARMwARMwAQeSgJOCDyUl81Km4AJmIAJPAoE8vLyHoVmuA0mYAImYAImYAIPKQEnBB7SC2e1TcAETMAEHm4CTgY83NfP2puACZiACZjAo0DACYFH4Sq6DSZgAiZgAiZgAiZgAiZgAiZgAiZwlwScELhLYC5uAiZgAiZgAvdKQHcZ8J0G7pWizzcBEzABEzABE7hXAk4I3CtBn28CJmACJmACJmACJmACJmACJmACDyEBJwQewotmlU3ABEzABEzABEzABEzABEzABEzgXgk4IXCvBH2+CZiACZiACZiACZiACZiACZiACTyEBJwQeAgvmlU2ARMwARMwARMwARMwARMwARMwgXsl4ITAvRL0+SZgAiZgAiZgAiZgAiZgAiZgAibwEBJwQuAhvGhW2QRMwARMwARMwARMwARMwARMwATulYATAvdK0OebgAmYgAmYgAmYgAmYgAmYgAmYwENIwAmBh/CiWWUTMAETMIGHm0A6nY68vLzkoZbovQ8TMAETMAETMAETuN8EnBC438RdnwmYgAmYgAmYgAmYgAmYgAmYgAkcAAJOCByAi2AVTMAETMAETMAETMAETMAETMAETOB+E3BC4H4Td30mYAImYAImYAImYAImYAImYAImcAAIOCFwAC6CVTABEzABEzABEzABEzABEzABEzCB+03ACYH7Tdz1mYAJmIAJmMAeAtpg0IcJmIAJmIAJmIAJ3G8CTgjcb+KuzwRMwARM4NATyN5VIPdOA4ceigGYgAmYgAmYgAncdwJOCNx35K7QBEzABEzABEzABEzABEzABEzABB48AScEHvw1sAYmYAImYAImYAImYAImYAImYAImcN8JOCFw35G7QhMwARMwARMwARMwARMwARMwARN48AScEHjw18AamIAJmIAJmIAJmIAJmIAJmIAJmMB9J+CEwH1H7gpNwARMwARMwARMwARMwARMwARM4METcELgwV8Da2ACJmACJnAICfgOA4fworvJJmACJmACJnDACDghcMAuiNUxARMwARMwARMwARMwARMwARMwgftBwAmB+0HZdZiACZiACZiACZiACZiACZiACZjAASPghMABuyBWxwRMwARMwARMwARMwARMwARMwATuBwEnBO4HZddhAiZgAiZgAjkE0ul0zju/NAETMAETMAETMIEHQ8AJgQfD3bWagAmYgAmYgAmYgAmYgAmYgAmYwAMl4ITAA8Xvyk3ABEzABEzABEzABEzABEzABEzgwRBwQuDBcHetJmACJmACJmACJmACJmACJmACJvBACTgh8EDxu3ITMAETMIHDSsD7CBzWK+92m4AJmIAJmMDBIeCEwMG5FtbEBEzABEzgkBBwMuCQXGg30wRMwARMwAQOOAEnBA74BbJ6JmACJmACjyaBvLy80MOHCZiACZiACZiACTwoAk4IPCjyrtcETMAETMAETMAETMAETMAETMAEHiCBwgdYt6s2gW+PQHortrjP95e3+mYkLj8zGufxuG8PuyWbgAmYgAmYgAk8ZATkL+1VWTOY9n52V+9zfbC9J8of2/vZYXi/HxNAZP7/BgHcXI9no32DeB9BUU4IPIIX1U3ajFi4HteuDsfw+FzMrxVEflV7dPR0R19PbVQZkAmYgAmYgAmYgAmYAARSsb6yGMsLy7G6lY7UVl7kF5VEWVV1lBUXRnFBEq/eNamtNeQtLcbi+hYyFaDykJTCsiguLYvaipIoKjxcE5XTGyuxvrQQ86tbsZnainR+YRSUVkdleXGUA/obSZIwIBbri7G0vBqLqykGxwqjpLIiyirKoqQgL7icPkzgJgJOCNyExB88rATSW8uxNDoQwwP9cXVgOG5Mzcfs4mqsbWKE8j+Pi5ePxPm+U/HMk73R2VgelYfLDj2sl9V6m4AJmIAJmMCjTSC1EamVmZheJJbLL426+oooKSz41oO39PpCrNz4OD75rD/OD8zEUor6N4qiqrkr+l54KU521kV7Rf7d6bG1FrHYHxc+OR/nLgzFxMpmrCM3MwpOwqHmWLT2PBY/erYrmqpLgxj10T/SGxGrI3Ht03Px+flrMbywGasbG5Ff0RAVvd+NMye74lRHZZB/ucdZGaDcXInUyCdx7tyV+OgqiZ7N+jhy5ql4/NmT0VNZGBXMln14DpIbqZVYnF0iubEVRTX1UV5aHKXfBKeHB8J90fQAJASUL9yMzQ06iRSdDtnCfHqH/LtOkx00Offl+rmSHQKbkVodjYG3fha/eetSvD2cH1UtzVFXV07ntx7rkxfiytmP4803L8TEv/6X8b3njscTdflR+DD1iztt9QsTMAETMAETMIFHhUBqdTZmL/0x3rmciuniznj21Seiq74yar7l4dzU8nRMffjzeP2/vBs//2Ak5hnNX14uj5ZTL8ePak9ERW1NtJbjm9+Nr7S5FHHj7Xj/l/8Q/+6Xn8XwMsHvJoEdI9dpHivtP46nXyuIx482RV3VIUkIbK1GzHwcZ3//8/j3P3s3Ls6uxtzSchQ2Ho/mH9ZEXlltHG2tYDYGoO+G9X5/ABvLkRp4Kz74x9/E3/5uLKZWeuPF/7Eo8o71RXNZYXA577mK/ar9Vj7bIpGycCWufHgpLgxvReVTr8Tx7pborS+Monvl9K0o/PAKffAJgfQ6mcRP4sPfnI0/fbwUlc/+IJ4hi3Wmg07ibrgq+4acj373afzxo8WoeOY15JyIM51lcVeNlJylT+Lj334abyZytvW5Wzl3o7vL3juBrenYnCXDPVwUmw3PxKvP9UZHU23UVZZEcX4q0qtzMX7hg7hykYzpW5/y2yqN7u93RXXJXWa+711TSzABEzCBZPqsMZiACZhABEHy7LU4+/p/il+8ORfDtc/GbHN7/Og0Mxlrv10fJb+gIEoqKqKUIdcCRmKXJqZidLo41qqPxsTSeqxohiWXSI87jr/yiDhLJbM0KoqY5ZCXinxGrVeX52KSkd6FrfFomlpi9iYJgsNy+cWkuDxKykqjrBCfdGkipkemY3WlLNYmFmKOpEkKGHfF+bbsdMW2r1rOy9uedoAKpNeY4XD+D/H+P/4u/uuF/Cgfr4t/+qOSaK1qiEIyAnc9dnyA2nbQVLmrWPnbUV6/Uv5QNhdjZepqjLy/GbOTAzHy2PE41tcdXZrafaeZAf0yNpa25aRibgo5J48hpye6msqj6k7lJPqw9inRJ4U+1zNyjt6tnG+HmKXuQyBNx5BfEdWdp+MEU7C6T/dEU0VpsiYrH2OrY615K9oqp+PjX1+N4fqWGH+pPUqL86Nsu7/cR6o/MgETMAETMAETMIFvkUAqUuvTcePi53HhgxvR31wWneNr8dyJbzcZoAblFVdGxZEz8fQr6ZhOFce7v/lTzE+vxfraemxoUD9fAf1OWHlnDApKIqr7ou+pl+O1VGscX2YPgYnzMfzFJ/GPH8zHArJXWUOgjZ8PzZFXFFHeFV1PvBQvjm9G2bu/jvWF6bi8xrJWWKTwYTOzo78BIqUsPWh/Mh5/IT/+snIuFjea4thTfdFTVRIVTIt9mFzePPa3WBv7IgYvfhQfny2O4ubRePaZtUgT7zkZ8A38VnJEPPiEQB4qlJ+IE8+lI7+wKN7609vxyeufxHvvnY7v/sVfxKtn+uLJDtZSkcX8ymUvklN2Io4/m468gsJ4+6134mPJeffxeOEnP03kPHVHcvijLSMZsS3nrT8h5zfS53H0+Um88uzRkJzS2+mTA/neX25vxrLdd6oP1R9CnjKO2Y5am7VkN2zhe/oWvtIfzCH5o8mvjqK6k0yz4/oXl0ZVdVkUZfDs4K84cZykwY1o/fkXkZ4cjUmy062wckJgB5FfmIAJ3EcCmf75YXLPvg4cGST+z9qnHRG59ikpQICw8+X2i9wye7+7x/c36XMH8mRP76DYvRXBlmc3YMvVMak7x54ntv2r9Mn6Ddnnba2y52Wfc5VVfbl1Zr/Lfp6cw7LOBEKOnllfgy+S33T2vF3POeVz68jqkX3edc439Car/15xiR7oleh/h+3aJUs/WMHYbnf2x7GrTE6l+7UxEcHo+Sobzc0vxdLCfCyXz8XcPHsiLa3Fan1xFEnDrOykLmr88oMvK8i2J6mfj5P321+rbv235xrlFVVFWc+r8Up7dzS2VEfhtYsxMjwZU5TLp9705kZskCjQxoM6EKnK+T8/0SHzW0i++vKfPCUETsRjr7RF+9O0gU0Ki6/+PD769VycvTIR4wViLW3u5sj5/UivbF+R6CJ9th93I/Key+botMNaeiAYPkkbs41UQqD0SBz9bmtUN7RFb1F/TI3eiOGRgigk45LeIimwkYoNyoMntpLOMKddum630Fd/s19ea0ptFcRW63Px5GuPRdd3NulXi6Kslg21uSz6LSW/91vISj7OvUvXnnZlr3vSxq+SkRGEWtuMcq+ZfocSkPk/83tKPssVmPzQYoOEydL8PH8LC2ySWBLLcySUFhn4Xdtg6QPLfuGi5ieHfgM3ycmV6ddfReDBJwQ0Gl9QGdWtx+N4MYF2Q1d0X70W1wb4Q/nVv4l/+25vtJ5+IV77wXfiic7SqLxla3bLKWs8Et1XrrK5HHJ+/W/i797tid+eeiF+8IMX4nRXaVTfUg6/0IKqqG45FsefL8/ogxzpM/T6/x3/77vd8dvT30UO+nSVfYWcW1Zwd1+ktcPLeIwPjcXA4Eys8oe6TudcUFoXXY/1RjMbz1TRUeexq/7Q8HhcG13iHfsx5JMhrGiKoyfbo4FNW+gH9Lf36B55xZHPbiy19XQHdBDqUG866DzK89ZiGaTFW/nJ+qN9jdlNJ/oDEzABEzCBr0UgjfM2PRGDA6MxvczIIFOQ83COC2vbo6mlJXoa2XE8D4dvaiL6r4/H/MpGZgOy/KIobToSTU1NcaSuOHGav1b9+57EDt84mhskhVPyJr/Su5WzLc+VAIkpv8XFeXe3DHHf+r/iw/WpmLh8Ma6wMe7gBOvKVwgUsG8l1Q1R29zBLLe8qK6qjLzazmhjj5y6sv2MneSvxsrw5bhyZSD6b0zF5AKjvnAvrmyM+raeOHriaHS34T9kHYPUWmwt3ojrQ0wZZzo3S8kjv7o2irSsc+xKDI4vx0Jxc9QffYZBkc2oWBuJi+euoSO7yOdVR0XriTj9RF8c7aoNVLzZ31ibiNGkXfhkEwS8bBC2xeZ5pdVN0djeG8dO9sSRlvIo/wo0X+urpF2jMTg8ESOTOe2KjcgbZeRxYjnmCxuj7hjtat+KqvXRuPj5Vdq7GAt4V+VJu47GsW7axWzDtanrMTk6GkNz64zsbka6sBxO7dHT0RjtDSxRzduMpfHrMTEyGiOLbKbHb4yt0NhZvyZaetqjtbU+qhmlTZzvTfY3mh2M8dmh+OyjC3F1El02teP/TExc+ig+K5+M/P7CZK+jPHy/KEB+RUu0dzVFS2NllML5y6ufZqLteMyMDcfQyFiMjk/H9BzXhl3mN3XdK+r5/XTHscePRS/XiJUImYMZAPmltVFeth4trfzGWGNenATsaXykhZgd+owgfiRGxiZiZoG/3y2WYVY1RkvvY9HLLN4TzUU3L+/VYBVcymuZHk9FW7wvWm2KkVr+1vd1zu7gym5Mx/gXF/HF+bsYy/xdbJJ4KOXvoqGtN44e74nujqqviBHuoI67LbI2FuPXiDOuDcVQ9jddWEm7uUZ9x6Onpyt6aX/mT0wXi997eRmJl9aY42+3UktW5a/ye9icH46Rz/vjk9GxmJyej7kVfjfM3qhqYhPsnr44fbIl6vgZZWRlFVUkvBYLXPOJ4bGYWN6ItSSZyMcK6rf0yCQA4rruNFAb9Uf6opW9KepLswmwrKzsM0mJyS9i4Fp/XLk+FmOzy7FMliK/pCoq6lujI2lXZ3RXK/S+zbE5FdMD1+iDiE/GZ2NmcQ39mHGCrOqWTvr2hmgtXY18+qSiquborOXOFsza1RIa1gAzO3s2rp//JPovj8fQDHaBrigP3a6fr4t3KoZJcGgfMLWPc/LLo7a1PZrbWqKhvIClwrfRzV/fROAAJASkEz9MOqSaNgLwmtZoaW+LrpbP4sP3z8blyaEYPpeKN1anYuQY0/97u+h4a24x/f9LOWXIaW5ri86Ws/HRfnL6kNNeS8d8ExM+4MePPv8/e+8VXFe23vn9D9JBTgc550AE5pyazWaH22pdXY1H8h2XVaqpsas8j9KLq1w19ptd8+oHv/hhPAolja6kmzo3u5kTCBKRABGInHOOB8e/tQ/AZiZAgLfZ7LW7SQLn7P3ttf5r7b3Wl/5fNO0pXJeTmbLenhHY6xuvP2xPodOe58l5luytfsYDvzqlyZ461V9uUPMYATShyUrPL1VgeqqijEHALBTzo5rsu6fGux3q7pvWYli2kkoPKiIjQdEYBEK3etvnnO/zLmtuoFWDIxManDFhTs858YmPnbUsJExRGUVK8cQoKQKMX/o2eULIC39FmAtL66PjSVtXzOK6yqK9uqTZ7nq1gc9cbKo8GamKg8DSkpK8EFT7pUXAIvAaEXA8O69R/g8vms3aQKM6am7rs6vtGjAKBYtGQECIXDElKtx7QO++W6qk8Vp111XrfHWvhs05KFEu3ucBKQdUyjk/O5mvZNxb7m2tGUaxn9NER7O6O7rVPkRZLlMO7aUGAYOiWeiMkhPFpjNLubtKleVhA0qDttWkhwOE/LU5Tfe26EFjraqrIR9r6VTHwIQmsGB7A1B8YhJR5LOVEeNTDBvzwPSjeucIPEkFHoXjYfx+/zuvWartdLfAZl5Xp7p7bWrD0DI8TWiyCLmNTlJCRqGKyspVXl6mXSWEdqew9yKneaD6c1283aW6nlkt+9hsx8QpiLxyXx/K6tCCpt1pSi5pV1umV5GLKLE1LTghUJxdMYrOLNfe4bM6fnSvjuREw89DCTWDGwaOsZ5Wtd1rUM2dOjW2dqtrcMIxdKwGGqUxWUlZhSouq1B5xS6V4+hIRzGIeHQtf4jT1n9YnRvT0J0vdKm6QzVdM06/Ah1DB2HH9KtjaF5TwewXSx7QL2MQ6FOj0y889j76kVmmPUPv6+TxXTqcMafeu5dVfa1WdWPLmjcaSkSKgrNO6ON39igxFkV/uUutVZd040ajWiZXmO+4aAKj5QrN08GPTuqwJ1ZhRJgaRWZpmnl45TPdaG5XVX2zmnumNc5+ZWlmQF03Ptd33TFqhuHfGVs2UT7SIoMislV55pQOHC5XSWywEwKu1XmtjNxT3V32u3UYk3qN53lUoxMzmoHhfwWDgBsl3pNWoKI9h7Vv/x4dqshwninHnuQYxJgbIRjqmEtBQTieZjGiVJ/XlcZ53Sb9tguH0+gURiYf+0n2xakF3L9ijw7sLdeuvESlxbifMAzQ7nXl38nWdWOUMKThW3pgmD8rPAN97XrQxPy5y/wxz0U/xg5y7lddpi1JSsrEgbeL+VxRpvLSfMgY2WuiPL+uY21hVBO9bWptYl9ex767pYM5jcKLEu8l4iIiPk2ZBaXOnK4sK1FJbhLGu1CMQP73RbAbowpYBAUzyRm7xT6MP9fapNoxjKIYBjAuTJJm4XNHKyYlXznFFdp7gLSOMgxu6XGO3uKfE6aaQ4vaqq7r2vV76phmf27yPMx4YoQxXngTpWBSEbwrgYrAuFD4XqyOYNiMQZl+fCwwJkwOaJD3Y1PtHdU13FfTg34NjMPuj0HARVuikzKUie5RXF6hSp7VkiyPUqNxxj0J9MqMZoc79OAe1StqGlTXhFN1gPeAeQetBaFfRSuWiJSUlCRlhi/KR3RvfO4+fXAMI2Uyhi5IERc7b+rurUZdutmonuYONQ9hTFhalau3Gl1oSN6OKKpwGDzX383MBU/pcZUePKYzuxKVEvMMQ9WT7bS/P4bADr1yH5P56r8YKzhWzMSscEJqsKQWlpM3Uqemmjpd/4YH5k6pcg+9ow9OV6gYZT6W1jvhT0/eETnGGpqYbeSkKrWwAjm1THLknK9R4x0sm4fO6BxySpDjWN14Mp56Tz0hJ4UXYE/Lenu+rdG9O5TwQM77pytfLOfJ9m35d6x88yOa6qlXVc2yvJ5ireIdKDabGUeW2Uyg/E71Y62s1a3b41pJ9mHFr2Qx2lnSljVeXmO1X+jyzXpdaF90vAg+k7//FHiPdpKIBapIhESlKv/j/0nvHIzGgrfTBoFH78fPhF+tTJEWMDHFCw0DyXi7mm5VUVpnUAH7Tim3slDJbFhMIJw9LAIWAYuAReB1IODTQk+tWq/9Xr//fau6xxcgEmPVovb2cgAK5IhPnr0Zymu8pvqv/lW/ghF7iE3tCl6tgKAQeROndWwhQmX7MvCKYxDYVhNX0etH1H71N/ry99/qa8pxTSyxtq5v0l8s2mw6XRiYI5W++x298+//oz7ZQ6Rh4k6VhVuASbtFdV//oz7/9ILON+HhnZrXArnFq46Hj807KZVBIcYoghKAUhiUv6Tw+Chl5cQ7tcWdTTmld32T99Xw9b/qqy8v6dsGFMMxvMTkbJua51C7oRwEK7i2SjcvpSmr8oRO/Mm/1Z++W6GcRSIMb36hK98060IrUR2EeXNDR3F1LdMWQnRXXI0Kqq9SdfiagigtN0Ubl5b5nHNdDXVqHvFqaCFcmf+2UqFuCNTIi5/tuKpLv/lMX3xbpdsdRD8QCm/yx40zwXj2TL+Ca67r6kW81/vf0bk//6U+3JupsmQ/+/wLtxYvHjTn26XZEXXf+lJXv2nUty0QlHn9/QpEIQ+gX4v0a5mdQFB9Nf3CK+5b1DT9WnykX00jLkrnrSjzk2X2fVf03e8u6tbYAkRwc1qNLlDI7gQiHAp0pChIoVNNun/7or767U01MZdnl4lEccVLkQelApS7/cXKYO8R5kK5nupQ48XP9c3NVt3omtT0JMaVFcjl1obUW3tJE80o8g+5r4y3N1Su4AwNhScrJLtIWVhNTE64qFAw3/SVLtKuX11uw6i2oPlF4xBhzM38MUqhqXdfd1tVt5tV0zSopf/5T3UCr3P2hsGBJ8HxJrOfCwoiknK8VXd//TdqpgqYiz4sGk4BJ6KGsWZeNNy9qds3ynXr1L/Rn/7RUb13AN6mUPZUzxsw5h9NcdS3TQybc4pveUoL3Td0/bPP9fnXN3SLdINBPNbmuXD6xTPpzOeaG7p2KUs5u0/o3J/9Uh8cyNfutKfTRjd73+efZ94Dsxq9f0lV33yuX31dq4ZOjG3gvcS4EfEP1nj9g0NUX3VZ19JKlHf05/rk4+N673C+0hkvY9T0GSzQ28170LswqYW63+rb1gDdoiLWwgKRPMha5QHxkQodGHRXtdU8H7dO6r0/+SP97P3D2pMSplgDNNEvGmlQS/V3+uLTarUZg4BjTH10EJDDzZYXiaDNPaDjuSeVlZmmIg+PN01wznRKIvaq89YXuvD5l/rsJsaOfox280v0iTnkvP541wXXQMp9WR6MZMXv/bl+8cEhndubrjgm6ffONapUUMay6fJn+odfX1ZVMxEdE2bMDD7oIxgaGTQF3a9XCISTbhcG4OgD6GSrGFEwemIQCIYLbqr5qu58d1m/v9yhkXHKcZoIJ5NPMUB/p9rUfw/DwsZAYdT18Q6K6vapNyBbZRnRSsAi9KrBKBtif2r/vlkGgQ30gwhxJ3wkKZwwtPBYeRIzlZZPWE4n0QL3fqv/1nJb6SV7sJjt1p68GMW7jd3tGUegX04icsIjOI/ww9S8dkKOkNP0W/2qteqhnN253AeW1ZfLIeQmIfOhnP6m3+lX6+3Z47TnBXKe0cSXfsTLRSFYY8tO6fhKGA/T73QTz0bXkNlUsVjwNdlZLDYBWpqa0ljvnCLK34FL4YjOHStQdkzYjkUHmLa6IIuJzipX0XK0llOXeGlt7gXvYxEODo8HN2raEmr0uGXypShs+YQ17yKL6QXdqqrRt/VsiroI4VtLUVj+O/rvjpTrWGkCZJVsRrYs2V5gEbAIWAR2BoFn5gHvjOg3RIpLbtIB00tQ/lFyx68Na2AQLy0bwrWoYs35SLsLi1BCZLCTzjU9Nkz02YKW8RyHZlQSJluCx5hot1DWum33yCyWKNUuTACGTX0O5ct435H7zHX/sfuZHXEAiq9bHgoRBaCEGa/by697TMjzf5kd03TdNyg1F/Xl3W51CuV4b7F2FeIYgQ05AI/b9ABeyOY6NbQM4tWmPWu9GjAeYLQso1uYY3G8TS2f/Z1+/5uv9VlVr9rmYpVcsFd7i3KVmxxBKD+K4nCnevBs1nbiUb6IR3oSdTj4L/RuebTiCver5MGk2vvv6W73LGHLQYpMyVUe1Z+ORwxpdaRdV2r7SCsgzDeaKLvi0zqZA0HaXJeqrrNJr61RQ2qR2j4oInwejDtv6Pzf/oN+d/6arrZNashFSmjxfh0szFBGHF5SL6kDve1qratVc+8dVbHpn1ohpz3gQ0WeKlEGMfFGgdrOEcIeMqV0n0rax9TW1+j0a3KO0mtJOcrbf1rHoka0RhjylRpC7fsW5YpOUWzRSR3LpcTZfLeqr7eqr/au6lJS1frePkXklaly35AWm5pUjWLdOUpY/zj5/gs4a4h8USRk2Dih9h2YlXvEpB8Qfk1O/jQM+9NwAiwZT7/TIfanEanKqdinSm+k5sI71d3crE6cJ4tu9qso/OlxkYozod3mivUIgcAIlN1ijGjxpNQYY4A5SIcMCccDjaIe4sbJFV+sQtqbnppI1EIYESQLmhlo1/0b11Xbc0uNVSH6Zv8RJUfHENpOGoyzj/SLMn+7qMy0ukBFgI5ZBSfks2+r0OFSolPiiVQhdH+y5x6eceMBvqabU3OkrJNKQfTMzyvilMyzvDPHhGZ6b+vCP/43/e6ry7rcPKK+tTSlFVRqT3GWskg1ClvzPxfttTj8BqgyhrFpajmKBI2PFPVehbKpr/fcjJpXaeTyjJY6vtLVL3+rf/rNVV29hzIfi14BUWB5Xip4osAvjRGte1+NDXjFm65rDIfUEgr3nCtCf7Y/SekxzJH1YXMxbj6U+qXRTg0EexSTnKddB3epMNOjxDAMQ1O96misV0v7fT24Pa3fovTOLPFM/mI3TshoRTLeuNaVgbNy374VRU5ggCJCwCHco38BgT4tz09otO2+OonwGRtl7EgrMGlb/jnoB2F1nmiQC/+EofRL/ebiPdX0rCo4JU/Zh4tVmk1kSRjTb5b0iPZa1TcTvVI3TbQI5zDuQVEf6GxelBJMLUNTWnGKKm0XP9O//NMX+voWRPEByYrKOaLDxZnKIM0lKhhjCFW/Rtoa9KCZ6IqBaTDq4X4DGsUYMscLOT44TJFZZSqoWNSBqXD1dDSpuXNZvTNYx3CGppCekwXhvD8twPTF7ORDlbh7l3YXJio2HGPANt8brzI9fuzXvJkGAYOqsWaSBx+dnKtwQuWSs3OV1XxTtTeu6vOL36DUD6l/nuJxEXsda9DDfKgnR2RDThJyyFUzcrI35Fw6r47OIfXNBcgdvg+OghjFPrTGPiHooRxertHkTxk592+p7sYV2oMc8iN751i8IvapIoPohefJeULsy39lopN7Fp1eqlJ3pMJWp+W+O6SG2R618cJJDMFTEDOj0ZpmtQ0BWwaL7bGzOrCnVAcxckSFGUKanTsCMAhEZe1WcVy+kkyZlI2dyEtvYTwBhAEmxClmx9MFnnVzNmu0NZjNZmQUYVfRGDCWg3lBEuaH1XOe0CMfESD2sAhYBCwCPxQCb3/KAPmxCQXK3H1G782bkOTLirlFmG0XiuDyKGW3mtV48yqK4wMnXHqaHNNVt0fxeWz6j72jEyeO6OSeLGpnE2687Q2e0XoilZC/V5WnXVrIndW0EyHwcH/+gmlgts+G7xoFu7CSXPMIcnB30CCwRG57P5t2DNet8AAteNwKT8hQVjFVc1KiFBWEd22yQEO5CYqNvKmInmBNpZLvTSWdEJQKPzSDpENU69LXF3WxCqPCQryS9qDIg+HR3YRUp0auGwTa1VmXpNjzl3WzgdSC29/oPPeJijmpPyk8oQMQnQ32dOlezyQhy+mKyTuiUx98pHeiG9hnzKmxsUcDXlIVE8p04OzH+qRyhjz3KxqqbSNMfVBjfYMaxus+PfRAE3i5v/kO720zhofwPJUeO6fTx/frUFm2soxySTrkBMplc368zn97U7daW9Ry9Std2ZWtVPKv43OIMjBej20cQTgiknCoHOglFLunW009U1oj9SE675BOfPCxzsQ2abJ+TvecfoUT7l2qfe/Srz1zCum5rtG6NgwF/RrtxVi1HK+KXcd0hH1PbPisxof7CV8nQgLPyKqXPYXZbcEkbzzVp0OilTtUJzcpCxPwMkw5Xl+/l9zfHVw5kanKJiriZGqeopJv6xZ55FPjqxqPJJ967xkdKUxWAaGwJr3AhdnHR550YHia8iuylc/n7g2tJ5j69Wm7VX7Yq5kw2urFERQdp/h4/uAUCg9Z0WzYmlYe3FU7z1rXIBGTxtu+O1erYOxXrB4BeQ0iOrzTaxE5GCxO6Oip4xBz5ysvEU4ADAITXXXUgf9Gl6/VqApDzu1LeYqMz9aezL2KRBkj6GD7xwTKZANRLt+RotswrsHgLBUcf08njh/QERjzczEIhPswCKB8txQkOOfdIDT9wc2vdbUoU+kFOfBdRCkUi8C2Xx3rvVma7VPbtW919cJ13WwhoiN2l0oPH+M9xb67OF1pZqwwCIx3N6og6YKuXburm0Tt1lzKJLUhS/tyjygGg4DzLnMaZTzbZA14CeHPK1fF0dN67ySpAflJSglnTk3yHOcn6NaVq/r6Zrf6iE65FhavSt6J0expCyIJ149EF6k8znxLV+HMir9MJBEh5r8gxn1msFX1872aJrVnBIJIr+EVeGx0pjQ31KjbF77Txcv1ahjAecczv+8YMo/tViXpIEkRGARIYxlqLVTehQuMe6Nqu26q6lo+lb2KVOopVHR4hIIxmEzdu6I7Vy/p0l3eLd40pVfwvJw+puNmzJJ5lwVjhMUgMFoXreowUo9HcWRiVJqbJYqA58hEWSiYeZaxW7uOJTAH09R1cxZ+jHGNsId3pRIhjtHk9K4EhWMQM1EATtQBKQNx2SXKKvQoLsIaBB4b4k3+8uYaBDY6YPLCw2IUGRqu7EImxTQW16paXe1tUl1NrvYQfpWWgMIHE80LH/pH5GQVzWplBjm3a2FTbVJ9bY5270NOYszW5JDz57QHOf1GTo2RU6L0BPgQeIBe2J6N/m3mX5NLCVFJdHK+St/7pcI93yn5JvmWl65C/nFf8/nLuvW7ao2FZCnj3Fm9sz+fxZ++bH8H9XTreNEERsYrJjRG4U4c0dOnPOsTZzvlhFKZHLUdxOZZN+MzF8aHaDY3+1P2KOco9W4nutRRe1v1TfW6cz2NMCy3Uk9nKz6E+fUcGfZji4BFwCLwuhB4+40B68iFpyqhKEYnEovgAGLTSjjnP/zrVdUM9mio/lP98/97T9Gj7RrvGYPELVaJ5ed05P2P9MtPjrAZxcsZi5JGyZjt29jNihylxNITOkxJrkKTg+yE429GsfcbBIzC544g/zWR9RjX9Y6t8bQswJC7Ec5vvMEuQsAnUTZ7u6PxghIt6YE4LZE8+8xUhQVHKrVrRYPp+7UrCz4ANsXOGjbWpOGmG7pwp1P3RomurDilj//iL/WzA4UYMKIVRTg3Kp7WVkpVtqcSUrAAefQ7/f3tB6qtuqP0nBL94s/Jwy69C2/TDf36NiRlcZx34H3qfh/T4cBV1eP9iwuF1Jgw+eSSE/roZyf1blGfxq51osBACAZJ3hrh5cYLPtbeoI7qa6QJDKtzEWWp/Jg++MXHOl2RQ7hyBEoqewlIk9PSyCMm7SFgYUYLw5d1ZbhKd+4cU0YxXASQKMa64ZvYxkPoCiGnO3u/ykqr1dNg+kXaYHK5Mk2/zh7TUXT4ptlaxYebfuUpqZh+fXRK75UMaqqqR+cxuph+efFeLqxFKKaQUP3oYKUv1anq7j1dGwnUkpNyajyVQfAFxCu56KDiUpNUNhqs0dp63bttoiP888XfF/98MuTQnuLDiqXMtgem6/mb3+KBndZsBJ5kUlOOEOV5NN04dUxiC4oPe0Hj6Ag3bSJyYMMeYAj8ApJM6UCcUSltam7pVO8QefY4zoZIAQh0h0KfQfg97cO3BafSgiaILpmH5NOErvtb8z3IPvZ2gWEJiqr4RGf/5AP92fuVKLhR7Ptw1PkwTu0yabIRyopd0fg/kNN9D89xUqGa3ycVk/PCGNvt2gTmuzGQMX+q2/r1YJ5Q8vLDOvvzn+ndfQUq4R6RzjuBcHby0LNy4xVEOuvS8Hld6LnDnv6Q0ncd1GHSThLC3NuaP9+jQlrGxH1VXb6ju7UY3whNzz333+uPf3Zcf3SAKAEIFMNpk2uNFJSyvSrHeFeQhEf//7uq262kGl/LVf2HpRAEEiXLmBjMGQiMPDB8RZdp9+lP9G9++TOdKUomegaDDt5938ouVZbyzuT5WJn4e6KHqADRcE3Xm84pNy1FWTxzoRBiphLZE5O+S0uMm99JZ2YLDsqwBTzxNxVU952a72OYMvN0fR4+7NdiD/xat3X9Tpvq2in/TuRW5ZlP9O67B/VeWbISo0JoC2d7eRdn5cgTQuTMEpFe5yF/b6zDWFGjjw6lKBOC0tAFyihW4SitbVLnPEbcyo916ufv65cfVKggkfmDYRfqBOYcWn/KqpJCRlTTDMeHL0IRYWEYuEhLIPzfhbMuIA4Dwp58xXkSlbd4W61Ez1SP8nkK3BUHSB1/J1uxPANATiqK6RdpC6HIQE6oGYeHHbQ/bBaBH4cuRD5VX9VFXb/RoOrWMc2mYu09WKj8MqxXaYRU8ULf1OCvDav/9gW/nBbkpJzUfhbLPF5uu2EnjQeNzcmBfMfIIY/+Ng/ZbDJy9hs5FdqTEbX59mx2lDbO4yEJjoGsZM8ZLMseBZw/r6or3+n/Oc+CV2z6ckAn98Igmwh3wuswBtCOtRXCjurPq6G1R/eGV9hQPb2YbDT3+38JaeRFFRwWh8firMoKMlSSwCK1KbC/l7KVn0xplBDIZjxRiYRh8dJdTid8Ll5pWbX6/We1GqkL1u2SNBaMQF5wW5Fsz7UIWAQsAjuDwNufMgBOJg8WVukovIvu/R875HhJaQn6x19d1XVYtR9UD8s7PYnzPkPxx/5Yf/zJu/rwJGsyXjJPJBteFoqdWypWtUB4bm9rmxr7yK1fz2XfzGiasVoLRIHLwNN9gLDkEOOh3cyVmziH9Tyi/JT2VRAp0X5DVyAsa6maRKGr050Ywmwj8O5HEkbL5ty74CKMv1RFu4uVw5oWQxuM8uXr79ZAGyR/8DTMJe5XAV7qd/cVqTIHDx+s2yZNz8HRbJgjwrX/2EFNDLTqUnMVIcKdhAN3o0yUwDbPfVD8HDIyyL/CYoiIjIMVfI0QbdIznTJfeKTdOAZScKLExxI2bSIRiVQIQMsxqs6aa0Vj/TCvd3ZD/rYkL8SCk11VuvyrGXV8G8H+5JH2UMXAC9dAN574VkLvFxbmHdLHtpZeLR5PxPuHQWC7EyAIhQN2d3+/wIt+OZGncTiTXOH0y6SSACKOF7O3Sjb9ipvRCsqkv19+T+4a+c8BaEcRkBJiYcGogYL+VNtQavg8LDYeYw5jhxIU/KQStjElwCyQtgSCWRwYRzKhDL4BJh0URviY+AQlJNAG15p/jM0IIsuMzWP3hc9hdbhejVev6OJVCCnbSZPE8zqFwr9EeDgNYmzIdZkj332CagRx/MEba1joHcV0oz3r/3q9RN+SElJ09Lh274VrKzOJPHGjfPk76w4lQmT/AcokdqnyQot66wfguGpT+/CcyrLXlG6CxuVFAABAAElEQVTG9wmZW/11cnBAvQ+6NEqaxQrEgjP9d3X9N4vqu4pBDpwezmfmz9rKpHrvNUNCjqeZ6hXT3d1qaenRwslkPPAkG223MabxvmHSbdrU1AEnxRRlrrPLdfj0Ph2gFHkO0TdhvKf8e1rec2EYDHcf1OLcoA5cukcFgiHN9LWQlz+nfdMSFF/OxtkH4WSAm7lZdBgj3T5SWUmpIT4/ipANB2kMOYraq4K5eZ2s/E4PugdVRXRw64MR9VfOaSUDThEsPEFhvF+NnIeDaa6mPYFz8sWTWsCcJV3/8cM/lIT4j2i+F+V+dFZjkGQuGDLJG7/TlwM31QwRYgid8g87cwUD3jzOz95WjIVzcIiZChn3qfwwdUqVmlfcIik0zL3+AZ754HQVHThINAN8AxnMH5T3kPX54zQkC2LWfWd0+ui4AgrSFVSKkRZOFBNd7QwXhhJjPIiJi9d8JAYwSAqM0dRFpHS4iX5JMKkM9ItzDDeF6a9j7OAeG117vMP2t5ch8AYbBLBkTw9ouA/Pbgc5ZvcpnzNIPdMo8tkqsL7BRFucnag4FknmxAsOFidCXYycTkdOi9oHIEiJylFuOekGpXkqceSwKLwQjUflPKA9MLkOvoqcFzR1U1+xUMSyKcGCGEhpmqkh8ggX40TkmbyEqMWbHJ3tJ1s+vyW8EFZnWNyHe9XTzYt6swYBFqWQSPLzIEKaMwvUa39keSngbTHRCEEQvFDrRWGm2gK5qD2X7qhpokP1fcsqhRnX85qMJ88H0X5jEbAIWAT8CPwkjAK87wNQSkLjMyiZNqhJ4210492jtvTY5IwfCN7V4axhcSkYb/GEG5boFy7JW55AZrGa1GATZGjfEMreRhg7Jf2gGtzEamS8VoFa9cUro/KYZhJzFIE3KjoGBXHL7XjGBeSMu3MP6+DZcbbV8Yqr71HfBBwHi3OaH5vSzDDthH1+lbVzLZTUx2IYtil1NkSFgel0wo3ZAa9ME/o7Rmi6Ie+KT6ZKUo7yU2KUEPEk8aEZCxSWjDRls/eJQVlYg3x3YWICBZFsXDbUgU4agllDMeawfoaYhdSLksJ9nM02Rh5DLBcCS3owMbuO8YBvzHfGIGDC2+cNRwNl75ZNJKEpPUmefuPVHrUgH83C+ePkOjsyIT3j/MV5NvfIMAaiybEJeQ1J0Q4dAUb5ZrAcpYF+BdAvt+kX3kVHwTb3QblyQXLoRnsKWu+Xv0/fzxHnd1MlwHxv+uIcG//yy8b2hvmOIPL6/crrMzXv9asNvVsgJZJoooOhYYgPcLAHXycChHY+94AXYuieGi58oa8+JcSeCJGeRRj/USbDw4mucQicKf1HeswS+PpvwL+mnc9sFHOM0nDBGCpS83KUmkJJRqN4mdPXD+edFZOupNwccuJ5DrzTmpwe19gcufLLXM95GzBsXLO1fyEjhbBxZoqcfVzeLh/ef/Zs968P6AEKqsuQyDn/rc85DCYrnL8wRzlRbuSdoT0jY1qFGNLp5tZu/uyzV4gsJv1jbAo+hiVSNCj/mJ0Lvxdh8JFPvKgcfOCHSMjJJo0AB53wzs+BjyGZhAeQqtf+A4OMi/D4ELgDUuB8yDalCNmPPpxNjtWH6B6qA+SlxyopBmSHZzRuiEJnMaSZVxoddOY0yvLTs4T5x1w2pQ0fynykd85nPHSrMxiPSPOh7gY8hZMaa7mpms4gNdJOJ5JtYzBNe3AKLi9yf+xL8oLJxKjGINycg7crcnmayBOqpfBKd8HdlpyVSb9Ic2L+PLXNDk5WbPZBHfvQq6SFRLnSdqnYRF75rSoPW2mei41n0XzoVJ9hbx8czB+eDdOHp/v98HL7wxYQeGIab+HK13oqtVvnILBovKgrF27pWuOY5pMrlAdxxweww+cSipUch5WZSbbxXD27OSyM88MaQs7Vi1W61jCquaRy5BzR+5VFWPUoTeHI4UX8bAHrn/rlDN+7pCsXaU+9kVOm3DKI+3ab9hg5TGQsCi+W88KbbPpL72iHBtvxHPRiPUzK18FEN0YOiG/up6utlFKEhEmZckiv43CxYEZAMpSx4NZcDFbphy+kF92NBcKQChIhkExERwIL1GPW7RdduqPfxSjCg3eHkkl9bFTah1Y0n0cHou3rZEdhtsIsAhaBTSPwk0kdMDvXZfJQIYiqvk5JYcrjTqFYhuB5XFtZJooLVuv7N1RbX6S87GSlhifKQy7ozm1SUC59kFl1Ularukp3H1AxhxrtJhj75aul2RFDKrgcoREfaQ1n5rU7a015GAR25EC8z0c6Q/lZnfTsUtkpHCFdPerpI+QbxXhiEmVimD1RP943Qxx4ewlDSojiCMP1kDZQEcWm2Ci8KJ9m8y9ywL3LkJWtEMUHceP3DOCPtBbW+GVTOcCkTTjpCutlAo2yZcZq/TA/m/+M5mE+dr4xgPGLU+fc+dx/jvnOmAOM1uls5DEYBDjKrVGeMShwgvOt0XwfO+BxwiPujsBQxOfz7Kdi4WgwCvxOHU4/nMYj0bQZZcwYQMzh9G/9J/Odw2BvznnkG+frjb+4zlzKKevH9xI2PjHh4JALkB/OfZzzTM+fd+B9Nd565zzzl5FvPvPf5/EJyr2ctq0baBY6YL2/oN/+8xf6/MYDtS+iVOaVUPKuiHKAlHSM4hkTHAJwOnTfJbIVssCuh015+MPTDeMro3gbjIziaby1j59t2sYnNNc8QY5Saq4xf5Bm/mznCMQgYsryOfOH+RKAEWZDriHje1w+3meIw0PCmT/Gi42nOQ6SO1NC8fHzttEi5rHZ/zrPGWwiPvLxV8zzQ9L7Kka1p99TVGXgGVzGqOUlssR/LW8RGvT9/veR1pkxdeYA+9FHPjYtNnn/zsGF5j+/AcvftydO9Z/38G//HPLPq4cfPv6D8bqbCiZgGmh+Rr32G844zdzPuecjl1CyMDTEcFSsaXHRoySMGG4zHv5p65zov4aWmfmznsbge6pboQqOzlHJ8WhleoPlC+GZjyCS5ZFbmR+d59RgY+Sb381zwR//u4e2PgKA894y567jxD/22AICT8/hLVz8Wk6dpV7t7Ru6UdWgRkq9eEPTlXnyGDlC1N/MpQYmIXLRhnEYy9CTE+ex9sxRexc5N281qIHSRt7QVGVArmPk5OVA1mPkoMC7ecttVk4jclZCU5BzmFI/EKyQD5kFsU804XVu4lZeKOexxr3qL2xeei9g3KjWd3cmpF3v6FhhkvLiFjRQX637vTf02d9MaO4XH2p/IYz+j5p0X/WWT1znwuodllqsXBPeiXfFLAjmQX3xg2ceZsaLvP3wuBhFvYzv4Yl7vvRX86LY5INvQvlWsGZ6sRzj8DGGeHtYBCwCFgGLwGtFgA3tZL2qz3+hb788r/PXIROcgsS34qDOHilSzGCN+lvaVN3bqJrf/61Wxgc08uFH+tlxlBrPc6r/bLm95oXvISf+rM4oUVE9EJJhENi0D5pFzheAly6/UnsLY5ROZZ+dWT58hCLfV+u3v9HXDcsQyuVpz7tHtZua2ie885qZxfNJCblFap/PjTfr8j//ThevtKvlPjwMTcdUtH+/CvODyVlPVnxmujxBrerqraNsXa6+rism1SBaxeSnP3Z4e9R+p0ZXrzZpAEIvCAoUkQZBMUqVO5QwZJODa9ZUQtdNqcNw9lxafKS/LJ7Gwx5GSH2I8Uxyrn8J5jq8dyGETKenpxC9kEBaxSQeUaI5Cw/qw09OOaTLyRC9OZt3p1EoHY4yQsTIEukOMMUvU5c8o6BECTDkv3hv8VivXvhLMFwEoSaU3Qhc71eY6dfq9/0yOfoBwXAhbPQLiaZfhsXc9MsNk7+TYcjABzgaitnbGKWZ8/g+yISyb7TCt6DJzj6NEOExhVK0aqIK8Nq7HdkbJz3xr5G5ofxRJSso5BlkmosD6u+EuG4pVJE5OUoYpLpD/S3SV4m+WIMXae8p/cW/ew/ixhyY2E24OAaBZQgRG6/oQv9t3aMDLlzUAXim3US5oIOttzmciAL6h1EpJAgm+pkRtVbXq6ssTTNUu8D99Pgx3gkHSK3uj05rAG6OcNIzU4i4jAEDnrSnjwhIAM13BlAHZ8LASYUhkvwZh4to1zjmUCKRu2PywssQCw/EuU/e0Z4ccuYNa6GDv7n0+/mztrKoOebzUnS+knNLlQpXhVHAd+QIZi7HZykzgXr3YYPqHm3QlW/rlEPEbtY+OA6euIm3l/J4Vy5T1WJUXVTOCIqizCeRUSmU+4vAsBhuxoX56INQdKHtDmSPZbo/XaTD7I8fx29SKyP1qmmlLOgAzwhk6wkppJPwbDgGs230z9k6E5IfmpauVFJbIogCWo3JVO7ZP4LMNY9UalJokG+GyJxrNswB5qbwJKxSNWNmiUil+FxVFsADAo+FKwT+DFIeYqJWtTQzrFY4NjohCJ0uyhDdeuJAFnMteBYiyAZSDWYilLbvoPLTPUqjssqGom/u639XYAjgvzUsC4FGD8EIs3GOXzARDsOkTQ1Pazo8XQnxMUpmPhpDlj02h8AbYBAwww1Zy/iwRno71dEOy2wLLKhDENNE5SubvJLKimIVJMcqgdAkk0fy7MPIIf9lAjk9nep8gJz7D9RJWP9SNBUKSiq0u7IEOYTQwUC4KTm0p9O0x8ihZMdiVB5yyh05+bQn8YVynt3KV/50bVZz/c1quFmnOkL1Fykrs+fQIe0mDz4rdE6FsS6F37qnO23taq66TX3dCgWUpFKuybwud/DgRR7Miz8+AoZjFkHnJbFZ8eZlYiyJvKF3tk2U6ZkYIkRsWFMhybDdepRiyr882S4frNbtt3WnL0jj0fHKSaLU1WuKpHjy1vZ3i4BFwCLw00OAqi6UEhzradKDxmv6+tOvdZHogHuDC5pmPd1ddEynPjmhjI5gNbpG1db9gJLA1zVL+Pg0ZdyWJ/drmDz4POpmJ6G5vDit72XosjN0EcZaclj7iRRLo478At69dd/byy7mWtatYHJ14xKUQqRb7I6xly9S871D9y5iLLk+q77YCo3B2L1YkqEimNTdbpNb7iO3f01u2P3hvmPLRK40qXvTMHPPLmHUWEOxTSoilWCvDuTXaaAGwsYGShj+PlFB07s1DFFZfDiOC5L8V8kjn+qt0ZXPLumr2/0aWPYocxecBMUe8tCb1MR+p6F7mrrhJm2zR2Nd91TVkKCIGBSX9TU/EE6AGZjqa6pblHEAxQBnuNcJvZ9lvLshfm5Urocc+jxDJtavkT7aaDzlsOSHx+K1TiIPGKODKQG5hqd12XhSF9jIUw5yHu+fYwXAG7sThynrtkibutlXmn7NwRuxNtMHE/w93W6gJFo8ZIbc0kSKBK7ACYWCXXunRVmBEKyRomEMRoEu+k6+dMvtehWEwxQf5oO9nsgLjCXBhJIvQIrZ2dqgqlqfUkmFCSR0eqynEYK1GxDKkW9NBIyX/ccA5d+aIcNOL0WxJIXRVGrzH6YCEoYIk6cfgjI1N8pzQCm9xCUlTDEH8PD7vDxL5HuP9d5X070+jbpSlHzy5zruxVA0OaaRKebCiuFEIm0U3okIZAXQtlnyzxfGOtjLkidOyc8pKsOtiv708xzWROqa25SDY257B3Ci0eYRQr6JCliizFx3FYz9aT7FeqksxZiZ0G/DRbBCuupQzVe6/nWV6voI50+sUH5puQo9kew5URYZy9FuMJ5BQSc61MfeL6SrlpKZpLSQ4y+e9dm+ejiwQjUF4WUoe8I1H6UgE1IVn0S/iNqMyihUVsUelVzso6IYijDzxwuTvJuqY4lU3ohAmTbVF3xe46knGmZxRrNTVJAyHmQDKgYYM4/Mzzuz3+QZgE1/L3xhtRCg9vW0qP7bz/V1yLwCJstUCD4m/SaAObw8O6DOm5/rylc3VN01p8WEcpVWVGpXAvkCfZ1q7KjR/fvD6p2CVd9E8vRCzHg9VZ8m+DTHvn2DVHBtle+GMbrc+kbf8ky3z6O8F+xSRUGiMokMfooXwD+ZNvf3BjCR6YrMpGwhukRrz6wazPuEMXORxhSVmKpEw+NiQvOJvPAyj5chDV2YJbprwRjDeG7Mvh6AHcLV8CTllxcrr7ZD1XfhObhzXtcgTIhfY/6QWhHHy8vk/JunzRBbzo52q4dKJFduEBG1nKpdodkKjMDoGgmOyDTjZnQGN+SJxqAnDD6Lgy3qJBr6TuY8awLPC7KW5nmGJ/rUdb8Zo8m8RuMP69ChCjjVMuC+MPNkc5D81M/amTfutlA0b+JxDTdDGvjNFZ1vZeKlFFFW4pzeLaZ8C2QUCbGGUdSEybzoRn45I82XdI1yOudbOZcFsuTQWeRkbVnO6P1LtMcvxwd7aonxKpRgOUtPVoIhf3lpe17U1q1+t0ZZpltqvvaV/uESK29GBbmGkAjCPmpq+ZIZr/DCozqEhToi6Dp1RD/VUD+LROCHOpWHlYwcwh09jHWXly2OgTfk8FGvtlFNly7ornu/UksrKXGSqQRMz2ahwabI2rCsyZZbzqbr0gi5S5lFOpftdjZ1b0gnbDMsAhYBi8BbhABrsm9agzWfsTH+Ur+nVFVdK0RzEH/Nr+H1T4AQj3LAuYUY6kPqNd9MmVwMtAFTkOl13lHt7IhGmu/o3pn39eG//YVOki+fHcX+YFsIGQ6eNCVHJSk+gw3uQy/j5oQ6Yb/ktAabyMLtNeSRG6JAwM492Es6BeXt7rcPaXS8R/eLClSQnYLX1fAkEZaMgjZGib7aWviQlvEOxmRAfkcZxGiqDJhNdmixUoqPw75dpZ6Zu7r0oEF1v4UnoalENwqylZdMCV4U27nRHjbUzY7jpXvCLV/SIR07eVjHS4I01/hrfce+53fVg/ArkHYwcEcdNyP1N1ERCjs6osBVojZR/IMX2p1UzH/+e5SgEPZoS9Q7RzkIDkBh7azSV/+VUsl/fljF+Sd1srxZ08t9utd3R1d+Pa3+RqI0s5Ix2qPcBfiVxynykEeHSIkYpqTdLCmjeR/ryNlo7cujTDFKxHaiBFZnkHvrV/ri60v67e0BSA7p11KNOqsi9DcozqFHxhRuDBrMrGDC70eaLupf/h6yQXKcU/HWr5j+BoziaKrWN3+DQuZCGT2SqHIPymsCfA6BoyjXN1T1LYrpSI3Sg+cp40aJuC6U8D6I8QbokzE8rVH+7buvcUYFK+ovfqEQSgpmmxLMzkwgfDoE0uWUOCV4UHGGetR8/p/0+VCOuvHShq6hdE/j7BrsUyfEcgPI9CXvVl7IPmWVkjoSS3oNoZfRU0OafnBTF79a0QCKdqwz3ijUPX1wPvVRFpIUlFn0qgAU87p/1WfTkEk25ghuPI3Q3noiaptax9WP0cDrndJ8x3e69C+96qtnD5yfquRYeCMofT0zCBloc5PuUwGge56qFwcg1zt9WCWQMSYFwx3RV6Mb//Rryk32qX2atAl6GTjXrwlw6Z82yeftGrn7a/3XqcuUqzOptlRnANcsDByH331PH5WiFGaUKWM/+/e9TRrFi1yDYnzj0zkN3SdaODsVVn+eiwCe4UUMSc78gTAR3gBjhFjKOqfdp6Ig1IxX/I6RaoUqgnLbB987rXu9k2ofa1RH85c6P9kKMWqhSg0+MaQ5LJHe0w1XWUurWrsw7MDxlX7sqI6e3a/yKObR1c90+YsLqq5vVn0PbcUgptVOym3+VnMDTWrela8cIgDiYPNf45kf7LivtvtUjujE4JF0TKX7T+tEaZIKPH7levuvIdKM0/br9Lt71TFCtMftUQ3d+lzfDhNp1JCjvFQqVzBGQXAELM5MamLUPKcjGibyZXwpQ0mlJxVYlEV1ixjlRiQo/+hJ7b3fT2lZysT3XtS1f4XEtZ6ypzmMGaU0otmXB6wha5LypJAZtmKoa++e01pipXRiRnuM8ccYK9aPANIZohOT5eFZi3J1aLb9kqq+HuMZgZ8h0hjxiPSiTf2UbO3rJ7JsOUqLGQiI8WjXrhTWFDO7to/SRnve5n9/eIOAsQYvjkOeE6T5cFP/NVOJ2SwYuVmEO5GXbyxKxIW8dDgfygnUQniJ9r2zISfzoRyTT+R/+b5gSI0cHmh/e0q0FzkJpj3UxM02hBe0Z1NyXnCLrXzlXZpiMftHnf/iU/36WyyqfYTAJLKpolZt0H/4WO44yn2YXLWRO7p/42v9t19TtqdmQDNXqOnbWK+WP/tLvU9Fhn0pvJBfCuJWWvYmnRtAVAC1htNjpDu8gGqp//prIjiSIMOJJvzRh0VzpFeDwxMaWwpX/MHjOnQUi2UsBpQ3xqjxJuFp22IRsAi8bgQ2QqZNvuXbeZhd3Rw1yxso8Xtd11DG+lA0/AeVXybnNIvSucaGL8AwhS/NEB4/D6kexyrfDaK0UjvbS3pa7js/I2ffyNsBrDBoO7n27H42xsDfppf//XrGitDwIIjZUA6DMYgsT7Dpxnh9h/rqzVF4e6nrbljmvRB5LUzBJ7AKo3n2IZ04+cd679Au7U4IXo+cIISccor7fv6X+vMwlNXvbuhaHdGW1b3qukcVJVjxg1kLDXnfBG5iH7im7j+MAvaRPnkfZSW8T9M37qih4Z7utuL1N3Ass2m/X6trCQd0LndJybDSzc7OaA4voq+7UVWBeTpxlv1ZJN6+WaIDSHGYJ62h4WqcSo4eUh6pD+/8DyuKTCdN5GqtqtspKYjnvDGKSAvDvo8a7jVePxMRMjOvxVW8edHULi8gGiSSUnomonCbQ762hMKIgamhkQhKUzveGeZB8u5rdd1zQGezvcpa9rd/jpzwNYwuVTfydexdxsOz6O+v6ReKX+N1j3IPn9a+fbnalXFCB44QGdA5qH+51aH2m2MauM94BRCpilK6grEpFJZ2U9rS8An4VlGiKNNWS4j1gZ99oIosvKSPbEDC4zJU9u77Otw/r55v4blo/E5XuyPViIc2mOdjZZ7oBio2zKwSah+XpYKMUlXke5Ra4qESwZI+OTOg5fONutt3Wze+7FIj88bNdcuknCyRMhsWFktpbUgrF3i2zHPWfVfNg9StnxrFq+/Tg7pW3b5J+gHhHuyCOQKICnFpaaxFzUOtlG1m3pmQ/zWiZWeM4YbNU3SO8s+d0dmPP9D7J+CWYr8VAIHe0lS32quv6MYtoi1GaTteZKwwkGIaw4s5YN2nJOK1PpO7bp5DU2chVqVRZYotO6Z3CiDFiCASNe+w3v0lM9HzjeKv3FFV213VUXK8eWP+EPHiM/NnHiMEqSYLK+zxIzHkZPJMYMQKXOcdcG65A38FUIoxvvwjnfs3jEn0eX11ifb01KmGZ/VBDZUr4L0IoPzhPASd094whSTyfL5zRmc++ljnDuPgdN/BEFet6itXdK2LKArwcI7oGAVRSWG25ZquddfqbihuviD6xtydHCeag7J8kTkw8r/7M517H2dgFhHT5l5b7pN5hyL3sevwskdnKe/0n+sTSFPDYi/qu1sthPH3qbcFwyyGJlPGL9BEhiyS0gNh4xzRW0tE+4RBhOghPSgMrocQhAYSQRWUc0rHfoYBMwg+h/M3defBPdX3t+lBLYY0UybRpCORcrBCysHczJwml4iMoZTgroOndayYCANSxEwUwcPHPoRyhsWniIju05kHY/qsrkVtNyFUbaUcvUl/IdJgcX5eUxA2+iCljc0pVlF5gfIzIUylEoyfeeKxDttfnoPAD28QcBrGC85DWH9FrhLyUeQTsepFYP3bUuvM9GFiecibInfKk4ecJNh6kYNxawvHupx4IyfbkZOAHNOercnZwi1feCr+bUKK1gIJq0opURlWQRcswx5Ck0z2hHFwGIINlzFk8DCGJ+SqpDJO0yshhFQZEiVYV/1v9xfe5cf+ZWgc1sdiauNiKFleGVTfJMynbCqnR9lgYJ9egoF5MSCOesRlOnxsj/YSXZHoWA5/7D237bcIWAQsAm8qAqxDCTnKLCOEM2hKEyZn32wciWZT3D7tJj85iTzuCNbb9F3HdfqDVBWgrC46ixYkfjLh7FwfY9IFHm4Rd6yzr0fB32rz2LfE5ajo2Ps6Qwm/1OEFp4LQ5CxpFYt40E2oPdtjVyil/xLzKCucq5zygzp06l0dL4MPibDZDQbvQJSh5PLTOu5yK5LQ/ISMe2ruGdXwNCH5AO/zQTgXSyphkQfHS5l27TusE6cOa19xiuJQynvTidbYKx2PoOoA+wbv6rICSLmMLCKqItWnJAjSTpyT0qhxPw0PQ0hCgbKTYRLHcLH/3Q8U3jeqfqIXAiILVJyOYp9GFadccoojUZSpfJBwF2K7URO2jtcYRZnaQwqhhF04JYIT4RgKjYhTLPJyD1bAg5Tg5FlvFc0nz3cFs5dMpkz1nhUdD8PrzbbI6VdUNuXeyJ1ODVASBpfj760pZQDPuRIwBBQox/TLE6N9Zz5QaDfhz8vkX0YUqCwjlv1guILgOTARqB/OER0R3egYr6Zw9gYwt+MIj47xeJROzXko4TWH53qKkkzzviSlleWSLgAvwxPzOSic3Pg9jOkIIdDuNKW2EyEDJT3FAdB6SLWIpgRhKKkAsZBqZ5WoZPcBHS1LpCIHJQApI3j6wwmthqUosb5LfShHC9yPwVMMe8LozDJlpsWpKLQHfolRUmlnILsjLSAoW6npsNtnr6GQRnJ+GtEcREV4ed5QUlNRPNfYS00PDWucMnMLpFusMofCY4hcicIjDp/GnpNndepgKbn93MuZiBh6IARNYz9W7vUoFFBWMQgYJdS49lwO+5x/82o+c8LHqWrgc0UqC66CTBw12B04UAxjspR/+Jx8lLmMjDPzp00dQ1OaxJC4SvSGU3/ezfhSGjPBlOALJ7c+MUM5+/foAMplNEan7RqUTEseHoFhCkqAsPGgCwJDDABxtJfSqe39k5oBmxXa5CMtKRp9Js+TqfTi3dp3HEV3X6nK04IUNeeRJ71Qxfvg1cDAZjhMAlGoI6gIEk80VcDMoHrHqK5g0qV47n2QJEbCOxBtIqn2nMAIeEhH9+Ypk8hgMpY2ceCN33Co+sE29gD/n0euDkCRjs45qL2ngijIhaLtuaO6B0S3TCwQwYAx0jyrlD0PCaPigSedChToQ8xHT/Ze3iElyosPxxBmxhdlKzJHObtPKQDiwaBI5jRGyZY+DHG8y5w+OXMAgwf3iUuPUAGl1DNKD2j3oaM6UZzAu/4JbgBSaQQZfPHh9/XRHP1JpHzjICkLPBjG1qYAjIueUKXTtljGPqOoXBVHdmtPPgYBY8jY+WXjEeTerh8hEd1izNyO958RNdZXwkSMdTgcK3aICcfb8n2MHPLPILpbJI9qu3IWkLOwLTlb7sAzLzB5YwujXU54zsgsLwjnP6yToYRmETYVF0O6gDEILJCnhge8f3TOeVGa/ZQLr0NUWo4SSXHwYE3c0RfjM1v7A36I9XJtaZZSReNYVAkbGx8lIsBYsVlQfSwwUVh2k1KVlpaitBQIaiJYPLY+yX7ADtpbWwQsAm8TAgMDA/qrv/orx4v1n//zf0YxSeUd/TbtXliT8VDODvejE01QTxyvkNlYmk0cm0LcUmyc2TASkhq6SE7xBB7WMUKjWbycjR7nrOFDDoXvxZOWpgTcQT+MUf71zzrvIh55SggPz3nxvqOEU/prmPkxOIRhG2XerGFB5NbGJFGSkSpLaSkoR4lEwFGFIcx43B5rIkob3rdZ8spHxwj/7esjxJxqS2Zzj6EglPDyxIwspVDHOwXnS0ICucIQnAUsm1xzSLlQSCbnjJfYkOUxWJCFBREKnOERXsB5DbIZn6eNqyjzASGxSqHsYRgkdFMYHmYN+aFhVA+MgOQwjTBfiCNDGPcZSiTDJTFKPfbe3n76xRpN3bJl/HeB1E8PN2Ns6orHE56MZzcanobYWEpQ0r/ggMd791hXN/HL2orpV48GKdVm0hGMfm0YyineTr9QqGGDc2uBfmEsWO+XK5hUDPoVQT7/VO8IkSz0CyI+06/YlBSwx3CBnuIjl356mGoQDyCxxuM9aJTfUL5LTHPKrSXHhxLSjGecHPcVDDJe7hQaRVoAhIvxeP4jHjMK0CbjxACnob4e9XZ2qWeQMQSnlQBY3TEEJCQx9slx7PuYC/yJi4um/CUYmlxz0gVGB7muu1sPugY1MsM8CAH/1GxlZGBg8IRT4510BqIM5iBWNkO7ZuTijY6Lhodpnnz/OVPKzjx/yCS1IRTeDtf8hGZGie7pJ1ScObTgI9UDo1KK2UvxJyk5GT4t9ppo8f6hIiJgbhJOMNIzZuHHWDFJm48exixgdrKPHmaMAxVKGkacmZdRpiTkxrhDFjf9/fzpJ61mAFzGHGMJugKs9+ExYMK7xBPPvxinouPguIqNoUoJEcYP5Tx6v23+jK6xNEfIPPvN8aE+DfGs9g6y38SK5g1BQU0g+iYlSemU3DPzOj4aQ1ywGV+uGcRAN4J3nPeceR86pT0xioW6FqniZ55X+sdefhydyMfzFZtMacP0dKUkkWZDSkY8qTYhAL2Bzot7wv3aL+hX/+l/13/9HCLSqAM6/b/+X/of399DxA9z0VHiv5dgorQWpuGjGKWN/X0aHBhEp5iGp4R+BYBlGMYJOLo8GLtMKncUuEczDxPi4QTBG/8Q6jUMkLyDxkd5zkco+z5oUmf4edrwtnA/jH/uKPbhCUm8/5nXpAOYsUs0aSAQIzy9NcfYMsscYC3p7+1UZw/EmqQ3zCwjy42RIg5CS+ZiQhzGOt4bMUQMx0SgG/Fu3Obr43twfgI/vQEGAVBGoTUvJ1OuximZ86rAv2lyXrUfj13HyxQij1UvL3feJ2a/aBj7TS3OIBMOA+On8/AY1k+s9yvOSeYcI4SQIpiAgwy77dNP2GN3eSt+MePvxXLMArxMbdWZaYgYsUquGEuzsbQaL4UJWTK4be5t+lbAYjthEbAIvHkIvP0GAYM56xdxwl7WL8fL9OgwGDIqszbBNG0Iq3ycs2K8Yo9pCqx1hsWevH2zN3hrN3dm7SKX2Czfa2DhIrx6jtB8J7TbeNNRsgNNuS8qBkRHwgwfyrrulBh0TCuPour/GXk+Sg+uItMQgJnQ3Fl24iQaogej6OL9jQyDdZ9Q36ANB4yzfnKOUVzNhsw5zL9sHiD4Cw40OzRICWnk2sYgmX2IuR6vr9fkyfO5/0o+M/XDTRvNWkufTP9WTGj+NAoGRHfzRskwe5QgFA03bcLrHk6FgxAUAn/fkLFpxcff2mf+/cJ+EWnpeFCJpHxGv4w3e419lTGMPNkvMxeNyWoNkjWjHE5SynjWlLEMZpxgz480UaWmqoExrTy8/mXzmfuwlzP7lwWiGg1p5JzxhFKeM8hEB0QSDYAzI8SMG8+OKYH38Jkw420Y6+dmNDnJ3seQQlKpICwabg6wjXRY2f1t+X58zV6SfTceedNHxwC0ASKfm5QNclXguGD+zNA/PPMrkP8ZxTCSUPIo+mja8nhar+mDSQXhuTcyN+S96F8DrsGTUoNOuUEz7o/u0Zzng30w82duxv9cmLSVVUNkScpRcChGqXDmDxUc/HN6A5sn5LyoDVv9jjlt3murJpVnPeVlwRg/8Gi7qdYRxXNqnrFg5zmlHUa+uYb5ZPbzQLN+8J0ZR54G7wpOTdM/JxqDscJoFYaBI5JxD4dUz82z8fy9K3KXmQPmHWpmK06y5VGIKa99qv/yf/+dPr2F7KzT+rP/8z/pz06X6Rik2iag41GYzfvavDe8PKtLzKM50oCm59hP82z4eAcYfSI0jLaEM7dpT7BpjzMPzbv5cUlOXw0+pBmZlI5p3kELTpQA3XYqctA3yFMNTqHIMtUtzDv+CSkbINE03hdmb79Aatk0f2gXjxtzBryNHHAyVUMcOetteq6s76Xanx5B4M0wCDzSIPujRWCnEPAZ48B6uKVZNIxRxL4gdgpdK8ciYBHYDgLGIPDXf/3Xzqb77YwQ2A469lqzOV9jQ+2vQW6UBkPkaxSHVziMguYoCsbLjXHhoRb5CrK2fQmKqlmXN5RkYxgyRp9X6ti2G7NjAowiZQIPnNKFaG3b786jODH+m1ZyUOqcecO/GGwC2Pg4Efjb7amZQ46CbwwFP+R4PdI/06f1+WNsFz/c/m59rIyhbN3Q+erjvzHu9M0YCl70zBv+MKKr+juo0NbVr2Fc5ibdCoSw8FCVYrBObTXX9fnX9WpfLFDG0T/R//K/wSu2N1uFlE19aTa1Y/SgPY7xwryD/GO/9dcHLdp4B2HEMdYe//vsFZ+TR9v1lrw/tvt47sT1L50PO3ETK8Mi8EMgYKzNGDDtYRGwCFgE3kgEfvCMvTcSFdsoPwJsllnD0L22fzgK3E4I2n5TTMSBo+S8Kc3ZiS4hw6lA8epa4DNa8ao4GeOBiSB4hsjtfLRuBNhpsVtv0mvq39Yb8sgVL1HcHznz5T9uYdwheNREte589YX+5dPbapkksshwR6BwG24x7+Kk5vCmj0yHQ9lySHupkLA/k6oH5ApsSvnDoOQQsL680S85wxgAmJM79XzsWLte0uyf2NebmhM/MUxsdy0CFgGLgEXAIvDaEDCGAGsMeG3wWsEWAYuAReAngADedhNaA4fE8uyUpqhIMAW5oYkMcRRwN+kiOWUqgTNg71HY/4+UqSghAu6KnwA0totbRsBOiy1DZi+wCFgELAIWAYvA9hGwRoHtY2glWAQsAhaBnyQCcEsoLI2KDvt06HSIPBOUyYTLw28QMNUe4hSfSsWD8r2qKMlRYXqcYgyXxE8SLNvplyFgDQIvQ8h+bxGwCFgELAIWgdeAwNtVVeA1AGRFWgQsAhYBi8CzEYD5XxH5KjyaoMSSM1Qu8PM8kDPgpA0EBPrLekbEQHIIoXZ4yJMVSZ4t1n7600TAGgR+muNue20RsAhYBCwCFgGLgEXAImARsAj8KBEgXSCQCh1xoZRnTXTS0Bz+P6cv60YBQ0wI/8MPS7r4owT3J9doaxD4yQ257bBFwCJgEbAIWAQsAhYBi4BFwCLw40ZgCySEP+6O2ta/ZgR2ivPxNTfTircIWAQsAhYBi4BFwCJgEbAIWAQsAhYBi4BFYCcRsAaBnUTTyrIIWAQsAhYBi4BFwCJgEbAIWAQsAhYBi8CPBAFrEPiRDJRtpkXAImARsAi8fQhYYsG3b0xtjywCFgGLgEXAIvBjQsAaBH5Mo2XbahGwCFgELAJvBQKm5KA1BrwVQ2k7YRGwCFgELAIWgR81AtYg8KMePtt4i4BFwCJgEfgxI2CMAtYw8GMeQdt2i4BFwCJgEbAI/LgRsAaBH/f42dZbBCwCFgGLgEXAImARsAhYBCwCFgGLgEXglRCwBoFXgs1eZBGwCFgELAIWAYuARcAiYBGwCFgELAIWgR83AtYg8OMeP9t6i4BFwCJgEfiRImB4BOxhEbAIWAQsAhYBi4BF4IdEwBoEfkj07b0tAhYBi4BF4CeLgOUO+MkOve24RcAiYBGwCFgE3hgErEHgjRkK2xCLgEXAImARsAhYBCwCFgGLgEXAImARsAj84RCwBoE/HNb2ThYBi4BFwCJgEbAIWAQsAhYBi4BFwCJgEXhjELAGgTdmKGxDLAIWAYuARcAiYBGwCFgELAIWAYuARcAi8IdDwBoE/nBY2ztZBCwCFgGLgEXAImARsAhYBCwCFgGLgEXgjUHAGgTemKGwDbEIWAQsAhaBnwoCtsLAT2WkbT8tAhYBi4BFwCLwZiMQ9IM3z+eVVkc02DOuwVGv3MnpSkyMVUL4Fm0V63KGesc1MIKcpHQlJMUqcdty0pATt3U5PziwtgEWAYuARcAi8CYiYI0Bb+Ko2DZZBCwCFgGLgEXgp4nAG2AQWJHmmtV06Zq+vDKu0IPv68CRSh3dlayYIJf4f3OHz8i5r+bL1/TF5TGF7D+nA0f9cmKDAjYvR6vSQovuX72mzy+OIGe9PWXJ2pqczTXbnmURsAhYBCwCFgGLgEXAImARsAhYBCwCFoEfAoHA/4Pjh7jxY/ckGMC7vCzvwrjGump1r75Zd1snNe/2KDImQtHBj539/F8CXN/L6a5Xk5HTMq650C3Kca3LWTTtMXKadKdlQrPueEXGRm6+Pc9vqf3GImARsAhYBH6iCJgIgZmZGX3zzTcKDAzUe++9p8jISLlYe+xhEbAIWAQsAhYBi4BF4A+JwA8fIeAKlELSlFa4qoMKUPDtatV1jGiopVp3fAuaHixQcV6GsjOS5SH8n7OffThyUpVaUKkDyAmqrlb9A1IRWu/qjhY1PVCgkvxMZa3LeW7HH8qpoD0uf3sejPrl+BY1Q3s2JefZrXyFT33S2qIW5hY0O7Mor3zy+rCgBLoxTkQpzB2skI095OqiVhZmNDm3qmXvmlwBAfIFhis8PExRESEK5LyNU1+hIW/oJeDjXdTi/LxmZjEqGXzWAuh7iCIMPqHgw2damdXcPOM3v2J+05orSAFBoYqOCVdoSNDz59Ub2mvbLIuARcAi8GNAYG1pVkuLC5pZ9Gptzcf714XhI1AhEVEKDQtVGIu6y+XT2grr3OyMFpfXtOKcJ/lcIQpxhyoiOkwhgS9Y/18FiDXaw2Jg1gNhoHH+cf5+9l/GWOPCeLPFZMZnC3vs01UcGYuam5nX0uoa6xdtcbGGhUSAD2t3qLnnirxLrF+zC87azvIOZuAR6j8nIiRA+EPsYRGwCFgELAIWgVdC4Ll68StJe6WLjJYaqnBPjnLC4xWTXqKizia136vT7erf6OuaFF0rOqZzH5zU/oJkZUayUD5z4duQk42cOOQUq7hrXU7Vb3UeOdeLjuo9R06KI+fZC6iR41ZYfLayK+MUjZyizmZ/e27/DjlJTnscOYUpyqI9z5bzSmA8fZGPlX91WCMP2tXY0KvxVa8WvOEKi0lV8aFK5aTGysMoGkh886Oa6b6n6pZRDU8taC0wVL6YQhUV56iyKFHhAPdcg8rTd37+J2ye/Nun55/y/G/MZvD53275G4PP8pBGOh6ovrFXE8vr+ESlqfhIuXLS4uRxYRyZ6dZAW6dq2sY0v7yqlcB4hSdka++BAmUkRSmCG+9ks7bcD3uBRcAiYBF46xBY0Vx/s7oedOje4DzvXqOEs2ZiqI4v3K3cvFwVJQTLHTSn+bEutdxtVPf4vKYwCvDWltcVo/j0HBXvLVVmbJiid2LHsragpblZTU7Na3GF+5j17CUGAWdtQAEPCI1SeESkYiPdCsbCviNrxvKYpvu6VF/foaFpDAO0CWu1guILlJ6Trz2F8Yr1Dmmit0M1Tb0anVnSApmNxugdllaizJxcVWRFK9IduDPteevmoO2QRcAiYBGwCLwMgZ1YXl92j819z+IWFBGneHekIgid9CQkKiEtR+2dveoZqtKlv6lTTVaFSvYd0vGDucoMe44C95icKMXHJ8mTmqMHyOkevI2cetVklqtk/yGdOJCnzPAXyMGwEB9Ce/BkxHs25PQ4cq78bb1qM8toz2EdR04WGuWObA6eQgvV2zvPpqpR7VU3dHU8WgFhqSotcslTXqIU9g4PjxU8DJO9Gux/oJqaHo2MByp8v1shyckqYcMTvgMtXMPTPnznMzYmHartXxEODb9z5YWdx/uz6lNwhEdphz/W7uIsVSTi3dgRVwv4rLHRHLynthtXdLHDhREkV7v2hyhhYUVpDjicszKnxYkO9TQ3qLpmQLORRco+Eq70XdlKeQig/cEiYBGwCPxhEDBK6IYi+oe54x/6LkusXV1quPBbffvNTV2D7HfBuLa9XozCwQou/4WOn/1A/+HdbKWuNqq36rz+/u+uqXWMaAKvzzG0Ly34FF98VHuX/6P+ZH+qKlO246GHwNg3otYLX6r6xl1V9RFVtuQl4s6/dvPPCw8TIbCmSCUW7NGe9/9IR/LjlR2DkeCFV73sS5+W22+A0Vf6L1+1q29mWSs0JIAICq+7RCVHz2jlL99RZu9ldVz9Rr+6PqDB6WUiCbAI+Fxa8RxRxbF39e//3VEVJUUqanuNeVlj7fcWAYuARcAi8JYi8OYYBByAAxUYhBLryVBYZKxiUjKVlt6ktoZ63arr1mhnrepXl+AaGFVhbqYyk/H+RoXI/ZSLfl1O/CNy0oycOlUhZ6SrTg1e5OBRN3KykuP9ckxM/WPHk3IylO60p85pzwj8AvVew33wMjmPCd3iL7QpIIKQyVDFRHk1Xjui4JQEBcbF+tMFHt0ABEcoOJyIgcBxLc1OqmssUXtJF4gmXSCIzcyTvdtiQ5zTfXjkV+fGNTXSr76+JS2j6L9sI8XOBYOA5I5eVci6d+NV7v3sa+gV3qaw6FiMNhFyN7ZrYMGtzuEFHfS68ESZzR5/BRGGOj2q0a5ODc64FeqJliceb49NF3g2rPZTi4BFwCKwLQRYGXwor3OTGuvr0IP7wxoirWuFNAB3TJqSk2c0g6vba7zza4TEL05peqxbHU0D6ptcIEie97Y7VtmxJcqeXxW6+ybWmhc12LRnQRNdjWq68Z0utM5qnPuvoVi/PGrNSXRgvYtV1oFghe49q9LMzax9L2qP/zsfqRLLM6MaH2xTC+mJY6QGrhEhsBSyrMX4Ep1ijU2Y6tdI211VV3WpexTDv4ggwMAelVeoDM5fWjMRFfawCFgELAIWAYvAqyHwhhkENjpBWoDbhMBFKhQvvSclT7llHWptuKuGxgv6ouYm4f+HdeCdU3p3T6rSo90sj886WOhDohSJohhqFOWUXEdOWyNyGi7qy5pbulF40JHzzt50ZSDn2fyF63LiTb4eimeyX05rQ826nJvIOaT9p0/pzL405IQ+R86z2viSzwhTxAKg9PKDOry2rNr6G1pIildSZZky4gldpOMbir4rOkVRRD+UtnyrmvR0dSSe0Jkju3Qg16MIjCaP2g5ectfnfh0Ad0F8/iFVhuUqunSJXM/nnvrIF2ycyOsPCo1WQmGiMmKfl/bxyCWb/dHgE5Ks5F2ndTIsUZGBf6dvm33qnGKTBF+AF0PEWsCqAtiYzkwvaXbarfRjH6ny0GGd25utzHiMCZu9lz3PImARsAhYBDaJQAjG7BTlVO7Xnu4etQ+PaHJiQVMBkQpJqFRlJWtTSZIT6q6IPCXk79bJ/Y3qHxhSb/+C5l3xSi7er+IDh3WoMErJ0dv1xrNWuMIgKmZPkZwozxjtw9CAneHhGvr8jhmzd4BWfVyX4FECTMehwaxjz79gk9+45E7fpZx9wzrTP6tFOALuTExpAsfHauAaij/m7JVlueFYCODP4ty8ZuHC8YYnkUpBpMJREzFZpIwI0hx3YoHfZKvtaRYBi4BFwCLwdiHwbD36jekjSmRYjGJSqTSQlK4kFHuPe0kj/3Be9Vcm8AQHKTb+nIJRMlPdL1rUn5RDSoKR84/fqu7quPoXghWNnJCiJKVtVk5yuhLxMPvlnEfOhPrm1+UUh75EzlYAZstBGkRgTIHSCpb1XkWVrq/Oq7l3VadyfRDmPXqQdRm8rK7mBYwImao4vl9FuclKNBECj562jZ9dgeQtppcqL5H8RqwBxrnjJ4l6gVATGstmyoW7PiQUYwlWl6eCOl5w+Yu/MviEyh2VopQCtw7/kVdhqTVUhbinqu/i5Z3O1pHcRTV9dVGNXS6FHf65Dh4+rErSFvITwiAUJArkxTew31oELAIWAYvAlhFAQw2Ixlh7SocXUW0XBjS1UKPR/kAtr0Qpkci89IxohQTzBg5MU2RcmnJjeUcHYswNipIv6ZCOnPtIf/zBER0kJy8xfLtRbqwVcBKk7v1AZ+LLlDtucvHNGmbUeqPwv+QgjMCH+TgqKUNZedFKeV664UvEPPV1VJaSy87qrDtNKWlfq+C7S/riyn11LHZooOkbffq3k7ozdEs91QMam1qWK6FCRQdO6cMPT+vI3nJV5qUpISxo55wQTzXQfmARsAhYBCwCbzsCO6Unvkac2AQE+rQyNaqJ0SmNzmJRj/EoPiJaYdATGxu94ZV7+WHkkEo+NaaJMSMnwC8nNGZdDluCrciZHtPk2OT37cH7HYqJ3iiXRO+9hgMug/g87T+Wo847y7pR26TBymilekLIalw/vINaIJe+ZjBa3qx8Hd6TqVQ84EFmv7NDhw9m5qXJYY1PzWpifvNhij6YkwOC3BD5pSuOUpKxodvd3D3aIbPRg5gqIkmpZccdo0Nk6E2dr69T88UGjd9zqbtjSe6U0v+fvff+iutatwVn5VxFVVHkIucMAqFsyUG2r889cbz77u3X3eO+7l969Bj9S/9B3eO9Hu/0fbePT7Z9bGWUkACRcw5FkYoMlat6rgJkOQghBDY+WttGQLH3t9eaa+291pfmh6pzF9FUmgG3k0aEY8TlxdbInyUCEgGJgERAIEADcnIe8usuQB8cQ+fIMiaXV7G0MQ/f2u4aEreL8xhtFtjA8vwKyf7CgJU8QY3v4sLl87hYnY9MEz3yb+wBFy98yrFw/5BK77s+yFx8prOJ2wvL9qsOkVegNLJ6jQMOo5pVD45pAdHaYE41odiWhlQnDSVOG/R6A+50eOCZacXDv8xAu+5lGiCNFxlnUNd0HVc/uIZPrlaiOJ08RwZWYnhjbF7Vefl3iYBEQCIgEfh7RuAnYBBgmR3fBAbu/w13H4+gy6uErfBjXKkoRWUZUwmySPhHN/mrl2bKWdmVc6+FcjxKWPOv43JFOaooJ9dtA3XrQxy7cgYffAkhp3MWzOMTcqhslhW8hpxD3Opbpyg0JDRquoDsiSfou38fQ3OFSCKPQgUJDcV+IDY7hIWuR+jXFyE3qxxnUlma8JhHOBbxw9d3G0+6htE6y3zQvbxOQbj0/UcihICh+zFozUwXuPxPOFtVgAay/R3Xfuob91WTlbqgARU6E8K+/4Iv7vbg3xbpFbr2L3j3zAVcrMxCuoXGg5c19xvC5C8SAYmAREAi8KYIaFw5yGz6EE0PezE+cg+3lxjF9awfecWVOONIg0nLtWu0DXeeTmN0XgNzQTHOfnAJ1aW8zkzOgWN7X7ME8XQPBju60DKxgfWA4DA4bO+UrNyTjHTR5ne57mZoGM1wTA0jZ4CWVZaSiy6gkSTGziSu56HP8Pn9YcwO+VhW1w+Nswhpdb/ARz9/Hz+/UorCNKZD0hIgI9wOO37yPImAREAiIBF4GQLHrC6+7DZH+ZxkRDPP0NVKNuCeKcyFdFAmVaC2Igd5hYXId6ciM9lMUjiyFR9oHQ9TTju623bleAJaRjFSTlkOcgsoJzuFcgS5nAZqynn58h5BiHK62jvQ1jOJWT/lWMpQ834u8oQcN+W4DiPnKFjsXcPUATjqUJI/huXhx2jv9cDEUPnSGhMNAluYGZ1G2yMfrCX/gLzKPKSwfvFxew5E7WOtyQaLnV6WHZIK7hsEDuwWvTAk+NOSBMlBZdx4KMPLgQIP/KMCfqg2JzA4voOVoAquFGBlcoLeliJsNuQhQ+6gDsRP/lEiIBE4eQT+visMfBs/C8voVeDshXrMTjJS4AsPZp8+RkdOPvrqriLoaUPvo/tom17BgrkKRRUXcL0hG0X0nDOY7JgOQSizhOnOZtz/45f4bJSkggFRZYDRaq+6h4gg4NoXjljhPvM+ttzVJCI2JdbYV136Oo1XaOjtVwSxNuOBb2UNq9ss20jCRXFEN9axNjsO7+o2VqIkxpXGgNeBVp4rEZAISAQkAgcgcPoMApFNbPm8mJuZxCTzwPuHPKxLTLJhhsAXVpbRY5CLTIbU2YXX4CBDQFTImcfc9K6cgSGWHVxlAGNW4a4cGgQyaIZ3HFYO2zM11I+B4VlMsT3arAIUMCqgpjz3cHIOGITD/0l0mF72wlxU1wzgfi/rO7OsoreY5RMjXRifWkSHLx35RdkozWUVAiq+x7lZEe1UKKnQpxTAHbMCKaHnZQcPihBI8AwkSAUZzZFhQTJzL4+PQ+Bb6AXJZD38DD1to/AoWVKwNoelqhSY4OYv+VmkpAAAQABJREFUMtODtidmqGsYEZKsh+G4wflWU+SvEgGJgETgVQi8/N35qit/Yn9Xu5BdcxZ1E2OobJ/HA28PRtvvoLnVgIn+Rxh4NISxVTWMNfWoONeEM1zDXMaDFvmj9J/kulo99GYrLFZR2u+QBoEExwDL/EUtsJjJPcOauce+hoXXsD7bh97HzbjziHuNBabkseJSfmoS1FtL8G9HsD7HSkstWXDZGJ0QqUB5tijVLBeyo8wEeY1EQCIgEZAIfI3AqTIIxEmWF+Qmofv+PdxvGcBgMBX2PIb0/0MFynIy4Rb5clYDdAzTO2ibEGdYe3C+l8SD9AQ85sIaSIE9lyH9H1VSUc5Edhrl2A4hJ0o53j7KYXsSclxIyi1H9YeUk8c89DSWKzyEnK/hPp6fdDnFcLPUYfa9NuxMOtHhdUIx2YyJZT9mM8/joywnisjkfxBGR22JMAgYUouQY6eyzTQAUgMc8hBeGBXURiN0muPkD/j69nEakzaHb+Lh7V7c6lMg6+J7qK/NQ2nSNlb7buFx6xCe/HEZEeWvEa4tQLmdZJNyL/U1gPIniYBE4AdF4K0xBiRQ5ZqU04D8eg+uVbRilnnxM6yI89Wn67COtzHqbQebymw0NDXg/MUyZLKk8PEy59NCrnSh4NwnUCaXIYes/lsMcUukDLxyHRARAuQr0rBCQUYeisqT4LYc4xobWsXOTAua//hHfP4F9y19dDyEs5Fecw7/8MtGpM0+xOTTR/iscwwDN/4N6/MezC//E35zvRbnWanByp2cDHz7QR9deTOJgERAIvB3hcApMAiQ0ie+Cd9IBwban6FlwIflkJqleJrQ6M5jOH4B8nIykM5Sfib9blj/94+AoAYScjp35fSzni/laDPOojFLyCHfAI0KaTY9zIeS04XB9na2h7Xrg1/LyaWcfLYnjYaAg+V8fyuP5VNNFswZ1bhc/BAtwX7cvKuHt3sEKxZyB1yoQmYKvR8nYQ0QjeemSKmlh0RDUr6jdIbXvzI88yhy/TPw9T/E35qnMMuNVMX1StTWlKAgg8YfTRguA3kDzN1w9Y1hqIXGgbU1RK40otLJaI9XbgaP0iB5jURAIiARkAh8E4E0pORX4eqHZ/DM8wDewSmMPdqBwjeLEFKgKb2Gs3UVOFeQBCtDAI93GRMvelYJyOS6YM1EcolIeWM622EIBUUnxNql5tpnNMOWxAgzGrbf7BDW9B0sDz7DcEcLnj5rw8PHHegenMbsBsl7Gf3nyK5GTdNFFGStw7Y2gkf9C/D5pjDZFUUosIn18Vr0s/Tg2QuNKCWngIthb2/aqjfrk7xaIiARkAhIBH6KCJwOg0DEh5W5SYwOT8OzYYUxuwTFtVWoLkhDhisJFqOGXMWvOmgQCK9QztSunE3m87spp6YKVZSTuS/nlavlrpxV766c2Q3yFOzLySdvQYpoj8jze1V7TvLvOmhZqqi6KR9Tz8gb8PgWfLNK5FzOxpkqliBiGsTxbqS+1ZeEUn86Nh5x5lcGfeOYeHYDLfdu4w/tHJj0WjRlkmzJyNBQkyjHxC8TDUEabgBXx9B7dw47vWOYWt/E2vkaVGaTzIkbqWMPAf0WbPJXiYBEQCLwdiPAsoKsOlB84RoaW2cxOduGTu80tpnLb3TnoOLSZdSVZaPQzjX/RBYxrgsGGhv4ZWE5oEMbAxKDxjVPybpGXGKOZ/kXBoFt+IYfoe3LP+L/ezCIgWnyBuxSBgARNZQ6O+wpdECEbZg3895RYcQgEaJvDGNPluCdmCSnQBgKdxmSk8yJdex42vZ2z1LZe4mAREAi8LYh8OMbBEStv+AWAkoHNAx3v3alAOnuLCrwDMcnRb6OuXqHOoSc0BaCCubbZZzH1cskj0vIcb6mHC7Soe2EHFXGOVy9lJ9oT1bKa8o5VKOPfpJCY4Lj7CW4x34L5/gj9Dp+hQJ3BRpYWcD6xp6Lo7frh74yFt7G4tNPcecvn+Pf7o1jdF3L9IltbAV1cBVmwE6viYW+J+ViJ0aePcRnN1vRPbxAUqZhjHo8WI//nwiz7NO1XEaByJ3UDz188n4SAYnA24aALhnGondwpvoJxvr7MLS+QbWYhuzcGlx7r5ppfQ4wvf9kjdrEXCj3P26YvTAIhLDDMr6++TnMLe9gi7yH4lCwZXFaqJXc14izRNleQWqo1pJMUBkh0SA/jG1hZ9GL+blFLJN80M9rxbnykAhIBCQCEgGJwOsi8OMbBMSSrE1Baq4JtQ4lktKdJO0xkole/Zr53ZSjcSElz4g6yrGlOWG1HEUODRCU48qlHLviazkatueQtonXHYQjnc98fFhcMGjtsMZMKGqsJFliDlysLHBw1YUj3e3UXqRQ6WDJrkfVu1ZEC7ewHSUuageSknNQmWpFkvDmcCMl6lpnVb+Pj5RlOLu5w82TAhprKrLLXXBbGZoqjQGndoxlwyQCEoG/JwQYwcawew0XVFWU7nAqt+r8RhQ2XME7JSlw27Q/sqL+Q2EtNhRWpFVfxzuKLNivCUM2oxb4qeDbgTEH7pJKlCUZkaxketuHevxvWTRmU/kXqQ7CbBCBmWkFxSgvZGld48HcSj9Ur+R9JAISAYmAROCnh8CPbxAQyhoVODsJ+iwpKuio0B5J796Xk0o5rjeVwzA9MvtaXIxQOGp7TnwucEOwM09SJB1CyTWoq81Hea79RCoLnHhX3uAGSpUW5pw6lJMkyh2McyNF4qc4QytVelicZpgSBgFhPGFVCSr/V7ND9KIwbzThceH42pww8ySeIQ+JgERAIiAROCEE4glvN42v8XWElkcwM7fAyj9xhNWpyKltRP25OlSmUcF9a0K1hBXaCGch+55egZJQjFV7XvDxK8nTYzTByhRAjb4EBjONBuUhVjrgCpY4jWsdd0tqnQEmmyjBfDrS+E5o+kixEgGJgERAInCCCPz4BgGRjafkgkeSAM0bdfS0yXmjzrzy4niIXu72ByzJGMJywVX83J2CIutb6CGgJ0V4+p2sgkh+wJccnBtMCzCzXKX55Se95Fr5sURAIiAROF4E4tToxNdbcTCVL+Dfwdp2CFGFFvH1UWz2f4FHXcN4tqBGQJeHwuIclBc5YCJxwJEcAj9ZIJmqZnYkvpIO6oPaQqMAeZEOOkf+TSIgEZAISAQkAkdE4BQYBI7Y8rfqsigioQCC2yyDGKUXgKz5ft8kum6OYHorHcnVmUyzINHgW4WJ7KxEQCIgEfjpI/D3W3qQSe3RRQzd/Qrtrd3oWAhiJ8bceJbMDc73oLVrFnNbJMnTzWLo3g3ct+qQbPkADW4b0ljChmZceUgEJAISAYmAREAi8AMgIA0CPwDIb3YLZhTGWEJxilUYBj3wMSw+qvJjZ3WWm6wZzJviMGePY2CczMlqNYrSDFDJndSbQS6vlghIBCQCEoE3RIBrF0sKL491oOf+LdyY2MFGiMtZjGlbJBLeIDOeQieIg3nO6BCGe0swdf0Ky+cxckInF7E3BF9eLhGQCEgEJAISgUMjIA0Ch4bqRzoxHgUCHswNPkHz552YIpWwn59Fw374tphPGJjFZvsd3AsxnFBvRm6KHippEfiRBkveViIgEZAISAR2EWDwv0IHg8kMS5IVZosS0WCUpf6MUFjI0ZPMs0R1IKZ9hZQuOGwW2HTKRLlBaQ6Qc0giIBGQCEgEJAI/HALSIPDDYX3EOwnSRVY9yKtFw7suFIZjCIncU35FwtEEQZ7KYGahhhxGBxhldMARUZaXSQQkAhIBicBxIsC1S2lHZv11XLMVw02+m0BEULoK8jv+l9D6d3+LKOxwZuWhLM0E+1tUNvc40ZayJAISAYmAREAicFQEpEHgqMj9UNclqickIznHiFpnIbifooeFThXuphSiVp7wsIhsSy0Z9Y0GlmqUvpUfamjkfSQCEgGJgETgZQiICAFWDSiogymzPGHMTtiyv+90hYZs+XoYTeTCkSVfvg8h+ZlEQCIgEZAISARODAFpEDgxaI9LMBV8pQF6i/g6LplSjkRAIiARkAj8mAi8HVUGWAXGYOUXYP4xwZb3lghIBCQCEgGJgETgpQjQhC8PiYBEQCIgEZAISAQkAhIBiYBEQCIgEZAISATeNgSkQeBtG3HZX4mAREAiIBGQCEgEJAISAYmAREAiIBGQCBABaRCQ00AiIBGQCEgEJAI/AgIJLhjJ+/IjIC9vKRGQCEgEJAISAYnAPgLSILCPhPwuEZAISAQkAhIBiYBEQCIgEZAISAQkAhKBtwgBaRB4iwZbdlUiIBGQCEgEJAISAYmAREAiIBGQCEgEJAL7CEiDwD4S8rtEQCIgEZAISAR+IATejioDPxCY8jYSAYmAREAiIBGQCBwZAWkQODJ08kKJgERAIiARkAhIBCQCEgGJgERAIiARkAj8dBGQBoGf7tjJlksEJAISAYmAREAiIBGQCEgEJAISAYmARODICEiDwJGhkxdKBCQCEgGJgERAIiARkAhIBCQCEgGJgETgp4uANAj8dMdOtlwiIBGQCEgEJAISAYmAREAiIBGQCEgEJAJHRkAaBI4MnbxQIiARkAhIBCQCEgGJgERAIiARkAhIBCQCP10EpEHgpzt2suUSAYmAREAiIBGQCEgEJAISAYmAREAiIBE4MgLSIHBk6OSFEgGJgERAIiAReH0EZMnB18dMXiERkAhIBCQCEgGJwMkgoD4ZsVKqROA0IRBHNBRCNA7ElWpo1EooFYrT1EDZFomAROAtQ2DfKKCQ76IffuTjUUTCEa4JcfB/QKGESq2GSsW14YdvjbzjQQjEY4hHIwhH+V2s4XxeFFzH1RwrlVKu4wdBJ/8mEZAISAQOi4A0CBwWKXneTxSBEGLBDSzNLmEtqEbc5ERWigVmgwZyK/ETHVLZbImAREAicFQEYlsIrK/Bu7COHRoFIjEVoDQiKd0Fu90Ms0ohjQJHxfYErgtvLmNjdQXLW2GEIlHEVQaozE6kOi2wm3XgcMlDIiARkAhIBN4QAWkQeEMA5eWnHIG1Sfh6b+L3d8bQt5EGc/45/KefVaHMnQTNKW+6bJ5EQCIgEZAIHCcCMax030THk0f4smcNa4EwwjEz1NocNPzmQ5y9UIEygwJ6GSZwnKAfUVYA8I+h6+YdPH7Uh6GNCPyM9FPasmAoeg8/f6cCF8tSoFczYuCId5CXnTwC8UgAYd8EJpfi2FLYkJ3vgtWghfbkby3vIBGQCLwGAqfAIBAFIrT+etextBqDNjkVDgctv6+9Iu/JmaecFcpxpsDhtB5BTizRHt/8GhbfSM5rjII89YQQCGNlcghddx+gf3gB7Wt50G1k4fqVIhTzjtIgcEKwS7ESAYmAROBUIhCDf3EcMz2P0PJgAR7fBrb8FigMVVDU1SC7oQyF3HvoT2Xb37ZGRbgXW8b8WA+6Ht5H29I2ljc2ELGXwrKSj8rSHJwtcUEXp0FAWgRO7eSI7CxirvMOHvT44dXm45z+CsqzHEjTSUPOqR002bC3EoEf3yAQCwPbA+i724Ibj1ZhaPwADU1VaCqjFZFW+kMb6mNcPLYH0X+vBV89XIGh/n2cOSfkpMAmIgIPO7zx3fb0N7fgy/s+GM58gHrKOfe6cg57P3neySAQ53wI9WK4fwi32sJIrktHzqod874g4pEYaPaRh0RAIiARkAi8VQgoYLAlw5GegTTXJpYW57HtC8CvWcHadhABLgzUL+VxKhDgxk1rg41OorS0JCRvrWHBu4al8BJ2VrexHYzKdfxUjNNBjQjDvzGNvuYvcPP2AsYtDQgWVcJs5Xi6VNIpcxB08m8SgR8YgR/fIKBgE3QZSM/JRolnA6MDf8WN8Ta051bhzPmzqCl00pJ4CFQUXDx06UjLppzZdYwNfY5bk5STU4n6802oLUxG+qHM/kIONwuUU5q7jlHKuU05z3IqaBg4h9qiw8o5RJvlKSeGQDzmx9qTGxgY92Eq9Tx+XbYK9aQa66vx5+GFCS6pE2uBFCwRkAhIBCQCpwsBJUzZDah6T41/znqGpP/nL7i76MVEjEbiGAkGRWOlQeCUDBmDytWZyG/6GB+orMh5+mf8v/5V+HwkF0wYblRQaSUJ5CkZrJc0g3wc8R2sz3sxPzUFjyMD3o0oDW/SGPASwOTHEoEfDYFTYBAQVuAMZBZXo5ErsaqtHb1T05js9iMa8WNjsQAlefx7qhNJBrLKvgwqYRDQZiKzKIxGruqatg70TM1gqmeHcoLYpJzS/MPKyUBGEdsTU0Dd9uybcpYoJy8TGWlO2A9qz8va+dqfszMxei78AexskymfW5ZYjPEOKg2MVjP0WrLm729gokGEA9vY3CEjLzc3CqWSrPp6GAw6mJizJQh590997Wb8pC4IILI2irZHI5hcz0RywzmU53XAv7qBpwTh7cDgJzVgsrESAYnA3xsCZPIH84e3d7h+hXa9uUqNFgrxeWAL2wEy/av00FnsXEujUIr1fn0bO0Gy/yu0UBssSEoyw6Qn+/+3sBF5ySG/HzuBAAKBIEIJckB69xkLqNTooNWbYLVZYNSr8M1NjgJaVzGy7SYkuZXwPniC/keL8ESVDDvn2iA0zbA/kaseDIZIOChkiv9UXE+1MJj00Os0CSK776wjcfaTIe1b22xXkNwE7Ca4L1FpddAZzLBYTTD+QApsAp8A28F9Q4D9SODDMjsJfNTEx2Bie4itgWz938L25H7l/YOb2NraxhbnRHBvzMCKASqOmcFogE6jhpLVBNQGPTRaDTRKO1JLGmFlGkdmsAMt7f1oXSemrBQUJ1nwNo05W0GOPwcqEuf+UMP9jtUGs8kA0wEdi3NPGA7scA6K+fNtfJjfzvlj4fz5XnwYRRoNBTjOnB9Rzms6tRRazgtFGArOnQ2Of5DzPcI5k2iPhe0xG2E+MEeR+7zwDjY3Nvm8sE2cPHwiCI0BeuJitWgRJ39CRMxJsSVkGItKzXaaTNBrOMe5JXw+H+MhBDdfnId7406ME/PQwnnI5+Lbz9Sxjruo3kEsYsoVzM/PY2Flk7jw2dauwUfjgNdjhYfPuEYhZqSIyuHzp97dq+p1nAP87Hl/XmxYPICgmD9bO3vPGO8jKk5oDTCYSRbNcTceMO4vinrtnznusXCQ486582KUKdut1ekT7ym12GTzHRILbsPPsfKH9ypjcMyU3LNrjbt7du2Jgv/aPZMXSAQSCJzUo/Ma8PIBIsOvKaUABWYHbJklKJkYZKRAHzrbPsXn7Rl4UHoeH3x4GXUkI8k0vky0kMNFICWfcuwJOUWUMzbYh65nn+JvHZRTQjkfXEJ9QQoyTa+Q48pHvskBa2YxduX0U84f8LdnaQk571+/hDMFqQfIeZn81/xcbFAiS1iamMBAvwdrXCgCMS4S1lQUnqlCTpoNDo6ieHnGd5axNTOIZyMrWNrgy5iLY9ySj8LCHFQwssHIDc9b8R7ansTm2EPcGjIikF2Cq5cKkKUdQG98Tezu5CERkAhIBH50BF4sO/h3WXowvI3g4hD6h7yYWthCiEqMxpEMbXQbmB3AsHcHGwY30sqbcD4nAP3WFDrbhzExv4lNlRO27GqS/NWgojAdycJZLBY5ESQeo8dxbgKeqQmMT3sw613C8iqvYbx/VKnj2pgGV3Yxqrg+luSnI5XKpEZoGHuHQpQXVNtgT7bCIsjNhDJF5V0Y0BHZIaXRLKbGZjE9t4otoWgyeiCu0EOpdyGvogS5Oalw6ZR77dmXSmVnaQpj3V3kq5lmH1ax5qdSp+Lehl7RtNwSVFaXojCb1+q5Dr/Qnn0Jx/NdWDCIq5fe2EniMyPwWSA/E/HxEx8FlUJrCpKzdvEpLchEmvGb+BxPO74rJRrwYXWsG30DIxicoFK4ukVlnguyhoYbRyrcBdlItVuhp0MjKa8ALjcdM2Y1dNy0WJLsCFuoMNIBQt2RBxWzuUEMP36GYY7VnI/KfZRKoTMLudVnUFFWhPI0Yi8G9xsH7xf3Y2thMjF/xhLzh/j4qLCK8Urg44KT+76KepIPF2Uhnfh8Qwxz4tc8E+gaXMDKJpV/jRkqpxtu9QoUK5PoHZ6BZ4UKa5xGgqQsZFfVo5zzpjqTRiHRme87Qj7KHEFPRw8Gx+YS1/tBAwmvz8rLRlWlC3Gfj552VlzgnAyHVZSditSyahQwnSLVTAU/8XzsIMj5Oy7m4cgkxudWsLLNShrcGxvtaUjlc1FWVYrivHS4jKpv9uv72nXEz2J89nc8/ZjgPOxs68HQkh+bNEhFA6tYGmxBp2IGQaeGxqgY964cE7URarMb+SU5yMtJho0P7HeUk6gfId8YdYMBDAyRpJDpIytiTnP+WDjuOaWVKCktRGkGf+eAJeA4Yvu/9zLO303vJDoH5shlQaMNDVfiJkpbDpIz8xk97ILDTINnaAsbk10YnlnE1AoJFfluYdVMaM3JcBbWoDDLCXcSjYrfnprfe1P5oUTgh0PgO8/cD3frb92JC7nGlMxFwAqzxQqnkw9PaiYX/Hm+7J/i3n8bQA/D9otr6nGuLhuZLwv/T8hx7cmxwZnMl3sK5czM8yX7FM2/7U/IKakVcnIOlsMH2KWl1ZEW3oScvfZ4Vlpx/7dUMLPLUVJ3BudqKcfwrf4c2698WXIDte3pxciTp3iyZqHdIw0lBTHYykqQwnfS8yO0jcDqDOZmx9Hd68HymhqGGi4UTheKaLE1HsMrUrzol8nS3MNNT/+CYGh+fvcDf4jx5akx0NpPTobKwiyUOUUN4QMvOeIfo1gZGUDHzXaspjQhl/OlJsMM6+ZLFuIj3kVeJhGQCEgEJAIvR8C/PInhr/4r/vxoBh2z5G5R0ZNpovIU2UZkYQozqzRuG1KQktOOzpQwNDvMMR6ZxtxKEH6FhUb9dvTN/xrvXruIf6xPQzJdfwoqYxuDt/DFrTY86BzD7KKPytwa1ukx9IeEwquFzmRHUloOstsuoOnSRXz4XjXy7HpYvrEEcPGhAeBFQ4xSo0F4k0SDvb/HjYfDeDqyim26Y8MRemXD3PlrHCj95D/jyrvv4HqhHklU7OnWBdbH0N/agtan7WjrGcEo9yxeKpibVHZjCQOFE840N7IKKlDVcBYXrpxHFZWW5JftYV4O6av/QqfA5sgtfEl8mttHd/FZWSU+ImpB4EMvpSkJSSnZeNB+HmcvXsRH79cg32mE9Rv4vPpWhz/DT4ja0P/0MZqfdHPvMEllzocVtskfon5OL7iOTpzUrFSWETRCT+XJ0fBz1F++il/UOpFCo4AYK6WI4FBxDgTXEB6/jea/qjCm3cDk7AJ8G5wzcRqDbKlIedyByrOXcO3j99GYT+XL8oJy6F/BNvG5cacV99pGML2wTPJozp9Nzh/iExH4GMlbQHzcbeeYtnoRH39AJS7FnOCiEn1eH2lBx50v8W+PFzDP+0a1VGatyUjGOuLrXozNLu4qjKDxxULjS8szVDReZHuuo6kwBblJjDbZBy/GssjLvehseYzHj5ni2jfO6+kAosIZ5PUaswvJ6anIz3dAtbUJ/9oGdlh6McAoApWjACkX4/jnD87gvTITVP4JjHa24unj1sQ8HJ6cw9zyBjYYiSMMZTo63BypWcjML0dFXQMuXL2IalZbSjM+b81+q97wOz3jq8N49tff4lbHCFpGPPCMrWKBkT/+mAdjzX/EVo8JT2lUEw51MGIorjAwysKN2n/8Fa5+eAUXuMG38+/7LQst9WOy5yketHSgq28EI1NzmF/ZxgbHLE5jgsHqQkpmLvJKq1HZcAkXG4pQmWtLkIMe1zZza+IZeu99hn+/P4eZNUYJ0JChJFdVUFOEzIpLCP0vH6CpyADtWh9a/vTfcbdnBn2rjCpgL2KMKFGY06Gr3MJ/+LARnzRm0mih2u3/G6ItL5cIHBcCp8cgIHrE0Cs1LcCWlFyYrAwjzMhB1ng/Rnt70dpDK/Agw7QY4hUNrqIoh+H/yTYkmfgCT7xVXoCEYXpqvqQtKTm7ctKzkTXRjxHKaaMc7xDDGIMMK6e1sig3E1kvk0N/+otyHBmUMz7A9vSwPR54hyknFPxajpPtYVzYd9rzQtNe/0e+EumdMBhUtHbvYH5yG9pUG4przdAyVOxFzwfj7KDWMVQSjBRYWcLYfDK9JFoYDSLE8XhC5eN8eYdW57A0PYLhSYbqCYcEbRYUf8BBy3A4Dq0lFaFcP0jPIGzCJ3DQFBvox/jQKB4PKZB8tRzlVfmM4mAjd9hA3vRk7nsCXZEiJQISAYnATxgBkaq345vD4mQ/hgfoqaQ3L0IaMa2BnlsReh/bRmhrBb2zoxhVhhlSq6InU3h1udUOMd2v04O5YAqXvxTUldhhokHASIN0eKEfA51tePx0FusxhherKVNnhdUkFAx6T6n0+QZnMTMhFLMwOQPcMJSnwEx24a+XKa4EwvOfWBHEp0wPZBuC67MYa7+PJ/cHcHdog9F4DFsXSqqOSodhB1Yq+msBKvqJhYT3WhnHZOuX+OrPX+LmY5IjLzLdQYTk69k/tkdBhSGyOYvZBXo2+wfoGV/AYsQMBdemhvwk0PmcCI8+tmFm2HlkgffpIj6tM8SHWr4IVaZjw8KbqYhPJLCGVSpps5OLWFwLweR2Q1+lg5mK6nEpT8/7E2VkyFI3uu79BX/7/B6+7PBiOUxcGGJt0NHZQqOKSCGJhclE3zeN0e0dGmBUsIbyEUutxrulNrhoEFCIEHSx0WB4OIJLCE0/wbMFHUaMTDnhlwjxN4o0kqUhDM7SKbK4jg16nE26CiQX2cHt0+7YiwiQJUYWdLcTnymsRNhjGhkEPuZ9fJiKsDbawggLKvz08JqyMzn+Blgcu/hE/DT2MBrEMzaMfs861oNsFtNCNGybjikxWqZoapkiYqKyH14bw5h3BvOLLHFpZHv0WrgsTtA5T6y5l1rh3x/9DV/+6Sa+ahnGOB0XMaYC6JkyIQptxbZ57cA4pvoVHDfufeluDrNgn9j72XKNhIKeeKaJBtd88HTfwu3PvsTf7nej28u5zBQXnZ5tYb+UfPKiO4zK6JvAxCA97KOzWAgbEXu3GueLk8EAg70Ig+cj9wY/0PAk0h+W5jHv4TPMqIYVP9vDaNcox2hndQHLAS22uXlNzDcx/lTdFfw9jVU/1oRh5rmjie+C7SmMtt3AnS++wp+bGUG0RlkqYqSjAYjGDAUJxaNrExibG8X4AInFJ2ngCV1n5EAtKlNoCPzGJvno3YqKcV+cxuxwL7pn+Axx3BUqjrtDi1hyBY0TfNb5nzB4bvi88Iz0sS2M6uAmOcznUJfqR0oS34NbNCLJjejRB0JeeWIInC6DwPNu8kWhT4JNz1AyWo5dGfnILR/ngtrNUKGb+KzrCewlZ9F4+SKu1KQi3az7bnhRQpaQQ2uv3kw5DlpamQZQPoGRPiHnNj7vegp7cSMarlBOdRoyLAfLsVKOgWkEyel5yKOc0f4e9A/uy2nAmSuX8M6Bcp538PA/iPg4LdtWcQZNzMnq7GtDMJlW85pKZDnM4Br+fJOjsKbD4q5CxehddGdkYNx+Hu80laE+1wETjSaJl+/h7/y9Zyr5AkzKZ0ieVtQCpjFEGAS+98xvfhgXfAwcC1cxLfY2jsvXO7NvnvgGv8XDDOPquokBbgR7TE34dXkO6nM00ClZz1hsKA7V0jdogLxUIiARkAhIBBIIiLQ2d91V1M9uwrO0gvtUsDeCZtgdZci/ehXnLaPYGOvEH+6NYZ6bfG1qOXLPvY8Py/xQzffgq886aUhgpZiCcoxv1yDDRaWPedB6uwtJ9hSkZWjhsNPjmZODHHqX0+xMGVSycsBIB57d/BIPBtupGDtwp+NDlLqSkGelwfx71x1+KD7fmWNIdhSeUS9mvMvwrVPR0CQjp7gEeQUFcDszUFeXi4pMtkEQ90SnsTDUjL/+9lP89SGV3iUFgo5K1DbW4wwN0XnJVMZCy1hm2bzelkd4OkYj+pMwQ9PNcNjoAU2pRYmZJQ6PY2Hen3NUSAU+dobgp2eoYU/KRLqb+Lj5u53GFtUWVsa70HHjC9wf6MBwly2BT3GqA/k2I7Tfi8++8Nf/HlrzYPrep/jq8xv408MZTO7YkVXdgJoz1ahmCqiLRh51eIXK4zDa7z5Ee7sHE5sKpl8wtJyVBMKMLBS6Ibc5uwc9D/EoverBFayri5GUVY+LV+pQlk2Ffmsa3ravcLNlBH3DHbh94wmquPepoqdYywiDxNhT2dYluWBzcP6kA1YrUyaysolPGtKdJirG21id7Ebnjb/hwUAXU0DMuPPsQxSlMsqSvBMCH2t2GQpqmeYy4SPBIT3fS+uJdBiFrQju3DNsTy3Ks22wBj1YopJ+6yHTTce6cP/mU9Swz9WFDmgZ36/l/Fke5fz53Wf44n4felfJm5F7FvWNVagvSSOZNh1OU88w2N2J+x2z8K0xiiHO3BmdA4UFRag+fwE1ZwtQlMx0h8lWfPFvnIf3n6HdG8G2tRyVdXVoqClEQQqNWbFVrE71o/fxA7SOMJWkI4D1AI1E3Ds7mHZaYdNwbuyD/KbfRTRCJgobL+GckQa95GEMtbaiP0CFWm9HSkk90xzsSOcNleQQSPB2qExQmvJQW1OAMuYHGanEi6kY32H1j87PcO+Lv+Dfv+hGr1cBfV4Viuvr0VROB10S54+fhr/xTrS2dKJruA+Dd1cRoMHAr3XCdTWHaST6lzz3r9dPU3oBsrkPr2fKwPzyErwrEYQY4VRcUMqohArkJ9EJCUZqmBkB21SHkVkPRmZmsLgZQsBWAIe7mlHJRShiyUUDSR8OdqK9Xtvk2RKB40DglBoERNfE64CEeSaS99GSbGOoU5rLzDC7IJZ+dx/9zSuY21HBYn8XmkIdUvme/P61bF+Og3IY9kU5qckWOCln8dNmDDT7EnLMNsphDpCoaPC6cpZ+d4/tWYZnm+2xvQc15aS/VM7rDhtbQ2JAjbMYmSUhvFvZgVYy6I/Ox3G1gGvDi40VBC26CC2TVICpsFeca0RpAfPGmHt3XAMtiJVMmRUoTGaYFK3Vu56Sw/SJllxhQScJDjmZTsAgQOv59hge3aMFdzMZhdcuoaIgndwBYjz5D8mK1PRAKZWM+lDvEuq8CN1heiDPkQhIBCQCEoHDIaBmuLOj/B2cmxmBd3IEbWM0CFgr4D7zEX75s3dwXm3BkMaDuw/H4dFkw1nE8Oxf/gM+KfFivW0Lfbd6mAO9hu1VhrwnuHN4X70T+oJ38d6v0pFeOcs0QBFazXc7Cd1oL6cSQG8yc7rtVirtinmsri1i2sPrSQQWY072dw8ap1WMUQ8vYLj5c+z0hbDe48WIj/nVKcUoufA+rl2qZn6wG8lmK8Otc6k40tvHBTVGxXq89S7utg/RGGCFNq8BH/76F3j3bAUVP4au0+2qprdwe6kB02eL4f7dX3C7ZQrj/bfwsLUcaXl5cFcwZ164r4/r0CVBl3cNV39OHoVSgQ9z3OMiv5xEwyQZ9As2MzUdCTRIGFT01m8wz9lDpWszwLWcBE3Huiiu0aPahye3n+BpG40n0RS4r/0KH149i3fqaDBJsZAskGsyOSECG7XIjG1Cu0JuiG4RwUnSQUFE+dxTvAeQCC9nFImCClb11eu49v4VvFNDB00qnUdc/1dSVrG8tIypNpLXjY7DS0PUCr0WDoafJ/ZAWit0uVdw5WdMJS2awYzAh4SSYg5E9vCJEx+7wEe5g0XiM8M8/FWG8EdiNAgQPo2rFO7yFbw72YsB8hf0egKIG/JQeelDXLt+Fe/WFSAvjaphcBrrOdtYW1rC9P0NLIyOYW7Jh2W6h10EWjMzgKn2ZjzsHkX/pgP6wkZ89OuPcbmhFGVZTOtQMcJgvRKVzItPN/weXzLFoXOBvdCwhHLtZVxmSkRDCfez/keY7LiLeyRc7PAyDyWjFh//+pd4l+Wy67kHSrXSKcI9445vEhcai5H3h7/i1oMRDAzfRUtrMTIKacioddBpxmfnWOYh+0ZDQHr1O7icUwRnRjJM3iEseskBYKKRsOE6LtfkoMZFDgFGrJAeUoRYMGXAwepeNGCxvZwWPCLYYTpO591mPH7ElNlVDVNgr+PK1Qt473wFjUBMxWGohSq8QYNSNX9P5f7vLv782IvJpy1oScrGxSoH+Sf0SCFsb9o3tb0AmbXX8HGUHB3+IFaWRjBB8lC93QlHbg7bwqgOzjKV3oG8PH5mpxLACJRw1IH08ou4+Mkn+Ph8EcqYLiSiiN+0PccyVFKIROAFBBLvyBd+P4U/0rNNBS5GhtLATpj5U7QemknOEqRyKQJ0+HJlStUhjj05O7Sy7jDHaV+OCKfbl/Ptxed7pb4ghwlwO2G+pMhuaqEczWvJ+V7hB3xIAiRXIRrPZWO2O8iUhREsVXKDwnCl59uc+CICyyPo8poRy8zD2focZNDq/Q1CnAPucJg/xRn2FdpZx+bmNi3MtN4fJjyAgnej/djWuAY2LjyMqjzeF+LODFZHH+NB/xaWnSRRzDBCKUIj14lOaAM6hhCubmwh6N+Ab4VhaX7m0zGVQjwA8sV8mJGX50gEJALHjcCLOezHLftHl8cUNmNaMfKzM5DnYti9YJB3FSCt5AzO15ahLjID/6CVKQL8nB5FJ0sEnz1LD3uOAVPzrCrEzzVk44qRXT3IBSSxzCtpTaZSJxjybXy1e7YXsbTE9znX9AhJC5Vke4/zs61NhhXzgkSFIUH8RuVSrEE85Vvve+GpIzt8bBETbavwqJnnLIjAHOQranwPP/vNz/B+fR5K06306nHPoed+IaFckKtmcggTvV0YIrmZL8BIBT25j6gEaOMky1tmaPcq9RyulzGGDMcZ6WgRTPNgCL2PfEjMgy4YWMTPCoxUJl9MZXjDUUvgIyoaUOmnfu8R+egiXJ34hBmll8CHPAPbTKUI0A4iQri3iE8gRJwFPrz98a2HXmzMk8+nhyHf81T888rQcP0jvHelAhfykhIEexoSCSnoyIiFs2FlasGWdwwd63PYyKRTJZnOA+FJfQGSOMPD44LEL70e9Rev4pPr5GNIt8BuImO9X42gogj5N1pggwc+GpI2d0ggyI4l9ilCkEg5EOkTFlawYCj9LPFZFnsDwRxPfES1AE4A+Nfp1eXeUsyfLfILBEPMBRfRkFRUFVoSUjLatDzXhVR61tV0WCldNag5/w4+vn4JdZnWBLmcJqxH2FCC/MxHsCvW4GVY/wa5LjZFe4j0Grmepvt6MMr5s22rQ8GZD/HR9XdwtpjRASSnUydmfAH3cOSb2BnFvG8F46shbFBxTskvRWlNOcoYNYMnU5jt68TQnA8LO+Qs4PPhJGeGDjQCrDBNYIPjzskfE30wJpETywyzklW8VgYxOMBc/755fFJsQZxlGY7La63UMHWVBOHWnBQ+DyuYJkeFhWOp0ZGPix7+0tpSNLn5rAiDAMclUWuAc1fLyhJaRt/sjjnnqY9GkGdDNLxw326qQsM1zh/m4H9QSaJRjrlehH3QSBTJKeQ7BkjSbWFs7HM0Tw5jipEVAwsXkJfppDHvgAplL8yvA38kB5YgOq0xheAVRJYjXqxMkDxycxMr5JKIcFwT7WZ7wkyF2mLFkc2IjnOD5JQNl/HuO41oLHIyolkSCh6Is/zjj4bAT8AgwIWe+UFDD77EPeZYdc6SHK/gQ1wuLUVFOcOhsrgYHFjOZR9bluxbn0zIaRZyZugvyPsQF0vJ/ks5+SQzdLyOnIdfISFnOko5H1AO21PG9lAOyVNP5FCQTTX93Hm4p0m29KgZg948kicloZQbo8SLyDOMxc6H6FUXwp1ZjsZ0kT91vE2JMwfP13MTrb2jaPdwk8FNl3gNHryQCA4BkgqSpDHr4m/QUJGPunSmEOy+9Y+lgUHPKGae3kXftgUwhVE63YG+JRVGmV+qIDutdn0UwxPLWF0Oord/Eq4UK8oLXSRS+h4222NpkRQiEZAISARejcDftVGAm3wNDQE6vuxFP5VMu9PT02436kiCRm8a378JhYDEYBqWGbRbaEQQhloqD895b4SWyi+RPRfzL2Nt+D4efHYbtx/37Srj9G77qdAmNuS8n4Jl1xBYB4neEUsioReVclEKTIj57iHaxUUstoHVBSqbVArjyiTkXHkHTR//Ap9cKkNpGo0PZIf/5nJFg8DCIhbmaHwQHoko15bxR7jz2wl0GKmoCMp3YYFIrI00RpAY2Dc1iXmmIYT58/wsickmvSwHmMVzaB0/piPmJ1v96EM8/PwOQ9V7uUegx5wVh77GR+Tj0xLAPHmS/CNmZn8T+Ow2YLfFx9QYete3F5gmQC/8ioKkkIwsPFvPMtIM43dQ+fw6U4JVF7i3ySg/gzoa66/5pxAqr0VNRRqsnAu75+2NXizKCBADneRFZKPPRmlmEuyiioRoMtMldGYTuQmoVBJ+pchNpxbP3j4f+zidBGtjj/D4b7dx8wFTPhkdsUyDiCh1uTt/BD4cz6BwIHBYGYIpZOyO5a6cxDwQOezCYCUax2pOwtCVTXKkMrbHQa91oj08R8P26LX8ztMUTH+IUmnkLOOsiGKNVQPm5xYYDRGFpZSGs+pGlInUBVq6diM/hZtcSw97HqoaK1DU0gdnzzx2aNTQCA4G8nDoVDEsM3x9fnYeW8LoFaURZLYVzf/uQS/TAQzfmoeiQsfK7DS5Ecj/RIPHlteL6QkPHSU57OL+RpK3fdNDgMT0DJDK2sRSgMKwkyCFFBGa5LlKONGs5ELgGS/dO0aXIIhJxzwbmPeTdyGvnFVHSMxZzjQPGt4SmCbaySoQRo55SQ2K12ZQl92CkWmmcyyRL2F+h+NL3GkQEEOVGLvENUf8R8sInLRG1NV3MV2oB91s39RgL5496MB4fTKNWHzfbcyg60EbenonsUQToK3mKs+vwzkSQ7o474+J0uCIHZCXSQRejsApNghw4fR0obezGx19k5jl4hUxsKTIRTdyi4pQkMNwcIacmXR8qQir7Uv7SDlzXehLyCGz8RZfyPp8FAs5hcWUkwY3lUNB9vJqOd3op5xnbI+QE9blHUHOSxv66j+QKRYpdVxQJ7A01IoeliE0kVW3qIIst9jB7OgUnj1ehLHoPeRU5CGNnofjjA5INJBvb42eOWmsp2o0Cqu6IPt5VdNpneYKLWqwiprSCQ/Lse48ODeiCoS5DzTqw9jc8mCydx1znBRKEkzSNM48My4sUyQA8gVoFZ+AO59kkrkMZeOfT/FD8Cpg5d8lAhIBicApRmDXEPDc6EGtXsEvpbACcC15vm7vfa4SobTiw+d/ED/vqoSaEMlsRx7hq0//hL/eakf7zDY2DQyJTmNFgWRR0k14AeMIrbMsHMvvhrcD2KD3WWiDL1+i9hYilpszUZETHuhN1pFfnRrC9NAghhiO7naRLPg7CPM+Iqw9QIKwhGeQCtbWAmYHl1hffVd/3C0rudcf+oSjPF+sUQnNZIcRj/QsxljHPtG4F/v7nXsd8oM42fap7N749M/Epw2tk8wt17PMYVoW3KLEogibJx6hjSWszw5hiAR+LMS729gDEDrk3b97Gombw+ynUFSDCkYqsvqDK5meYvIG7I7oNy9RJJci56wFv0negjItD64sVovYT6fYH0DxnQqxSvA5kTDPREVTva9Riu9780fAKYgId7u1D+4S+QEe4+bviQ/z+Z+Mr2NNR0NFWibz8ElKyTj1BD6b9OTPkniQ0aQre7js3l78uydLzN3EffkZlVyFIJ3kHlKUORRzOHHst4e/J/orDC8v4BwJhxHi/EkYIrin0opIUxozvpEGKgSRINtsJX8Go1MSooVccf89uRERQbMnR6mgk2ZnCXPDNDbwtAQEiQ3a7jxUCFLJIM8RFTBEM0WaBOdhVMzDEznE875374T83XYn3gGiGwfdM8ZnK8iUG0YGBxhtYdDQkEjibiu5voQh4TuHkhXKklkqnKVEdaJ6Q5ClKBkGE2KlkD0IvnPJ638gGp2ETJaSrJ0bRmUHn7mpHsx0NpOT4wwydYtImnqMu0/pdJzmvtRSiLNXaUCoYmU0C9slbDzykAicUgROny5E6/nO+jIWPFTeaYHrpfI9RuZeVVYlisrLUFWWiyyXA06ryIE7ANU9OYtz05geZO3bftYIphylyH8vL6UcsdC/npwX26PMKEcB21NdnpdoT/Kr2nNAUw//J7GspMNdyPwr1nh9PDyMSZIHLRSw7GGsF+NTi8wxS0be9WzWX6ZFlacnFqLD3+CVZyrogTGm5JE/wISwM0y21MMZBOIxLtxkgnbS28Losd2F7ZV3O/wJSlMKLNkkc4pEsMxcUoMgfRJHwiAQhIYbPj3D0VSCwZcLt47Wn+PGZveG8l+JgERAIiAR2EVAKEi7UQCJ3X9Ckdk3CLyIkVAU9s/lz7saGE8Qn1MBFOkGa4OY623GjdtP8XiUbOW2PJSfPY/6ShKrsba3gwuemqz2vtEO9DZ7sMDSdpv71zNSjLrjCwoItz6UyQAFak38Wemgh5ppC9Yo1lnjfHF5ACOPbuAGifi0IZYoruCG3r7r0dzvl/B8ii+VYpusd4ZEXfjMLBIe0lupo2d21yAgusA+cLVR8jNFjGsmPbOBNNalzyP7/cFeiN1bHfbfFXI19N0nPk/waJih6ZYclDWeQ11lIYrdLOMsvJPEZ2WCNeqbvVjyLmHjRXy4nzrWNZEeexU92QILDT3T4R2m661y3IRR5PtKLupJ9pemRn50AesiomOHKX4mC0RaAUNGElEjCS+zMB4xRVPNzzQC0318qJiLAU2ck/hUYC6u45fo2No4Fvof4CbxeTjIahFGRhg0nEct8SnJJqcAUxm1sS0aDXoT+PjmaVgSY7cvg1Euz/ERJTQT9xI356d77dGKz/bbIwxZ/H3fyJVQgnmdivJE3rzRYGD4Pp05JHrcXKOxYt6DxS2SHdrV5L/YF8LvjGpY8SySVHCbZfvEfks8HPxO+4Ioaac3Ug7TUdQKlj0k35Se1Zwy3CmJNIrdkHqeK8Ql5iH7IDBjFEQ0HEEgpQyVBc6Eo+ZrIMXJx3VwHNleNvvrdrP3SvFO+PYt4kEEmLoRihJbIw0gLEWoIrG4mYYag8pPjpBleGdJ9pnHalUpLz6Le4JElI6XRkNGxGzFaDLQmmAxEEuGErDrx3qoMkqRW3cBFytbWbpyFIMkf3zEcpfulRWkesl5QOLB2Vg6kgqacLGxCKXZSTReHfPzdaw9ksIkAqfNOUqLYGiBbKsPaG1jeNSgPxlWdzHKrpfRK56F7EzWek1iCBZfaPz/5QfliNJEIqz+AcMK+3ecsGSRzOOD8oScnMPKYehheJFyHlIO29O/TYKSLLZnT042yVJcZJ59ZXte3tIj/cWQVwK3fwlZj3uwPeZA17wDiul7mFjcwmTaBVxzu1CcJCyzRxJ/4EWCVFDPzUyuPRdpTAMQa1NisTnwKvFHLkLc2Gn5oteJeL5jbps2mSzQ56z4pDJMfoi9XC5xWxowENmCzicW5wXM0aBy8QJz0coykMzYLRF2Jg+JgERAIiAROAkEhDKwxzWTWCiEQsPfExrCi/cTCg7PZXi2UCC+XlP4E9eKOEPF/bMjmBvoQc/MKry6OlQ0fYx//V/fRy0VhFRWENAqmYnsn8G4hnnhz0TYPuULQYn7UQHij197QPibYLDn36JRNbkFUpH3zq9wvoqOhod/wN/uDLLe+W3cWZ8nGdqvMPfRe/jVO0zFYw7e7pqhYvWjDEaZZcGq28BcNBmOgot4/18+QRMJxTJJKEiTwF4Hdxc74b0NbW9hfZWl7+z5JFDLI5+O7tiWwvjcOEvUdaOH4dIeTQ1KGj7G//Sf38OZwnSkWY1UzAU+s5gykCSvg3w+CYfK3njQQywi47+rpe114SjfWBve6MpEJp0lSaw/v+bpxeO2KRQ5bMgssHzNffRcNo0FvnGMP7mLJ94kxNMr8cGH1cwNZ84754SIxHj+nxjTvRD8OD3lCYRFB/i1O7USA7871/ij6BrmaRAY7EL39BJm1GSFr/8I/+O/XseZ4gyG6ZPjQihsflZFMDFyoHMXn3254l5CfIJDQMjiL1F+if1PYpKJ+3KOJj6jEWB3xEV7xJwWGIvT+F2cJ9pNoB2pKZw/btiMa5ib6MZY6z20nM9EktXN/VticHgR20LnT/OdZ+gdJUlmSIUoHSriodi9t5JOFhL15WWRU8MHRYAe8uyzuPo//AznyEWQY901Poj27O+KElEE/h2sr2wiZM1BclY+XEmGY3fSiFbubvRohGADRHRCnOkqYab3hAUhNTHY7yViJAddHsPIEEsV7nC+lFWjKMMFnbMAhVk2ZIxNYGCxG81fPkE2+TEyLhYi05igi969DU1/PlYN67x5F63TK4zSSYfTlctqBgaWrTwBEmlFBmyscHHtnWqWuVzCBEtm9t/9C/7cvQTn1gD6vQEo8tiHC9fQxMoS2XxvfP3u2Wuy/CYROGUInII5Kt6ytMqOs7xQJ0uHDLI27jZfXc5qVDJ3KreQefl82WWIkh4MBWL51Zcc4pUv5PSxlE4n2gYXsMCwfoWDZfgqhRy+WPLcSE/IYb7RSy0KX8sZ6epie4Qc2mHtlMMw/NyCAhTku/fac5CclzTzOD7WcROSVY2L+U/QGujHrftGLPQMYYGpEFlkls10WcGSy8e20fhGk2llUDEHzMgwNv3uivSNPx/8izAK8EssDgef+Np/VbKChNGlR5ZzbwGmhLiCHgSahwXZIxZ7kTOkgHUmk+OXyTQRy/c6KV77xvICiYBEQCIgEfgOAlGS160MP0br/Xbc6fdhi3nasflOTD7Lxu+ylfiFe5WePKGo0FnPlK75gcf46x9ZReB9GnXDtOPyD2oFPYLTnWj+9AaSMiawTA/iJl3M0ShL1S3OYGx0BAY/12gysgfWaQiYpVLR24lnAywLRsd9JLaAtd6/4IvfzSA0X8dc7DKkko1+c/YZz+nAna4pTLMoT1ihh8nFssRkeC9N00MV+m9QiLD7mS503qZHf3mUSwiZxK1CiaNToL6cOez1yD8ziqYHU1gdWaXiNozeVpKobedhK0OEu3P9IT9BNOTH9uY6NtbIeL/sw8oqw7TTA6gIWZkDb4WRJQuOYz1UKMXehV7fAKMQAqKU3zTGx0ZhDi9jUU2SRUZe+si1M9rXxbRHpjYwDTOsW8Z6/+f46vdeRBZImNZUjXwnCQnpYH3jNindsGdW4VJjNpW5frTOdqDl9/83VLNVGCrhns5ORZ8YCfK8WIiRoStk/Rc13tuJ+SKrOtRHkHMuDZGlXgQ6mtHRPEhGf+Eppio52Yx7n0VgDp1Dw8VKRizOYnu8BU9byZ/APdsyMY9iFL23/4rPzGGsNDGShESTMXrGg8Qnsk3SNx+NR+MjMEfJ/K9h+P4G8849YywnTXx6F1mtiPiomT7Q/wVu/HERWK4kPsWwrc9grbsZXQ/7yEVFksiAErE5Ehp/oYQ9uobGi7Uotu4gOvcMrc0P0NLPMnUhGoEUVGrppLpFlnnd5TqUp1cg+8wFNNzlvB4cw0z75/jjf/VzL1eCCjcJ7DQ0IPkmmP7Yhke3+9E9swl/1JZ4YBJjIwwMfEZEGb6cM5fQ1MxU0u0NrMyPoq+9DbpAAXYSkTPcp3JuxMIkwNtipQ/Ow1USFC4tb2InpRGFtRYUZ9i4vyb/xhsP+rdfA3yW1CQYZG6mQS+qBngw/PBL3I9NIpzLtA/WCIkGSAq6PI+5aT67I7NYU5Ej4H09fn2tADWOYpy7Ws9yg6uY7B7H2N3f4Y8BVqwYKEe5m1UGKFfJKgNbiywD/qwZT+ml75hmimh+BdOLL6CCHFsp5Jh4qdrw7ea+xu86WybyL11DXd8s+lj2sXuyBd1MS9VFA5iPZqOqshaXLjOSgOSYtAfIQyJw6hE4HQaBCF/EtP4P9T8VqN0AAEAASURBVA1hdJmkQ8ILX1OFKpZMyWR93CRa0b+TV/UdaLkYsp7tChe84V4hh57ozGKUVleiqpCW/EPL4RuWclaFnL5BjC4xZDCjhIyulaguoJy0w7bnOw08xg/oDbHmsgZtNqa7vGh/dBtLU3ES9mWhvjYTLuZYncQL8HkHuGqIvLATvcfzmx3uBwXDBVXi68XTSRS15WPJH48HsQUuNuPzWF4IYWBwCi7mLWSzVJGBBopvXPPi9fJniYBEQCIgETgSApGNeSx1fYE7D5/hLhWslR0qfv5Obtxt+JM1DYXvMkObnkLB4B7fHIOn34wv/pJMB0AmHPQiBpkbHY/7sDTegft/tCCTpfScLP1VmD2JzWkqsuNP0PzVOiZIMGZgKPyWj958EtitrZIlnmHDvB0iZKxf6v4bvvJOYW2bBolsNyoX2zD98C/477cGyfY/gakIva70V8ZYzs6cVoD8NC12eh9hoqedBgHef+AR1ryDmOpyQqtnmsL59/HLjFwkF5Ugq/YqPrg2gQ3VAJ7NCdJiEXKehYE0F1wkTdMlyiGy/jrbtMyScytrW9iJsYxwVSb07ioEWRLv2I4k4pbNvVPuGOvbM11iohUPbmyS4V0PY4y52L4F4rONVbLv+1nTflvgwzHy9X6FG95ptm0HMXcBbBYTDQLHoRlSyUwrR8O772BgJYb1J+SC6voSdzzdGMjg3s5FpZfpFRpiFGX1n7X5GXjnvJhdYfUmo4s13UU8wDaWmQbR/9Wf8acnAwmlOBikpj5+H81MKQjFWKKuOA+arW54n3yJT//ShqdUwBcSRpFh9DRv0ShEfiFbKdJJ2GdzlxAfki8Pk9l/sg0Pb24n8DHHiccKK1Y8x4d40Y8QDizB13cDtxc8WF/fQNydRG/1A0zf+jP+8KgfnZPrJOTjCM604NGNbXIZMQqyoBCpsVkER1vx1WeP8KR3BnMB8ilgDH2PH7D0sp3lK1k9gCTUadVX6WUexXqsCy1TA+j6coVRDNlop0HJqQ1iW2DC/cvMEvmPSJL53Ewjcmr2DAKwsyxh1RW8e5Vy0IMn0x6Mt9zE+vQAhullT2HZaZ0ywnx8PiOsdOCjUcpHRsmtMI0xZU7EUqtpgBPxMydxkFDUQA95Ccsd9i6gnw6/mccse7jQwWhW8i7EGRmwSUMViRHn5tlHTkqDO47K2m1s7PD5Sc5B6aX3cNnLEpCBVnTNkcfr7hzmBtvQkZOaMAiogqwm5ZlgeUiSfG4wyiO9BvVXBKt/DbkhSOp3UloOqzmYCs+h9gzTdftp0OnwsswnDUFaO9S5Z1FZV4Pz5SlMkZXRAScxs6TM40fgpB6Vw7eUoV98I7BAihWK1EZcbipAOhftrFSG44t6pCw5eKilScgJUU6MLPMpDbh0VoTkueFOyGH44GvJ2YI/bkXcRTmNlOOmnDTRnteQc3gEjnSmkqV3XOcuIWfq32EfacaA7WfIzqpAI0OkLMeymB+pWafnojhdTBvMBbxzH7//wxNuMiYxMLOB2Q0H/q//EsWCP4rf/Pos8pnYlYjAOz0tly2RCEgE/s4RSITFv3aE1U8LlITXd4FKoJe5v+tC5eYRp6K1TIVlZhlLmyFYyfGiFPnYCJAMcAEzE14srtmZQy1SvHbZ2uMkSfOOTcOruIT8ylL8gsq15lYX2ibokX/owQhzu1UMRY6EGBKfUo40Rz4qXKKM3gLGF+iBJPP4/KYOY5M0UGwxwmCVhuGZMQwPUVFbpaIkkgCEkVuMh4I8MyZ6Hl3JSE2mQmskMSGvCa95SSS8zJDxMDRUche3QtiOp6Kg4DzDsxnh4PwM9luPca9rDBNLk0xbIGcNPf8qEdoeoac3xPxoP++lIut6aj4K7ElIZjk5kYd+bEdaDbIb1vGbDxdYyaADT8ZYa/7xHCvtCHxEpAID1V1lSHEKfMjWr5jHGEObI6szWNzQYIxlH0W/AoKEjbuuQ+27XtF4rS0b2e/8M35OIjar7SY+v9fNygeDGKAnftJApnj2n/51suPzvizJF1aw2kRqKSovXcV7H5xFOXkbljfIdzAzgbF5Gg2CezfcWcDq7CwmOY9W/IwoYZm3jUX+PsnogHUaGBKn0fjim8XM+DTHmVEaVZUorg/iVx96SYZMY8Awc79b5hP4qPfxSS7luOSjLJlYKRewM0fP/vos540eY9lFWGAJQiMNT0seclJ5Gc4vjAHioOFg3cP7Ty9imSR4IVZx8K/NY4rtWVrn3E6cxPKFC17MTc6R+Z7zMJ6CjJxGXPuXANQ25ph/9ZiGs1nM9vCcESrDqihLPDOqgc+CgWR5JmEE2FRiZ29gxCjtHsSW/EmX/yMrOTm/gP3GA9zpJAdXFxnw+8kpQBZnFcP1Y9Eww/VZkUPMQ+bnG5KzkWflPEwmT8PLQ2/37nH0b3prOkpZLvCid4vj8BRPvf0Y9g1jmgSKaka0RBjNweAhhFV2ODJLkVd1Dheq0pHtZEQwq5Hoit/HtV+Sr8PuwGdfPcSTAZJ3DnixPEnDGjUYBfsVZHnJiJ7Kd34dLlz9GNffvYBLdZmJEn8n55ynZF0+Squqcfl8J+6PrbF6A3Ey8r1w8RpqqxhtRGPccz6ro0Mor5QI/CAI/PgGAeGf1ZAbIFuHKquCYYEklmGOkJkvi9crz0E5atYbzdbuykmnHBtZ7UUJmtdac3ky5TjdlGNmXVO2x0o5oj2vJ+eEx4/5+Kw5yHBDG2wRLXLrmRNXnotUJgaSTFge3GZASyIldylqL2iR5W9AOb0Gwage2qTiRA3hJG6UTsEDIMdKIiARkAj83SGgtqQhtfHX+ETXhCKW/wrHWcKNm3eFOQtG5t9WV7H0byAb//p/1FAhpRFe4YCG7+bzpWlwqAqg/d8daFyhx53vbJUxE1XnG1CcSW836wwn551B/cgMphfpfachAKx7brKnIoUecneKARnqBXjoLlxcC5D4lspG3Im04mo0ZFjhNjXRM6nDv2atYt1PZT3G/GlNJqrPkpyQNOB6hjinVH2Ay//sgqZpg+eIknRUWqmYReFAamElGjLNLFPMlAAtPbDFTTgryovR418xQhJjkhn6NhieTQU8GqfCSyJbrcEIIwnyLFY77MkkfSutR2mJi4Rpx5MukJg8KgdsOQ1o+iQOTWYdaofZliVWGghQdRT4JLGtCXzMyNQswLu4jgWS/InUjHBc1LanN59lnJ2vDsc8/FxlOUl9chGKz8agtWUhrWIMY9Pz8PqYQrFDI4ngIaJRSMXSfTqjBTZHCrkZmPtdUYsyQSBtjsNUdRWX/okEjJf8HGuRh76bDR9WkjuCY3GGkX5ptmrorkTxn2xXqbxT8WXevgh/j0TUsLBEYVGlE1nJTONALRr/4T9Bk1GDqqFpTBGDdYEP22ncxyfViiztAuYT+DBFgZYsgY+L3E0N7nQ4dJfhIkGyuoFkgEHyAey1J6Lg/jOPpRUzLUiyuGEsfR//+D+no8ZHb7wAmUc4bucetRRncmyUwT2lzoXU4vNoilsSaaAVw1OYml/Fyjb5q2ioUptIdkijSJZtHh23H6GlndWTKOdrW6KQS4OPng6rggacoXvDkk7OrfOUM0ej2zoNcNS2o3z2xDzUiGoIopqBmIdOF5+JWpTweRNEmAKvkzgUxMpacAHnfs7yg1l1qBmdg5f8BZtBPh+ijwbur9keB9vjSs9mBahClNGznsW81wQho5kcGCVNaNLbYcyoRu04jR1zSyQPZFQHn/04CT11Zl6fwgjefM61imqU55N827FXdvEkOvVcpnaXHJIskKKUZEiZQm6BOly5XI5aPt9OURLzhHB93gT5g0TgmBD48fUh4QmgAu5IJ2Ffqprl7GjNPErn9uTYKcf8xnJYJzfd/mZyjtKH17qGC0HAh+2wARHyLdTXF/Il6AArJx2LZf+1mnIaTxbzQcuSVIUmXHCWget2wp4uUh1i9EKYbSxhQ4vTj/8AnEbwZJskAhIBicCbIaCyULmr/RjvFQRxnpt/oboIZY4kNFRgWHGGyp4yVgqH+wJLgwlPPQnQqLjaHVRcFBFk/YdyequjVFi5oyZ7utnJtZ0557rUJKRS8Sr30mvvIbM4Q6njBhrGU+gR3AvVNylIUEcDcICh0OKWVJETZW+tDnLHOOtZiq8IaWeYSy4UfcEUx5K+ZiqMVkbXMegb1vwGVLlKkMNIsogglNuDIiHHwJxopwlm4XpkRIHaTEWknOtJVinKzvpY3YCpC8usd79DQwJlq6iEGS1J7BcVUq47VlYmMFpYMpks84Zj9cwSGyrdbuaE29xlz/FZ2SGvDpUyWyrxSaXSZaNRRelPcA0EaLSg7kx82GsqZlYHDQc0CByfDkNJKhpLMstRaif3UjkZ8xfoNV8irwHTJ7aFUigwZBlBi50KVLITKXaWeWQEhYWponplFLrS8zBlVKKEi7go0bd/xDlOopRxEsdCHyuHPcmNpApGc1D5fj5enDsJ/JOY6mkSRJMcK4bpWzlWpWfE/Fmi8k2lXstydqkkFyTRn8DHRFZ7wTXgf44P5w+NOlYHDQHJZ5GTU46iAOcG27PfIjE3NMTQRg4Gi0qLWKENHzhrOYeFQWm31QJnjV7MH5bII0+Dkn0nUzXcVdxzZleg4v9n7z27o8rWNMEnvPch7y0ChBCe9OTl+rq+762arurV1dPzdX7DVM3H+gfTs2at7rW6u8yt6urOvCbzZkKSeA8C5L03IR9SeDfPjpCEMAIBAgJ4T6IMd8579n72OWfv1z3vYUY0TJATgxd1KE2F1lMMjzkEx8I3mL9lwHWy82t4vIkVHCxc4vBfbqMcra0YJbs49iWNJJQkvqySMDO3iEVlXGCVJ62R1xsVZzevQ487dx3a1HVoZdQKvV07N+brjVp75b2lddWi5pAXnspm7GUKxNQsjR7KcEPuDrPTRyOZishhm2issNmYc29jaUHyfOXaxEghNzknLNQRSveieWEGC7MBGrSWssaclIGVCHw0PrJqmIrqcboY2UND27M5FB9q85M+8oGSHXNGbGgY2zw7PY3RMUao0LBkKG5CxX5WH2itQEMxr0sO0EvD9UltlN8EgedAIA/0ITVhMCyIc7LpOTpw/5CdlaOqAfF5nb9bghN62wWMLSYwW3cCf8Z8qmxlgfxt8StuGa8HPScKL6NEvI87NScb7iKbICAICAKvC4FcLfPXdfaXe16tXpXiKwV5vbbc1CPY/vDv/FJ977D7Hzpu7ZltYuSX1QlHAUsB1rMyEcONkfXCU+FRXtdsGH4GnoeOzn7kQ1+jfqFiRH7Ah7b1OUHLmvCMVuDE8XDTNg7Iyln/RNIyGjicJLZ1eIvp4a6lss3IA2qBqiycqq6jNzIE3EQlh1EFeqXoPHD8upwdeCWRrp7t9rJcm8KntI452goflsUzUvFT+Kgw/fsVEB4658tqF68FE6sN+B1UCv1lKGdOfYTcETmFmu1hKT6jidcLMTJRk8uVF1Rto5HD6YfRwTF/qKkbH7NtJtkejUK2hy+Z9Z02+sX0FKaEeC3Ex0+SaYVPQnmZc1Ec2euHNQqfiA/D2DMuVpVYl/3wa/ZcXFpTAS92FDz8a+7zRnvUR14/vHbsXraN32vNbrgZlZKgMclgzCAWmMZYV1/O+EXDmI6GHa/bBR/baeD+9zdl/OA16KfDw1MIfwlJMmMx9o/XoTKqEWO9gSUx1XXIEszZko0PtOO+pJ19p25oXv92GqMs7FtBBapi8Sx/RloZzIyMDjHT+KFSbMjplDVNbO5WtjE0FiqjFgmzHW4/CsvrUBXN3fsZLftizt376tp5afcWTZbpJHkdGHWh7qkU05+08QFcu3ELZ66NY2ZZC1dLPRpa96Ga6UAuGhcf6cbOAivSBIEdRSAPDAI72p+3VBgt48z9ikf4l+JDxpBEZGEE7aeYhxUsgnd3JYmAOJmq5+5bisBzd+uVTHjP3To5UBAQBN5xBN5mo4Cyuj5tTtrq9wd0nQeuER5BJ4KRipnBrDz8/FGdR1Ww2djv/ruNrzbe8Lfcv41vHn1DWU8S8egBlEllRE+vNl2/JiuVzA1PopKllNzHHfQyvuOJqOAaWJVJGSmeHZ+X0SYlU+FApZTeW70KXSe/QrZt2Z+IzwPjt7kN2xmL3IBuG2KWT35+fLbTnvX+bu7H1u/jE7cwyGoC39wawwSjA8IqT0HhRfaB6OI4pjuv43ofjUzOJhxUFQpIuO2j1+qxxbLWrkMTr0Pja70OH+4vlX1elyaG1hhtvD+y0RXsI6MenuXe0JKfQ0VIGC1rnnqF05bXzsNteP7PMVbJGLx3FadukdRwSUVdxKBJBjBw+w46BkhETj4J/fgdDN44ha8qSSxIPrQD5TYaKLOPm+c/sRwpCLwiBMQg8IqAfv7TcGJIq6oHYxjqm2QdWobD6RgOyRI9N65x8uAD31o9joGxAua2GVizl+GY254Vn79VcqQgIAgIAoLAiyOQDaN/cTHvpASlTOTfdPdqFJTtDHh+4sOW09qiJXfA697yBZ/k/AAm757B6S9ZISvAEoxkRcymA2TJABXxHrFiNYD9rGrxwxPkqqj2w86F3kbKwGOBzJ/r8MHmsV3KgPdCw//q+5ZYHMFU+zl8+1UPeqdDiDLdSJNREQPkiIiR/JxkAenFYQR6buF2/yesblbO0uk5g8CD/ZdPgkB+IiAGgfwcl/utIvstolT8Oy7izJdtGA2nmbVEFl3WtVUlcmLBYViunsLpCMsjMiyv3FdIcub8WyLd75C8EwQEAUFAEBAEBAFBQBBQCOhV2Dy5KSwM5TeyukZchU5klWbyTXiZnlDagF0HjuHQkYM4tp/Eez4T0wvE8/wqrx6dikpgakI2OkEfI7cIz85UCCerNDh9uWiFZEJDwkYbI3YZxcDQgGeJfHiVfZFzCQKPQ0AMAo9DJa++ow1Yz5xAkgTtO052YOa7xVWJRf4lmMikUsP0zKc0lpSiys/8MrEF5NXoSWMEAUFAENgKAYkO2AoZ+V4QeHcQ0JPAsvLoT/EL+xGW41SpoTmDAFk2mdpAAkJvCcqra1BZQeJAd66UnSz1Xu31YfA3cox+jl/aj3OMyF/AZXg20kEZbtYGI00jgZHkJIV7K7GrkGURhVTw1Q6SnO2FEBCDwAvB9woOVmz5+gL4qy046KmnMUAxAqtN5WPxN/UEYuBYhoQrDrs1S0qT/Vn+JwgIAoKAIJC3CIgxIG+HRhomCLxSBLSuShTt8eNElaqScL+qhVrnaUgIqTexMgRJIc1k35ZF+ysdmo2T6dbG6NPqdcJQNToPbiqwI1tm1OaEzcxxe3iHB3eXT4JAXiEgz5a8Go7HNYZPFC3LFjnJoup83O+bvlOWyk0f5a0gIAgIAoJAfiPwVpMK5jf00jpBID8Q0JtJtGcCKyhuvcn6bmtsXsEvGgPTBdQ42bdzsvtRA9vZW/YRBPIBATEI5MMobKcNMhlsByXZRxAQBAQBQUAQEAQEgTcLAVnj5f94yRjl/xhJC58bAcacyyYICAKCgCAgCAgCgoAgIAgIAoKAICAICALvGgJiEHjXRlz6KwgIAoKAICAICAKCgCAgCAgCgoAgIAgQATEIyGUgCAgCgoAgIAgIAoKAICAICAKCgCAgCLyDCIhB4B0cdOmyICAICAKCgCAgCAgCgoAgIAgIAoKAICAGAbkGBAFBQBAQBASBV4yAlB18xYDL6QQBQUAQEAQEAUHgsQiIQeCxsMiXgoAgIAgIAoLAy0VASg6+XHxFuiAgCAgCgoAgIAg8HQExCDwdI9lDEBAEBAFBQBAQBAQBQUAQEAQEAUFAEHjrEBCDwFs3pNIhQUAQEAQEAUFAEBAEBAFBQBAQBAQBQeDpCIhB4OkYyR6CgCAgCAgCgoAgIAgIAoKAICAICAKCwFuHgP6t65F06PUgkEkhtTqHpXAaq2krfF4brCa91LV8PaMhZxUEBAFBIP8QSKeQTqWQTGeQ2dw6jQ5arRZ6nRYazeYf8vk9e5BJI5lknzb6o4VOz76wH+Jtyeexk7YJAoKAICAIbEZADAKb0ZD3z41AJhlFuPOPONsewc3YbvzqJ63YXemBhRLfmPXdc/deDhQEBAFBYPsIqAoD63/bP+pN3zOB8GIAwaUggvEMkkqfJg6KWDFjdMHudKHEa4VBT6PAm9DVdBix1SACgSDC8ST7owO0ZrgKfXC57bDpNGIUeBPGUdooCAgCgoAgADEIyEWwIwhkUgnEJu6guy2Ib1bNeO+jJtRTsjIIvNotQY8NkExpYTTQS6N9I5aWrxYiOZsgIAjkBQJKGX4nKg0kFpGevomzX9/AtfZxzMfoWc+ovmeg0+kRLziM5tbD+M2JOvgdJlC1zvMtjaXOs7h34ypOdSxhKZJAImOFzliBAz89icPHdqPRooP5LQgTyCTCSCyOYXheg7jeifJKH2wmAwx5PkLSPEFAEBAEBIHtI5AHBoE0tbclLM6uYGE5A4OX1nWXDS7Ts86klJPaJMetrPQvImcVC0tpGDzPK2f7g/B27ElPj+qI8nypFy70XvnGtAVEJzATSGAi6EBDtRduh/HN8Da9crDkhIKAICAIvCIEUhFkFvvRe/syzp3rxXQ0hQRTB9KMLEuktVitAhYN5fjhe1Xw0SCQ/1sGkek+DLedxbkL05iYX0Eo6oDGvBfxpj0oaW1CjRngvzd+S6zOYKLtG5zvSGPZUYfjP3wPjUVO+Aw06LzxvZMOCAKCgCAgCCgEXr9BIBMHwh1oP3Mdp68swXL4uzh0bC+ONvrg4Gyz7QknkwBCnej49hpOX16C+eBJHDrajKNNzyOnC51nr+HUxcWsnINsz7Em/7O15x27vjQ6I0wVh9B8JIJ4rA7lbguMxGDb47cTeGUYGrDYhs5bQZwarMJf/aoFDhoEXv9FvhOdExmCgCAgCLyhCGjpT7bSQOv2oNDrRjTEEPvwPJYXljA1H0PYvIDZII0DqYe4BfK2uxqY7G64/D54XfOYnAhieXoVUWMRFlaiiNA/wX9vwZZAaHEQ907/Dn86x/SI4g8Qb9gLu80Bj0fzBkRyvAVDIF0QBAQBQeAVIJAHuhKDAw2F8JcUobJwDsPMQz89cht3q/ei9egh7KvxoEBplk/dGFFgKIC/eE1O1xc5OTV7sf8IFdUaL4q25XhQ7aGcIsopYnu6/4hvRm/jHtuTlVO7XTlPbfBbtYPGYIO9/n0c9CRQlnCh0mPNGgReaSe1vJxTiwjOL2Bg3INYSiPGgFc6AHIyQUAQEAQeg4DeBq2vGa0ndLDWvI+FWBK68Yu4e/0i/vHiOMKpNFI0BjC27DEH5+NXGlgrDmD3Jxn8pvA2XP/wR5wLTGOEBIOpdDrXi2cNcszHbqqepFYwPz6KiYFZTCaqGX2XRjRD8sS8bK80ShAQBAQBQeB5EHj9BgENm2AsQ1lDDEe4INDfvI2O8V50MwQvFo9hdb4Wu6qKUOT3wGl6AknPmpxSyjlMtiL9rdtoH+tDF+VEYzGszNehqboIxX435TyBAZhsxzCVorRhHw5n23MLHWtyImzPCtvTVFOMIh/lMEHwpU6KDIFPJ+k9CUURZ58yOgOMVgcsNJDoGYK5GgxiNRxDNMEFCNutM1pgttrhdPJ1q8VIKo5kPMLwxmTWG6OhEq0322BmTqBJdSYdRXR1BcGVMCIJ4m22w0qyJ5dZB3I9bdrYnjR5A0IkVkrkZGWSJmisNhTprTAb9E+JDlALDZ4rEkOE+aRpvQVWiwEWQwqR5WWshiIkauIikQir9lntDrhsRpAW4KGNctJxxBkgElmehX4qwJSBBczPuTA9NYkpTwoGpjFkN/WqIWGVke0zGWE16l4Co/Vae2JxRJhXqpaGaS6ewOvTbLfARFz0Kp2CobIx7hNm6Kzyianx02jZJpuJ3AdkqX6ol/JREBAEBIE3FgGS7WmcNWg4XIiylgwSiQRM3WE4Vnrxh5sBzJLrJVdd4FliyjhvREMIhSOcQ5jDn+RnPjm1es4TZgtsNivnyifM9RtgPk4O576sHGtWjplyHpzrGSFQyLQAkgd6qo2Yu3ELvdfmMJVQVRLYF1YfAOfuaDKOBI0fSZVKl52G+GRntITZwue8UQ/yDj5lntxo5DO9yfDcCa5XotEY11EKmyQNFcrcstYvE/tlJz6c9B/s19ppVHs5R2V085gNzGJ2cRVBrgtCK5xbZ2YQmLZiliwCOiKeHTE1fxEvs9n4EuYvtQ5KZNcK2TFWbSPGWr0ZBqORY6zmS7WPmnPZb67b0gpszvU6Q24fs+ITepZL65nQlp0FAUFAEHjzEXj9BgE1neioxJY0oMHhg6e8EY2DPejv7UbHld/idzfLcK7pOE5+9wMcqPWheMukvDU5xQ1otFNORSMaBnsx0NOD9qv/zEVHKS40vYeT33ufcvxPlqO1w5GV44W3nO0aopxuyrlGOTdKcX435Xz3PRyoK0DJlu3ZgYsjvUp6hXH03BnExByJfSxeFOw9ijp/Bt5QP70rDI/vG8f4YgxxnQ22ghpUMJzv0KFGVPmtsD9Gq8yE57BCg8vtwUXMLkehNdnhqjuCuupi1LionM73YfDuHdzgOYcWdTCU70PDoWP4qMmLYvtmGiEqu4k5jLe3Y2yassganaZnJG0i4ZC/Gq3NFSgmY/SWQRkq3391DNP9I+gY4aLOXof6Wg8afasYuHYdHd3DGAiEEdbYYS9rQu3eVry/vxxlLtODXn+18IoHMDc0ia6OfoSnaAQaCGF5Jolb19JYmXJBl12IcTHEklcagwX6wt3sbxn2ltthyK1Cd2Cw1kSohUhiFvPDo+jqmcIyjSXRNNMnrAWoP7gbFSVueNhmzcoopobG0T60yEUjF4w6F8zucuzdX4PSAhphKE7WLzs3LCJJEMg3BBTD/ruzcTLSWWBxmmFRz1z2XTPnhpd8Afrn1NRSYSqqA+3o7BpE/xiNCkEqv5xxzO4i+Dn/791HYtvKQhSS2fZJz1IlZ26gA53dA+gfDSCwJsdEOQUV9djdvBsNlUUo5EN585SqMTAdzeCFX8/UAasZpjWjhoaKKFJhBqtNYWh4EmNTi1hNZLKRA2mNiXOuH9V76lFZUQSfkVFsT2rcM18gvKYyUawGRjE9OoTB8SlM0EiuFPrVKA3sNEaYHIXwlTWg+cBeNNaWoJCOlgeN/crGvsq5tBvD06O4fb0T/UzrCFF0MrKAmc7LuJUeQsijFHGOo5qDDXboHeWo31WBilIP7LR0PNbQ8Mz94QEpVnEIjKO7a5RjQ0cBDT/KwK7zVKOorAp7a4h/Zh4rM+Po7J3A3KoyxLCxGjoYCutQUlGFXaWs+kBH0I5C/Tx9kWMEAUFAEMhTBPLAILCGDBcLZic9+CYnHC43/H4/vD4qpxNzmJm5hnP/1Iuu6j1obNmPw81l3G8LRCnHpOSYKce5JsdfyIlxDtOBTXL2rcnZSqHXcYKnnCLKsSs5PrZnk5zzv2V7qnZjF+Uc2lf+cgwDmRgn4NnsxN7VOYylpAb+eBR9yRVoRnowGSXrL6ddPaMCbLTUp2bb0RfoQndHC/YdOYgPjtejhNEE5P7Z2DKxVUTmRzE6NI3hoVEyI9Nynq4nK38Y5vRtnL/Ygf6ZMFbprTYbE1gdasOd6QA0uh+htbEMtWpRlJVH5T+5isXJYYwMTGM8QmNCJoi5iB9wxrjgoFHmiQYBTthRhvdPd9PgMYTu+BDar2tozAlijCGJEVYJ0Fto5CAG4cFraBvuQWD1Zzi2vwFHS7mo2uiTWqUEsTJHFuS+PpJTBjAVYATEMjA2RP9FyE6DAD0KREAZBLRGGgFihXB6/EiV8f0GMjv1hmdKcfE11YHey1dweYwf7RVo2NcK5646FPBnRbio4YIrMj+Ika5O3O0IYNVCQ8DBT+CrL0NBwU61ReQIAoKAIJA/CGxUVFBGAZ3y2vJ141m+nXbyAZpewHT7Tdy7eQPX73Sis38Mo9MLWAzRG89ENYOdhvziKlTV7caeA4dw6PhRtFY4UWDdrM6rBzHl3LuJ9ps3ce0u5fSN0ridkxNfk+NRcmqbKOcw5RxBa6WLhoHNcqj26qgYK2PAWvO1BgMSK7OY6vkc317uw7W+BYSoxKqoiGSSx9KIsOtHf4UPT3yEk7UsU0iFfMe2yDxCA2dx+uwtXLzVh7GZOQTmF7G0QuM6I/FSVJKNNg/cxdWouv0ejrx3HN89sQfVnKsdG92KIzTbhVuf/wO+aR/E9R7iMsq0AbY/tjiCvm//FeG7VlxZV7Bp3M9oWGHBWo1DP/8lPj5xFEeKjXDskKUjOXoLPZfO4B9O92NsidGStAdotZzbzY2oO/g+Yv/2I1TMXcfEtW/x2ZVxTC0rgwAdDhzipPcQmo58jL/81SHUFzo29XHHEBdBgoAgIAi8FQjkj0FAwUmrr97M0PASC+wuTupllagY6ERfRydu0vs7uLKCJYYHJlnnvqGyBCUeevIteoaRPzShKjmmnByHklO6Wc4AhoKUw5D0hJJTlZPj3K6cwS62pwO3OgYwTDnLYRIhxYMb7XFaH9Oe575UaNHWm7Ih+yYqvWFGKtym4o+UAQ6GIbpr6lFWXoRSN40XrIkcmh3E+PAQ7rado0KdgZYVG07UOVFk3WSrZ4knHUPmbS4PbJouzE8No6+zDZqZNEKJNlztJi6OMpQ3VKPWn8TKyBQCXFSshONYIWcf59j7G3E2WmiMcNBCb4hDm5rB2CSNA+NeEisxaoF7qv0fGp214/mtMgIZ0zClJsnWPIGhtA5z5fSUVzWhjB78Sp8Z1nQQ8313MNjfgZtXahlm6UBjYQXPtx7CSTlc5OhVCKTDySwEeqDMaXpuGDKq0gycjg2vTi5CwEoDCgkQefzj23W/e8/9jsYUo5FhoXourKbpsdCxPQUNaKGXSDUmG8SqTSIeZOjlkDJ6MdC1tBqVDLfUq0Xyc59YDhQEBIE3DYENJflNa/iLtlfl2tNY++Ck8hShMXqCh6/i6pef4U8kIr7Yv4QglWyNnvMuFVAtSYrjS2MYnx3GYOc9tPeMYJjG4fTJVhxpLISLKx4Vpo845QxdxbU/fY4vv7m2pZwJyhminI6sHHr5Tx7AMSWHluSsHDUfr/VDheOr2U7HZ3tseQKDN8/i8tlOfNu9jHCa7bMwUkyl9Zl9MLYuYtcqSy9Sb93RjYbm+NRdtN+4hLOXR7FIJ0KaEQt6Gi10TFFQ6Wqp0DQm24nL4DSmFiKwlJXAvMfENcF6qhorQMSWsTA+iOF+RgqOztHYQmMAIwFSlB+cGQWCBswTgOwcqlIbGdOmM6fgn1nCvIpEICw7taVCCwhODWCwuw33RpTBJoYMDQIx/TxmUIzWXxyHY3YIEx0XcenCMIZnmcaoHB1cA5orvTCWNiMYZxTeTjVI5AgCgoAg8BYikF8GgQ2AqbRayd5rccHm9DMsrA61uxkW2N2J3v6v8Pmda/DvOozDH76HD/bSi89Q9sd3RA/tmhz7mpyaDTlf4/d3r8FHOYeycgoZEr8VI/1Dckpr8aCcq/A1rslpZnTClnI2Ori9NzoHjB6G9n1QBntsArrpy7h8tQOWXR/g0+99gg93l6G6kJEQKr+fVRYS0X1YmOhF9an/iYtTbfjiq1LU/qYFbno11gMqNDYuZuqO4XhpBg22VfSe7UFnx2c4E3dj0OdD49EP0cxwxsZyD3zWNOJ7lxGkxd1Q5QP1802eeeYPGgtQuf99eBqSiCRDMCVsyCSmMH8jnvXGP3Gto7gaXLWobJzCe4sDOPvNHUyaG5DZ8318dGwXmljr2ENDhp65gclGF0Y6LuP/+7wXE2zj2PEymBjjaMuuv6g+m8jpUO/CcRoyMLaM5fQiRnQ1OPrBEexvLCA2a2YM9UrOBA3Zrj0uhji+DM1bhYsaGF66+yN8YHDDqPknnOtPYmKJ3iu6NrILKPU/HbkSViJYns/Az4oYuw8fw/eP1KOWnhpGuMomCAgC7wAC76wx4LnGNsGIsk7c+uzv8bvfX8TprmUEdBXYdfAw9u9jqiDDwu2ZVaxMMOXwzlVcaR9G/5UgFqj0Gpizr6Vz4P1iHWz6FFan6QH/7B8o5wJOrclpZDTB/hamLFKOg3JWJ3vR38Yor44R9F+lYXohSjlcIzCC8b1iA+ybQ+/Yn9xYUkmOzmAlkEGA6Xwj4zOYmSdvj96LiqoaVNfUotxbigMtVWgqYfj+QzKeC5bNB+kZAeD0wu7wwsdwNJu7FMXllaii46CYlX+sOkb1Dd1D25mvcbn3Brpu2fHNrZNMQ/Sg2mldm99pVHdWoO7w+zhqKeY83YO+27fRE4kgavOhqPEAaultL7AorgRlBqFhR+uAwVmPQ7srUO/Vk48oO9NtbtlzvzcVNqB872G8PzCP4NISlgKs6MDFRcqWoKFFm+UIstIYZKDKHwrSkLHI9EqjC44irp0YUXqklWkDdhNTVZ67CXKgICAICAJvPQKP16Pzott8etPza3KQ8Z9pBK5i5qQXOOA3fouZz66gfWoOkyFO7q5PcJjcAoUMjX/88z4nx+jww0eLsVPJoRLtN32LwGeXKWcWEyEqlw7Kqafx4VnkFOTkzP6vy+hge8Ypx+o8gSNPlPMM4GqMtLozXaHEjyjb7CMpgMbdQAJGpgMcacbeYjuVdirmKlyR1vsMfPSI2+DRjGPuy1FcvHcdg59WoaDUhSqOtMJH5dAb3UaU+Iywjfuw5NAjztB6c0E1dr/fimNH9qKhws/wSi4s9OQF4CKqIMHZ18Tc+zUZuR7QAq9jmCFLQFgzOhoAVmGO96HQvUTjg8orzDl+lCr+2HFRoaLMOzSzDFVJkRsm5gNWlLXgg/cPYn+DH6UuM70a9Pio/1wNTIyYQ+H/uIfM0hzm6H6opOCsQUBJJ3+C1e1EKQmGDCkP/J4MLPYCFJVWoJKElCotQMM25ewCxEpFSagwT9WGHd8oU0svkIdRFk0kjiLhofUWF7HDvbh7sRiG6DKOVkUxePYK7gylYWz5Pk4c+QAte0hWWcJoC3POuPUyWrbjXRWBgoAgIAi8KgTig5jtvYLT397ClS4q7LZdOPjdn+Dk+wdwZBf5ZbxUZEGi2sUWTDbXo/SPv8PZKz24238ZZy8dYBpbDfa7S5hLPoS5Pso5e/MBOd95j3KacnKsj8jpxt2BSzh3sRW+kmq0fFIGGzkE7j+nOTczMkCTmcXQpT8h1R9H8O4U+ueYn+/fhV1HTuCTD1s4t1Wi0O7KRuCVKcV5p1dgJjfM1R/j4z+jQb1+guHzNEQzYs2giJQ5AWa0rP5DR4ufXDxmTGFO8RyML2Qj+lIZ61p6oQZGRwkqaKg+UbMbviI6ZqZ7EQgksOgsRdXRH+CTvcXYzfZz5ufo809jZsCfH2W15Si1k3toJ43trgoU7T2BT7V0EhWWoPLcJZy5NoCR2BgCAxdx5n9pMDh7FeNt0+RKiCDtrEVF83GcoNPkvUOHcJBGiiJGBZKuQTZBQBAQBASBLRDY6eloi9O8yNecyKjo6eldzVDxTDPM3EEmdjNz1lOxMKLxFPhvG9uanESQckiFQzl2yrGEc3IilE/+N1Y8eJqox8sxU05atSfG9mxLztPOo37nDMawfDWPZVnxmVPvpTGgYc8+7K/y06ihws/Xt9w7i6sUloMfoPHuMgZudWFiYQVTYaDCsRbiSM+8VinDPMxGb4fFRFIndz0qaIH/6OMD2FNBz4KZSvO6WFXZ4LE8C6pt9OCT4Td3Edmo4JvZThWWmDteGQXuC1oX+NAr8y0tJGTS+WpRVNOIQ02lKPPQELR5N60XTi4EvNrbWGV1hXCaYY+bf1d9YnOMZJVm6QCYGK6vIwOxxcI0AjNlb973VbxnlICGCySLqwxVBz+FiRwPdvN1nO1nKGeoF6tlGfTfm0PKUY0GRmS8t4/pGYU0arzyhr4KMOQcgoAgIAjsAAKBXkx338K1bqaYxcjbc+Aj/ODnP8H3Wqqxq5BErIqgj97qdLIaNXU1KEjNQbs6jcFzE+hXHAFNhxA96gOWKKdHyZminFIUHfgQ3//ZT/D9/UoOn8PUZvWaNTn1tShMz0FHOUNnKedeJzp2tSJ6rJBcOWqxsD5T0nitZambzAwGry9h0kDv9TzXA85dqD/0KX78q5/ie4frsJvGeQu9+FbOvYZHKhfsAEY6GiksjOYjEU3J3AKWFuZYFYBRc2FGEKaZzsD5PhOaZRUfpgWo7ENWIwgGGWLPKg2cVrPqveqRzuSCu7oZnrpSRv7NYuwPTMHTsaoRo+sKGlkO+nA1owzpsCDeav9slRye28RqRUbid39dsgN9MnngKLNhL0l3Swo8KPYxclJ/Bhc7yY8wcR0XPpvCreAkOXkiiLsY4dH6Hbx/8nv4xfcPYm9VIYocXJdknQs70BYRIQgIAoLAW4rAG2AQ4ES1QiKbi1/j3NUetI2SNqjm+/igsRF7dvPhX+YE9cdtbElklJzLX+E8vQZtIwkYqk/i/YZd2L1nF0PkWT7oqcYAdZp1OV/jwpVu3KYc/boc1R5q3t5tydlGkzftosiINHo7SqprUVqWy4V8/KTLbw2NKPBeQrWDZZDIuDu/Ss+AY33hcl9oUnn+tSY4a/ajtqkZzcy3c3FR9eie94/Z8p1iGuaKQpX7UXaAbW8q/1AdwGoHFpsFbhojHtcvVX5QeR2YYs/FR27h8sg5mMsJcieovNQM25OtesCdXp+ezYaSUbqQVTIOWJ1A6J9x+nIn/utpO7zHfs4oj/fw8YEqVHjIE/H6GvkIjPKFICAIvBoEcs+qZ3pivpqG5d1ZWKpwagwzQ4MYWyX/SvEelO87jo+bqcRTyXZvhN4rgzfDxQvN2H+slYS8HfjyFpnxJ8exODLGHPhmxCgnMDSEsRXmxRcpOXwObynHgpYjBzAzouTMY0rJYQWZZPzAhvKcg4rzM83UGhLrLkwlOacxJk3jQsV7J3Dsz36Fn32yF3tKnZzf1ARGM8JLiU6jaBL1rgxfwdWvvsU3l+6ha2KB1YRCJBQkoSGnxwyrDGiZXpiJLjEqgFM27fiZLAdCrhfqSszO//yfhkZ1ug3IxcOIN+bXqR6qMsWGLG+QC04SKejZGbV/7grm79mDc7J27v88M0meLU4TivfQ6+/0oIDeEMt/+wpfXurHOI3rsdUVpnJUwXv0V/jRL7+Ln51opnOD5IksZbxxaexcg0SSICAICAJvHQJ5bBBgbXvmC3bfa8fdrmGyy5JtXluOqkPMm6cSX1fN0DGGsjloaaeTOjeJPXZ4aAmf7kAPy+MpOaMs0RfR0HNLOZWUU19duibH/HQ5M0pOB+52Dm3IqaScqnrKqdmunMc2chtfcjbnpjXQo6/KHT1Oa87uoWZkTtS0iOvSNF5QOc4dmf3xwf/xN7o1mJbhzhLw2Thz7mDq34Pn2uoTm6AWE5msV52LDvbr0TWF+oZ/az/kFh9bCcy372ngMGRYwYGpKZMrWCTZoolRFHMTM5ibDyHJCAZDHt+F+YamtEcQeNsQeFnK4duFUwbJcAjRVZbDo2s7yVQ6i7uAefFMW3uMxqdheT+Dl4ojvclm5pen6AWPh0JZ5Tel5IQohxqykmN1swwx8+sfK0dVG/BtkrOs5KxSk6YxXU1EG5OVMoSrxDQ9I9OYVc/fQ5EogpMjmBoexvBCI2pLdLndN47Z6RGaxcLQFZz5n5/jD6eu4+rgMpYMrI5UUIVqEjCrsnvKoB5fIaHiZIyVEMIg32J2jZDrzOPao+bkzYo+5zPO1VoKUmuFdffBS+vSA03i+sTMEtU2xoHQABCNMG2EpM7BRDS7V2w1DOPCPFbJZpwk+bCDaY/b8hU9cA75IAgIAoLAu4lA/qkiDAmPri5gbppMwT13cPfuIHqnYkAJa9E37ca+3cwPK6bX1UWCnCe1PitnkeFyYxjrppx7A+jlJKjk1DQ1ZeVUZuVYn0nOvXbKmYgiU7ybxIJrcorYHi5MntieF7y+NIy/T6eiWJyaxsL8EsIZPx7j9OdZ1CplEssrIczEnEwLMMCpUgC2mLHVhK4lOYCOmjijJDfnILxgi5/x8KxXX3n2t16arEvcoivrP2cXZqrDqs9P23fjoJf1htUhlkY60cPrbzTOyI4GFyoL9RidWEZsvAvtHV6Yd5WinLwOO1l96mV1R+QKAoLAziCQZdjfGVFvphQ9me83lE3OP2SO13Mu2mpa15Ol38S0MJM6JryI0CJL+5FArpih+85HIqxiSDFkfnZ2GZEsB47KcbfyHKqcLeVYN8lZUHIiKGFe/aNy4pQzj8BDcpTlOjen8sTshzJkI8OWa50obiqBx57CMsshLrB8X9/lUzjttbGaDjl6SASs2vtSFNXFfkx1nMdXX1/C+S7OO5Zy1LccxX7yKTSSF8hnI77pEJaG29F9geuIGRoGlEpPr7+OvDrsxmOi8zgnM4RPzcu5mTln+NAoA/7DV106hlhEpSYojGnoXjMaPLzbc39maeToXD8JDm/gyrUu9E7HEbP7OW52aCPLJO0lUe8U+9ZWiysljMbQNqCeryrqUTZBQBAQBASBJyOw1dz75KNe2q8Ma5tjrt+lC7hANv2uFResJbWo/5Qh/dWVqK5gPpiXRHS0+PPfEzaWmJnvQhflXLzSgY4VJyzFtWg4sQsNNZRTXohCH3MOtyEntUlOJ+WYi2sop2lNTgHlOLYh5wlN3eZPXCtlS/6M3WRFg6JijB73o85OboGHj2fZJUxcwRBJDjvTtfiBy4Yy7rcVXLl5Xk3y2XcPS3vzPq93VHXndXcpE0Vk8Ayunm3D121ROPd9iGP7qrDbF8FC+3ncbL+H8/88j9gvfoqjLTVgMYXHLMjevCGQFgsCgoAgsLMIkE2+tAwF1dUotfZhYuoOxtrK8MWNRtjJQdNavJkrhnPgUjduXLqBsxe7Mb3KNMO6crgqKrMRdsbScvirq1Bi6cH49B2MtpXji5tKjgkHWPL4vm2BnADLXbi5JmeSrmdjTRnlVEFH7psHN3IcsbRghmXwaj76OY42M8z+8mc4dX4A7XdP4/TyDGanf4GpH3yKn31Yh3Iq5/fP86Ck5/2UmRzAVFcb2oaZ869vRsORH+Lf/4eTONhQRqXZCvLVQheZwOjNEELtLOm71oD1KfPx5+Ukyh2U8UPLlAhVujfBtLxHygpyrovP03nTG8BC3ArPrr0o81nhpZX7yfIff9ZHvmVZ5eTMLVz94vf48otvcOZmH/pWC+BkxaXv/PgQigK3MNl2Hac7WDXpq39gacRxTM/+Gj8/2cIykeQgeESgfCEICAKCgCCwGYE8MAioxDZarUe6MUAF6XbPVJYZN2lrQF1tNcPx61FfW0kGYTtcNnpRt4xpV9rfKuX0ZOW0KTlMM0hY61FXo+TUob6Ochg652IJmqfJWV6Tk23PmpyamqpsexrW2/NEOZth3oH3rDigplZbrB19N+34Z2cS33lvH5prPfCuryxirCvcfZO1lb/BjTEnrIc+IlmdJ1s5QTkwHt5sXEhZFSmgid4Sek9Ypvj5Nw1pAMk+qEgKDXrm91mZe5hdRDxFJL01aiFmYCqEyUziIjNzFB85hCSS5Bcw6jn+Rr7n/ox+fHRTKw96JrRJRnDMzWRrMEf41SOLgegEJkcXSbioQ9GuSnjdubbuyMJlvVXxAD1EakHah4ElD0qPNKL5QDN2VbH6gTmGUoY9WhwdcHexLdfP4ypDIFPHW9DoZsLHjjZkvUHyKggIAoLA60CApQCnWbrvdidGFsJYSjC0ntwxxonzaGubwVKULLwaerfv/An//N+GUUgPepa/noz4/sb9qCZBYKOXRLOFzSjbfRQnWtowfWkGo+1n8NU/6REd2Yd7DSyv5yJJroZe46VJzAy04cqpM7hwb4m16llBp7UZhw9WMZyfs4trL0qbjuHT/WtyOijnH3WIDu9DeyPlMFfdQoLA2NJEVs7V00rOYlZOE+UcOVoLK8PRo1Nd5CigAt57C+fbGYkYJc8B6xzYi+mZZuncxhJ6yZP/BJy5jdtDt3DjVAbhuUHMdVWjwFmIkvIqEuDtQQXTFZ6bu2fTcGoUNwBJAkMRljmMrSC0FMhyHozqQ1g1kHeBqQKLNBr0t9/GjZ45TIcYWm+ax3L3Vzj9OxIwzu/D3oO7UcVoBkK5psir6kJWOK1aGE0JrC6OoZd8ThdSg4hVcE7OxJCMrmBpbopYDKCndwIrlhqUnbThZ8dqcLjK+hTnzaYOPPJWreliWObacLjzFu62XcP5C9dw404fBuciCDl3s4pQKw5++CnqA2n0RYdxmwaJgZk+9LP0cSwewcrYAQwcO4DWA/tQR+LJBwiTHzmffCEICAKCwLuLwIuogDuEGg0CSZa9GetGVxtZ2Gc4iZY0YFcLSe7qmOfPknteJ1liH6cAPtAC5vQlFymnhyFjd3FvmkpmMUPlKGdffTnlsGSNk1b7p8pR7aGc8Z5sezbk7GN76skXUOqHh3IsT5XzQONe+EOG4Yg6vQVF9GDMUdkcvnkFNxBiveNilDHc3MgySeEAS/H0tONKJ0svle1D6wf7UcUIhpxCrCbXOCLLS1ieW0KIJR2X2hl+NzqPGVMnhhw63KFCb1ShF4ogkORDei5aPE4S4FF5ZZTmpi2N+CrJi5ivt8RqDzF6RjQ06pgSPegZHMHMrIFcC7e5WCiDj8dpGHKotTBKw8myjlxpmBU7IBeEiVWmPrBmdDfrPM9M0+Ax4MKd9gJUVRazxCKNC9xNwwVBMjSK4Y5ujAcmsGigoeNuP8ro8anhdbHu5cg2jmGMcJQyXHMMRUl6K7raafCoQy37ZmDKRSaVQDwSZC1r1pcejSOQKMLR0kLYPTQIbOrdC71V/QrNYKr9W7SdP4V/uRpH3L8Ph6q9zOV00/igyj3xz8+60L4BDGUm0Xu+De29xCAaR+gA62mXuMDo1bUF2Qu1Rg4WBAQBQeA1IxBkzvodXP/8t/i2fw7Dq6pEbga68AxD6mcwv0KPfoTe+luL+O30RZhViDfnFK3Rj8afGPAdczEqnCzRZ65GUeMxnDjZjrHwVSS6JjFGL/wfRu/iTiU5fPxM28usIjQ/ifFB8gVNca7TVaBs/yf49KNWvNdcyDx6LnkMLMVbT8PCyXuUcwXfdnL/y5/jj2P3cHddDufW8BzlD5IvaHoRyxqWI2z5BCc+OoD3W1i60EIDQtdNdH7zOf7xTDfu3B3CcFzDGZY9I/mvs7QRDaVmxHtvYKzzNtomAphuv4BlGhFG7xTQqF2NJpYi/GlRJasdKYPADgyRqxiesjoSJPdjdoi59EM3cOmbMMZ9NLRzfg7NTyMwF8Tc3BxWyF+zQjtMgk6E+fY/4evAKJYWVxEvqYDDTgPABrkwjfC2AlQ01qCyY5bz5gSGzn+Gr6dLMVDI1Is0UzyDs5ibDWByegmLQZbZraEavzeEYJQRBWrZ8cDa4Vn6qQ4OYb7vMm5++Rn+x3nyQPVPY3KFRMRKTJprRRujRivo8DEVIsR+GjUpJMkpEJthhOhFpnoMDjAKhHwD3io4HCzJzPTJdf/Js7RE9hUEBAFB4G1H4PUbBJTyGQ8inLIh7W3F8dZaFFdWUvHmg17VyjXkSuQ9dSDUzBOjnKQFKc9+HN9fk5VTmZVD5XLbctierBxrTg5LGhVXVeGZ5Ty1wc+2Q5oxelqDA/4DP0YtyxXVBLvQf/m3uPenCCJJ8gtQ6VaswBZ3MQqbf8D6u6040sKUBrthbT5WU+gca/Wewrf/42vcXExhZqIfy4ExDGj/M4ave9HjUzmdnGdZf1Fvo+Hj2F/h+1xI/bjFxfz29Vk9Z1hY6LuIG3/4DF8NhFjJQH2XhC4zhZGhFYxNarH0n9rh8zLygD9lmMNpqf8Q9R/8Av/+wzLUFLDo7wMnAABAAElEQVT0UZKeotv/gjNnvsK/XuzBnZ4MOru7sDQ/ju/+x7/Ah6012G1RrM3D2coQn/9X1pS+O4BpEkN2RmmQ+N//CicP1mEvyfs3JngaOeBsQX39ON4rv4eLv/97tF2ggYF5hFYtFfNlekjm5zEXJiFSwV5U76/N5k4+knbxbEPzwN5p9itw5bc49Yc/4J+4UOyYpaHDtUTDiQHeyiK4ipiqoklAN3sXg20X8MevLuFG+xQWMjRiDQ5i8t/9n/jpx634uHKHazk/0Er5IAgIAoLAq0KASuPyJEa7aPBvn0ZvkGS3aj5JJ5BS4eeqGTTCh6aD6JhXbPb8LsW5yFSMZHMATctMJeR+iizXVtKMlp/+B/yFrQgFp8/j9LVeDPXPY3rQhG56//X0WMdpWA1HdUwTbELjYSrxP/whvvvBbrQUcT2RzTVk2T/K2feTv8afU47/1Dl8QzmDa3K6FDM95SSUgZZyzJTTcPhjyvkRvvv+HuwvphxdEqtL44wgIA8M56XhGSqhNPRytmPZQ7aVEX1GRyH8BTSC0yhvMzEKkmSGkbkQBhanyPa/goSzFoeoQKv5+wW0Zh67thUfQMWRZfzyezNI/KkN14c60HZ2DF00wOszJGmO0QLgbYDfU4EGR5SY0uM/S2xn+zGxyHoCJY04wvaEH2qPzVuJPSd/jA8mw5gJ3mWlpxu4Q4dLL6P5dJSbjJGkMcHoCK0HnvJdqNxzCEf3FDCqk9F668uG9TY+06vCJcY2jmC8vxvdg4yAXDcGKDkplozm2kIVPlRVhTKKRJlfb5wyHMD8oB59xY0YW4xiJf7WJEaq3ssmCAgCgsCOIvD6DQJKndOpiaQJe1hG3l1WBLebXm1WD3hsWPiW3acmSzneinU5hZTjfD45+tzEtsei2vO8crZs6PP9QIOHhl57o7cOlRU+HDOQ+Xh4EtO06q/E0szpUwy87G8Boyoa96C+qoShiCrFYv10apo0w+YrR8XeVsToHqhsaKA1PYZj9I8bmBOpoimz67Qki/xRlr3ax/BJlilaF5F9VXJYmcBZhML6Fuy1R1ESydrrORHH0LQnhWhMAwvTKQxciNAxT898GiZyQZQUWWGhMSMnRgcjFybFjR/gsG4Pag5yQte64ON+VSRotGd347k0VraZaSMHv4Mflx7BcsYORwk/Mz/Rwat3Y/LfaBuZp+sP470f0IDSx+gHep8yXHgmiY/GymgTezGKLC54SuuJE8/PGsXKOfOgnFwTn+v/Gj3MPnpT9n+Kj22taIkzesJYwH41oIYGErvqkgLZUgRfzSEc+dSHiv0M70woPMpQV0EMeN3tWHueqxNykCAgCLxMBNYJBdWz4O2vMuCEs2w/jv7838FChXWGBl010Wwob+phpz5kNzVhKAM3DQN6F8qO70FrqVLkc79qTG64Kvdj/yd62ApIMLx/AINjAcwsMDKAqQdJDVPgLA5GffE5X16Pht170bJ/N+poFHbT670+HWpNjMJiuPn+j2lk8Kvn9SAGsnL4LN4kx0YDe3EF0w2zcvagrphzB4Uos4Wl/ACaTiTxv/kXsBgmoV7KyqiGchw4Qt4jsw4mvY3G+U/x/q8dSLcuYzGk5iH2j5FsSQ3n1oYWchaocsc79LQ3+OCuPoL3fkKDfmkLmntGMTan1gc8p4HRE4zQ81U2ooKh8xXGmaxHf5pkimpujIPtqd+Hg6o9D+X9ay2Mrmz6BB/9gpGRFR3YT8V8ZokRBzQCZGiE15sZYed0w+MrQEFJNaobm9DcRLI/RnW8mEFA4WKFr/44Dv+ZAam9K1hm1EEOQh0ytnpU7d3HNDsL0yabUf/hn+MvLe9jepkRkmonbsmME77qvThQ7UKhdYf4DLKS5X+CgCAgCLxdCGi4MMk9OV9bv3h6sudHab1NpPSw2o0bk/azNWkn5cTYHnqh2R7bc7fn2Vr/tL2nvvkvuPHHf8W3rf83Drfuxi8qV7CyHGTZHbaV5ZPSGbWAYmqF3QEXyy05LHqGz22WqoaZ1v8lLl4CC1jhZJ5kreTsgpSrMXUZrF8Iqi6xRkcmZFcRQ9wdZCd+eGInNisLCM6zzJFKGch6RNTJVEmi7FqPSviaPApVsnVUwnNlopifmU0ZYE7j0jQWl1cxH1IGBdUHRoMwX9FdTDZ+B6tI6FQhpzBWF1gzObCMMGUqBmOVOuEqpred9ZHZtEeU50yCnhiVPzkxjikyKc9xgRDLGNgGGkzcXvg8Tng8HtZRJgMxc0GNW/JSbMZve+8z9JjE6QHK9itMHIlHmukeql/eEpIg0QBhoZVEE11giGYQgaUIUmoBrDxgNPhY/KVwkzXZzUXZiy2mttde2UsQEARePQKxWAwDAwP4u7/7O+ajW/E3f/M3KCoqekuNA/Tah1hylfPOKr3UMT7rcnONmn8exP7+ckT9xjQBlhZ0uhzwMERfv+mBmImvIrJKJZvz2dzUFAKBeczyOR/Xcg50+eEvKUUh50G/lwo8iXWpnz8yT6gzZxKUs6LkLFLO5ENyfJRTlpPjoRxyzdyXw/lzlaH3y8uYJ2lhgkZvNX9peH5noQ8uNyPBOH+lVIk/7rMYpoee8/T6aitNRdpk4zzk98JBtr8nl05+EKMnfiKPQGKVc8vsFCYnmfIwwTma82taGUCKylFSQkM+Iy/tWkYWkmsgEsuF36cZfWGyOuAu8GXboxwJ94dGTeIs18wIu/kZcgWMj2MiwPQA9imppZGAeHv9LN3oZxloB+dYB1MmODcrnqZNQ/bEZm/9YwLRJYUhqybQGKAiRdS1o66bjJZEiXYXozAcMCVX6OTgWAQ517MsZdZFofbhmBgsbI+f1xGdTFwWberX1meVXwQBQUAQeNcQyAODgIJcTTjq36MLhGcekKxim0dynrkDjz9g3SBwpuX/wuEjB/GbXWRdVnnxqr9rfVYzHXueXVQ+vNBal5rbn9NlDvL1rx99pYAnyto4rzr/o4c//E3WC6ZkZuWu/arC/FQ7su1X36nf1cvm/e73cf0a4W7cJVf2Se3+uE2xIacSLFMUjiAc4cKFB2kNzN4neaKVeaSqJFK2LVsJeJzQ7X631q/0BjC5fm1goORk+5zr2/2x4H5cQWX/exnt2m77ZT9BQBB4qQg8bBD427/9WxQWFmafSS/1xK9LuHrebTzzttsI9dxc/3v4mOzEQSWcinYkwnJ3rOgSTyJFI4LORKMrjSwq3VAZER6Ycx4Ww4dvbk4k90sk/KAcRZLLModbynmkT7mHdvYZvj7PbeyTm+fun369X+r1/rc78k6dM0UjTIzEeyFiw2IJGRr4jVY7SXtpfNDn0jLUtK36ntue1p7s3pxTmXoXWWVKBkn7soo3yxWayM1kMXFepdGd9RezRoD1/u9EhzYwVGO1SWD2HGy3GmO1T3Ys+Xv2/fp+OXzVeiG7blj/Wl4FAUFAEBAEHkBgLRDvge9ewwfOiLl/L37unZqIdkrOC/eIixzmyoVWGRIZYTRAiFEBwUUsLZOcj8qthaZ8zu/b3nILrPXAyW0f9uiOCp8XxegpSn3upGvnecZFU7amtYmho0Zi5FBLBV5irN2ozSrcj3ZnR79Z69cTUc5il1us7Oi5RZggIAgIAvmGwE7MFw/0SS0YlAdakd7xj95tezYqjc/UdaX0gf23+rA+vzANzkaunGeRs50+bWefrZr2vN+rczJa0MQ/I6PistHznJMenPu4zzPJV3sz5YJGdQsrApntKiKCuje/0z4T3s900tzO28FQ7aP+e7ZOPUdj5BBBQBAQBN5OBPLEIPB2gvvCvcqw9u5KAEPM2esiC/3AfBjzo10YNkRwbYmTvYdkh+VFqCm2w/AqFN0X7tBrEMCcUp1c5a8BeDmlICAICAKvCAGl8D7RArvNduyUnG2e7mXvpozgOwHLg+2k4v1S5D54FvkkCAgCgoAg8OoQEFXp1WH97GdKLLDW8W1c/vIabt7sxPhcgnl75xEZvoYZpwOa0o/wyceHmUPHnHNGCez8xP/sTZYjBAFBQBAQBAQBQUAQEAQEAUFAEBAE3gwExCCQz+OksUBvZ33lxmZkHCVoIPt/SmeCjtwBeobuZdzlqCywYZ24P5+7Im0TBAQBQUAQEAQEAUFAEBAEBAFBQBDILwTEIJBf4/Fga3RMBfDUYc+RIlTHaQxQuelZwjqS8TEUPqNnRQEy0puZLvAMNAIPnkM+CQKCgCAgCAgCgoAgIAgIAoKAICAIvJMIiEEgn4ddy2gAlsopKPNmSfEebaoi0REinUdxkW8EAUFAEMh/BHLPb2FCy/+RkhYKAoKAICAICAJvLwJiEMj3sd0Ow26+90HaJwgIAoKAICAICAKCgCAgCAgCgoAgkHcISKR53g2JNEgQEAQEAUFAEBAEBAFBQBAQBAQBQUAQePkIiEHg5WMsZxAEBAFBQBAQBAQBQUAQEAQEAUFAEBAE8g4BMQjk3ZBIgwQBQUAQEAQEAUFAEBAEBAFBQBAQBASBl4+AGARePsZyBkFAEBAEBAFBQBAQBAQBQUAQEAQEAUEg7xAQg0DeDYk0SBAQBAQBQUAQEAQEAUFAEBAEBAFBQBB4+QiIQeDlYyxnEAQEAUFAEBAEHkEgk8k88p18IQgIAoKAICAICAKCwKtEQAwCrxJtOZcgIAgIAoKAIEAExBggl4EgIAgIAoKAICAI5AMCYhDIh1GQNggCgoAgIAgIAoKAICAICAKCgCAgCAgCrxgBMQi8YsDldIKAICAICAKCgEJAo9Fk/wQNQUAQEAQEAUFAEBAEXhcCYhB4XcjLeQUBQUAQEAQEAUFAEBAEBAFBQBAQBASB14iAGAReI/hyakFAEBAEBIF3DwHFHyAcAu/euEuPBQFBQBAQBASBfERAn4+NAtJAKIDJqVnML4cRSeqhtflRWFqEYq8ZxvxstLRKEBAEBAFBQBAQBASBHALpBFKJOMIxvqaYIqIzwGCxwKjXQq/ZDkhJxFfDiCXTSG5UpMhQjh46gxUmox5G3QvI0VKO8VnkbOdcj9uH1TTSMYRWY0im0lzhsfNaA0xmE4zsg44ftwXH40S/Rd+lo6uIJjjmSRoM2S+twQK90QSLQQOtAPTqRzodRyISoQ6SRirN+27T/WLgfSdD8uqHZMfOmOBzNZ7g/cbn0UaxHy0y2eeSARY+l7RM6XvqtiEnQznrgtbkmCjHtE05Tz3Ry98hrwwCGd588dVlLAcmMD0xiqHJWcwthRFOaKGxeFFQUYuqulrUlnngsejBZ6RsgoAgIAgIAoKAICAI5B8CK5OYnxxF++gygmETbP4SVO2rR4nDDMcTFfkUUtFZLExPYrBvGgvhOGJra80MV69GVyF8tftQW2hHgY3roy17fl/OEOXMPyKnAL6afagpcmTl7HzIKBudYdvnxxGYnETfxDJCsTiSOiu09nI0NpShstQNi+LS2LIPb/8PmeQKVuanMNY/ggCdYMG4MggY4azahZKKSlS7qVjk1Wr9LR+TTBLJ6AICIyOYGJ/BXCRFxREw2P0oaNiLqkInCq28797li/ZNvQSoZ0ZX5jE92IvJuWU+E2nsUc/WDB3Reis07mrUVRWjrtQJM622Ww7xupwhypm9LydDORq9hXJqUEs59U+Tk0c45tEjRk1cUxi98DnOXR/AjfEkTG4XrFYjDJkYEsvX0XbFCRTsxw/+7U9wtLEIVZY8QlKaIggIAoKAICAICAKCwBoCyfGb6DnzJf7z6REMLRSj+vDH+FVZKaw2Ew0CWy41eXQYC70Xce3bb/H5mT6MLkXBdSs9lBokY1r4dh3Dob+owE+sVviomGwtKozF3ku4cTYnZ2QxgtAmOd7GIzj45+X4qdWWlbPzXmhqUbFxDF/7Aue+uYSvu+Ywv7KKhK0Cxrof4q//3IyCIhfMO3/iN+oajM10oO/KKXz2+xvonFyiAqqnp9KPPT//S3zyoxIU2vVPVk7eqN7mf2NTsSAWe07h/J8u4NvLfRhZTWKZBj1vdSuO/3URvme1Z+8XdQc/6S7O/56+ey3MrIwhcO8C/vjZ17jeQ50zmMxGLKWTCegcxTDv+zV+9YPjKClwZKOvtnq2ZlbGMdt+Hl9QzjUlZ3mTHHsR5fwGv6Sc0qfIyacRyCODwBLiiyPoGuCNmPGhbE8JSoo8cNtNMGkSSK7OYKK3D2Ozbbh4qY5GAj2KWnww0aQtN2Q+XVLSFkFAEBAEBIHtICA8AttB6U3dJ4n5kQ50XTmNi+cnMBQ7jJWig/g5Q+afHoqaQnh2CoGhAQyPj2MyGEYoSqPACr3Hq06U6+vQwGVs6omx9srtpeRMUk4/hsbGMLEuh2kIwRUHyrQ1aNBQjvKEvZSFFPMk0kHMM9JhhOu3oZ5RjAYWEXWF4XaexEqMofCygkMyOIvlCY7RcB+6+qcwtaRHQt8I9ychJAx0XnJsXsrwvKm31ktudyYZQ2x2FNNj/egd6Eb/9AoCKz6UpCqwJ03FT2lOMiYveRRekvjYEqLzIxgZGeMzcQZTK4xMD69gdSWItKsORWUJBJmmrgb4ifcc5UTW5AyPzmByQ84K5VSjMCtHx0ifp8h5Sd18HrH5YxDgDZhOphCzVKOkqQDle2tR4rTCYVb5ZWlkklEsFevRdes6/v5OF3o8Xhzb64WflmU+L2UTBAQBQUAQEATeGASUMUCVHZTtbUWA3nyNGXobFYkyHeJ6pjxWl6DIwvDvpw47vf5GN1yFVajd7YQ/OIWZiRF0BGYQSTiZPmCFx6WHxfwkdVqdRAedyQ0n5dRQjo9yApOUM7sux0Y5BlifKOdFxodt0Bph8hTC6ffDq+/F0GoCIWMcfqcXZosdJho1npg98SKnf0OO1ejtsDnoCCuy0ikWJdeCFnEbuR3MjABxkmvB+NQL5g3p6ZvRTJ3eCKOZaco+Nwo9evQMBRGNeRHO2Oik1MPG+2Xn02veDGze+FaSI8Bo88Bf1YgGkx/uhVlMd97DylQcIX0CRqcDZt57Ou1TRnhDzi7UGylncQ5THXcpJ4ZVXQIVSo7dBj3lvCl3b/4YBLROGL2NOPARvf92BzzM0bGoiYILpiyYfC1yHeAEsoKvLk8gMjmBqWQzXCQSEIPAG3+LSgcEAUFAEHgnERCjwNs67Dp4Wn6Ej1xNKPmzJBeJzPsvqcBurxX2p6w1kbHA0/g+Dnt3oexEHNrABbSd/xP+n7E5zOhL4SiqQJ3XCI9JediftJnhbngfhzy7UPoJ5cxewp0Lf8J/GqccbUlOjse0DTlPOseTfuPqzFCG+ve/i3g6hch0F6Ymg0jaPaiqKYfX68pGeT5Jwrvwm6l0P+qPJPDr+CI5J6YwuJBCsqyOYct+VNmYLvCmaBRvyWBpzG549nwPnyRi0ETnMTA0i0lDEewllahxWuCjgebJ991bAsRb2A2NvQL+vd/DjzzH8J30HHki2vDN/zuD0EwCk5YiVFeRwL7ACgO14yfZ6zXkQPHzGlFyPk3NYXb0Dk5TTjiQwLiZ6WHVPsohKWgu2OCNQDJ/DAIaAkfLeVklbzQ9LaKPYwy00ZrtYCgVSWliZO3N8bC+EThLIwUBQUAQEAQEgXccARLKhZfo7V7AaiyJBKPaFXO30eWH0+WBz6aDPrGEUJD7LEQQS5BbSEW+a3X03BTCRV6h7D47knNOj9BcAIvzy1ghq3sqzeR6nQU6qxeFfgdcNuP9SgCKcCo0g+n5FSysxrOs1Jm0FgarA46CQrjJdWTLrlnSiCxMY2lhCctxEpGFQ4ilHbCR/shCQjKvzwmrnn18moKnoRLoLUWxqxRelifQdndhxsIVD4/TeovgLC5DKc/5ZGJCdak9JKenB7NKjoKUchxKjs0A+0tz0VOwjlgWeVFc5oCJmGVSbnIoFKCmgu1Y6Uf3rRUEgytMiUghoWGKqJ0LaRLplRTTi/e0klLxBSrQk5ieW8RCMMJqDrxeNMoD6IW7sByV5fTyUqF+GtwKqZ3ZeE0vkBR7hgYXdV2Fo4gmGfKvM8Nkc8Nf6ILTRvKruAY2txN2lzXLn6Bnex0FZSgkQaRZx5QSE8e22At9JIDZuxfJKRBGPHu/kFPLzusziw8J7kxbKS28nsOLWJ6fwxyvxSXyNqxGGAYfVxUe9OROY9RIQQUqK3x0tJn4zcMbr3Hep1NTi1iJ8L2e1SBcXlgSy+TzmsUUydhW2DEyffEeYL9Ue0oKUEjLxda3JkPtV6lYj09hdp5tCsUQTTGChRE0bo8bxW4NK3KQ9Z3sfepWTGc4jowgcRfx2WBlpYXN1yifEQsc9wDHfY4kjGFik+Q9Y2RbXOxXRTmvIYdhG0o703CmxzEdoGK4qDBKMg2HES3E2FlQCh9J5rxmksRpSPHopRe4rIJkgiYa9F5CGHg6gvgyiQznFrC4FGRqkOoXw9l5/SiSOrOzAMUV5dn7ghyTT7mmE0zBnkZgZhYBYh0MkUiP2TsscUKvtQ8FXgucTMdOauxw2a181hGrHexThhwM4cUAppc5xorFX42E1gKHl4TwNALaDJurrPC+XeB9TGK+Ve6bypL78ZpkZTmv2w6vg+83bmA+I5Y47uzXDK/BYCh3f/EizOFTXkZ8XHBtvlYevrSNDlj8FtS6FG3nMMYzA7hM53Na4+A5S1BRQn4IN++Rp1l81uTUuJCVM6EZysmBAwbKKS+2w8+Beqqch9v3Gj8/+hx4XY3R6GgI0D3IpEqLspqkVbkPxQCZCoxhZHAOMacHFj5AHLyAnzTur6srcl5BQBAQBAQBQUAQ2IQA2eYT8wwZ7+3BjVujmOUiNaJKeakFeMVBNO5pwvu7rEgO38NgdzfaRoJUOriwzdbrM8JSexxNu/fgw0Y37OYXm/kzqSAii/1ov9KOnv5pzJLVPcHygGmjD8aCZrz3wR401/vBtR63FOLMFZ3quo7rfTMYngtnjRTMcoS1qAblh0/gcF0BqhwRJIJD6Ll+B109zNePsFQgVygqAkSv49qm+hjqzIWoLlLq+NM2rm0MZv6pxSZ5+RJRxJYXEWb5MyPLL/tKy6gsG6hMPqucCKJLlMOFt7E4J8dnJLYbC+6nyXue39VYRaEjl8BCMMGUBzMhpXI4T5yuraI/MI6JwDwWVqhM6xg676cXtvkg9rXsRWsDCfWoEDww3GSAT4SDWKXiPTnSj572LvSOTGGcCsVyiHxTNOpYPVQM6vah5UAzmpsqUeWzcm35EsO8U8Q1RO/+1AhGu9vR2TOMgbEAlVUqmXEqtwYH7F5WmKgtQgGNWogYUbG/BXV7mEZiZwoJIdIwtDjMsYnQiKCMYAbMYbLrKi5OR7NK4hIFxUHFx1uBmpaj2H9wP8m1C+G300iwafwyiVVE5oYx1NePvv4hDE9MYyqwQOxXESJbflJLPF3EtaYFrUcPoLWZbOgs563wyYnheQL9GOvrxtW7Y5ihwp1kaUprcTkckWlEpgbRM0JDhWqPxkasS1HZfAQtB1txrKk4O17GzddlhvdwtnrYEEYHetB+r4fYkCdhMUxs6PzzVtJYVILGEi0JM2NYWYkgyes8kTTDXliNxg8+QnONH2VWGpAiHPdFGoBGB9DT0Ym+oUlyUixhkc+SBNNzrJ4SFNc0Y1/rPjTvrkJVgQ121gfc3JzsFZxkOfMVenXHhzDAMO/OvhEM0kg5zz6p68fOFJuyXQdRFx7APKNygryXLcUFKCgvh5ulMp9+3z3DfcLrOR2lAWlkAIO9HLOhcYxPEV9lyFmNsuQhdWmjCw62qV6N+wGOW52XhlGWMN007tkzqmdsiP3gdTjU3YHu3kEMML89sBhCKEkjholyCng/lNpp9HQjbqrFXl6D+xoK4CBO1ItfbFPKfGIFM31t6O3sQOdUiNjFeT0bqHC7Ubn/EPYcakGTjwYB9VhIrSAa6EbnnV50dE9hnga9WDLOdjqhKz6EwwcacbDRD4cmynt+iVwkYxjtVf3iuI2ofqn7i40209BWxOoAzfvRvG8P9lYXouDh58Z6z1TpSP5ZVWg5jSRWGrmCYV53OhcMfG6U01jgp2FOYfFEOB6WE1fPn2hWjn6THGXMeKKc9XblwWv+GAQeBkMZA0LzvCHIkkvrZnxpFD1XzqKtfQxo/A3K95D8gUjnbwce7pB8FgQEAUFAEBAEcgi8W4SCXNWmp9F/6Quc/uIsft9GL2GYih2VfWUQSNcG8emP09hV6sDI2d/jzBcXcW4ilPWyp8j+DOX1bc3gZMKH1kp63KkhvsgiKzI3hO6v/zs+/7INl8l8v8SFYTJBhZ7h7YayBWiLfCiu9Wc957r4MAKdp/Gv//0znOumQWCJhgMOYYKLSHvtMTRlmlDE/Pii1BQmLv4WX3x+BWdu04tFg0GSxgANF8larRlF33HhO/YGtFZn6EN6li2O6alpjHJhH6bhwlVYTAWqDDYaBJ5t/ZPADOWMjU5zEZ2hB7QoJ8dAOS8C5na6EprC6tQoRpaYX0tP6CpZ9a/9dh53EyTNW1aePtZ6Z5vSVFZNNiotl65jFysynPw3v8bJfaXYVWDccP4kQxMYv34a5y5cx+XbPein4j29QI8qxyNKRTKtrhWLA07fOVy4/imOnziJ3/z0ABpYotH5iGa4ncY/ZR/2Jz13D21nz+L8+eu4QeLE4al5zC+HEFEGLV4sGR37ZXXC46FhwmSlIuLD/l/rcNJTgYLqnEEgGlnA8PA0jQj0FEcYHdP3LS5PatBOZWgli89a34iP7cYA7vXOIfMff4QjtQUoZepIbgiZlrHA3373X/CHi+241BtgO1bpbSa+9DYnGAmTZu6z3mSHw8PqE4O/xMff/xH++tMaVPosNELwPgVLXV7/Gt/87hT+2E5jQjBG0knm1DucMNDzGw/Osxw4FUwVbUCsTYySsV7rxV3eG8n/42d4r6EI5bQw5aDmPR4cxuDFP+HsxZu42NZHxZte60WSuBGbRJrRMvTq25lv7XdoGD1ChZDe/jRfo1Gm3NQexjHXbvJPuFFAA8ns7VO4eOEaLtzsQp8ihJsPZpWwrBeaEQIGNe6e8xz3j3Hoo+/gL352GE2lLriV8rm+pcKITt7E9XPncJbjdbuXjsZpKtFBepsZkZS9fpjS4io4C29mhkZMGveWALeXOFcUw2oybVyL6yJf5DUTW0a484/4ls+8313oxggNHAscszBJRKMMD0imVdS0ipxhVAfHveWDOfzVX5/EYY57MVMXNm5dGl4QHkb/xTM4e+oczrcPZbGe43UYihBrhhdpaGQ0WYkHQ4JsrgIkvJ/gl3+uZ8QJ+TzotX+xpypRUPfz0Flc++orfH76JroCvNcZzZ0mC2OC13zzz/WIFDMNirwYNkbCJFeHcO/Lf8Hvv7mNc10k1lSGoHiUCn4BMjU0AjB1o6aC0eNBGtmuXsLZc9dxs2cEw5O5+ysUpVEqleuX2U6jwMVraGz9AP9/e+/1nNd1pns+yDnnSAAEQIJgziKVbdmy213uOl19Zs70hKpzMTczN1Nz2f1HdF+fq1NzqqarxuUZu2VZiYoUcybBABIAkXPOeX7rA6NEWiIJgZ/k5ysFhO9be+3f2ntjvel53/2H3+rVHZWqR//hLz7byKCZ7KC1JNfzWDIOUkqxyu+VhDx6yXzn+jLOVMdddeM8G2WcnOLnHOc7D/TDvuHZ/p78sHN5bPQVPHhjtN25cP22zt7B09rVrq6xRC3nNur1ww3ai/BgSNt5pkV77Aj+xgRMwARMwARMYGMIsOHHOF4Mqcxdzbo7Mq9xVOYTEjOVW0kcPAkBPgzH3rvNun7tKu3XZjS8SIorYmsV1SUqK8ZIx6iLfxDJfP5ZxyDoqCVa8NH7vbe9XT1zbBwpW8jZlK2S8kzF0PGo4+yM+pRM2yjKBBZIt16e0wSK/T3tpLYi6pdKind2brHKCkmFTWUrzZAxhHZjSMtNwsDJJKof6sGH+olqruQq8QjpyMkh1/dZrNLgehiOpMh29RCFXsxQESnUJWXZlFU+IfL5VCRhHNKiSWXv6macBSKEYZxyWv4lvrAZ8NSjPvgFpRkTIbV/ZlEzy0SqafXVdieO45eqdHONaohyJ65MaRK+nS3t6sO4HEW1ezqxVNkpryo/r1IEFbU6eFnNZz/TB+9/ok9ONuv2wJJi88tUUFOjzVkYOzE4BYZRh+dYbS04CvrpzoDhmlVRqoS9iWoMjoUHFtSD2b3AFxOa7rqisx++pz9/8IVOXO9VT0yeMvKIuldnKjOIz+EwCOnToad9byeR25lkjM4aFRAhn2MPi73HaxonQL86Oic0Rpr1wtyqlobJFkirxFirU1VOilJWSN8f6NadZq7Bq6e5X7LV8LNXVVnAfZFEdDdyFpQKYJSN93aqt4+MhXki/8Wh9CSTtHD4xJEhMNxGhP2umrqu6dLJciXSL/2tfcXK4xjZzId4NP9gyBPxHGXf3TlIyvkybRCTKL8oKVVZaSPRdxwb4j4Y7FbLrS71Xj9Ldk226n/+uqqK81WaEs8oq1rou6Lm0x/rvX//UJ+c7dSd0Vjq8FnzRtK6k7lXZoaYC100urt0E6fcAgZ5DOnfqQXlykotVE4B3cbyk5Uwcl1tlE4c+/NHOnaCiHIP3rY8UvqrqqjpTyZiv6j50S7199DN4y4icf1EprnWsrm+4uOTtauY0oZwaksEGVvP6/gHf9KHH52iXdyARsjaySrapm1b00hlx3Ae79EQjrPWOzgc5glGUvozvZSj6vw8lVeQbh6ckZE1iwB/8f8sL2p5nCylvpDlQiZQEtHt2jrlZqVHMqHil3lekh3d3NShniuntByboW1v7OW5lMd9EfdAQ215ZliD5z7i3D7Q+8fvqHU5X2kFDWrYQpYEKRuxS9OapJypu7VVXbcH1RxXrNjGA3pzNqx4OKH1OalYROBXZse4Vonmt+LcWCarBcdXaUmZchATjR+4pGtTceqlJCZ2YZZ2jmRgTY1qeqBVHfxNmEvEGbOpVrVkQRWmzWix8zSOm4/0xbGv9fXVDnUv5yiNLJmKSq6hVKL9C1yfPDfaWrmOBgY1MjZFF5MyHBwJKtzHM5pzf5pTYJlShaHOLjJDZrRC5nlWWaXyU8kQibufLfP9lnd5dESDkXGmtZKRTWlJpQpoCfus43y/o/1w74pah8AqrT3macUyQn1PV0ev+mgRMRRXpaxS/mjTfSAzPHDW5/r94eh6ZBMwARMwARN4CoGQTv7XISoYjIw0Nlx1qt7WqJ1dg5q41kGNNRtAapu1SgrvGBkEF6/rxu27ujs8jRGNEZRfrU1127Rv3y7tPrpd++ooF3wsH/kpYL/jx/EpWcqtqFFRzmmi9URjZ4nA1TWoauc+HWlEYbrnos5eDw6JbG15rVEFKdRaF2PgJWBQza9oPpUU5+2v6vCrR3S0gS4CaAQkLKQps7RBW/aSEl4yQISzS5eOoZXQuaShlVR0BNKUl0c9LLvT7791gc1it/rZ6Hb1Y2CtUqdNPX5ZKdFcInrf/xXSFbo1QK101wDjEG8tYJzy0lQlMs73n8/3P+Kj71wYHCSo06MRotSzRHLj0wuUV4lheWCv9u6o1WbqbTNE6nfrZV3+4kN9drZFN9uu6dyx49q5u1rbtqN3kDCsnguf66s//VF/+LRZdyYwNIop7Th8SHtIe64tZX3iqQnvphTh3Ekd+/ScrnZeVfOlLB07+4YaSnJJVcYhsI5RpNXBm2o7+5He+8MH+uwqad8IR5buYj67GrR9M8ZsJuUwqxjoHdd0+/j7+uDksLqHljGu01GxxwAnUhtJncZZMzfepU4cGMNT7G1Jgc6r3Kpt+w9q395GNVZi/MVjEF4lijzQR711n0Z6KZkg42IiZFbgjAr74RAii0ukLrx4k8qrEzWel0yHCRwCRYUqQr8iI4nS286TuhE3rFYyRfq7u9VJucUo0fp5xgimoViJnOJClRA1Tqfl9zLR5QW6IGTlV6lm10Ht38e6kcJfmEDni+sn9d4QzpsBtDj6mM/IXMTJx4y43ujNfvFzffnen/Telxios5T5sua7jxzQjnoiqGgGJEy26/apz3T65FmduEMpC46Q+DgcCvWUIGzeqgM76nSgjBKKluM6+ckfiTrf0M0R1rBgi3aw7ru31WpLOQZY4jylDE1qvsC6Hzury3eb1HI5RZ+y7vWlhTiCcAjEk33QdVk3j/9J//6HY2RPTGo8pUxV21/R3l1bSTMvUH4KDoGBG7pz6ZQ++ei0mjrnNLqAszIGh0kB9wuOhdDxYT3vl5AhlZBZrPzSam2uy6K7RKFyi4pou86aZ+DQWeX+v51I8L9Dvb09GJ44adBXGeM5tLJKW7vIuuNMmRlU65kvdfbkGZ1vIcO6qkHlNTu5vzaR/YFTIBbnWH+Lbp/9Sqcuxev2XIHSaipUXJBFWUXIDliHFzVOcRjjwWlZmROnU2RdzeB4SMfhsu/Ibm3NJgur6RN9OTCtmIo9tOYr42cFyiVzJo2n0vxcjBJLeB7sO6q3X6tXTcqA+s99off/+AnONr5eRT8DJ8bu3du1awvXEKUuSQuUV7Rc0pljrOmlFt2h5Oz0Z2e0pbqM66OQ0oCgBfPkFRsf5ZnCfTBOtlpSWdAuKVNWCg7dJ7/9qYAmRsI4vZGSpaTSoPERxgkOyqd+JCp/EbUOgdh4RC9qD2t3Zr0KdoxrepCarBtEFQYv6fSZGtJ2UlS8pyCivvosfxajchU8KRMwARMwARP4yRLgrzSiTfl1R3U4NUfFVSXK+bc/6qMvr+nGOG3o7nypc/PXNRHfpZbr1BoTUU+rPaSj7/xcb7yyR/tqi1VexqY8Oy2S2vqimBIySfHfeVhbNn+l6mx0BKYSlbvliBp279YrScf11ZlT+uo8m+/lAu3MqtbrO4u1LTeJNsi0QM4g8lb/M73x63f1H365W/VlpIIj7hYfh2FS/5oOlSxp51QXddjHtXTrmpqvTpAFUaVSRPLKC0lnf1q46oknRfhuvB1DfkQ9E/FaSmazXZhNnSvp0c80Dmm44x0aGGTjOhnGKVdRQbbKwjjfKkR+4kRe4IcrGkYELIjJTeMQWEqvVdWet/T3/+nXenXXZspEEACkoDcplkjh9hpKKnBQrPxJE8cowcAp0EpHhLb+YVUufqWTn3+qfz92XU39aSo++iu9/u4v9Ov9m1XHGLkhy4DI9vI8Nco1ROgWR6VjRO/Huqhbb1XfwWotb8smfX89DLpgPY+r49LXOvH+B/riItH/nMOqPfqu/tNvDmhXLZH0HPQQcF4RbNRif4X2ZmO40Dby9vCiJisbVIGhWo1IdkQfYX4AdfJOdY7NaohrLnvzQf3yH/9ebx/cDg90B4iCZydT554xodsffq2bLQjOUYaQQmZKPOv30N6JQV+rUlve/q2Wiu+o/C511ug2LBBFHR2Y0STS6Smoy61gJMXFsf2nFCCWSGoSA6wZA8GCyVIRBs3m+hLlpuHASiggc2a/fv6P/51+fniH9tUUqygbZ0Yy9fsYeK2ffKUbd5Y0ijGYyMnEk60Qszih5Y6vde7453rveIuujxer7q139c6vuW8aK9HRIL07CBAuTGgfKeGbshbU/2/nNNG1zPzrtP1nv9GvDu3W0eJl5S+d18fnGOfYVV3uTFLewXd09N139ZuDOAMq8pVHrXi4dlYWdmlbLf3fl8cU9/FFnZjoUdO1FnUf3KLlnen4OsiuOP+Vjv3hU319ZUCTVWgTvP03+o9v7dSOyDmR9UAGhZZ2M0618uaH9LvPJ/Vle6IWMipw5uEQwMhN5r5bVzuPevnU+jd0aLlQ6aWtXOuUv4TyDgKiA9PoeySTdh9KK8iMCjKJq6EkJomod7j/H0yE0gLWuK8dgUQyOsbnaVlJG/eVUEKzyv2UFMRPK1VG5H3b1hrV7e9W+3iacvce1cEdJX8xiv5MNz7XpPIbVFNL7T+6BB9f7Vc3z77cmt36xZF8Ld85rzOffq3T7WOaql7U9qNva+8hnLM4LCicIeuljLm9o3f//pf61Y4UzZ3+VMfJBjpxgXT8zF2qeuXX+u9/c0j70YeoQPg1g8BwPLoJM404iApXIxke41/yrEGEta19v9pnd6ksIxHljSe9SO+n5WBn9yhikvGU0ND2s6KIcrRnySIKz4FZjdJysJO6kqnZBMbBocU4qSmUljxYnycdP/p+FrUOgeA1SylAsCeLGqtKRClma1WzqVC3rt/SF1fPqS0nUU3Vr2pbJrUw6+Lair7F8YxMwARMwARM4KdBABXwDCLTNXuUgbBaHOJRCOVr9uNm9fTeUMtQnAZiMBizt6r8tf06evSwjh7Zg+AVkSDSwdNIt49fF2MOmnQ1Ss7B4MnKwLBZE5BKSSd9e3FE7U0X1HTlBkJjQ5qOHVEqqaAlGCypt3uI1C8qLpO9yNGj2r13u7ZWYLyFzXlYIOp8EzKLVJiVoJhJopFT6LlT1zuDSNkqm/ESepqXI1b1bIH9OaQX2lHUHlHvCqrgBZtUzDhljPNMiRLU5YZxBoaG1bucqKX8CiLGa/N5pnGe60IcxaHBxrtrEp2ANBXtOKz9v/gb/fy1fdpRQScBnAEJCOpFMj4zlpWTulcNn1PjnURr6ZBKPDeLKv2A2m9/qctXb+ha56jGKANIJUjU0XRapyZuqhnDNTFcG9RtxBDVnuy5o7td4xpBRG9unrpmSiWmp0kLjghUP2pIPdcJ8SEcNRPXdfPSBX19AeNqrlSbqF1+61dv6dV9iNlh4KSFko5IBhBvT6pT1urP9GpHnOZLicbXvkUmCmnUKVwPwWgYHtRkd6d6qPWfSKtXRe0BvU4k/RXeU5lNFgd73LiY/ogRHc5hKY423ajzF6JinkEYMgTFIrbHLCUqbU26dP6irly/ExFb7CXbJnQKWKLDQ3AApIpI/Ai6GajVxVJ6kplPynwQqHxgvPA+avgTQknN0pJm03GubN6v144yn52bVJOTpiQu+LiYUUplQt0/ZQqo1SekhvkkoVqPTT07qv5LtLi81KRblAkkbXlD+1/7md55da+2FaZFHEBxLHjMKor3K3Wa6KCFW9oVjMIkhAE3qX7rZjVu36TSlXaNfnlaN6426WrHMOKBKLgPdajr5lmdmWlWS3oyDrZw7YR1p7XnAM7EDjoPBFX9OZwmiFXOkIW0Sur/at8FXb+IjgGaIT0J9YgyvqZ333lVRzCIyzmnUEMfyhwUU4AxTdr51lKdRgAxsY/7hdryAhwCZRig3O7r+KJOfqRdzZfP68oVzvEW2VG9CGxOkDGF8GfoCEEFEqKDY3QLoAyCaHsO3QYK6QwRcajcX3feF49gYMnmKpWVtCqzjxp7SkJurIzQ6rNJTRF1fxxvLE4OTqRY1rR4R73270CgsohzX6/nargKEQbNysom+4oMnpB9RCbMKl6xlZ4mdd64pAvXKPUZ5Jpc6VRSIVkvRW3qoVxiYInsgk0HtGXPKzoC+5rl8/r89jWdvEL51giaE6usf/ct3Tg7r+l2RDq5COPDNcQ9FsolZjsQGhwI2gvz6MGQgTY+SXYHJWokq5BI8dB3Elm9oJVBVktwCPTM8YwhI4cuEmXo06RQhhB5Fn2vVcaBFMahJKiTkq7pWZwbOBbKGSf1R5jFHrUOgVBnF5ccxINEKkl4sZEoIK2MVhnd5/6ggY58Xeo9pErkWe0QiADyf0zABEzABEwgSgmweWOnFYdQVFpeGYrrRAoraSmWcEtdRFimmPUkiaupbL4Ltx3Rm2zWDxKlLEWAav03KkQxaSmWnIQhRApwbAylAGMt6qGmePQkhl7HkEYxhlYxnoY6UbVe7tQsG9P2sXSieVt08JVGbSHFOAfr4GE8gvMjShqZK/vilSFSUcfRD0DIK7GMyCWdkYqwvp8tsI8SewcdGagnH6N1XULpJhXkZKmQOT/bOGxWO9fGGUW4L4xTmJvNOM84n2e+sihVQGxxgJKBrl4M4aV8lMB3aw/OgEYi3yUYlI/ZVwnpSqI2OiuDTgHBQAtR50Tq2acH1Hr5akRZfJD09tUYRMDuXtZVBOs6whoEYxZdiBCviwnGx8KM5hH6GpjkB6Hmm9+Ef79hFTzz2Tz4wMIUBs5V3b7VrMvdOCAyt6th1x69fqAWAyvUDj9459oXKblKosvE/p/nKW8nRkT5NtVWcv1wsYTrZRk+w13dGg6Gey7G8eZGbSOLpjI/1Orfe6Gwv8h9MkQnhWnqzHPzMGQzMcCDTgHntrqAs+fGSZ3/8jP9+XNS44lYDmH0L2GwryDSHRwJIZV/ZW5SMxOhbSAR1TyMS+rss4iKckk9fI1RA97frxGMq8XsciK8qPaj41GFaj9LtvYiC2BxfCiizD8VnxdR+A8p3DR00GIfWR0YuHdauAdiECzEWbJjJ2PgAMoNMhr3jxT0NGixGNqMR9YwJZ8yIbpMkE1TRklB/MCo2q9cU0sb5Qmc94pm0B+5pqYZ6sXxYKytO0vPeGHdV0lRnxvp1+AE91/QGsFREBeuB5xCE7cvRdbrJokjS1Vcf7v36bVdVThvOP6Di3BtZin0Cc3G+Ejms3GJSUoLteW5rB31HQkP0zHun8Vz/p/7oY+OC5eO6+P3P9XJJjQWBrluieyH7mqrocNaOLFlNCVmKW9AbHIuJUdJReURB2kOjqBHL7MkSg2q97+uAwPLGoqh88YQkfNFhBjbacnZEQxnkiR4FiXQzq+44XXtzdqiQ4k4aX8ADZEk1jQSIac+JxZtkBm6XjSdvKg7t27jDEArhM4by5SIDbRe04X4W7p1Cw2FkJmy+4Aad25TPY6uhJvX1dlyRzd66SQAiMUpMrZuHteXfedxNHA+4ZqPLDzrTKcGRCQ0zHNyKji+eIXzjfw+8t03/8P7KaEawdHYSQnPjEq1mfWtoCQkhYvhwfX5zY996/swDqVQ98eJKdHmvHzGodSD+/L7j/OtgV/KD9b/7+wPdhoscgp/xCrntL/y3/T56qhud9HCpowQA+D9MgETMAETMAETiHICSxgbd4kAnzhHKmgbUWDqdsPOKWzueM1Skzw+SKsv2oiFgu8fZpMSDoggFeMnYAnFaFHDTSc1dydBC3eJSiOilsSGe4EI0+StU7p1N1btvYPqTj6ISNd+vbGVGlk2rY9uyCOTv/efxalJdSOOF3qALyRVK6eySnlZ1OriEHmW3coi/ef7O9BPGqH/e2IF42xiHFTZn3GcJcYZuNt1bxyEtirCfJ59nEfP8ft9TanCNI6IwRF1D8eiuE8UuaxIldU4hTAMv8WC9F9h9I5PTtL5gVZl6dRW58bSV5zPEyEepmZ+mWyCBDbtywiXjfXSoeCJu+41Y2GFtPgMuGeV0DGCfusRvY4nvv/7nc2Dd81TG03Lw15KIXqXk7VaWKvK0mLVkrn60Lh88G6+4CqmTKNye66KFnFOJBNlxxgDQeQ1wvXe00X3BxTZ06po3VdeqSycVY9d+5EsAgxhWtFNIrRZWoizjBSbLLbAtOHS9C1KF/79T/r9n8/pXMu4FrLKVVi1hbR6gmmUHKTE4WygvV37FYQZmyghWE1UNt0xSliPFAw4LqkHr/HBAcQzuzSOfkDSJrJemE9OcBo8eAdfEF2d6ULkjTaBE+m56A7Qso2IfS7m1dIshlYHgm0jGEx0VyisxMmRR9T0CTfMfB9Cdy0dODoQ1EPYM7WkkkyaJMZB22MGocW7dDUYnqP/QRAgpWZ+jjXvw9H2yHwfTiusO24PdCoyMrm+aRWYmZWmZcTrhhDT6+0jEyMmU2mVKN2zXmXpRJmfMM4Cgoq9/SMaHZvBcZir/IpK5ebmMv/1MvK4zmfu6PrX7+v93yNweIpsh7l0BDI3aUsDqf2FWUTy4xEpJRre0aT25ms6T6cDZaHrUFKuUpwV2Uz80fsnNpGoOaVMr6VuUdVBtNe6EfGkRGhwBGciDp6RvrvqRWyzFcfg3Y4ZOhmsqqS2SMlom9Rl3Mtyegjyhb4KLTTjKUWJDQ6B8TaNNk/o45UOjdJSc4py8MQl1nq2QxN3p/RxPxpxAzyB82q052iDGhsKaTOICGlnKJVCBJJLaDWB0hWeDSuT/eqbDs/rJ71YezoOxKdloE8bRDKJ+uPwDBk433o/Qo70nNRouM5nYzSXWYaDLU+VZJwnc9N96/1POlz42f1x0NBAA1dzGQgnhnGynnGcp42/wT9/7Hmzwcd+rsMlpvEgpactyj6iFCoipvJcA/lDJmACJmACJmACG0SA9E16Tt+5TJr3ia9oQ0b/7/5UZW1/R3sqMc5n+tRy4YbaZ9rUdeUrffQeQnIxbyhhR7FK7ltO6zpTNpnBIRCiTWQIjHezcY3NpDVbmfZsicOwm9S1pn7N95Oyz14jdhaF9CM7Vb9/n7YWkXqLw+BprxiE5Hq7UDAfW2SDmquqhnqVoYGQ8QSD6GljhJ/Hrs6qv5NI7eiC4lJzVbm1XqWlJcqMhEb/0icf/10soo19Xf0aZpxYNBwqt9RFxsl6kjX0+Edf8DsYjXVjWGFgEf1eXEYsknTuKTb1T9IuWB1u140vTpPuTqcBOjykbtmt6vJiVSSHHuVEq4lYK4m+5Gg1HNhergb6qSegah5WYjW0VSMsGIyRmFWE+zA6Zmlhp4xy5TDOzqocShOeZkw842nSCnNpAiN8hswL+qAvzc9E2gsuxWPkP+2ymEJ071an+iYxUiq3qaIILY1I+isG/hglId1E7ucRniwrV3Udc05DbO7RaXG8MUQAR2m1FpdfooLqWpVh7OYQN58bu6Mrn36iz49RKtCLMbzvbxFe26G9DdWqQkwxP2TZoFMw3HZan/U2qz24GmJpW1cetAIoe8E78/DSxAkWmQ810fMY5mE+9ZvQaKAs49FzYz7jiNyNsK4xzCd/02YMbLS/8OyNrCAeOTunBcqCQhu5MVK+51DrZ2keMbZYo2HaNZ45p89O4RgkAh5fVqg8nA/5yZQOMM48Btcc48zPs+enq0Ja7WvaiwZBI2r/ybEh6+Ob605knXWfWyCbILVYWfV70R/Jw+jv0OwEfMNYS2k4FeahhkF9r1zoUcyaw3GAeOPxqz1q7sNLSWnGpnpS8RGdC+UZDzk99qln+maVbI+Ja1/o7Oef0KK0Qx0paJEc3KUD++l2UE0XhkIEIOO5xignuPXlkObJUgrGWmpBKUY8z4Ac6ucfPAOmNXKb6HtTq64MZapoy2bVvkKUHcfJ7CSdIsY41hQtMEdvqPXaKb33u691se2OOq6X61bfpBprl1WDQyCc16PL+0wn9M0344hLQK8iNpbsnGkcR9Pjaua6zdpCOU1DlmKu39TQFNfP4LjukBc2nbpTZTUHdaihXHVFFI4glDlJ28V5HG9zq7QsTKlB36VR+yhZKSTjh+ShiOMnpAHEkGUSsgFiyRJY4BmxgIMuJqMW8cp6bUZfIuVJz7ignzHUozEccUPLnHnpZjqeVKo2L50skG+ezF/4ngwmWlJofIhMDJzIKqt9vnH+wiE28lfPcuo/4LxIB5mdwhtIG5Y4bvRU6gXx7Hz74qTuhD/OLcMJmqWuqojmos8m0PMDnoKHNgETMAETMAETeIQA0bqQvs0GeHy0V21nPtGpLz7Xh8evoQTOJr8EQ+2V3+pvXolXat85/bmnXWO3+zCcTumLPyCAxgZ8efmwDlQRyURHIJV9wfq9iA6GFGA2jCG1eIZIJ/nKKG8f1uGjK8pcaFFfGyJ89EyfW2HjhzjWjp3btWdvrYoRsKP8m4gUm9ZJopWksc9he/ITJaJU3ouo1aUWUtYnMFryEHqLYWPeT2SOHubxmCJCCT45JRVDDAVsNvbBiJmfWhsn2LDEuhhnWf2Mc5m2ywMTtGPLYhzRlm6gQ20IVhE/ZxwCJCkYhU8cJ4zCW1JWGOemLjFO/zjj0O/9wTjstYJBHRmHqHUO5xXm80IvWksSvqeeFkO1pxWHVgAAJSVJREFU/6amm66rpZdo8SK1vStEwm/TNu7cFd2MKyPLgnIK9uMry5RnzHQj0ve5Pn3vBCrp7AVzG9VwZB8GUpUq46bUnUv6PCHqWIzU+CxSvbft1aHdZSjDs4ZhzqRYR1LjqX9fnMMAmiSjAFG2OCLlm3cFwziDc3uhM3v4YSzbOGqjE1nPxBUMr2FU9JtvUB+dp1VqsrMJM4a69rWcZXQMQiu7O2d1kuu+dZq0+bcK9CYOjIwCnBb0jr/WTB057SBnF+kKQJvCmIVQB4/af9KyElfpJDA5rb6m27p2pzdS+x8Xv6Q4fj44jMFUhJNltE3XTl/GgUVadWK9djQc0q6DO3QYYziUFIR2jDNDlCXguJhHsG5+mfT6mFTF0wJylXaHg1MlqNnTKYNzmZzu0dXmu7rZOa2ZhXjlrM7Rso507CkirmhXpKDRMDs9wTVFhBtdjRHKEmJyVjDSljWFWvscV1csuhmZZCWkpeAsmeYeajqHDkC6mrIxvKinSI7n2sDY7bv8Z3302Wl9epmUcWqG0vILVFJZinhnIvv/IKSHw5Ba9FTSLmKncVpk0m6u4YAO7SunrRuGYzD2QikEJRHLdCZbRDdgbnKEdce0SStRzc7N2lyepkQEORPJEEnC0RBHWcFs90213q7VlVspqqXMIajsIyBCwHdCQ9c/09ljOFeaaD04yvOHSH0ytfjTk2Pqn0DzII2xXvAeWaJsY7DpDO1Vr+l634oWcBhW7zioVw/XqzKXtnc891bQYRjHgbdIy9MZHgrLpMIn0SkhHifhwCAZNJkpiD4ukkWAhsWlY/r491/r494KbX33Hf0CjZadOA3SKTlJzqTUYQEdtik+S1S+OOiYLAdFf4znJfQfwkNivV8RRyvrFTIquOZWcOxMJlRqK+e4ozFXkxP9un6nS2OTixRl8ditqdWmvfyuPFelJIYlYFwncw6pPJ9C2cY4dmFWaR3O2MPaTkeSnHB/8fwLbWxXl1e0RIA4MB0doTxhmTawVTtUh/ZMGWUlCfM8V0NmwgwMwrlSNrEy3qnpi80RwdJRGMTwMF+iHe5wWxsOXJwZsSG7IUnp2en8DQqZOjzTKBOaDuPgAOOQa+NMdGnmEmUfnWhyIOAYw/GWZsjGaG1TG9kn3xqHy/UFn67rvVKPjRclDoEVjfKwbL7IH4mMg6puoN3I1lw8jY+/FjrP0LrlY33QVUT7oiodqVoTVHn8Xf7OBEzABEzABKKXQEhrvf9v9M5yPWa2rNn207p2/pQ+OnUD1e8m3W69q7ZeNm+kyJbUFals1wFt3zrOpuu2vkI4MCGODR4bxsFbX+rYv5GK2XZL1978rf7uCAr0lelPTPF9vpnSoo2IblDvvu9mCG0Od/zyb/Taa0NKbl/Q16nXqQ9F4CsuS/GVB7RnR60O1mYpI1J3u4IhSJurL/6sr270UbNLOjsbzriEJU32tqn1EoJV06v0mu/U3c/+q353K5PxMGhDRKviqLbvOaC/fwX1cpTm50dbdfvz978xDgZWH+NcHFT7FOOs0tf7i/+q39/J0skgmh62lmWvqHHPIf3D0cq1ccbadPuz93X8Zq+aB9kkR+bDOARS7l5AmG+ScVa61PHl/6Xft2TpFOPEhfAa4zTsPhgZJ5+oWvjRc79Wpkknv6Jzn13UmVMX1N1+Scev92ss1LGz/e8+R4s+otVzN7aqroTU6ET0G2ZIbe68rZamq4irEb2MRVhy78/1d7/coR3V5SqeHKL1IJ0arnQrYXhcU61f6/yJSS2NY/DR8zGbqGEs6dVzRCJDC7BhjN+BIcQMJ4tVvP2I0nY1qpIU/XV7JeOcqKlTSTFp5/F9mh4+r9Pv06++96p2bS5TCSJ16aEUJeIwouViN12ybuEI4TqZzd9F272/VX1Sp+KuXNSn56/rwlcXdKWH9HAWbODKZ7qYn66ijP9B8ZunlTl6VR99fEHXznyhy9eI8tO3fbHngu6ezdf/nU9rTloUlmCEDCCYMBOiqhj1Q203dTtrTon9GGUI0o0PkJ3QhThbB/MI/dqDVgFr0XnmQ32VzkXyq3/QG9k9Shk4R4vGJp376oyuttOVYCFBy0Syr3ycrj9n/qPi9mSpfAnnA9kIJ4huf3EGBwS1/fO0/Ou79qU+a6pRTkGdNpOyXbcFg+zSXcVfIQp77nf6YLmNe5oShhIM/CVSwbtv6yblC1du3KV2Hl2ElXQi4wUoveei7RHWCocgdfFbGxEXZ5wkWtXNkOFw6QS52ZOhT32OcnAGxZGNMD9DFPzeug8iwNk/SSs7hBl/27hNmxgqLzVNJfUhK6ZJ2Zda1XP3M331x3HN9FzRdpyN+anBcA0ZDxhyN6/qxo3baupiTGaRMNGttmP/jflP4th8Xb/ZQ0tG6jTuPzOe55pawSCfpARkYgqNkAXKX0ZQ0W/J0ZU02oImkAlDh4GhXgz99g61t7Soo4tgKI7CeNqhtn39O/03/UozvzyotxoRF5xAUf/GFZ04fV5XB66rbYJ2j21XtKuGtpfBmULnjZU5HLL9GK5Nl3QFbYmJjHoV1zRqK06yEkTY1jU7IADBiI9DVDMi+kd2FcIFSt7yBiUBb+udxmXduvSpBsm+uEO2jFRIxlKj9lMuUI4YZ9DMiEG3Iaue7ysvRbKDJqZ5fl09rS/jUfQne6YM52BaXHA24/gj02BsmLIShEv7Bya0lFGpzb+pV9YmSiGCo6DrhM6evqrjl9EMoFXjUgxlJzgJ5jvOce0NI7iJL6j3jC5+2K//0pyNsyqIZBYpp2yb3vwPr2vH5iIV4YRZ7GScU4zDM2h0jmy3e+MsMM5lxpmY5XN9jPPRgP7L7fvjFDJOY2Sc7WjOFOPQXi+fJJjW/bWOT8gXmRueLx4AiTGTGrr2idpvnNXVAvqchr6pKWwQVkgBGu+nlo6bhtYpCdsOadvubWqgBQhCjn6ZgAmYgAmYgAlEHYH5iLP/yrH/T3/85I5u0+KJLoP3XtTIokxeVFqAnBT1nEMYqtTtDk6E8AuCWjM96rxM1C+1UqV7MMoR2woBnvV7kTJMmmnIYJie5pix1SrY8oreeX2ndu/p0uRik/LpehD2s0rMUeleuhrVVWlzqBOP7OqI3I0SSf3yfX1yslVnu9fqnOmZR7QK4axRorHhs8MY+6fG1U+UMzGGyGcSG+Cf04pryx5RTs6L9GrGucU4xxjnDKrXS5Hm4mGcEP2dDkWSiGZhOJ2a1AAR30QiWGGcireo7a4nikiU9ME4XzHOiTAOm9gH42B4jKKcHhmHLMvTU5FxksI4iQUqf6tCWXW71sZ5EWdAGH9xmo4GGB7M4w/vn1cHm/VuMhzCqsYk4CBCSK2ZWuCxjsu6QKZnOlHPpWCwjKMKv0idegkZIbvf0CtvvqE3G0sidd6psaj403Ls1c4lDc5e0IUORNNOkznRekVXSfMNGaWxEcMQNXKEHCdRlp+j5CA+L4fyCurnSV9+0ahuOLUHr8RMxZcepLf6XcQScUycbVPnzZP6uue22orzlRP6x4faAZwU85OjmphABHEO51PmJtU27NWuava2E6d05+R7+tOHt4iW9mlobXE0h7hgRyfGIpH3Ra6Lwetf6JP3PtW56y3qHA3nxaufDgyITfaSOTCxiNhfeqnqGuha0EpbQ7pidF7AWO/O0U0cPquBbUgbh8scmTojYxjQkRPpV9cdIsglnWp4dQ5l+ybNXvyT3v/TdV1p7tYAhhIXnWaZT3t7Hwr/RKkRLpxkbU998Ed9eOKSzrdz/MjbcMIMj2iCKCxZ+UrIQifilV/oSNcMa39OZ+h8cOMEGSotF3WJ9p0JCxMYcmTNkEY+OYbSPm31gnB4fiEK7eVB7HPN3E5IK1L5oV/oaOec+mboLNBGVPccxnI7yvk4TdK5EWOJ7AfRvakJ1h19hVm0EeJz09VYTz95jNJQ5hCfDO+61zE6h3S3f07HLuMUuTyBav1N3aQFYkYi9w86A1OjdGCYGtHY+BiOjrWnzfxkt5qv3FRWNRFsyl3W7rVw0s//iktMVd7mraoob1ZRM06ILu6X430au4POAis8R6r/xDj/zqLPMIoBjwBkeM33tKo9AWdH3SENzXPf4FgQ2SeDdNHoHBjX3Ay6Bze41gZadbc4T9loOqTgYF1ZmNQEZTsT03wmd6d2bntDB96i/AKRxyKi4+tupEaWjzaiM9PCPUitQ5V2vv6q9h88qO15PXRtSNQJHBWR6zBvh6q3NOjwFtY//Z5uBpkhcaUHtPNwt96lO8nySe6r9os6O9ql7uv37i8cAqusWchWmZycghV/M2IRbt1SqbrQNQPjMAa9mum7Z3gWHdMfj7WqnwyWhRUuCLq/rEyzzjz3I3+O2nHIjVCudonnIc/MpOKD2nqkTDtI+yKZBocKGU9tZyPj/PunZI5xLyAvwzj8/XhsnIu6OnyTTKd74xQd1JajjBPu5fAsjvJXlJjTMaQK4cmtrlIJHrtriJlcbU1UWk6m0vEAxvNQnUbFcXyBi6RgKwq1PIh38l7+MJLI55cJmIAJmIAJ/OgIRETOfnSzfpYJUw64yCaUdNf4tGzllNApiL1tXHyCVmnF1thYr/pioj3slUbjUpVZVqeqeDavC4TDCFPPh7TyMozBQj4XNnjruqcidZ5uB8UoujcMT2k49y1ao72mt3eVqrI8Vn3d9dq+Y7v6YhE4rDyoXW8e0DZaH+eHtPXIPNZSVknEJcuAjXdIjyZqH7buQTQuPSvyFd9EToXNI0bxKunUqYUqKsgh4JFCCnvYObM5JfV1iXHiSGdNCWmnTxonjBuOG8YJadkpBSoqRKSOtOCQ5RAcAiHrZJma2zhEuJJJvYXYI/PJDyOE6UTmdH+cmBTmwzjFjJMQlNnD71/kFUTdFmFDJkRsSiaMU1WejUhjGr3rSYdewDCZwZCdnUKhHiN5nPTrcB/Eog1QUL1F9XuO6tVXD+gg6d61pN+HayM4jnIb39bRnxPZXiVIdOIGUWXSd8kk6Z8dJiDJsXhfJIU4+HaSiR5nF2McbNVWepaXIL5HEPjFz+0+F9pWKmubGg+/TQo+hk38KZ2jJKN3EoN0tF8LE0RdI+fFB3DWxCTkKre4SjW7jujQa0f1diMih01xGqJHfAJ96HNKULIP6SVBdT+7XlXU9lfkkLJMtHI8fD5cX3mlKqYtYziJJer/CzaVqaaMPTJs0lNqtev113SEEpWJswTOMJJmh2bUNRbWE0caAp2JpD/nEoHPLSblnxKXUEO/nFat0iK6FdAuMI2ODNPcp3GI02WXbFJK5BYkdT1zszaVI4hIan1mIuYdBvg8Bnx8RjFzWED8j+s1fbOqaiq0iYwFEl5olZejvO1v6RAlDTMLGO0YdK14PGZY86FFshZicdAk0S2jNIZ0fOr5MZjmExBBpMNEZQGlAPeFGOhIkt3wpg69zTERmYz7+hp1/TOUUOAMmqc04NF1D/jC+7MKVVi7RQ3byCjBIE4Nt2EstkPJPu08Cpdg5CWc1eUOjP4gTNlP9J2LJ9S7Cw2R7OJsdBwWlRMcetSkL/PZmFCqEO4R1iRSpnD/OnjO/8dzXxRuxyB/hSyNsUQld05pfG5YA93jlPBw/3BdxMSTPYOzNDuvWIukqi9QErO0nKZMxBCryrm+aT0Yj44C1rYyCqtVtWOW8o7ZSMvCKbQtZkf6NM/6r7W+ZEyu2ZRC2lhuP6TDXCtHD+1QQzGp+KzXC9/z3+SAwyw5D+cpUf5+srCSKcP65c/2aA9aDCXcn+MNDdraPq6O7DSt1LG+u7ZoB38HMkLpRnjhOFUmfxv2v6lf4jSai03W6Rs9dHnBQUrm0+wo91fQA+H0I/c870/MzKCFJs+MrXSA4b4ozAjPac47pElxvSXwQEzm2RnL/RQbBGsRH0RNYu1w9wjw6KL8JE6ZdAooCOwpMaF6g+PwXA11Alwj8UmMQ7bT2jj88i+Nk0+JSQltPal1Cj6udeccmf36/YfzDAii4LXMzUeaTHdHl/pQbh0coQ5jnJoNHlzhD2Xw8GXSZqUY4YfNtZXoBwTPchTM21MwARMwARMwgWcgMEvkp7m5Wf/yL/+C+nm6/vmf/1mFhYURw+gZhvkRvHVB461X1dnertuk1M8REsdU5DzZHaHenVu6SZu3VauEOtjJvg5duXMvMsrmN1i/K/RbzywoU1VdjSryqc0OToF1O+sVTbVfRsW8VbcGMDjSNqm4gpKB2nzlphARGuikjJGWiCOk8GaUqHDrLtWxgS6kBnpt2xoi+z3qog64bQhhL3reM+u/8ApbLSJHCVnKr9msSmqlq3KIYlIPPofwXie91tuGpp5tnKoaVW5iHFJo18a5Nx8Ksoe/93wylc84FRiY1RjsSRHnwl84je/61RI1wyMtamruUmvPmGYxdJdpBB5Ux5MJ8CyOkR0w0Eu2J5G9RUiip5Cezca5uEjFpWUqKi5XRQnfs8cL/dHXnC9hp05gaKALkcVW2tCRQtzZq94hot9E/SJOmSQMnvQsnA4YhdnZtC7MVFZBuYpKirWJ0oQ0osnru2XkWqYd4mh/p1pbmQ/p3d29iIuhTD8TrvOIEYJjKJvrKT84XWjxV1qhklKi3jhfVgea1d9+RzcxcKdIZQ72RsThk5KnnCIyCWoxnuIGNDvYrsu3OU6ITt970wpGalpOscrrMMRp0ZcbTybCUItaKUu4catVdzrpZc/6L2NIJWOwZBcU0WcdAzOZeaGxsISTLlyrq2S+ZNHGrraOThhzHZSotOomculTkZp13sDNtppE//rC8J4a2t3Na5UU+huXW9UXjDPqprmbI+OE+zSMU0p0HrkPPojDhnuo9y5lNXeYW0efekeIfsemKJnWigjpq3Thgj4m++H90xPqzfu1/vP/8Y/6X/+n19WQkUBKeLjTw7rTPm+IjIVOymfuUm7U0aueAaLmOBGWuK5ik7hO0jHkaeuZ82DdS1VYXKJNpdnoEWA/MFLIOlqc6NNID2UTLa2MRSZF/6hG6XKyHLJIqLXPKUK0LycZ8cBVRBHJDoLVSgz3bBICkJvQsuAeKUP3IuVF7xEiy5qjQ8Vd2vDdvKWbaEh0UZo0uYTjlPNJzaIlJWr1xThhglbIyiJzxJBdJvshKYPs6c21OAUKcXisKn6qHb69aqUUYImMpgmCp8P9ZGMg5DhFans4t+QMHDSFOMhKcCqV4GStQKg1f+2euO97iSBar//M9vE8b9OFG7SLnIR/Volqd9YjpEmnlSXu2ZYLaunoV+cUhn9unWprylRXnh0RAFx7tq5NZGWWrJMhNFNa7+puW6c6u/s1wHUXub/icAIkkx1Et5TI2mfyt4IuFXlc6xVVZZHnRwp6HHM9tL9s71ULjp95nAMr32Hy4i5Av4CuGGXVqq2mnCSTjJYlOl4wzu27zzpOGc6latVV44ijFAtf7zr+/VqvxXo4TvQ4BMKNHzyPbJTmZnAEILAT1DGnaHuyRLOTxHQeXNzsOVl4gUjHIkMsqsE+ROyvTMAETMAETOAhgUcdAhkZGfqnf/qnn6hDgKjWLCnv1DbPRTZjDxnQFJs2YmyuU9lwYewtoSQ+HaJ3bHyD6Rxeq7QPSwjRbsSlEtmEh5rU9XwtzyNmzNxmULVeDe2wiCKlY0DEkfa/vMicqfENTozVeDbiGFbJRLDuB7GCgbGCivrcNOcXyYL4rpmF8yLyxzklpmB4I5wWBLNiONaLjpPEOLH3xpm/Nx+C9N/x+vZ81sb5jo9916+JwoV+8NOzOIBIa16bBtG8EM0lCLtCvfv0OKJ5lDBM029ylfTg1AyMVTJCszIR8WINUighjX/SUpMivUA5xgx1wyP0HB8do0c57aaW4BqyK5JTySQhUhhaDKaSNpxINC8xkbVj0db50rlHgfPjOpmdDiUipCDT3m2ULIE54IfWd3GJKXTdy0JgD0cFCvwpqRjDtPgLJSeh/jnsd2d4b0Sk7D5XDJ0EaqhTiE4mkvURrsPIPhjHysP7gggp12S4L5JwtISostArCIJ6o8ND6ke9fTJSL83eGfHKzOwcZWTgRMD6Czkjq/fvMe7B+HAsRCrj+Xy4B9fmc/9ITOree1JTYBnH2lKXPU1q/gKTZpi1V3gP92kYJ9ynIXq79sJhQBR+ZKCP+u4RjVCwHVTj41ib1YkOjV36f/X//B6tkDayXF793/W//edf6X/+5VYVh+zf+0OEgbANglDk2rqHdoDwxiFAnJbpEcVNWVv3DNY9tFCMiD2y7smUDDyYShiHa3OZEqFIuQIlDiOjlFJgYyzHMgb3d2YOIowIdKZy8S3jlFyLlzIRzi88G5K5ZxMj91oY7EVfXLcI4U2PI7jZhxE/AfslHGA8E5PTcWRg4IbuD5HnDUZsmEt4fsSibJ8YriMYJoROC2RQz4YoeiSrahlxUjQ2KH0YHg+ikKxRLHNOpfUmDpPs7JBRkqI0tFrCOj2K+EXP5rHPU76zTHeJIOS3QM59TDwZKBk8XzlmbFgDRORn74lbKoF7Fa4p3BTfng9rELpGUHowEe4vWiiOcg3N8rck/G0IzpMU/n5mZIQMMrix5pH7PaJFw3HJvFqeJxsp8AlOsPvX62OTffyb8JY4MnJCRkEQFIwIljLOyguOE8RaH3V2PH7U6PguihwC3wQSFENRwYw8WHn48WAPD/V1r3X55mH9vQmYgAmYgAn8gASCQ+DWrVv613/9VzYzP2WHwA8I0UP/SAmw5cawD6n2Ea0EIumhhCSkiX/bIHjaKWIQoFy+QHu5JQzlkP4eE9J5GScBIzASXH7aR3+on2PohEju/FJwaoWD3JsTBnfoZLFhxgD10QsYQATv7xmQONUwHrHFNvDFwXEwTGPEjWJ4D48TrZ4OjhLYRIw0jGAyh65+9md9hvhmX/oO7f4f/0/9L7/ar3e35wqh96deC6tcO4sYvyFbImB+uO7BkfcMpxicDFw/YZxVBOJiuXYSEZ7ceBuD65dOAotopITs9nA+cQnoIATHyjOczsO3cj6L3F+BdXD8RM4tGMpPcbI9/GCUf8V6w2kBwz7cX6EkKYZuBvGw2tD7K8opvcj01jeD6kVm8q3P8hALKV5J935BLtWz3OvfGs4/MAETMAETMAETMAETeIkE2MmFdF/qakkYXns98/6O/WCIlIZI5/0xIv/n5y9roxgML1JXk4lYP/Z65nN77NPP/g0p7glkuTzU13oJTEjV1thlnX//Ux374oqa0RKYWrifLRKitpSLjNCCsnNEi8X7Vf/G3+rv3tiiXVUZEaHwv7SEYd0TQgT4MTLPcY5E/RNCJsqDcRjjwdcb+QXOIq4ZfDYPr+UXumYwlEPWxAPjKZzLc/DZSATf61ghGyQEhr/x5hdi9Y2x/sq/fXgvRCMIL3Q0rornZAImYAImYAImYALPSWA9DJT1GOM5p//Uj0XHnF66WOkKNfKzCP913NaNq1d0HR2OKUpvUO7jn2CIk46dUUbniCPavPuo9r9yWEfrClSKdsB3R8XXkXG02BjrPo91ZPTUa/0l/GLdOb2Ec4jiQ0a3QyCKwXlqJmACJmACJmACJmACJmACjxAIoqGIB6bm0MMdoc6ZbDobhBoGykNiQ8cEOgEUVdapfuce7aTTyNZNdBmj00HQVvDLBEzg5RCwQ+DlcPdRTcAETMAETMAETMAETOCnRYDuBsrerp1v0y6y4R2yAygTCOruIcIbxOBQh0/NCsr3tPHMQvSQEoDYx9T/flo4fDYm8GMgYIfAj2GVPEcTMAETMAETMAETMAETiHYCGP1KLlBBFer2pUsRdXfcAfdeOAXicAoEAcjQEWBDxQ7vz8H/NwET+CYBOwS+ScTfm4AJmIAJmIAJmIAJmIAJPAcB5Plod5eEcGRSynN83B8xARPYcAL2zW04ch/QBEzABEzABEzABEzABEzABEzABF4+ATsEXv4aeAYmYAImYAImYAImYAImYAImYAImsOEE7BDYcOQ+oAmYgAmYgAmYgAmYgAmYgAmYgAm8fAJ2CLz8NfAMTMAETMAE/ooIrKK4Hf71ywRMwARMwARMwAReNgE7BF72Cvj4JmACJmACJmACJmACJmACJmACJvASCNgh8BKg+5AmYAImYAImYAImYAImYAImYAIm8LIJ2CHwslfAxzcBEzABEzABEzABEzABEzABEzCBl0DADoGXAN2HNAETMAETMAETMAETMAETMAETMIGXTcAOgZe9Aj6+CZiACZjAXyUBiwv+VS67T9oETMAETMAEooqAHQJRtRyejAmYgAmYwF8DgfvOAHcb+GtYbZ+jCZiACZiACUQvgfjonZpnZgImYAImYAI/PQKxsbFKSUlRRUWF0tLSFB/vP8U/vVX2GZmACZiACZjAj4OAdyE/jnXyLE3ABEzABH4iBOLi4pSVlaVdu3YpKSkp8u9P5NR8GiZgAiZgAiZgAj8yAjGkK67+yObs6ZqACZiACZjAj5bAysqK5ufnNTg4qJAtUFxc7CyBH+1qeuImYAImYAIm8OMmYIfAj3v9PHsTMAETMIEfIYHgFFhaWlJMTEzEGRD+75cJmIAJmIAJmIAJbDQBOwQ2mriPZwImYAImYAImYAImYAImYAImYAJRQMBdBqJgETwFEzABEzABEzABEzABEzABEzABE9hoAnYIbDRxH88ETMAETMAETMAETMAETMAETMAEooCAHQJRsAieggmYgAmYgAmYgAmYgAmYgAmYgAlsNAE7BDaauI9nAiZgAiZgAiZgAiZgAiZgAiZgAlFAwA6BKFgET8EETMAETMAETMAETMAETMAETMAENpqAHQIbTdzHMwETMAETMAETMAETMAETMAETMIEoIGCHQBQsgqdgAiZgAiZgAiZgAiZgAiZgAiZgAhtNwA6BjSbu45mACZiACZiACZiACZiACZiACZhAFBCwQyAKFsFTMAETMAETMAETMAETMAETMAETMIGNJmCHwEYT9/FMwARMwARMwARMwARMwARMwARMIAoI2CEQBYvgKZiACZiACZiACZiACZiACZiACZjARhOwQ2Cjift4JmACJmACJmACJmACJmACJmACJhAFBOwQiIJF8BRMwARMwARMwARMwARMwARMwARMYKMJ2CGw0cR9PBMwARMwARMwARMwARMwARMwAROIAgJ2CETBIngKJmACJmACJmACJmACJmACJmACJrDRBOwQ2GjiPp4JmIAJmIAJmIAJmIAJmIAJmIAJRAEBOwSiYBE8BRMwARMwARMwARMwARMwARMwARPYaAJ2CGw0cR/PBEzABEzABEzABEzABEzABEzABKKAgB0CUbAInoIJmIAJmIAJmIAJmIAJmIAJmIAJbDQBOwQ2mriPZwImYAImYAImYAImYAImYAImYAJRQMAOgShYBE/BBEzABEzABEzABEzABEzABEzABDaagB0CG03cxzMBEzABEzABEzABEzABEzABEzCBKCBgh0AULIKnYAImYAImYAImYAImYAImYAImYAIbTcAOgY0m7uOZgAmYgAmYgAmYgAmYgAmYgAmYQBQQsEMgChbBUzABEzABEzABEzABEzABEzABEzCBjSZgh8BGE/fxTMAETMAETMAETMAETMAETMAETCAKCNghEAWL4CmYgAmYgAmYgAmYgAmYgAmYgAmYwEYTsENgo4n7eCZgAiZgAiZgAiZgAiZgAiZgAiYQBQTsEIiCRfAUTMAETMAETMAETMAETMAETMAETGCjCdghsNHEfTwTMAETMAETMAETMAETMAETMAETiAICdghEwSJ4CiZgAiZgAiZgAiZgAiZgAiZgAiaw0QTsENho4j6eCZiACZiACZiACZiACZiACZiACUQBATsEomARPAUTMAETMAETMAETMAETMAETMAET2GgCdghsNHEfzwRMwARMwARMwARMwARMwARMwASigIAdAlGwCJ6CCZiACZiACZiACZiACZiACZiACWw0ATsENpq4j2cCJmACJmACJmACJmACJmACJmACUUDADoEoWARPwQRMwARMwARMwARMwARMwARMwAQ2moAdAhtN3MczARMwARMwARMwARMwARMwARMwgSggYIdAFCyCp2ACJmACJmACJmACJmACJmACJmACG03ADoGNJu7jmYAJmIAJmIAJmIAJmIAJmIAJmEAUELBDIAoWwVMwARMwARMwARMwARMwARMwARMwgY0mYIfARhP38UzABEzABEzABEzABEzABEzABEwgCgjYIRAFi+ApmIAJmIAJmIAJmIAJmIAJmIAJmMBGE7BDYKOJ+3gmYAImYAImYAImYAImYAImYAImEAUE7BCIgkXwFEzABEzABEzABEzABEzABEzABExgownYIbDRxH08EzABEzABEzABEzABEzABEzABE4gCAnYIRMEieAomYAImYAImYAImYAImYAImYAImsNEE7BDYaOI+ngmYgAmYgAmYgAmYgAmYgAmYgAlEAQE7BKJgETwFEzABEzABEzABEzABEzABEzABE9hoAnYIbDRxH88ETMAETMAETMAETMAETMAETMAEooCAHQJRsAieggmYgAmYgAmYgAmYgAmYgAmYgAlsNAE7BDaauI9nAiZgAiZgAiZgAiZgAiZgAiZgAlFAwA6BKFgET8EETMAETMAETMAETMAETMAETMAENpqAHQIbTdzHMwETMAETMAETMAETMAETMAETMIEoIPD/AxzAHjcRz3MlAAAAAElFTkSuQmCC)\n",
        "\n"
      ],
      "metadata": {
        "id": "Bi62y8rX9dcG"
      }
    },
    {
      "cell_type": "code",
      "source": [
        "x = 3\n",
        "y = x\n",
        "y = 4\n",
        "\n",
        "print(x)\n"
      ],
      "metadata": {
        "id": "WxuOU7EI94uv",
        "outputId": "873e67bf-1777-41c9-e0f2-b0629d2f72c0",
        "colab": {
          "base_uri": "https://localhost:8080/"
        }
      },
      "execution_count": null,
      "outputs": [
        {
          "output_type": "stream",
          "name": "stdout",
          "text": [
            "3\n"
          ]
        }
      ]
    },
    {
      "cell_type": "markdown",
      "source": [
        "Q3: Create a variable named \"full_name\" and assign it to the value of your full name using the variables \"name\" and \"last_name\" with a space between them."
      ],
      "metadata": {
        "id": "pNAvFHhTZNst"
      }
    },
    {
      "cell_type": "code",
      "source": [
        "# Write your answer here"
      ],
      "metadata": {
        "id": "ggAsLt5yZNEp"
      },
      "execution_count": null,
      "outputs": []
    },
    {
      "cell_type": "markdown",
      "source": [
        "Q4: Print the length of variable \"full_name\"."
      ],
      "metadata": {
        "id": "VfpDThZ2a6OE"
      }
    },
    {
      "cell_type": "code",
      "source": [
        "# Write your answer here"
      ],
      "metadata": {
        "id": "1-3PtAQ4bCvY"
      },
      "execution_count": null,
      "outputs": []
    },
    {
      "cell_type": "markdown",
      "source": [
        "Q5: Convert x into a floating point number in x = 5."
      ],
      "metadata": {
        "id": "zKXj_PD-aMsu"
      }
    },
    {
      "cell_type": "code",
      "source": [
        "# Write your answer here"
      ],
      "metadata": {
        "id": "mmtCOe3GaL_Q"
      },
      "execution_count": null,
      "outputs": []
    },
    {
      "cell_type": "markdown",
      "source": [
        "# Collections:"
      ],
      "metadata": {
        "id": "u7_B0pOXWiep"
      }
    },
    {
      "cell_type": "markdown",
      "source": [
        "## Lists\n",
        "\n",
        "Sequences of values.\n",
        "\n",
        "[item1, item2]\n",
        "\n",
        "\n",
        "\n",
        "*   Ordered\n",
        "*   Changable\n",
        "* Duplicates Allowed\n",
        "\n"
      ],
      "metadata": {
        "id": "VMzxxH44URzv"
      }
    },
    {
      "cell_type": "code",
      "source": [
        "sample_list = [1,2,2,3,-5,5,\"hello\",6.12, False]\n",
        "print(sample_list)\n",
        "\n",
        "list_length = len(sample_list) # length of list\n",
        "print(list_length)"
      ],
      "metadata": {
        "colab": {
          "base_uri": "https://localhost:8080/"
        },
        "id": "XSvU8TB4VawZ",
        "outputId": "f369b92a-0f35-4a4d-eff8-db7c90843a36"
      },
      "execution_count": null,
      "outputs": [
        {
          "output_type": "stream",
          "name": "stdout",
          "text": [
            "[1, 2, 2, 3, -5, 5, 'hello', 6.12, False]\n",
            "9\n"
          ]
        }
      ]
    },
    {
      "cell_type": "markdown",
      "source": [
        "### Access"
      ],
      "metadata": {
        "id": "KHU5RJo_B-9T"
      }
    },
    {
      "cell_type": "code",
      "source": [
        "fifth_cell = sample_list[4]\n",
        "\n",
        "print(fifth_cell)\n",
        "print(sample_list[-4])"
      ],
      "metadata": {
        "colab": {
          "base_uri": "https://localhost:8080/"
        },
        "id": "yuN1B-u_BGrm",
        "outputId": "ec2d8672-4c31-45ce-f287-701ee5253e9d"
      },
      "execution_count": null,
      "outputs": [
        {
          "output_type": "stream",
          "name": "stdout",
          "text": [
            "-5\n",
            "5\n"
          ]
        }
      ]
    },
    {
      "cell_type": "markdown",
      "source": [
        "### Slicing\n"
      ],
      "metadata": {
        "id": "0aLBFr9TCB69"
      }
    },
    {
      "cell_type": "code",
      "source": [
        "nums = list(range(10))    # range is a built-in data type that creates a list of integers\n",
        "# nums = list(range(10,20))\n",
        "print(nums)\n",
        "\n",
        "print(nums[2:7])          # Get a slice from index 2 to 7 (exclusive)\n",
        "print(nums[7:])           # Get a slice from index 7 to the end\n",
        "print(nums[:2])           # Get a slice from the start to index 2 (exclusive)\n",
        "print(nums[:])            # Get a slice of the whole list\n",
        "print(nums[:-1])          # Slice indices can be negative  \n"
      ],
      "metadata": {
        "colab": {
          "base_uri": "https://localhost:8080/"
        },
        "id": "qJN5vd_1M60r",
        "outputId": "5cd81763-71b2-43a7-b658-c33d5d51d180"
      },
      "execution_count": null,
      "outputs": [
        {
          "output_type": "stream",
          "name": "stdout",
          "text": [
            "[0, 1, 2, 3, 4, 5, 6, 7, 8, 9]\n",
            "[2, 3, 4, 5, 6]\n",
            "[7, 8, 9]\n",
            "[0, 1]\n",
            "[0, 1, 2, 3, 4, 5, 6, 7, 8, 9]\n",
            "[0, 1, 2, 3, 4, 5, 6, 7, 8]\n"
          ]
        }
      ]
    },
    {
      "cell_type": "markdown",
      "source": [
        "### Modify\n",
        "\n",
        "\n",
        "\n",
        "*   insert()\n",
        "*   append()\n",
        "* remove()\n",
        "* pop()\n",
        "* clear()\n",
        "\n"
      ],
      "metadata": {
        "id": "noMs2qpVNQ2h"
      }
    },
    {
      "cell_type": "code",
      "source": [
        "nums = list(range(10))\n",
        "print(nums)\n",
        "\n",
        "nums[5] = 1                  #change a cell\n",
        "print(nums)\n",
        "\n",
        "nums[3:5] = [11,12]           #change multiple cells\n",
        "print(nums)\n",
        "\n",
        "nums[3:5] = [3]               #change multiple cells to one cell\n",
        "print(nums)\n",
        "\n",
        "nums.insert(2, 22)            #insert to a specific cell\n",
        "print(nums)\n",
        "  \n",
        "nums.append(100)              #add to the end of the list\n",
        "print(nums)\n",
        "\n",
        "nums.remove(3)                #remove an item from the list\n",
        "print(nums)\n",
        "\n",
        "nums.pop(3)                   #remove an item in a specific cell\n",
        "print(nums)\n",
        "\n",
        "nums.clear()                  #remove all items\n",
        "print(nums)"
      ],
      "metadata": {
        "colab": {
          "base_uri": "https://localhost:8080/"
        },
        "id": "Fe9qeltENU8O",
        "outputId": "527443d5-5fce-48c9-b8c3-7bee4759278d"
      },
      "execution_count": null,
      "outputs": [
        {
          "output_type": "stream",
          "name": "stdout",
          "text": [
            "[0, 1, 2, 3, 4, 5, 6, 7, 8, 9]\n",
            "[0, 1, 2, 3, 4, 1, 6, 7, 8, 9]\n",
            "[0, 1, 2, 11, 12, 1, 6, 7, 8, 9]\n",
            "[0, 1, 2, 3, 1, 6, 7, 8, 9]\n",
            "[0, 1, 22, 2, 3, 1, 6, 7, 8, 9]\n",
            "[0, 1, 22, 2, 3, 1, 6, 7, 8, 9, 100]\n",
            "[0, 1, 22, 2, 1, 6, 7, 8, 9, 100]\n",
            "[0, 1, 22, 1, 6, 7, 8, 9, 100]\n",
            "[]\n"
          ]
        }
      ]
    },
    {
      "cell_type": "markdown",
      "source": [
        "## Sets\n",
        "\n",
        "{item1, item2}\n",
        "\n",
        "*   Unordered\n",
        "*   Unchangable\n",
        "* Duplicates Not Allowed"
      ],
      "metadata": {
        "id": "xqBvdaMJWxCK"
      }
    },
    {
      "cell_type": "code",
      "source": [
        "sample_set = {1,2,2,3,-5,5,\"hello\",6.12, False}\n",
        "print(sample_set)\n",
        "\n",
        "set_length = len(sample_set) # length of set\n",
        "print(set_length)"
      ],
      "metadata": {
        "colab": {
          "base_uri": "https://localhost:8080/"
        },
        "id": "r-F1FYfAW0jH",
        "outputId": "aa1af27b-e076-4a65-90fd-bb0d5180b297"
      },
      "execution_count": null,
      "outputs": [
        {
          "output_type": "stream",
          "name": "stdout",
          "text": [
            "{False, 1, 2, 3, 'hello', 5, 6.12, -5}\n",
            "8\n"
          ]
        }
      ]
    },
    {
      "cell_type": "markdown",
      "source": [
        "### Access"
      ],
      "metadata": {
        "id": "_N9irA0Q21Os"
      }
    },
    {
      "cell_type": "code",
      "source": [
        "for item in sample_set:\n",
        "  print(item)"
      ],
      "metadata": {
        "colab": {
          "base_uri": "https://localhost:8080/"
        },
        "id": "xUa5Yf4d2_hm",
        "outputId": "4360d67e-d0e3-46df-b462-a0a6aae7bd15"
      },
      "execution_count": null,
      "outputs": [
        {
          "output_type": "stream",
          "name": "stdout",
          "text": [
            "False\n",
            "1\n",
            "2\n",
            "3\n",
            "hello\n",
            "5\n",
            "6.12\n",
            "-5\n"
          ]
        }
      ]
    },
    {
      "cell_type": "markdown",
      "source": [
        "### Modify\n",
        "\n",
        "\n",
        "\n",
        "*   add()\n",
        "*   update()\n",
        "* remove()\n",
        "* pop()\n",
        "* clear()\n",
        "\n"
      ],
      "metadata": {
        "id": "01YEhkUx3H2j"
      }
    },
    {
      "cell_type": "code",
      "source": [
        "nums_set = set(range(10))\n",
        "print(nums_set)\n",
        "\n",
        "nums_set.add(12)                      #adds to the set\n",
        "print(nums_set)\n",
        "\n",
        "nums_set.update({3,4,6,15,18})        #adds another set to this set\n",
        "print(nums_set)\n",
        "\n",
        "nums_set.remove(15)                   #removes a specific item from set\n",
        "print(nums_set)\n",
        "\n",
        "nums_set.pop()                        #removes the first item of the set\n",
        "print(nums_set)\n",
        "\n",
        "nums_set.clear()                      #removes all items of the set\n",
        "print(nums_set)"
      ],
      "metadata": {
        "colab": {
          "base_uri": "https://localhost:8080/"
        },
        "id": "1cKo4CVq3W9i",
        "outputId": "a336ec68-6017-497d-f9a4-7f1d0308486c"
      },
      "execution_count": null,
      "outputs": [
        {
          "output_type": "stream",
          "name": "stdout",
          "text": [
            "{0, 1, 2, 3, 4, 5, 6, 7, 8, 9}\n",
            "{0, 1, 2, 3, 4, 5, 6, 7, 8, 9, 12}\n",
            "{0, 1, 2, 3, 4, 5, 6, 7, 8, 9, 12, 15, 18}\n",
            "{0, 1, 2, 3, 4, 5, 6, 7, 8, 9, 12, 18}\n",
            "{1, 2, 3, 4, 5, 6, 7, 8, 9, 12, 18}\n",
            "set()\n"
          ]
        }
      ]
    },
    {
      "cell_type": "markdown",
      "source": [
        "## Tuples\n",
        "\n",
        "(item1, item2)\n",
        "\n",
        "*   Ordered\n",
        "*   Unchangable\n",
        "* Duplicates Allowed"
      ],
      "metadata": {
        "id": "aIsR1kUnWsNZ"
      }
    },
    {
      "cell_type": "code",
      "source": [
        "sample_tuple = (1,2,2)\n",
        "print(sample_tuple)\n",
        "\n",
        "tuple_length = len(sample_tuple) # length of tuple\n",
        "print(tuple_length)\n",
        "\n",
        "one_tuple = (1,)\n",
        "print(type(one_tuple))\n",
        "\n",
        "\n",
        "wrong_tuple = (1)            #not a tuple, disregards the paranthesis \n",
        "print(type(wrong_tuple))"
      ],
      "metadata": {
        "colab": {
          "base_uri": "https://localhost:8080/"
        },
        "id": "gQ5H-FkPWwaL",
        "outputId": "5442caf6-cc0a-4aa6-e52f-dd1eb7b6c153"
      },
      "execution_count": null,
      "outputs": [
        {
          "output_type": "stream",
          "name": "stdout",
          "text": [
            "(1, 2, 2)\n",
            "3\n",
            "<class 'tuple'>\n",
            "<class 'int'>\n"
          ]
        }
      ]
    },
    {
      "cell_type": "markdown",
      "source": [
        "### Access and Slicing\n"
      ],
      "metadata": {
        "id": "-9KZZ6Fpktbm"
      }
    },
    {
      "cell_type": "code",
      "source": [
        "second_cell = sample_tuple[1]\n",
        "\n",
        "print(second_cell)\n",
        "print(sample_tuple[-3])\n",
        "print(sample_tuple[1:2])"
      ],
      "metadata": {
        "colab": {
          "base_uri": "https://localhost:8080/"
        },
        "id": "4elgt-hWkwQu",
        "outputId": "0a185162-d74c-4b82-c364-f80ae9dc194a"
      },
      "execution_count": null,
      "outputs": [
        {
          "output_type": "stream",
          "name": "stdout",
          "text": [
            "2\n",
            "1\n",
            "(2,)\n"
          ]
        }
      ]
    },
    {
      "cell_type": "markdown",
      "source": [
        "## Dictionaries\n",
        "\n",
        "Store data values in key:value pairs.\n",
        "\n",
        "{key1:value1, key2:value2}\n",
        "\n",
        "*   Ordered\n",
        "*   Changable\n",
        "* Duplicates Not Allowed\n",
        "\n"
      ],
      "metadata": {
        "id": "VjMG6HipW1DB"
      }
    },
    {
      "cell_type": "code",
      "source": [
        "dog_dict = {'breed': 'Golden Retriever', 'age': 3, 'Hypoallergenic': False }  \n",
        "\n",
        "print(dog_dict['breed'])                                        # Get the value of a key\n",
        "print('age' in dog_dict)                                        # Check if a dictionary has a given key"
      ],
      "metadata": {
        "colab": {
          "base_uri": "https://localhost:8080/"
        },
        "id": "v3N_CcL1W4BG",
        "outputId": "fef3a72a-a8b9-426c-ffc8-9014817d3af2"
      },
      "execution_count": null,
      "outputs": [
        {
          "output_type": "stream",
          "name": "stdout",
          "text": [
            "Golden Retriever\n",
            "True\n"
          ]
        }
      ]
    },
    {
      "cell_type": "markdown",
      "source": [
        "### Access\n"
      ],
      "metadata": {
        "id": "2Gdhvr_DX2c8"
      }
    },
    {
      "cell_type": "code",
      "source": [
        "x = dog_dict.get(\"breed\")           #Access a value by its key\n",
        "print(x)\n",
        "\n",
        "x = dog_dict.keys()                 #Get all keys \n",
        "print(x)\n",
        "\n",
        "x = dog_dict.values()               #Get all values\n",
        "print(x)\n",
        "\n",
        "x = dog_dict.items()                #Get all items\n",
        "print(x)"
      ],
      "metadata": {
        "colab": {
          "base_uri": "https://localhost:8080/"
        },
        "id": "StvWMT6roOXc",
        "outputId": "66a44ec0-723a-4aba-fb6a-b07697536ea5"
      },
      "execution_count": null,
      "outputs": [
        {
          "output_type": "stream",
          "name": "stdout",
          "text": [
            "Golden Retriever\n",
            "dict_keys(['breed', 'age', 'Hypoallergenic'])\n",
            "dict_values(['Golden Retriever', 3, False])\n",
            "dict_items([('breed', 'Golden Retriever'), ('age', 3), ('Hypoallergenic', False)])\n"
          ]
        }
      ]
    },
    {
      "cell_type": "markdown",
      "source": [
        "https://www.w3schools.com/python/python_datatypes.asp "
      ],
      "metadata": {
        "id": "g5FT375TzzFc"
      }
    },
    {
      "cell_type": "markdown",
      "source": [
        "# Exercises"
      ],
      "metadata": {
        "id": "QBvBKp4UX2d6"
      }
    },
    {
      "cell_type": "markdown",
      "source": [
        "Q5: what data type will x have in x = 5, x = 19.5, x = \"hello world!\", and x = \\[1,2,3\\]?"
      ],
      "metadata": {
        "id": "2GB1QUhhZmD3"
      }
    },
    {
      "cell_type": "code",
      "source": [
        "# Write your answer here"
      ],
      "metadata": {
        "id": "ycBTIlknZlSl"
      },
      "execution_count": null,
      "outputs": []
    },
    {
      "cell_type": "markdown",
      "source": [
        "Q6: Write a program that takes a list of integers and returns the sum of all even numbers in the list."
      ],
      "metadata": {
        "id": "KV8qacbs0rUj"
      }
    },
    {
      "cell_type": "code",
      "source": [
        "# Write your answer here"
      ],
      "metadata": {
        "id": "SJetuj_M11Tx"
      },
      "execution_count": null,
      "outputs": []
    },
    {
      "cell_type": "markdown",
      "source": [
        "Q7: Write a program that takes two tuples and returns a new tuple containing the elements from both tuples."
      ],
      "metadata": {
        "id": "_U3PKY0E14_3"
      }
    },
    {
      "cell_type": "code",
      "source": [
        "# Write your answer here"
      ],
      "metadata": {
        "id": "S1e29i7o14K3"
      },
      "execution_count": null,
      "outputs": []
    },
    {
      "cell_type": "markdown",
      "source": [
        "# Further Reading:\n",
        "\n",
        "\n",
        "\n",
        "*   https://www.w3schools.com/python/   \n",
        "*   https://realpython.com/ \n",
        "*   https://docs.python.org/3/tutorial/\n",
        "\n",
        "\n"
      ],
      "metadata": {
        "id": "QWCydSWKayhe"
      }
    }
  ]
}