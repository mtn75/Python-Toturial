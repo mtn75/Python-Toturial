{
  "nbformat": 4,
  "nbformat_minor": 0,
  "metadata": {
    "colab": {
      "provenance": [],
      "authorship_tag": "ABX9TyOajKF93tf/X/EXik5oSEAM",
      "include_colab_link": true
    },
    "kernelspec": {
      "name": "python3",
      "display_name": "Python 3"
    },
    "language_info": {
      "name": "python"
    }
  },
  "cells": [
    {
      "cell_type": "markdown",
      "metadata": {
        "id": "view-in-github",
        "colab_type": "text"
      },
      "source": [
        "<a href=\"https://colab.research.google.com/github/mtn75/Python-Toturial/blob/main/python_workshop_fundamentals.ipynb\" target=\"_parent\"><img src=\"https://colab.research.google.com/assets/colab-badge.svg\" alt=\"Open In Colab\"/></a>"
      ]
    },
    {
      "cell_type": "markdown",
      "source": [
        "# Variables\n",
        "\n",
        "containers for storing data values.\n",
        "\n",
        "Variables are names of the data values."
      ],
      "metadata": {
        "id": "zajGETQuihFu"
      }
    },
    {
      "cell_type": "code",
      "source": [
        "x = 1 \n",
        "text = \"Hello World!\"\n",
        "\n",
        "print(x)\n",
        "print(text)"
      ],
      "metadata": {
        "colab": {
          "base_uri": "https://localhost:8080/"
        },
        "id": "s-cAaFeoGL5p",
        "outputId": "2e582988-f365-40a7-cbd5-412cb63a19e0"
      },
      "execution_count": 21,
      "outputs": [
        {
          "output_type": "stream",
          "name": "stdout",
          "text": [
            "1\n",
            "Hello World!\n"
          ]
        }
      ]
    },
    {
      "cell_type": "code",
      "source": [
        "x = y = 31\n",
        "\n",
        "print(x)\n",
        "print(y)"
      ],
      "metadata": {
        "colab": {
          "base_uri": "https://localhost:8080/"
        },
        "id": "HGWacZVcKsLV",
        "outputId": "f62074cb-2291-45d8-ccd1-90ff35b96a8a"
      },
      "execution_count": 19,
      "outputs": [
        {
          "output_type": "stream",
          "name": "stdout",
          "text": [
            "31\n",
            "31\n"
          ]
        }
      ]
    },
    {
      "cell_type": "code",
      "source": [
        "x , y = 12, 45\n",
        "\n",
        "print(x)\n",
        "print(y)"
      ],
      "metadata": {
        "colab": {
          "base_uri": "https://localhost:8080/"
        },
        "id": "PZYN65trKyfO",
        "outputId": "01c39313-d780-4db9-e72b-4599f80617d2"
      },
      "execution_count": 22,
      "outputs": [
        {
          "output_type": "stream",
          "name": "stdout",
          "text": [
            "12\n",
            "45\n"
          ]
        }
      ]
    },
    {
      "cell_type": "markdown",
      "source": [
        "# Data Types in Python\n",
        "\n"
      ],
      "metadata": {
        "id": "ZSsOLgZ3YXhw"
      }
    },
    {
      "cell_type": "markdown",
      "source": [
        "## Numeric\n",
        "\n",
        "\n",
        "\n",
        "*   int - integer: -5, 10, 77, 0\n",
        "*   float - Floating Point numbers: 3.1457, 0.34, 0.78\n",
        "\n",
        "\n",
        "\n"
      ],
      "metadata": {
        "id": "Pe2eIuFDh22O"
      }
    },
    {
      "cell_type": "code",
      "execution_count": 4,
      "metadata": {
        "colab": {
          "base_uri": "https://localhost:8080/"
        },
        "id": "y88U6gGY12Ab",
        "outputId": "4b2842b0-e601-45a5-9ae7-2def7778c53a"
      },
      "outputs": [
        {
          "output_type": "stream",
          "name": "stdout",
          "text": [
            "1\n",
            "1.2\n",
            "-56\n"
          ]
        }
      ],
      "source": [
        "x = 1\n",
        "y = 1.2\n",
        "z = -56\n",
        "\n",
        "print(x)\n",
        "print(y)\n",
        "print(z)"
      ]
    },
    {
      "cell_type": "code",
      "source": [
        "print(type(x))\n",
        "print(type(y))\n",
        "print(type(z))"
      ],
      "metadata": {
        "colab": {
          "base_uri": "https://localhost:8080/"
        },
        "id": "YHBJUGmoYlh6",
        "outputId": "9557ced6-83dd-4f4c-96e7-8621c0b74f11"
      },
      "execution_count": 10,
      "outputs": [
        {
          "output_type": "stream",
          "name": "stdout",
          "text": [
            "<class 'int'>\n",
            "<class 'float'>\n",
            "<class 'int'>\n"
          ]
        }
      ]
    },
    {
      "cell_type": "code",
      "source": [
        "x = 2.5\n",
        "\n",
        "print(type(x))"
      ],
      "metadata": {
        "colab": {
          "base_uri": "https://localhost:8080/"
        },
        "id": "JyRL5fOxHl-7",
        "outputId": "653e5964-b07e-4677-b595-87a1f59c1375"
      },
      "execution_count": 11,
      "outputs": [
        {
          "output_type": "stream",
          "name": "stdout",
          "text": [
            "<class 'float'>\n"
          ]
        }
      ]
    },
    {
      "cell_type": "markdown",
      "source": [
        "## Boolean\n",
        "\n",
        "bool - boolean : True or False"
      ],
      "metadata": {
        "id": "Clr2BlQNH5_P"
      }
    },
    {
      "cell_type": "code",
      "source": [
        "x, y = True, False\n",
        "\n",
        "print(x)\n",
        "print(y)"
      ],
      "metadata": {
        "colab": {
          "base_uri": "https://localhost:8080/"
        },
        "id": "eIkBdMCMIG0m",
        "outputId": "50977658-e2f2-4a36-98e5-83af328893e9"
      },
      "execution_count": 17,
      "outputs": [
        {
          "output_type": "stream",
          "name": "stdout",
          "text": [
            "True\n",
            "False\n"
          ]
        }
      ]
    },
    {
      "cell_type": "code",
      "source": [
        "print(type(x))\n",
        "print(type(y))"
      ],
      "metadata": {
        "colab": {
          "base_uri": "https://localhost:8080/"
        },
        "id": "gDyK1--vIKrT",
        "outputId": "1be91b2e-84bf-4eac-fe31-b034fe0aa9b9"
      },
      "execution_count": 13,
      "outputs": [
        {
          "output_type": "stream",
          "name": "stdout",
          "text": [
            "<class 'bool'>\n",
            "<class 'bool'>\n"
          ]
        }
      ]
    },
    {
      "cell_type": "markdown",
      "source": [
        "## Text\n",
        "\n",
        "strings - Sequence of characters representing a text. \n",
        "\n",
        "Are used with single qoute '' or double qoutes \"\"\n",
        "\n"
      ],
      "metadata": {
        "id": "sThj5QSaIfE7"
      }
    },
    {
      "cell_type": "code",
      "source": [
        "text = \"welcome to the data analyst toolkit workshop!\"\n",
        "\n",
        "print (text)"
      ],
      "metadata": {
        "colab": {
          "base_uri": "https://localhost:8080/"
        },
        "id": "uohtWm7yJV7U",
        "outputId": "98b42106-7f60-4e01-c4cd-68119fde968e"
      },
      "execution_count": 26,
      "outputs": [
        {
          "output_type": "stream",
          "name": "stdout",
          "text": [
            "welcome to the data analyst toolkit workshop!\n"
          ]
        }
      ]
    },
    {
      "cell_type": "markdown",
      "source": [
        "### Capitalise \n",
        "\n",
        "capitalize()"
      ],
      "metadata": {
        "id": "YZLn3IrFMMt4"
      }
    },
    {
      "cell_type": "code",
      "source": [
        "capital_text = text.capitalize()\n",
        "\n",
        "print(capital_text)"
      ],
      "metadata": {
        "colab": {
          "base_uri": "https://localhost:8080/"
        },
        "id": "vdFlMkDQMQ_r",
        "outputId": "ef45341a-79a5-47e2-f5f8-9737037e3a5c"
      },
      "execution_count": 27,
      "outputs": [
        {
          "output_type": "stream",
          "name": "stdout",
          "text": [
            "Welcome to the data analyst toolkit workshop!\n"
          ]
        }
      ]
    },
    {
      "cell_type": "markdown",
      "source": [
        "### Search\n",
        "\n",
        "find()"
      ],
      "metadata": {
        "id": "qtBw1h5xMfwL"
      }
    },
    {
      "cell_type": "code",
      "source": [
        "has_data = text.find('data')\n",
        "has_hello = text.find('hello')\n",
        "\n",
        "print(has_data)\n",
        "print(has_hello)"
      ],
      "metadata": {
        "colab": {
          "base_uri": "https://localhost:8080/"
        },
        "id": "fMn_8covMrZ-",
        "outputId": "d8d7ab22-9cfd-4710-d93a-492b16d4d32e"
      },
      "execution_count": 28,
      "outputs": [
        {
          "output_type": "stream",
          "name": "stdout",
          "text": [
            "15\n",
            "-1\n"
          ]
        }
      ]
    },
    {
      "cell_type": "markdown",
      "source": [
        "### Search for ending\n",
        "\n",
        "endswith()"
      ],
      "metadata": {
        "id": "GQ4KYMIVMro4"
      }
    },
    {
      "cell_type": "code",
      "source": [
        "ends_with_workshop = text.endswith('workshop!')\n",
        "ends_with_world = text.endswith('world')\n",
        "\n",
        "print(ends_with_workshop)\n",
        "print(ends_with_world)"
      ],
      "metadata": {
        "colab": {
          "base_uri": "https://localhost:8080/"
        },
        "id": "9_lSbO3xSSi1",
        "outputId": "f2b1d5ce-ebfa-48a5-c703-3c7f604ed8b6"
      },
      "execution_count": 31,
      "outputs": [
        {
          "output_type": "stream",
          "name": "stdout",
          "text": [
            "True\n",
            "False\n"
          ]
        }
      ]
    },
    {
      "cell_type": "markdown",
      "source": [
        "### Replace\n",
        "\n",
        "replace()"
      ],
      "metadata": {
        "id": "IpbpuHKpM2eE"
      }
    },
    {
      "cell_type": "code",
      "source": [
        "replaced_text = text.replace('workshop', 'tutorial')\n",
        "\n",
        "print(replaced_text)"
      ],
      "metadata": {
        "colab": {
          "base_uri": "https://localhost:8080/"
        },
        "id": "iS-fn6fZRQCh",
        "outputId": "38dd0916-1a70-4121-c3ae-501fe509bf89"
      },
      "execution_count": 32,
      "outputs": [
        {
          "output_type": "stream",
          "name": "stdout",
          "text": [
            "welcome to the data analyst toolkit tutorial!\n"
          ]
        }
      ]
    },
    {
      "cell_type": "markdown",
      "source": [
        "### Lower/Upper Case\n",
        "\n",
        "lower()\n",
        "upper()"
      ],
      "metadata": {
        "id": "Fs-Tchp0RQKu"
      }
    },
    {
      "cell_type": "code",
      "source": [
        "upper_case = text.upper()\n",
        "\n",
        "print(upper_case)"
      ],
      "metadata": {
        "colab": {
          "base_uri": "https://localhost:8080/"
        },
        "id": "Bm-rfK6NRcTt",
        "outputId": "85607ba1-6d92-4369-b1e8-669a29d8de42"
      },
      "execution_count": 34,
      "outputs": [
        {
          "output_type": "stream",
          "name": "stdout",
          "text": [
            "WELCOME TO THE DATA ANALYST TOOLKIT WORKSHOP!\n"
          ]
        }
      ]
    },
    {
      "cell_type": "code",
      "source": [
        "lower_case = upper_case.lower()\n",
        "\n",
        "print(lower_case)"
      ],
      "metadata": {
        "colab": {
          "base_uri": "https://localhost:8080/"
        },
        "id": "pw2fVbPDTJ7l",
        "outputId": "e3b42ade-c328-4e87-ddb7-9a17689bee48"
      },
      "execution_count": 35,
      "outputs": [
        {
          "output_type": "stream",
          "name": "stdout",
          "text": [
            "welcome to the data analyst toolkit workshop!\n"
          ]
        }
      ]
    },
    {
      "cell_type": "markdown",
      "source": [
        "### Slicing"
      ],
      "metadata": {
        "id": "I-AsshkPRcbV"
      }
    },
    {
      "cell_type": "code",
      "source": [
        "middle_text = text[10:20]\n",
        "\n",
        "print(middle_text)"
      ],
      "metadata": {
        "colab": {
          "base_uri": "https://localhost:8080/"
        },
        "id": "WsGIO2OaRfOw",
        "outputId": "9d46777e-aa54-4dcf-c049-83f86cd5e50a"
      },
      "execution_count": 40,
      "outputs": [
        {
          "output_type": "stream",
          "name": "stdout",
          "text": [
            " the data \n"
          ]
        }
      ]
    },
    {
      "cell_type": "code",
      "source": [
        "end_text = text[20:]\n",
        "\n",
        "print(end_text)"
      ],
      "metadata": {
        "colab": {
          "base_uri": "https://localhost:8080/"
        },
        "id": "j6l2R6HKTQl3",
        "outputId": "b7a175f5-720c-49cd-edf7-070ecb29c47e"
      },
      "execution_count": 41,
      "outputs": [
        {
          "output_type": "stream",
          "name": "stdout",
          "text": [
            "analyst toolkit workshop!\n"
          ]
        }
      ]
    },
    {
      "cell_type": "code",
      "source": [
        "first_text = text[:20]\n",
        "\n",
        "print(first_text)"
      ],
      "metadata": {
        "colab": {
          "base_uri": "https://localhost:8080/"
        },
        "id": "wSMA6Uf2TQoO",
        "outputId": "3ee4e34a-b55c-42f7-d5f5-b92e0f6d8675"
      },
      "execution_count": 42,
      "outputs": [
        {
          "output_type": "stream",
          "name": "stdout",
          "text": [
            "welcome to the data \n"
          ]
        }
      ]
    },
    {
      "cell_type": "code",
      "source": [
        "last_x_chars = text[-17:]\n",
        "\n",
        "print(last_x_chars)"
      ],
      "metadata": {
        "colab": {
          "base_uri": "https://localhost:8080/"
        },
        "id": "DM06ZtnYTQqq",
        "outputId": "c3716e8e-2ef4-4990-9990-fcbee8b17acd"
      },
      "execution_count": 45,
      "outputs": [
        {
          "output_type": "stream",
          "name": "stdout",
          "text": [
            "toolkit workshop!\n"
          ]
        }
      ]
    },
    {
      "cell_type": "markdown",
      "source": [
        "Further readings:\n"
      ],
      "metadata": {
        "id": "A8ONMl59DA_A"
      }
    },
    {
      "cell_type": "markdown",
      "source": [
        "# Collections:"
      ],
      "metadata": {
        "id": "u7_B0pOXWiep"
      }
    },
    {
      "cell_type": "markdown",
      "source": [
        "## Lists\n",
        "\n",
        "Sequences of values.\n",
        "\n",
        "[item1, item2]\n",
        "\n",
        "\n",
        "\n",
        "*   Ordered\n",
        "*   Changable\n",
        "* Duplicates Allowed\n",
        "\n"
      ],
      "metadata": {
        "id": "VMzxxH44URzv"
      }
    },
    {
      "cell_type": "code",
      "source": [
        "sample_list = [1,2,2,3,-5,5,\"hello\",6.12, False]\n",
        "print(sample_list)\n",
        "\n",
        "list_length = len(sample_list) # length of list\n",
        "print(list_length)"
      ],
      "metadata": {
        "colab": {
          "base_uri": "https://localhost:8080/"
        },
        "id": "XSvU8TB4VawZ",
        "outputId": "9fd1e7c0-a39b-4ea8-8fa8-894cf6b39bad"
      },
      "execution_count": 2,
      "outputs": [
        {
          "output_type": "stream",
          "name": "stdout",
          "text": [
            "[1, 2, 2, 3, -5, 5, 'hello', 6.12, False]\n"
          ]
        }
      ]
    },
    {
      "cell_type": "markdown",
      "source": [
        "### Access"
      ],
      "metadata": {
        "id": "KHU5RJo_B-9T"
      }
    },
    {
      "cell_type": "code",
      "source": [
        "fifth_cell = sample_list[4]\n",
        "\n",
        "print(fifth_cell)\n",
        "print(sample_list[-4])"
      ],
      "metadata": {
        "colab": {
          "base_uri": "https://localhost:8080/"
        },
        "id": "yuN1B-u_BGrm",
        "outputId": "787471b1-86bb-44f2-efa3-b565915f357e"
      },
      "execution_count": 6,
      "outputs": [
        {
          "output_type": "stream",
          "name": "stdout",
          "text": [
            "-5\n",
            "5\n"
          ]
        }
      ]
    },
    {
      "cell_type": "markdown",
      "source": [
        "### Slicing\n"
      ],
      "metadata": {
        "id": "0aLBFr9TCB69"
      }
    },
    {
      "cell_type": "code",
      "source": [
        "nums = list(range(10))    # range is a built-in function that creates a list of integers\n",
        "# nums = list(range(10,20))\n",
        "print(nums)\n",
        "\n",
        "print(nums[2:7])          # Get a slice from index 2 to 7 (exclusive)\n",
        "print(nums[7:])           # Get a slice from index 7 to the end\n",
        "print(nums[:2])           # Get a slice from the start to index 2 (exclusive)\n",
        "print(nums[:])            # Get a slice of the whole list\n",
        "print(nums[:-1])          # Slice indices can be negative  \n"
      ],
      "metadata": {
        "colab": {
          "base_uri": "https://localhost:8080/"
        },
        "id": "qJN5vd_1M60r",
        "outputId": "6a6cd771-7c50-4bdd-b4ee-c7f6fe14e258"
      },
      "execution_count": 30,
      "outputs": [
        {
          "output_type": "stream",
          "name": "stdout",
          "text": [
            "[0, 1, 2, 3, 4, 5, 6, 7, 8, 9]\n",
            "[2, 3, 4, 5, 6]\n",
            "[7, 8, 9]\n",
            "[0, 1]\n",
            "[0, 1, 2, 3, 4, 5, 6, 7, 8, 9]\n",
            "[0, 1, 2, 3, 4, 5, 6, 7, 8]\n"
          ]
        }
      ]
    },
    {
      "cell_type": "markdown",
      "source": [
        "### Modify\n",
        "\n",
        "\n",
        "\n",
        "*   insert()\n",
        "*   append()\n",
        "* remove()\n",
        "* pop()\n",
        "* clear()\n",
        "\n"
      ],
      "metadata": {
        "id": "noMs2qpVNQ2h"
      }
    },
    {
      "cell_type": "code",
      "source": [
        "nums = list(range(10))\n",
        "\n",
        "nums[5] = 1                  #change a cell\n",
        "print(nums)\n",
        "\n",
        "nums[3:5] = [11,12]           #change multiple cells\n",
        "print(nums)\n",
        "\n",
        "nums[3:5] = [3]               #change multiple cells to one cell\n",
        "print(nums)\n",
        "\n",
        "nums.insert(2, 22)            #insert to a specific cell\n",
        "print(nums)\n",
        "  \n",
        "nums.append(100)              #add to the end of the list\n",
        "print(nums)\n",
        "\n",
        "nums.remove(1)                #remove an item from the list\n",
        "print(nums)\n",
        "\n",
        "nums.pop(3)                   #remove an item in a specific cell\n",
        "print(nums)\n",
        "\n",
        "nums.clear()                  #remove all items\n",
        "print(nums)"
      ],
      "metadata": {
        "colab": {
          "base_uri": "https://localhost:8080/"
        },
        "id": "Fe9qeltENU8O",
        "outputId": "baacc66c-df00-40e5-bd3a-c3f6f8e8392f"
      },
      "execution_count": 25,
      "outputs": [
        {
          "output_type": "stream",
          "name": "stdout",
          "text": [
            "[0, 1, 2, 3, 4, 1, 6, 7, 8, 9]\n",
            "[0, 1, 2, 11, 12, 1, 6, 7, 8, 9]\n",
            "[0, 1, 2, 3, 1, 6, 7, 8, 9]\n",
            "[0, 1, 22, 2, 3, 1, 6, 7, 8, 9]\n",
            "[0, 1, 22, 2, 3, 1, 6, 7, 8, 9, 100]\n",
            "[0, 22, 2, 3, 1, 6, 7, 8, 9, 100]\n",
            "[0, 22, 2, 1, 6, 7, 8, 9, 100]\n",
            "[]\n"
          ]
        }
      ]
    },
    {
      "cell_type": "markdown",
      "source": [
        "## Sets\n",
        "\n",
        "{item1, item2}\n",
        "\n",
        "*   Unordered\n",
        "*   Unchangable\n",
        "* Duplicates Not Allowed"
      ],
      "metadata": {
        "id": "xqBvdaMJWxCK"
      }
    },
    {
      "cell_type": "code",
      "source": [
        "sample_set = {1,2,2,3,-5,5,\"hello\",6.12, False}\n",
        "print(sample_set)\n",
        "\n",
        "set_length = len(sample_set) # length of list\n",
        "print(set_length)"
      ],
      "metadata": {
        "colab": {
          "base_uri": "https://localhost:8080/"
        },
        "id": "r-F1FYfAW0jH",
        "outputId": "aa1af27b-e076-4a65-90fd-bb0d5180b297"
      },
      "execution_count": 31,
      "outputs": [
        {
          "output_type": "stream",
          "name": "stdout",
          "text": [
            "{False, 1, 2, 3, 'hello', 5, 6.12, -5}\n",
            "8\n"
          ]
        }
      ]
    },
    {
      "cell_type": "markdown",
      "source": [
        "### Access"
      ],
      "metadata": {
        "id": "_N9irA0Q21Os"
      }
    },
    {
      "cell_type": "code",
      "source": [
        "for item in sample_set:\n",
        "  print(item)"
      ],
      "metadata": {
        "colab": {
          "base_uri": "https://localhost:8080/"
        },
        "id": "xUa5Yf4d2_hm",
        "outputId": "4360d67e-d0e3-46df-b462-a0a6aae7bd15"
      },
      "execution_count": 32,
      "outputs": [
        {
          "output_type": "stream",
          "name": "stdout",
          "text": [
            "False\n",
            "1\n",
            "2\n",
            "3\n",
            "hello\n",
            "5\n",
            "6.12\n",
            "-5\n"
          ]
        }
      ]
    },
    {
      "cell_type": "markdown",
      "source": [
        "### Modify\n",
        "\n",
        "\n",
        "\n",
        "*   add()\n",
        "*   update()\n",
        "* remove()\n",
        "* pop()\n",
        "* clear()\n",
        "\n"
      ],
      "metadata": {
        "id": "01YEhkUx3H2j"
      }
    },
    {
      "cell_type": "code",
      "source": [
        "nums_set = set(range(10))\n",
        "print(nums_set)\n",
        "\n",
        "nums_set.add(12)                      #adds to the set\n",
        "print(nums_set)\n",
        "\n",
        "nums_set.update({3,4,6,15,18})        #adds another set to this set\n",
        "print(nums_set)\n",
        "\n",
        "nums_set.remove(15)                   #removes a specific item from set\n",
        "print(nums_set)\n",
        "\n",
        "nums_set.pop()                        #removes the first item of the set\n",
        "print(nums_set)\n",
        "\n",
        "nums_set.clear()                      #removes all items of the set\n",
        "print(nums_set)"
      ],
      "metadata": {
        "colab": {
          "base_uri": "https://localhost:8080/"
        },
        "id": "1cKo4CVq3W9i",
        "outputId": "a336ec68-6017-497d-f9a4-7f1d0308486c"
      },
      "execution_count": 40,
      "outputs": [
        {
          "output_type": "stream",
          "name": "stdout",
          "text": [
            "{0, 1, 2, 3, 4, 5, 6, 7, 8, 9}\n",
            "{0, 1, 2, 3, 4, 5, 6, 7, 8, 9, 12}\n",
            "{0, 1, 2, 3, 4, 5, 6, 7, 8, 9, 12, 15, 18}\n",
            "{0, 1, 2, 3, 4, 5, 6, 7, 8, 9, 12, 18}\n",
            "{1, 2, 3, 4, 5, 6, 7, 8, 9, 12, 18}\n",
            "set()\n"
          ]
        }
      ]
    },
    {
      "cell_type": "markdown",
      "source": [
        "## Tuples\n",
        "\n",
        "(item1, item2)\n",
        "\n",
        "*   Ordered\n",
        "*   Unchangable\n",
        "* Duplicates Allowed"
      ],
      "metadata": {
        "id": "aIsR1kUnWsNZ"
      }
    },
    {
      "cell_type": "code",
      "source": [],
      "metadata": {
        "id": "gQ5H-FkPWwaL"
      },
      "execution_count": null,
      "outputs": []
    },
    {
      "cell_type": "markdown",
      "source": [
        "## Dictionaries"
      ],
      "metadata": {
        "id": "VjMG6HipW1DB"
      }
    },
    {
      "cell_type": "code",
      "source": [],
      "metadata": {
        "id": "v3N_CcL1W4BG"
      },
      "execution_count": null,
      "outputs": []
    },
    {
      "cell_type": "markdown",
      "source": [
        "# Operators"
      ],
      "metadata": {
        "id": "lauTbWVAXJem"
      }
    },
    {
      "cell_type": "code",
      "source": [],
      "metadata": {
        "id": "Deqen3W5XLQ-"
      },
      "execution_count": null,
      "outputs": []
    },
    {
      "cell_type": "markdown",
      "source": [],
      "metadata": {
        "id": "2Gdhvr_DX2c8"
      }
    },
    {
      "cell_type": "markdown",
      "source": [
        "# Exercises"
      ],
      "metadata": {
        "id": "QBvBKp4UX2d6"
      }
    },
    {
      "cell_type": "markdown",
      "source": [
        "Q1: Create a variable named \"name\" and assign it to the value of your first name."
      ],
      "metadata": {
        "id": "sUPb7YLmYMoK"
      }
    },
    {
      "cell_type": "code",
      "source": [
        "# Write your answer here"
      ],
      "metadata": {
        "id": "cJcZn2WXX_Lx"
      },
      "execution_count": 51,
      "outputs": []
    },
    {
      "cell_type": "markdown",
      "source": [
        "Q2: Create a variable named \"last_name\" and assign it to the value of your last name."
      ],
      "metadata": {
        "id": "P6Es0NrUZF_I"
      }
    },
    {
      "cell_type": "code",
      "source": [
        "# Write your answer here"
      ],
      "metadata": {
        "id": "0zDUuF45YLnw"
      },
      "execution_count": 52,
      "outputs": []
    },
    {
      "cell_type": "markdown",
      "source": [
        "Q3: Create a variable named \"full_name\" and assign it to the value of your full name using the variables \"name\" and \"last_name\" with a space between them."
      ],
      "metadata": {
        "id": "pNAvFHhTZNst"
      }
    },
    {
      "cell_type": "code",
      "source": [
        "# Write your answer here"
      ],
      "metadata": {
        "id": "ggAsLt5yZNEp"
      },
      "execution_count": 56,
      "outputs": []
    },
    {
      "cell_type": "markdown",
      "source": [
        "Q4: Print the length of variable \"full_name\"."
      ],
      "metadata": {
        "id": "VfpDThZ2a6OE"
      }
    },
    {
      "cell_type": "code",
      "source": [
        "# Write your answer here"
      ],
      "metadata": {
        "id": "1-3PtAQ4bCvY"
      },
      "execution_count": 57,
      "outputs": []
    },
    {
      "cell_type": "markdown",
      "source": [
        "Q5: what data type will x have in x = 5, x = 19.5, x = \"hello world!\", and x = \\[1,2,3\\]?"
      ],
      "metadata": {
        "id": "2GB1QUhhZmD3"
      }
    },
    {
      "cell_type": "code",
      "source": [
        "# Write your answer here"
      ],
      "metadata": {
        "id": "ycBTIlknZlSl"
      },
      "execution_count": 54,
      "outputs": []
    },
    {
      "cell_type": "markdown",
      "source": [
        "Q6: Convert x into a floating point number in x = 5."
      ],
      "metadata": {
        "id": "zKXj_PD-aMsu"
      }
    },
    {
      "cell_type": "code",
      "source": [
        "# Write your answer here"
      ],
      "metadata": {
        "id": "mmtCOe3GaL_Q"
      },
      "execution_count": 55,
      "outputs": []
    },
    {
      "cell_type": "markdown",
      "source": [],
      "metadata": {
        "id": "QWCydSWKayhe"
      }
    },
    {
      "cell_type": "code",
      "source": [],
      "metadata": {
        "id": "_r6RciAnaxYR"
      },
      "execution_count": null,
      "outputs": []
    }
  ]
}