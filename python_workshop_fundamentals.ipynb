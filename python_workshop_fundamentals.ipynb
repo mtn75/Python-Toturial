{
  "nbformat": 4,
  "nbformat_minor": 0,
  "metadata": {
    "colab": {
      "provenance": [],
      "authorship_tag": "ABX9TyP+kTQsIbS5iWn3F9OmdmDw",
      "include_colab_link": true
    },
    "kernelspec": {
      "name": "python3",
      "display_name": "Python 3"
    },
    "language_info": {
      "name": "python"
    }
  },
  "cells": [
    {
      "cell_type": "markdown",
      "metadata": {
        "id": "view-in-github",
        "colab_type": "text"
      },
      "source": [
        "<a href=\"https://colab.research.google.com/github/mtn75/Python-Toturial/blob/main/python_workshop_fundamentals.ipynb\" target=\"_parent\"><img src=\"https://colab.research.google.com/assets/colab-badge.svg\" alt=\"Open In Colab\"/></a>"
      ]
    },
    {
      "cell_type": "markdown",
      "source": [
        "# Variables\n",
        "\n",
        "containers for storing data values.\n",
        "\n",
        "Variables are names of the data values."
      ],
      "metadata": {
        "id": "zajGETQuihFu"
      }
    },
    {
      "cell_type": "code",
      "source": [
        "x = 1 \n",
        "text = \"Hello World!\"\n",
        "\n",
        "print(x)\n",
        "print(text)"
      ],
      "metadata": {
        "colab": {
          "base_uri": "https://localhost:8080/"
        },
        "id": "s-cAaFeoGL5p",
        "outputId": "2e582988-f365-40a7-cbd5-412cb63a19e0"
      },
      "execution_count": 21,
      "outputs": [
        {
          "output_type": "stream",
          "name": "stdout",
          "text": [
            "1\n",
            "Hello World!\n"
          ]
        }
      ]
    },
    {
      "cell_type": "code",
      "source": [
        "x = y = 31\n",
        "\n",
        "print(x)\n",
        "print(y)"
      ],
      "metadata": {
        "colab": {
          "base_uri": "https://localhost:8080/"
        },
        "id": "HGWacZVcKsLV",
        "outputId": "f62074cb-2291-45d8-ccd1-90ff35b96a8a"
      },
      "execution_count": 19,
      "outputs": [
        {
          "output_type": "stream",
          "name": "stdout",
          "text": [
            "31\n",
            "31\n"
          ]
        }
      ]
    },
    {
      "cell_type": "code",
      "source": [
        "x , y = 12, 45\n",
        "\n",
        "print(x)\n",
        "print(y)"
      ],
      "metadata": {
        "colab": {
          "base_uri": "https://localhost:8080/"
        },
        "id": "PZYN65trKyfO",
        "outputId": "01c39313-d780-4db9-e72b-4599f80617d2"
      },
      "execution_count": 22,
      "outputs": [
        {
          "output_type": "stream",
          "name": "stdout",
          "text": [
            "12\n",
            "45\n"
          ]
        }
      ]
    },
    {
      "cell_type": "markdown",
      "source": [
        "# Data Types in Python\n",
        "\n"
      ],
      "metadata": {
        "id": "ZSsOLgZ3YXhw"
      }
    },
    {
      "cell_type": "markdown",
      "source": [
        "## Numeric\n",
        "\n",
        "\n",
        "\n",
        "*   int - integer: -5, 10, 77, 0\n",
        "*   float - Floating Point numbers: 3.1457, 0.34, 0.78\n",
        "\n",
        "\n",
        "\n"
      ],
      "metadata": {
        "id": "Pe2eIuFDh22O"
      }
    },
    {
      "cell_type": "code",
      "execution_count": 4,
      "metadata": {
        "colab": {
          "base_uri": "https://localhost:8080/"
        },
        "id": "y88U6gGY12Ab",
        "outputId": "4b2842b0-e601-45a5-9ae7-2def7778c53a"
      },
      "outputs": [
        {
          "output_type": "stream",
          "name": "stdout",
          "text": [
            "1\n",
            "1.2\n",
            "-56\n"
          ]
        }
      ],
      "source": [
        "x = 1\n",
        "y = 1.2\n",
        "z = -56\n",
        "\n",
        "print(x)\n",
        "print(y)\n",
        "print(z)"
      ]
    },
    {
      "cell_type": "code",
      "source": [
        "print(type(x))\n",
        "print(type(y))\n",
        "print(type(z))"
      ],
      "metadata": {
        "colab": {
          "base_uri": "https://localhost:8080/"
        },
        "id": "YHBJUGmoYlh6",
        "outputId": "9557ced6-83dd-4f4c-96e7-8621c0b74f11"
      },
      "execution_count": 10,
      "outputs": [
        {
          "output_type": "stream",
          "name": "stdout",
          "text": [
            "<class 'int'>\n",
            "<class 'float'>\n",
            "<class 'int'>\n"
          ]
        }
      ]
    },
    {
      "cell_type": "code",
      "source": [
        "x = 2.5\n",
        "\n",
        "print(type(x))"
      ],
      "metadata": {
        "colab": {
          "base_uri": "https://localhost:8080/"
        },
        "id": "JyRL5fOxHl-7",
        "outputId": "653e5964-b07e-4677-b595-87a1f59c1375"
      },
      "execution_count": 11,
      "outputs": [
        {
          "output_type": "stream",
          "name": "stdout",
          "text": [
            "<class 'float'>\n"
          ]
        }
      ]
    },
    {
      "cell_type": "markdown",
      "source": [
        "## Boolean\n",
        "\n",
        "bool - boolean : True or False"
      ],
      "metadata": {
        "id": "Clr2BlQNH5_P"
      }
    },
    {
      "cell_type": "code",
      "source": [
        "x, y = True, False\n",
        "\n",
        "print(x)\n",
        "print(y)"
      ],
      "metadata": {
        "colab": {
          "base_uri": "https://localhost:8080/"
        },
        "id": "eIkBdMCMIG0m",
        "outputId": "50977658-e2f2-4a36-98e5-83af328893e9"
      },
      "execution_count": 17,
      "outputs": [
        {
          "output_type": "stream",
          "name": "stdout",
          "text": [
            "True\n",
            "False\n"
          ]
        }
      ]
    },
    {
      "cell_type": "code",
      "source": [
        "print(type(x))\n",
        "print(type(y))"
      ],
      "metadata": {
        "colab": {
          "base_uri": "https://localhost:8080/"
        },
        "id": "gDyK1--vIKrT",
        "outputId": "1be91b2e-84bf-4eac-fe31-b034fe0aa9b9"
      },
      "execution_count": 13,
      "outputs": [
        {
          "output_type": "stream",
          "name": "stdout",
          "text": [
            "<class 'bool'>\n",
            "<class 'bool'>\n"
          ]
        }
      ]
    },
    {
      "cell_type": "markdown",
      "source": [
        "## Text\n",
        "\n",
        "strings - Sequence of characters representing a text. \n",
        "\n",
        "Are used with single qoute '' or double qoutes \"\"\n",
        "\n"
      ],
      "metadata": {
        "id": "sThj5QSaIfE7"
      }
    },
    {
      "cell_type": "code",
      "source": [
        "text = \"welcome to the data analyst toolkit workshop!\"\n",
        "\n",
        "print (text)"
      ],
      "metadata": {
        "colab": {
          "base_uri": "https://localhost:8080/"
        },
        "id": "uohtWm7yJV7U",
        "outputId": "98b42106-7f60-4e01-c4cd-68119fde968e"
      },
      "execution_count": 26,
      "outputs": [
        {
          "output_type": "stream",
          "name": "stdout",
          "text": [
            "welcome to the data analyst toolkit workshop!\n"
          ]
        }
      ]
    },
    {
      "cell_type": "markdown",
      "source": [
        "### Capitalise \n",
        "\n",
        "capitalize()"
      ],
      "metadata": {
        "id": "YZLn3IrFMMt4"
      }
    },
    {
      "cell_type": "code",
      "source": [
        "capital_text = text.capitalize()\n",
        "\n",
        "print(capital_text)"
      ],
      "metadata": {
        "colab": {
          "base_uri": "https://localhost:8080/"
        },
        "id": "vdFlMkDQMQ_r",
        "outputId": "ef45341a-79a5-47e2-f5f8-9737037e3a5c"
      },
      "execution_count": 27,
      "outputs": [
        {
          "output_type": "stream",
          "name": "stdout",
          "text": [
            "Welcome to the data analyst toolkit workshop!\n"
          ]
        }
      ]
    },
    {
      "cell_type": "markdown",
      "source": [
        "### Search\n",
        "\n",
        "find()"
      ],
      "metadata": {
        "id": "qtBw1h5xMfwL"
      }
    },
    {
      "cell_type": "code",
      "source": [
        "has_data = text.find('data')\n",
        "has_hello = text.find('hello')\n",
        "\n",
        "print(has_data)\n",
        "print(has_hello)"
      ],
      "metadata": {
        "colab": {
          "base_uri": "https://localhost:8080/"
        },
        "id": "fMn_8covMrZ-",
        "outputId": "d8d7ab22-9cfd-4710-d93a-492b16d4d32e"
      },
      "execution_count": 28,
      "outputs": [
        {
          "output_type": "stream",
          "name": "stdout",
          "text": [
            "15\n",
            "-1\n"
          ]
        }
      ]
    },
    {
      "cell_type": "markdown",
      "source": [
        "### Search for ending\n",
        "\n",
        "endswith()"
      ],
      "metadata": {
        "id": "GQ4KYMIVMro4"
      }
    },
    {
      "cell_type": "code",
      "source": [
        "ends_with_workshop = text.endswith('workshop!')\n",
        "ends_with_world = text.endswith('world')\n",
        "\n",
        "print(ends_with_workshop)\n",
        "print(ends_with_world)"
      ],
      "metadata": {
        "colab": {
          "base_uri": "https://localhost:8080/"
        },
        "id": "9_lSbO3xSSi1",
        "outputId": "f2b1d5ce-ebfa-48a5-c703-3c7f604ed8b6"
      },
      "execution_count": 31,
      "outputs": [
        {
          "output_type": "stream",
          "name": "stdout",
          "text": [
            "True\n",
            "False\n"
          ]
        }
      ]
    },
    {
      "cell_type": "markdown",
      "source": [
        "### Replace\n",
        "\n",
        "replace()"
      ],
      "metadata": {
        "id": "IpbpuHKpM2eE"
      }
    },
    {
      "cell_type": "code",
      "source": [
        "replaced_text = text.replace('workshop', 'tutorial')\n",
        "\n",
        "print(replaced_text)"
      ],
      "metadata": {
        "colab": {
          "base_uri": "https://localhost:8080/"
        },
        "id": "iS-fn6fZRQCh",
        "outputId": "38dd0916-1a70-4121-c3ae-501fe509bf89"
      },
      "execution_count": 32,
      "outputs": [
        {
          "output_type": "stream",
          "name": "stdout",
          "text": [
            "welcome to the data analyst toolkit tutorial!\n"
          ]
        }
      ]
    },
    {
      "cell_type": "markdown",
      "source": [
        "### Lower/Upper Case\n",
        "\n",
        "lower()\n",
        "upper()"
      ],
      "metadata": {
        "id": "Fs-Tchp0RQKu"
      }
    },
    {
      "cell_type": "code",
      "source": [
        "upper_case = text.upper()\n",
        "\n",
        "print(upper_case)"
      ],
      "metadata": {
        "colab": {
          "base_uri": "https://localhost:8080/"
        },
        "id": "Bm-rfK6NRcTt",
        "outputId": "85607ba1-6d92-4369-b1e8-669a29d8de42"
      },
      "execution_count": 34,
      "outputs": [
        {
          "output_type": "stream",
          "name": "stdout",
          "text": [
            "WELCOME TO THE DATA ANALYST TOOLKIT WORKSHOP!\n"
          ]
        }
      ]
    },
    {
      "cell_type": "code",
      "source": [
        "lower_case = upper_case.lower()\n",
        "\n",
        "print(lower_case)"
      ],
      "metadata": {
        "colab": {
          "base_uri": "https://localhost:8080/"
        },
        "id": "pw2fVbPDTJ7l",
        "outputId": "e3b42ade-c328-4e87-ddb7-9a17689bee48"
      },
      "execution_count": 35,
      "outputs": [
        {
          "output_type": "stream",
          "name": "stdout",
          "text": [
            "welcome to the data analyst toolkit workshop!\n"
          ]
        }
      ]
    },
    {
      "cell_type": "markdown",
      "source": [
        "### Slicing"
      ],
      "metadata": {
        "id": "I-AsshkPRcbV"
      }
    },
    {
      "cell_type": "code",
      "source": [
        "middle_text = text[10:20]\n",
        "\n",
        "print(middle_text)"
      ],
      "metadata": {
        "colab": {
          "base_uri": "https://localhost:8080/"
        },
        "id": "WsGIO2OaRfOw",
        "outputId": "9d46777e-aa54-4dcf-c049-83f86cd5e50a"
      },
      "execution_count": 40,
      "outputs": [
        {
          "output_type": "stream",
          "name": "stdout",
          "text": [
            " the data \n"
          ]
        }
      ]
    },
    {
      "cell_type": "code",
      "source": [
        "end_text = text[20:]\n",
        "\n",
        "print(end_text)"
      ],
      "metadata": {
        "colab": {
          "base_uri": "https://localhost:8080/"
        },
        "id": "j6l2R6HKTQl3",
        "outputId": "b7a175f5-720c-49cd-edf7-070ecb29c47e"
      },
      "execution_count": 41,
      "outputs": [
        {
          "output_type": "stream",
          "name": "stdout",
          "text": [
            "analyst toolkit workshop!\n"
          ]
        }
      ]
    },
    {
      "cell_type": "code",
      "source": [
        "first_text = text[:20]\n",
        "\n",
        "print(first_text)"
      ],
      "metadata": {
        "colab": {
          "base_uri": "https://localhost:8080/"
        },
        "id": "wSMA6Uf2TQoO",
        "outputId": "3ee4e34a-b55c-42f7-d5f5-b92e0f6d8675"
      },
      "execution_count": 42,
      "outputs": [
        {
          "output_type": "stream",
          "name": "stdout",
          "text": [
            "welcome to the data \n"
          ]
        }
      ]
    },
    {
      "cell_type": "code",
      "source": [
        "last_x_chars = text[-17:]\n",
        "\n",
        "print(last_x_chars)"
      ],
      "metadata": {
        "colab": {
          "base_uri": "https://localhost:8080/"
        },
        "id": "DM06ZtnYTQqq",
        "outputId": "c3716e8e-2ef4-4990-9990-fcbee8b17acd"
      },
      "execution_count": 45,
      "outputs": [
        {
          "output_type": "stream",
          "name": "stdout",
          "text": [
            "toolkit workshop!\n"
          ]
        }
      ]
    },
    {
      "cell_type": "markdown",
      "source": [
        "Further readings:\n"
      ],
      "metadata": {
        "id": "A8ONMl59DA_A"
      }
    },
    {
      "cell_type": "markdown",
      "source": [
        "## Lists"
      ],
      "metadata": {
        "id": "VMzxxH44URzv"
      }
    }
  ]
}