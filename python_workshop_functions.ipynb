{
  "nbformat": 4,
  "nbformat_minor": 0,
  "metadata": {
    "colab": {
      "provenance": [],
      "authorship_tag": "ABX9TyMlsi6xExrWK2hfxuZu395m",
      "include_colab_link": true
    },
    "kernelspec": {
      "name": "python3",
      "display_name": "Python 3"
    },
    "language_info": {
      "name": "python"
    }
  },
  "cells": [
    {
      "cell_type": "markdown",
      "metadata": {
        "id": "view-in-github",
        "colab_type": "text"
      },
      "source": [
        "<a href=\"https://colab.research.google.com/github/mtn75/Python-Toturial/blob/main/python_workshop_functions.ipynb\" target=\"_parent\"><img src=\"https://colab.research.google.com/assets/colab-badge.svg\" alt=\"Open In Colab\"/></a>"
      ]
    },
    {
      "cell_type": "markdown",
      "source": [
        "# Operations\n"
      ],
      "metadata": {
        "id": "JRBtMc-iBgho"
      }
    },
    {
      "cell_type": "markdown",
      "source": [
        "## Arithmetic Operators\n",
        "\n",
        "|Operator|\tName|\tExample|\t\n",
        "| :- | :- | :- |\n",
        "|+\t|Addition\t|x + y\t|\n",
        "|-\t|Subtraction|\tx - y\t|\n",
        "|* | Multiplication | x \\* y |\n",
        "|/|\tDivision\t|x / y\t|\n",
        "|%\t|Modulus\t|x % y\t|\n",
        "|** |\tExponentiation\t| x ** y\t|\n",
        "|//\t|Floor division\t|x // y|\n",
        "\n",
        "## Assignment Operators\n",
        "\n",
        "|Operator|\tExample\t|Same As|\n",
        "| :- | :- | :-|\n",
        "|=\t|x = 5|\tx = 5\t|\n",
        "|+=\t|x += 3\t|x = x + 3\t|\n",
        "| -=|\tx -= 3|\tx = x - 3\t|\n",
        "|*= |\tx *= 3\t| x = x * 3\t|\n",
        "|/=\t|x /= 3|\tx = x / 3\t|\n",
        "|%=\t|x %= 3\t|x = x % 3\t|\n",
        "|//=|\tx //= 3|\tx = x // 3\t|\n",
        "|**= |\tx **= 3\t|x = x ** 3\t|\n",
        "|&=\t|x &= 3\t|x = x & 3|\t\n",
        "| \\|=\t| x \\|= 3\t|x = x \\| 3\t|\n",
        "|^=\t|x ^= 3\t|x = x ^ 3\t|\n",
        "| >>=\t|x >>= 3|\tx = x >> 3|\t\n",
        "|<<=|\tx <<= 3\t|x = x << 3|"
      ],
      "metadata": {
        "id": "oDhy5d-iDaBJ"
      }
    },
    {
      "cell_type": "code",
      "execution_count": 10,
      "metadata": {
        "id": "UcllJQktu3ep",
        "colab": {
          "base_uri": "https://localhost:8080/"
        },
        "outputId": "f762291e-47f2-4f4c-eb36-8da419161737"
      },
      "outputs": [
        {
          "output_type": "stream",
          "name": "stdout",
          "text": [
            "8\n",
            "5\n",
            "15\n",
            "0\n",
            "5\n",
            "3\n"
          ]
        }
      ],
      "source": [
        "x = 5\n",
        "\n",
        "x += 3\n",
        "print(x)\n",
        "\n",
        "x -= 3\n",
        "print(x)\n",
        "\n",
        "x *= 3\n",
        "print(x)\n",
        "\n",
        "print(x % 3)\n",
        "\n",
        "print(x // 3\t)\n",
        "\n",
        "x &= 3\n",
        "print(x)\n",
        "\n"
      ]
    },
    {
      "cell_type": "code",
      "source": [],
      "metadata": {
        "id": "WWLq5P6NFVZR"
      },
      "execution_count": null,
      "outputs": []
    },
    {
      "cell_type": "markdown",
      "source": [
        "## Comparison Operators\n",
        "\n",
        "|Operator\t|Name\t|Example|\t\n",
        "| :- | :- | :- |\n",
        "|==\t|Equal\t|x == y\t|\n",
        "|!=\t|Not equal|\tx != y\t|\n",
        "|>|\tGreater than\t|x > y\t|\n",
        "|<|\tLess than\t|x < y\t|\n",
        "|>=\t|Greater than or equal to |\tx >= y\t|\n",
        "|<=\t|Less than or equal to|\tx <= y|\t\n"
      ],
      "metadata": {
        "id": "UBu1ZYI7FVh-"
      }
    },
    {
      "cell_type": "code",
      "source": [
        "x, y = 9,4\n",
        "\n",
        "print(x==y)\n",
        "print(x==9)\n",
        "print(x!=y)\n",
        "print(x<y)\n",
        "print(x>=y)\n"
      ],
      "metadata": {
        "colab": {
          "base_uri": "https://localhost:8080/"
        },
        "id": "HB137PAtFuJn",
        "outputId": "dab549a7-eaa8-4a57-98a2-58ceefa79385"
      },
      "execution_count": 11,
      "outputs": [
        {
          "output_type": "stream",
          "name": "stdout",
          "text": [
            "False\n",
            "True\n",
            "True\n",
            "False\n",
            "True\n"
          ]
        }
      ]
    },
    {
      "cell_type": "markdown",
      "source": [
        "## Other Operators\n",
        "\n",
        "|Operator\t|Description\t|Example|\n",
        "| :- | :- | :- |\n",
        "|and |\tReturns True if both statements are true|\tx < 5 and  x < 10\t|\n",
        "|or|\tReturns True if one of the statements is true|\tx < 5 or x < 4\t|\n",
        "|not|\tReverse the result, returns False if the result is true\t|not(x < 5 and x < 10)|\n",
        "|is |\tReturns True if both variables are the same object\t|x is y\t|\n",
        "|is not\t|Returns True if both variables are not the same object\t|x is not y|\t\n",
        "|in |\tReturns True if a sequence with the specified value is present in the object|\tx in y\t|\n",
        "|not in|\tReturns True if a sequence with the specified value is not present in the object|\tx not in y|"
      ],
      "metadata": {
        "id": "lIQ-_lXZFuQ1"
      }
    },
    {
      "cell_type": "code",
      "source": [
        "nums = list(range(10))\n",
        "string1 = \"Hello\"\n",
        "string2 = \"hello\"\n",
        "\n",
        "\n",
        "print(3 in nums)\n",
        "print(15 not in nums)\n",
        "print(string1 is string2)\n",
        "print(3 in nums or 4 not in nums)"
      ],
      "metadata": {
        "colab": {
          "base_uri": "https://localhost:8080/"
        },
        "id": "qABC_kzIGsSa",
        "outputId": "7b74f067-293e-4950-c5e3-2e1fd3d335f0"
      },
      "execution_count": 18,
      "outputs": [
        {
          "output_type": "stream",
          "name": "stdout",
          "text": [
            "True\n",
            "True\n",
            "False\n",
            "True\n"
          ]
        }
      ]
    },
    {
      "cell_type": "markdown",
      "source": [
        "# Conditional Statements"
      ],
      "metadata": {
        "id": "gRd2zFdkBjkG"
      }
    },
    {
      "cell_type": "code",
      "source": [],
      "metadata": {
        "id": "hR1OWlEWBnDa"
      },
      "execution_count": null,
      "outputs": []
    },
    {
      "cell_type": "markdown",
      "source": [
        "## Loops"
      ],
      "metadata": {
        "id": "9GAfAJakBnqn"
      }
    },
    {
      "cell_type": "code",
      "source": [],
      "metadata": {
        "id": "lqeY8lyNBq1P"
      },
      "execution_count": null,
      "outputs": []
    },
    {
      "cell_type": "markdown",
      "source": [
        "## Functions"
      ],
      "metadata": {
        "id": "71fDvlzaBrun"
      }
    },
    {
      "cell_type": "code",
      "source": [],
      "metadata": {
        "id": "Idz7c25FBurR"
      },
      "execution_count": null,
      "outputs": []
    }
  ]
}