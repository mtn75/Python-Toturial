{
  "nbformat": 4,
  "nbformat_minor": 0,
  "metadata": {
    "colab": {
      "provenance": [],
      "authorship_tag": "ABX9TyNc1jYhw3nUM2QObXxn+8Ez",
      "include_colab_link": true
    },
    "kernelspec": {
      "name": "python3",
      "display_name": "Python 3"
    },
    "language_info": {
      "name": "python"
    }
  },
  "cells": [
    {
      "cell_type": "markdown",
      "metadata": {
        "id": "view-in-github",
        "colab_type": "text"
      },
      "source": [
        "<a href=\"https://colab.research.google.com/github/mtn75/Python-Toturial/blob/main/python_workshop_functions.ipynb\" target=\"_parent\"><img src=\"https://colab.research.google.com/assets/colab-badge.svg\" alt=\"Open In Colab\"/></a>"
      ]
    },
    {
      "cell_type": "markdown",
      "source": [
        "# Operations\n",
        "\n",
        "Operators in Python are special symbols that perform specific operations on one, two, or three operands, and then return a result.\n",
        "\n",
        "There are several types of operators in Python:"
      ],
      "metadata": {
        "id": "JRBtMc-iBgho"
      }
    },
    {
      "cell_type": "markdown",
      "source": [
        "## Arithmetic Operators\n",
        "These operators perform mathematical operations on numerical values (operands).\n",
        "\n",
        "|Operator|\tName|\tExample|\t\n",
        "| :- | :- | :- |\n",
        "|+\t|Addition\t|x + y\t|\n",
        "|-\t|Subtraction|\tx - y\t|\n",
        "|* | Multiplication | x \\* y |\n",
        "|/|\tDivision\t|x / y\t|\n",
        "|%\t|Modulus\t|x % y\t|\n",
        "|** |\tExponentiation\t| x ** y\t|\n",
        "|//\t|Floor division\t|x // y|\n",
        "\n",
        "## Assignment Operators\n",
        "These operators are used to assign a value to a variable. \n",
        "\n",
        "|Operator|\tExample\t|Same As|\n",
        "| :- | :- | :-|\n",
        "|=\t|x = 5|\tx = 5\t|\n",
        "|+=\t|x += 3\t|x = x + 3\t|\n",
        "| -=|\tx -= 3|\tx = x - 3\t|\n",
        "|*= |\tx *= 3\t| x = x * 3\t|\n",
        "|/=\t|x /= 3|\tx = x / 3\t|\n",
        "|%=\t|x %= 3\t|x = x % 3\t|\n",
        "|//=|\tx //= 3|\tx = x // 3\t|\n",
        "|**= |\tx **= 3\t|x = x ** 3\t|\n",
        "|&=\t|x &= 3\t|x = x & 3|\t\n",
        "| \\|=\t| x \\|= 3\t|x = x \\| 3\t|\n",
        "|^=\t|x ^= 3\t|x = x ^ 3\t|\n",
        "| >>=\t|x >>= 3|\tx = x >> 3|\t\n",
        "|<<=|\tx <<= 3\t|x = x << 3|"
      ],
      "metadata": {
        "id": "oDhy5d-iDaBJ"
      }
    },
    {
      "cell_type": "code",
      "execution_count": null,
      "metadata": {
        "id": "UcllJQktu3ep",
        "colab": {
          "base_uri": "https://localhost:8080/"
        },
        "outputId": "f762291e-47f2-4f4c-eb36-8da419161737"
      },
      "outputs": [
        {
          "output_type": "stream",
          "name": "stdout",
          "text": [
            "8\n",
            "5\n",
            "15\n",
            "0\n",
            "5\n",
            "3\n"
          ]
        }
      ],
      "source": [
        "x = 5\n",
        "\n",
        "x += 3\n",
        "print(x)\n",
        "\n",
        "x -= 3\n",
        "print(x)\n",
        "\n",
        "x *= 3\n",
        "print(x)\n",
        "\n",
        "print(x % 3)\n",
        "\n",
        "print(x // 3\t)\n",
        "\n",
        "x &= 3\n",
        "print(x)\n",
        "\n"
      ]
    },
    {
      "cell_type": "code",
      "source": [],
      "metadata": {
        "id": "WWLq5P6NFVZR"
      },
      "execution_count": null,
      "outputs": []
    },
    {
      "cell_type": "markdown",
      "source": [
        "## Comparison Operators\n",
        "These operators compare two values and return a Boolean value based on the comparison.\n",
        "\n",
        "|Operator\t|Name\t|Example|\t\n",
        "| :- | :- | :- |\n",
        "|==\t|Equal\t|x == y\t|\n",
        "|!=\t|Not equal|\tx != y\t|\n",
        "|>|\tGreater than\t|x > y\t|\n",
        "|<|\tLess than\t|x < y\t|\n",
        "|>=\t|Greater than or equal to |\tx >= y\t|\n",
        "|<=\t|Less than or equal to|\tx <= y|\t\n"
      ],
      "metadata": {
        "id": "UBu1ZYI7FVh-"
      }
    },
    {
      "cell_type": "code",
      "source": [
        "x, y = 9,4\n",
        "\n",
        "print(x==y)\n",
        "print(x==9)\n",
        "print(x!=y)\n",
        "print(x<y)\n",
        "print(x>=y)\n"
      ],
      "metadata": {
        "colab": {
          "base_uri": "https://localhost:8080/"
        },
        "id": "HB137PAtFuJn",
        "outputId": "dab549a7-eaa8-4a57-98a2-58ceefa79385"
      },
      "execution_count": null,
      "outputs": [
        {
          "output_type": "stream",
          "name": "stdout",
          "text": [
            "False\n",
            "True\n",
            "True\n",
            "False\n",
            "True\n"
          ]
        }
      ]
    },
    {
      "cell_type": "markdown",
      "source": [
        "## Other Operators\n",
        "\n",
        "Logical operators: These operators perform Boolean operations on operands. Examples include and, or, and not.\n",
        "\n",
        "Identity operators: These operators compare the memory addresses of two objects. Examples include is and is not.\n",
        "\n",
        "Membership operators: These operators test whether a value is found in a sequence. Examples include in and not in.\n",
        "\n",
        "|Operator\t|Description\t|Example|\n",
        "| :- | :- | :- |\n",
        "|and |\tReturns True if both statements are true|\tx < 5 and  x < 10\t|\n",
        "|or|\tReturns True if one of the statements is true|\tx < 5 or x < 4\t|\n",
        "|not|\tReverse the result, returns False if the result is true\t|not(x < 5 and x < 10)|\n",
        "|is |\tReturns True if both variables are the same object\t|x is y\t|\n",
        "|is not\t|Returns True if both variables are not the same object\t|x is not y|\t\n",
        "|in |\tReturns True if a sequence with the specified value is present in the object|\tx in y\t|\n",
        "|not in|\tReturns True if a sequence with the specified value is not present in the object|\tx not in y|"
      ],
      "metadata": {
        "id": "lIQ-_lXZFuQ1"
      }
    },
    {
      "cell_type": "code",
      "source": [
        "nums = list(range(10))\n",
        "string1 = \"Hello\"\n",
        "string2 = \"hello\"\n",
        "\n",
        "\n",
        "print(3 in nums)\n",
        "print(15 not in nums)\n",
        "print(string1 is string2)\n",
        "print(3 in nums or 4 not in nums)"
      ],
      "metadata": {
        "colab": {
          "base_uri": "https://localhost:8080/"
        },
        "id": "qABC_kzIGsSa",
        "outputId": "a1a321b7-e12e-4a56-9c76-871aec41b754"
      },
      "execution_count": null,
      "outputs": [
        {
          "output_type": "stream",
          "name": "stdout",
          "text": [
            "True\n",
            "True\n",
            "False\n",
            "True\n"
          ]
        }
      ]
    },
    {
      "cell_type": "markdown",
      "source": [
        "Q1: Write a program that takes two numbers from the user and performs the following operations on them: addition, subtraction, multiplication, division, and modulus. Print the result of each operation."
      ],
      "metadata": {
        "id": "d5s2c7qCsCZ1"
      }
    },
    {
      "cell_type": "code",
      "source": [
        "#write your code here"
      ],
      "metadata": {
        "id": "D6a1rNW5sD9p"
      },
      "execution_count": null,
      "outputs": []
    },
    {
      "cell_type": "markdown",
      "source": [
        "Q2: Write a program that takes a number from the user and determines whether it is even or odd. If the number is even, print \"The number is even.\" If the number is odd, print \"The number is odd.\""
      ],
      "metadata": {
        "id": "ByJewo-asXqU"
      }
    },
    {
      "cell_type": "code",
      "source": [
        "#write your code here"
      ],
      "metadata": {
        "id": "wqHUKapvsZsj"
      },
      "execution_count": null,
      "outputs": []
    },
    {
      "cell_type": "markdown",
      "source": [
        "# Conditional Statements\n",
        "\n",
        "In Python, you can use conditional statements to execute different code blocks based on whether a certain condition is true or false."
      ],
      "metadata": {
        "id": "gRd2zFdkBjkG"
      }
    },
    {
      "cell_type": "markdown",
      "source": [
        "## If\n",
        "Here is an example of an if statement in Python:"
      ],
      "metadata": {
        "id": "chSqvDrza4XM"
      }
    },
    {
      "cell_type": "code",
      "source": [
        "x = 10\n",
        "\n",
        "if x > 0:\n",
        "  print(\"x is positive\")\n",
        "\n",
        "#or\n",
        "\n",
        "if x > 0: print(\"x is positive\")    #short hand"
      ],
      "metadata": {
        "colab": {
          "base_uri": "https://localhost:8080/"
        },
        "id": "hR1OWlEWBnDa",
        "outputId": "2f681178-46c3-4336-d27e-ce704fdfba39"
      },
      "execution_count": null,
      "outputs": [
        {
          "output_type": "stream",
          "name": "stdout",
          "text": [
            "x is positive\n",
            "x is positive\n"
          ]
        }
      ]
    },
    {
      "cell_type": "markdown",
      "source": [
        "## Else\n",
        "\n",
        "You can also use an if-else statement to specify a code block to be executed if the condition is false:"
      ],
      "metadata": {
        "id": "jQG0vO-Ba85r"
      }
    },
    {
      "cell_type": "code",
      "source": [
        "x = -5\n",
        "\n",
        "if x > 0:\n",
        "  print(\"x is positive\")\n",
        "else:\n",
        "  print(\"x is negative\")\n",
        "\n",
        "#or\n",
        "\n",
        "print(\"x is positive\") if x > 0 else print(\"x is negative\")     #short hand"
      ],
      "metadata": {
        "colab": {
          "base_uri": "https://localhost:8080/"
        },
        "id": "yJKR6_Neaawo",
        "outputId": "0f3e1253-809f-442e-fc80-ab5c8000cf1e"
      },
      "execution_count": null,
      "outputs": [
        {
          "output_type": "stream",
          "name": "stdout",
          "text": [
            "x is negative\n",
            "x is negative\n"
          ]
        }
      ]
    },
    {
      "cell_type": "markdown",
      "source": [
        "## Elif\n",
        "You can use an if-elif-else statement to specify multiple conditions and code blocks:"
      ],
      "metadata": {
        "id": "VpLgWzG6a_1j"
      }
    },
    {
      "cell_type": "code",
      "source": [
        "x = 10\n",
        "\n",
        "if x > 0:\n",
        "  print(\"x is positive\")\n",
        "elif x == 0:\n",
        "  print(\"x is zero\")\n",
        "else:\n",
        "  print(\"x is negative\")\n",
        "\n",
        "#or\n",
        "\n",
        "print(\"x is positive\") if x > 0 else print(\"x is zero\") if x == 0 else print(\"x is negative\")      #short hand"
      ],
      "metadata": {
        "colab": {
          "base_uri": "https://localhost:8080/"
        },
        "id": "lvmag5Q3aa0d",
        "outputId": "43d4567d-d25c-47f8-9221-8a3a39b91ed2"
      },
      "execution_count": null,
      "outputs": [
        {
          "output_type": "stream",
          "name": "stdout",
          "text": [
            "x is positive\n",
            "x is positive\n"
          ]
        }
      ]
    },
    {
      "cell_type": "markdown",
      "source": [
        "It is important to note that the code blocks under the if and elif statements are only executed if the corresponding conditions are true. As soon as a true condition is found, the code execution moves to the corresponding code block and skips the remaining conditions."
      ],
      "metadata": {
        "id": "s6EM_0kYaq7b"
      }
    },
    {
      "cell_type": "markdown",
      "source": [
        "## Nested If\n",
        "\n",
        "In Python, you can use a nested if statement to test multiple conditions within an if or else block."
      ],
      "metadata": {
        "id": "uZGIEy4GcUBN"
      }
    },
    {
      "cell_type": "code",
      "source": [
        "x = 10\n",
        "y = 5\n",
        "\n",
        "if x > 0:\n",
        "  if y > 0:\n",
        "    print(\"x and y are positive\")\n",
        "  elif y == 0:\n",
        "    print(\"x is positive and y is zero\")\n",
        "  else:\n",
        "    print(\"x is positive and y is negative\")\n",
        "else:\n",
        "  if y > 0:\n",
        "    print(\"x is non-positive and y is positive\")\n",
        "  elif y == 0:\n",
        "    print(\"x and y are zero\")\n",
        "  else:\n",
        "    print(\"x and y are non-positive\")\n",
        "\n"
      ],
      "metadata": {
        "colab": {
          "base_uri": "https://localhost:8080/"
        },
        "id": "hHy0dsUzcrZz",
        "outputId": "59028aec-5356-4a5b-b934-23c9a30e5f92"
      },
      "execution_count": null,
      "outputs": [
        {
          "output_type": "stream",
          "name": "stdout",
          "text": [
            "x and y are positive\n"
          ]
        }
      ]
    },
    {
      "cell_type": "markdown",
      "source": [
        "# Loops\n",
        "\n",
        "Python has two primitive loop commands:\n",
        "\n",
        "*   while loops\n",
        "*   for loops\n",
        "\n",
        "\n"
      ],
      "metadata": {
        "id": "9GAfAJakBnqn"
      }
    },
    {
      "cell_type": "markdown",
      "source": [
        "## For Loops\n",
        "\n",
        "n Python, a for loop is used to iterate over a sequence (such as a list, tuple, or string) or other iterable object. "
      ],
      "metadata": {
        "id": "FDCjIKPlV2Mt"
      }
    },
    {
      "cell_type": "code",
      "source": [
        "for i in range(10):    #tuple, list\n",
        "    print(i)"
      ],
      "metadata": {
        "colab": {
          "base_uri": "https://localhost:8080/"
        },
        "id": "lqeY8lyNBq1P",
        "outputId": "3afe07d8-8307-4e05-aac7-4bf454284d5d"
      },
      "execution_count": null,
      "outputs": [
        {
          "output_type": "stream",
          "name": "stdout",
          "text": [
            "0\n",
            "1\n",
            "2\n",
            "3\n",
            "4\n",
            "5\n",
            "6\n",
            "7\n",
            "8\n",
            "9\n"
          ]
        }
      ]
    },
    {
      "cell_type": "code",
      "source": [
        "for char in \"Python Workshop\":   #string\n",
        "  print(char)"
      ],
      "metadata": {
        "colab": {
          "base_uri": "https://localhost:8080/"
        },
        "id": "KsfnqY9qWLqU",
        "outputId": "f060effe-911b-4762-d263-73d223cd757e"
      },
      "execution_count": null,
      "outputs": [
        {
          "output_type": "stream",
          "name": "stdout",
          "text": [
            "P\n",
            "y\n",
            "t\n",
            "h\n",
            "o\n",
            "n\n",
            " \n",
            "W\n",
            "o\n",
            "r\n",
            "k\n",
            "s\n",
            "h\n",
            "o\n",
            "p\n"
          ]
        }
      ]
    },
    {
      "cell_type": "markdown",
      "source": [
        "### Break and Continue\n",
        "\n",
        "The break statement is used to exit a loop early, before the loop condition is met. When a break statement is encountered inside a loop, the loop is immediately terminated and the program control is transferred to the statement following the loop.\n",
        "\n",
        "The continue statement is used to skip the rest of the current iteration of a loop and move on to the next one. When a continue statement is encountered inside a loop, the program control is transferred to the beginning of the loop for the next iteration."
      ],
      "metadata": {
        "id": "k8bKbkmuur8Q"
      }
    },
    {
      "cell_type": "code",
      "source": [
        "for i in range(10):\n",
        "    if i == 5:\n",
        "        break\n",
        "    print(i)"
      ],
      "metadata": {
        "colab": {
          "base_uri": "https://localhost:8080/"
        },
        "id": "VBZuxc2nu786",
        "outputId": "27f70441-7966-4e70-86b7-6dc38795ab76"
      },
      "execution_count": null,
      "outputs": [
        {
          "output_type": "stream",
          "name": "stdout",
          "text": [
            "0\n",
            "1\n",
            "2\n",
            "3\n",
            "4\n"
          ]
        }
      ]
    },
    {
      "cell_type": "code",
      "source": [
        "for i in range(10):\n",
        "    if i % 2 == 0:\n",
        "        continue\n",
        "    print(i)"
      ],
      "metadata": {
        "colab": {
          "base_uri": "https://localhost:8080/"
        },
        "id": "4OLs4nH7vB6t",
        "outputId": "2c32bd3c-6e81-4bfb-fed0-d4c7e230ada9"
      },
      "execution_count": null,
      "outputs": [
        {
          "output_type": "stream",
          "name": "stdout",
          "text": [
            "1\n",
            "3\n",
            "5\n",
            "7\n",
            "9\n"
          ]
        }
      ]
    },
    {
      "cell_type": "markdown",
      "source": [
        "## While Loops\n",
        "\n",
        "n Python, a while loop is used to execute a block of code repeatedly as long as a certain condition is met."
      ],
      "metadata": {
        "id": "5zs1QfvfvHJC"
      }
    },
    {
      "cell_type": "code",
      "source": [
        "count = 5\n",
        "while count > 0:\n",
        "    print(count)\n",
        "    count -= 1"
      ],
      "metadata": {
        "colab": {
          "base_uri": "https://localhost:8080/"
        },
        "id": "ZvYJYTtovMFj",
        "outputId": "caafde1a-056f-4179-c696-aa0efc6486f0"
      },
      "execution_count": null,
      "outputs": [
        {
          "output_type": "stream",
          "name": "stdout",
          "text": [
            "5\n",
            "4\n",
            "3\n",
            "2\n",
            "1\n"
          ]
        }
      ]
    },
    {
      "cell_type": "code",
      "source": [
        "count = 0\n",
        "while True:\n",
        "    count += 1\n",
        "    if count % 2 == 0:\n",
        "        continue\n",
        "    print(count)\n",
        "    if count > 5:\n",
        "        break"
      ],
      "metadata": {
        "colab": {
          "base_uri": "https://localhost:8080/"
        },
        "id": "qxAkyjv_vmmK",
        "outputId": "62efd4e9-5b9c-4162-9327-ada86a6fd477"
      },
      "execution_count": null,
      "outputs": [
        {
          "output_type": "stream",
          "name": "stdout",
          "text": [
            "1\n",
            "3\n",
            "5\n",
            "7\n"
          ]
        }
      ]
    },
    {
      "cell_type": "markdown",
      "source": [
        "Q6: Write a program that takes a list of integers and returns the sum of all even numbers in the list with for and while."
      ],
      "metadata": {
        "id": "21dlRr6ruCzs"
      }
    },
    {
      "cell_type": "code",
      "source": [
        "#Write your code here."
      ],
      "metadata": {
        "id": "lmzACqwquDYS"
      },
      "execution_count": null,
      "outputs": []
    },
    {
      "cell_type": "markdown",
      "source": [
        "# Functions\n",
        "\n",
        "In Python, a function is a block of code that is defined to perform a specific task. Functions are used to make your code more modular, reusable, and organized.\n",
        "\n",
        "Here is the basic syntax for defining a function in Python:\n",
        "\n",
        "\n",
        "\n",
        "```\n",
        "def function_name(arguments):\n",
        "    # code to be executed\n",
        "```\n",
        "\n",
        "Here is an example of a simple function that takes a single argument and returns the square of that number:\n",
        "\n"
      ],
      "metadata": {
        "id": "71fDvlzaBrun"
      }
    },
    {
      "cell_type": "code",
      "source": [
        "def square(x):\n",
        "    return x**2"
      ],
      "metadata": {
        "id": "Idz7c25FBurR"
      },
      "execution_count": null,
      "outputs": []
    },
    {
      "cell_type": "code",
      "source": [
        "print(square(5))"
      ],
      "metadata": {
        "colab": {
          "base_uri": "https://localhost:8080/"
        },
        "id": "1ID303wJweVU",
        "outputId": "a7b499d8-2bfa-4221-e135-3d194cdcab3d"
      },
      "execution_count": null,
      "outputs": [
        {
          "output_type": "stream",
          "name": "stdout",
          "text": [
            "25\n"
          ]
        }
      ]
    },
    {
      "cell_type": "markdown",
      "source": [
        "## Calling a Function\n",
        "\n",
        "To call a function, use the function name followed by parenthesis:\n",
        "\n",
        "\n",
        "```\n",
        "def my_function():\n",
        "  print(\"Hello from the function\")\n",
        "\n",
        "my_function()\n",
        "```\n",
        "\n",
        "## Arguments\n",
        "Information can be passed into functions as arguments. \n",
        "\n",
        "Arguments are specified after the function name, inside the parentheses. You can add as many arguments as you want, just separate them with a comma. \n",
        "\n",
        "The following example has a function with one argument (fname). When the function is called, we pass along a first name, which is used inside the function to print the full name:"
      ],
      "metadata": {
        "id": "6-YlRSSPykq0"
      }
    },
    {
      "cell_type": "code",
      "source": [
        "def my_function(fname):\n",
        "  print(fname + \" Refsnes\")\n",
        "\n",
        "my_function(\"Emil\")\n",
        "my_function(\"Tobias\")\n",
        "my_function(\"Linus\")"
      ],
      "metadata": {
        "colab": {
          "base_uri": "https://localhost:8080/"
        },
        "id": "V0mAQVL8wyCZ",
        "outputId": "257b7eb4-748b-47e5-b55b-e7e3cfff1707"
      },
      "execution_count": null,
      "outputs": [
        {
          "output_type": "stream",
          "name": "stdout",
          "text": [
            "Emil Refsnes\n",
            "Tobias Refsnes\n",
            "Linus Refsnes\n"
          ]
        }
      ]
    },
    {
      "cell_type": "markdown",
      "source": [
        "You can also define default values for arguments, which allows you to call the function with fewer arguments. If an argument is not provided when the function is called, the default value is used."
      ],
      "metadata": {
        "id": "p3T9VGdEzvxY"
      }
    },
    {
      "cell_type": "code",
      "source": [
        "def greet(name, greeting='Hello'):\n",
        "    print(f'{greeting}, {name}!')\n",
        "\n",
        "greet('Alice')  \n",
        "greet('Bob', greeting='Hi')  "
      ],
      "metadata": {
        "colab": {
          "base_uri": "https://localhost:8080/"
        },
        "id": "zdVQGYQcx3aH",
        "outputId": "6ea729ba-f8c0-44c0-bf08-43f9405a62c4"
      },
      "execution_count": null,
      "outputs": [
        {
          "output_type": "stream",
          "name": "stdout",
          "text": [
            "Hello, Alice!\n",
            "Hi, Bob!\n"
          ]
        }
      ]
    },
    {
      "cell_type": "markdown",
      "source": [
        "You can also define a function that takes an arbitrary number of arguments by using the *args syntax. This allows you to pass any number of arguments to the function, which will be packed into a tuple.\n",
        "\n",
        "You can use the return statement to return a value from the function. If a return statement is not used, the function will return None by default."
      ],
      "metadata": {
        "id": "38YpJCoJz4k-"
      }
    },
    {
      "cell_type": "code",
      "source": [
        "def sum_numbers(*args):\n",
        "    total = 0\n",
        "    for number in args:\n",
        "        total += number\n",
        "    return total\n",
        "\n",
        "result = sum_numbers(1, 2, 3, 4, 5)\n",
        "print(result)  "
      ],
      "metadata": {
        "colab": {
          "base_uri": "https://localhost:8080/"
        },
        "id": "Lb4qhIM2z4TY",
        "outputId": "a8a12197-68f4-4cc5-ff12-c0cc4cd231e4"
      },
      "execution_count": null,
      "outputs": [
        {
          "output_type": "stream",
          "name": "stdout",
          "text": [
            "15\n"
          ]
        }
      ]
    },
    {
      "cell_type": "markdown",
      "source": [
        "## Keyword Arguments\n",
        "You can also send arguments with the key = value syntax.\n",
        "\n",
        "This way the order of the arguments does not matter."
      ],
      "metadata": {
        "id": "m-CDsuGf0IJc"
      }
    },
    {
      "cell_type": "code",
      "source": [
        "def my_function(child3, child2, child1):\n",
        "  print(\"The youngest child is \" + child3)\n",
        "\n",
        "my_function(child1 = \"Emil\", child2 = \"Tobias\", child3 = \"Linus\")"
      ],
      "metadata": {
        "colab": {
          "base_uri": "https://localhost:8080/"
        },
        "id": "CswHRyYw0MkH",
        "outputId": "94b4b36c-e6dd-4eb2-afa2-0a862dce080a"
      },
      "execution_count": null,
      "outputs": [
        {
          "output_type": "stream",
          "name": "stdout",
          "text": [
            "The youngest child is Linus\n"
          ]
        }
      ]
    },
    {
      "cell_type": "markdown",
      "source": [
        "# Exercises\n"
      ],
      "metadata": {
        "id": "TqC6U3orx35i"
      }
    },
    {
      "cell_type": "markdown",
      "source": [
        "Q1: Write a program that takes a list of numbers from the user and prints the maximum, minimum, and average value of the list. Use a loop to iterate through the list, and use conditionals to determine the maximum and minimum values. Define each calculation as a separate function."
      ],
      "metadata": {
        "id": "r6ceULpLyCgn"
      }
    },
    {
      "cell_type": "code",
      "source": [
        "#write your answer here:"
      ],
      "metadata": {
        "id": "KsONkXFgyALU"
      },
      "execution_count": null,
      "outputs": []
    },
    {
      "cell_type": "markdown",
      "source": [
        "Q2: Write a program that takes a string from the user and determines whether it is a palindrome (i.e., reads the same forwards and backwards). Use a loop to iterate through the characters in the string, and use conditionals to check whether each pair of characters is equal. Define a function to check whether the string is a palindrome. (Test with racecar)"
      ],
      "metadata": {
        "id": "yNNjtq0cyJ4N"
      }
    },
    {
      "cell_type": "code",
      "source": [
        "#write your answer here:"
      ],
      "metadata": {
        "id": "GNiYO97jyIUr"
      },
      "execution_count": null,
      "outputs": []
    },
    {
      "cell_type": "markdown",
      "source": [
        "# Further Reading:\n",
        "\n",
        "\n",
        "\n",
        "*   https://www.w3schools.com/python/   \n",
        "*   https://realpython.com/ \n",
        "*   https://docs.python.org/3/tutorial/\n",
        "\n"
      ],
      "metadata": {
        "id": "aCoz14sN6vcX"
      }
    }
  ]
}