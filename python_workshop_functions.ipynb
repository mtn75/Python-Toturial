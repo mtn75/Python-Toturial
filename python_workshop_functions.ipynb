{
  "nbformat": 4,
  "nbformat_minor": 0,
  "metadata": {
    "colab": {
      "provenance": [],
      "authorship_tag": "ABX9TyONpq0Y6NQaieWEPkbRHryD",
      "include_colab_link": true
    },
    "kernelspec": {
      "name": "python3",
      "display_name": "Python 3"
    },
    "language_info": {
      "name": "python"
    }
  },
  "cells": [
    {
      "cell_type": "markdown",
      "metadata": {
        "id": "view-in-github",
        "colab_type": "text"
      },
      "source": [
        "<a href=\"https://colab.research.google.com/github/mtn75/Python-Toturial/blob/main/python_workshop_functions.ipynb\" target=\"_parent\"><img src=\"https://colab.research.google.com/assets/colab-badge.svg\" alt=\"Open In Colab\"/></a>"
      ]
    },
    {
      "cell_type": "markdown",
      "source": [
        "# Operations\n",
        "\n",
        "Operators in Python are special symbols that perform specific operations on one, two, or three operands, and then return a result.\n",
        "\n",
        "There are several types of operators in Python:"
      ],
      "metadata": {
        "id": "JRBtMc-iBgho"
      }
    },
    {
      "cell_type": "markdown",
      "source": [
        "## Arithmetic Operators\n",
        "These operators perform mathematical operations on numerical values (operands).\n",
        "\n",
        "|Operator|\tName|\tExample|\t\n",
        "| :- | :- | :- |\n",
        "|+\t|Addition\t|x + y\t|\n",
        "|-\t|Subtraction|\tx - y\t|\n",
        "|* | Multiplication | x \\* y |\n",
        "|/|\tDivision\t|x / y\t|\n",
        "|%\t|Modulus\t|x % y\t|\n",
        "|** |\tExponentiation\t| x ** y\t|\n",
        "|//\t|Floor division\t|x // y|\n",
        "\n",
        "## Assignment Operators\n",
        "These operators are used to assign a value to a variable. \n",
        "\n",
        "|Operator|\tExample\t|Same As|\n",
        "| :- | :- | :-|\n",
        "|=\t|x = 5|\tx = 5\t|\n",
        "|+=\t|x += 3\t|x = x + 3\t|\n",
        "| -=|\tx -= 3|\tx = x - 3\t|\n",
        "|*= |\tx *= 3\t| x = x * 3\t|\n",
        "|/=\t|x /= 3|\tx = x / 3\t|\n",
        "|%=\t|x %= 3\t|x = x % 3\t|\n",
        "|//=|\tx //= 3|\tx = x // 3\t|\n",
        "|**= |\tx **= 3\t|x = x ** 3\t|\n",
        "|&=\t|x &= 3\t|x = x & 3|\t\n",
        "| \\|=\t| x \\|= 3\t|x = x \\| 3\t|\n",
        "|^=\t|x ^= 3\t|x = x ^ 3\t|\n",
        "| >>=\t|x >>= 3|\tx = x >> 3|\t\n",
        "|<<=|\tx <<= 3\t|x = x << 3|"
      ],
      "metadata": {
        "id": "oDhy5d-iDaBJ"
      }
    },
    {
      "cell_type": "code",
      "execution_count": 10,
      "metadata": {
        "id": "UcllJQktu3ep",
        "colab": {
          "base_uri": "https://localhost:8080/"
        },
        "outputId": "f762291e-47f2-4f4c-eb36-8da419161737"
      },
      "outputs": [
        {
          "output_type": "stream",
          "name": "stdout",
          "text": [
            "8\n",
            "5\n",
            "15\n",
            "0\n",
            "5\n",
            "3\n"
          ]
        }
      ],
      "source": [
        "x = 5\n",
        "\n",
        "x += 3\n",
        "print(x)\n",
        "\n",
        "x -= 3\n",
        "print(x)\n",
        "\n",
        "x *= 3\n",
        "print(x)\n",
        "\n",
        "print(x % 3)\n",
        "\n",
        "print(x // 3\t)\n",
        "\n",
        "x &= 3\n",
        "print(x)\n",
        "\n"
      ]
    },
    {
      "cell_type": "code",
      "source": [],
      "metadata": {
        "id": "WWLq5P6NFVZR"
      },
      "execution_count": null,
      "outputs": []
    },
    {
      "cell_type": "markdown",
      "source": [
        "## Comparison Operators\n",
        "These operators compare two values and return a Boolean value based on the comparison.\n",
        "\n",
        "|Operator\t|Name\t|Example|\t\n",
        "| :- | :- | :- |\n",
        "|==\t|Equal\t|x == y\t|\n",
        "|!=\t|Not equal|\tx != y\t|\n",
        "|>|\tGreater than\t|x > y\t|\n",
        "|<|\tLess than\t|x < y\t|\n",
        "|>=\t|Greater than or equal to |\tx >= y\t|\n",
        "|<=\t|Less than or equal to|\tx <= y|\t\n"
      ],
      "metadata": {
        "id": "UBu1ZYI7FVh-"
      }
    },
    {
      "cell_type": "code",
      "source": [
        "x, y = 9,4\n",
        "\n",
        "print(x==y)\n",
        "print(x==9)\n",
        "print(x!=y)\n",
        "print(x<y)\n",
        "print(x>=y)\n"
      ],
      "metadata": {
        "colab": {
          "base_uri": "https://localhost:8080/"
        },
        "id": "HB137PAtFuJn",
        "outputId": "dab549a7-eaa8-4a57-98a2-58ceefa79385"
      },
      "execution_count": 11,
      "outputs": [
        {
          "output_type": "stream",
          "name": "stdout",
          "text": [
            "False\n",
            "True\n",
            "True\n",
            "False\n",
            "True\n"
          ]
        }
      ]
    },
    {
      "cell_type": "markdown",
      "source": [
        "## Other Operators\n",
        "\n",
        "Logical operators: These operators perform Boolean operations on operands. Examples include and, or, and not.\n",
        "\n",
        "Identity operators: These operators compare the memory addresses of two objects. Examples include is and is not.\n",
        "\n",
        "Membership operators: These operators test whether a value is found in a sequence. Examples include in and not in.\n",
        "\n",
        "|Operator\t|Description\t|Example|\n",
        "| :- | :- | :- |\n",
        "|and |\tReturns True if both statements are true|\tx < 5 and  x < 10\t|\n",
        "|or|\tReturns True if one of the statements is true|\tx < 5 or x < 4\t|\n",
        "|not|\tReverse the result, returns False if the result is true\t|not(x < 5 and x < 10)|\n",
        "|is |\tReturns True if both variables are the same object\t|x is y\t|\n",
        "|is not\t|Returns True if both variables are not the same object\t|x is not y|\t\n",
        "|in |\tReturns True if a sequence with the specified value is present in the object|\tx in y\t|\n",
        "|not in|\tReturns True if a sequence with the specified value is not present in the object|\tx not in y|"
      ],
      "metadata": {
        "id": "lIQ-_lXZFuQ1"
      }
    },
    {
      "cell_type": "code",
      "source": [
        "nums = list(range(10))\n",
        "string1 = \"Hello\"\n",
        "string2 = \"hello\"\n",
        "\n",
        "\n",
        "print(3 in nums)\n",
        "print(15 not in nums)\n",
        "print(string1 is string2)\n",
        "print(3 in nums or 4 not in nums)"
      ],
      "metadata": {
        "colab": {
          "base_uri": "https://localhost:8080/"
        },
        "id": "qABC_kzIGsSa",
        "outputId": "7b74f067-293e-4950-c5e3-2e1fd3d335f0"
      },
      "execution_count": 18,
      "outputs": [
        {
          "output_type": "stream",
          "name": "stdout",
          "text": [
            "True\n",
            "True\n",
            "False\n",
            "True\n"
          ]
        }
      ]
    },
    {
      "cell_type": "markdown",
      "source": [
        "# Conditional Statements\n",
        "\n",
        "In Python, you can use conditional statements to execute different code blocks based on whether a certain condition is true or false."
      ],
      "metadata": {
        "id": "gRd2zFdkBjkG"
      }
    },
    {
      "cell_type": "markdown",
      "source": [
        "## If\n",
        "Here is an example of an if statement in Python:"
      ],
      "metadata": {
        "id": "chSqvDrza4XM"
      }
    },
    {
      "cell_type": "code",
      "source": [
        "x = 10\n",
        "\n",
        "if x > 0:\n",
        "  print(\"x is positive\")\n",
        "\n",
        "#or\n",
        "\n",
        "if x > 0: print(\"x is positive\")    #short hand"
      ],
      "metadata": {
        "colab": {
          "base_uri": "https://localhost:8080/"
        },
        "id": "hR1OWlEWBnDa",
        "outputId": "2f681178-46c3-4336-d27e-ce704fdfba39"
      },
      "execution_count": 22,
      "outputs": [
        {
          "output_type": "stream",
          "name": "stdout",
          "text": [
            "x is positive\n",
            "x is positive\n"
          ]
        }
      ]
    },
    {
      "cell_type": "markdown",
      "source": [
        "## Else\n",
        "\n",
        "You can also use an if-else statement to specify a code block to be executed if the condition is false:"
      ],
      "metadata": {
        "id": "jQG0vO-Ba85r"
      }
    },
    {
      "cell_type": "code",
      "source": [
        "x = -5\n",
        "\n",
        "if x > 0:\n",
        "  print(\"x is positive\")\n",
        "else:\n",
        "  print(\"x is negative\")\n",
        "\n",
        "#or\n",
        "\n",
        "print(\"x is positive\") if x > 0 else print(\"x is negative\")     #short hand"
      ],
      "metadata": {
        "colab": {
          "base_uri": "https://localhost:8080/"
        },
        "id": "yJKR6_Neaawo",
        "outputId": "0f3e1253-809f-442e-fc80-ab5c8000cf1e"
      },
      "execution_count": 23,
      "outputs": [
        {
          "output_type": "stream",
          "name": "stdout",
          "text": [
            "x is negative\n",
            "x is negative\n"
          ]
        }
      ]
    },
    {
      "cell_type": "markdown",
      "source": [
        "## Elif\n",
        "You can use an if-elif-else statement to specify multiple conditions and code blocks:"
      ],
      "metadata": {
        "id": "VpLgWzG6a_1j"
      }
    },
    {
      "cell_type": "code",
      "source": [
        "x = 10\n",
        "\n",
        "if x > 0:\n",
        "  print(\"x is positive\")\n",
        "elif x == 0:\n",
        "  print(\"x is zero\")\n",
        "else:\n",
        "  print(\"x is negative\")\n",
        "\n",
        "#or\n",
        "\n",
        "print(\"x is positive\") if x > 0 else print(\"x is zero\") if x == 0 else print(\"x is negative\")      #short hand"
      ],
      "metadata": {
        "colab": {
          "base_uri": "https://localhost:8080/"
        },
        "id": "lvmag5Q3aa0d",
        "outputId": "43d4567d-d25c-47f8-9221-8a3a39b91ed2"
      },
      "execution_count": 25,
      "outputs": [
        {
          "output_type": "stream",
          "name": "stdout",
          "text": [
            "x is positive\n",
            "x is positive\n"
          ]
        }
      ]
    },
    {
      "cell_type": "markdown",
      "source": [
        "It is important to note that the code blocks under the if and elif statements are only executed if the corresponding conditions are true. As soon as a true condition is found, the code execution moves to the corresponding code block and skips the remaining conditions."
      ],
      "metadata": {
        "id": "s6EM_0kYaq7b"
      }
    },
    {
      "cell_type": "markdown",
      "source": [
        "## Nested If\n",
        "\n",
        "In Python, you can use a nested if statement to test multiple conditions within an if or else block."
      ],
      "metadata": {
        "id": "uZGIEy4GcUBN"
      }
    },
    {
      "cell_type": "code",
      "source": [
        "x = 10\n",
        "y = 5\n",
        "\n",
        "if x > 0:\n",
        "  if y > 0:\n",
        "    print(\"x and y are positive\")\n",
        "  elif y == 0:\n",
        "    print(\"x is positive and y is zero\")\n",
        "  else:\n",
        "    print(\"x is positive and y is negative\")\n",
        "else:\n",
        "  if y > 0:\n",
        "    print(\"x is non-positive and y is positive\")\n",
        "  elif y == 0:\n",
        "    print(\"x and y are zero\")\n",
        "  else:\n",
        "    print(\"x and y are non-positive\")\n",
        "\n"
      ],
      "metadata": {
        "colab": {
          "base_uri": "https://localhost:8080/"
        },
        "id": "hHy0dsUzcrZz",
        "outputId": "59028aec-5356-4a5b-b934-23c9a30e5f92"
      },
      "execution_count": 26,
      "outputs": [
        {
          "output_type": "stream",
          "name": "stdout",
          "text": [
            "x and y are positive\n"
          ]
        }
      ]
    },
    {
      "cell_type": "markdown",
      "source": [
        "# Loops\n",
        "\n",
        "Python has two primitive loop commands:\n",
        "\n",
        "*   while loops\n",
        "*   for loops\n",
        "\n",
        "\n"
      ],
      "metadata": {
        "id": "9GAfAJakBnqn"
      }
    },
    {
      "cell_type": "markdown",
      "source": [
        "## For Loops\n",
        "\n",
        "n Python, a for loop is used to iterate over a sequence (such as a list, tuple, or string) or other iterable object. "
      ],
      "metadata": {
        "id": "FDCjIKPlV2Mt"
      }
    },
    {
      "cell_type": "code",
      "source": [
        "for i in range(10):    #tuple, list\n",
        "    print(i)"
      ],
      "metadata": {
        "colab": {
          "base_uri": "https://localhost:8080/"
        },
        "id": "lqeY8lyNBq1P",
        "outputId": "3afe07d8-8307-4e05-aac7-4bf454284d5d"
      },
      "execution_count": 27,
      "outputs": [
        {
          "output_type": "stream",
          "name": "stdout",
          "text": [
            "0\n",
            "1\n",
            "2\n",
            "3\n",
            "4\n",
            "5\n",
            "6\n",
            "7\n",
            "8\n",
            "9\n"
          ]
        }
      ]
    },
    {
      "cell_type": "code",
      "source": [
        "for char in \"Python Workshop\":   #string\n",
        "  print(char)"
      ],
      "metadata": {
        "colab": {
          "base_uri": "https://localhost:8080/"
        },
        "id": "KsfnqY9qWLqU",
        "outputId": "f060effe-911b-4762-d263-73d223cd757e"
      },
      "execution_count": 28,
      "outputs": [
        {
          "output_type": "stream",
          "name": "stdout",
          "text": [
            "P\n",
            "y\n",
            "t\n",
            "h\n",
            "o\n",
            "n\n",
            " \n",
            "W\n",
            "o\n",
            "r\n",
            "k\n",
            "s\n",
            "h\n",
            "o\n",
            "p\n"
          ]
        }
      ]
    },
    {
      "cell_type": "markdown",
      "source": [
        "### Break and Continue\n",
        "\n",
        "The break statement is used to exit a loop early, before the loop condition is met. When a break statement is encountered inside a loop, the loop is immediately terminated and the program control is transferred to the statement following the loop.\n",
        "\n",
        "The continue statement is used to skip the rest of the current iteration of a loop and move on to the next one. When a continue statement is encountered inside a loop, the program control is transferred to the beginning of the loop for the next iteration."
      ],
      "metadata": {
        "id": "k8bKbkmuur8Q"
      }
    },
    {
      "cell_type": "code",
      "source": [
        "for i in range(10):\n",
        "    if i == 5:\n",
        "        break\n",
        "    print(i)"
      ],
      "metadata": {
        "colab": {
          "base_uri": "https://localhost:8080/"
        },
        "id": "VBZuxc2nu786",
        "outputId": "27f70441-7966-4e70-86b7-6dc38795ab76"
      },
      "execution_count": 29,
      "outputs": [
        {
          "output_type": "stream",
          "name": "stdout",
          "text": [
            "0\n",
            "1\n",
            "2\n",
            "3\n",
            "4\n"
          ]
        }
      ]
    },
    {
      "cell_type": "code",
      "source": [
        "for i in range(10):\n",
        "    if i % 2 == 0:\n",
        "        continue\n",
        "    print(i)"
      ],
      "metadata": {
        "colab": {
          "base_uri": "https://localhost:8080/"
        },
        "id": "4OLs4nH7vB6t",
        "outputId": "2c32bd3c-6e81-4bfb-fed0-d4c7e230ada9"
      },
      "execution_count": 30,
      "outputs": [
        {
          "output_type": "stream",
          "name": "stdout",
          "text": [
            "1\n",
            "3\n",
            "5\n",
            "7\n",
            "9\n"
          ]
        }
      ]
    },
    {
      "cell_type": "markdown",
      "source": [
        "## While Loops\n",
        "\n",
        "n Python, a while loop is used to execute a block of code repeatedly as long as a certain condition is met."
      ],
      "metadata": {
        "id": "5zs1QfvfvHJC"
      }
    },
    {
      "cell_type": "code",
      "source": [
        "count = 5\n",
        "while count > 0:\n",
        "    print(count)\n",
        "    count -= 1"
      ],
      "metadata": {
        "colab": {
          "base_uri": "https://localhost:8080/"
        },
        "id": "ZvYJYTtovMFj",
        "outputId": "caafde1a-056f-4179-c696-aa0efc6486f0"
      },
      "execution_count": 31,
      "outputs": [
        {
          "output_type": "stream",
          "name": "stdout",
          "text": [
            "5\n",
            "4\n",
            "3\n",
            "2\n",
            "1\n"
          ]
        }
      ]
    },
    {
      "cell_type": "code",
      "source": [
        "count = 0\n",
        "while True:\n",
        "    count += 1\n",
        "    if count % 2 == 0:\n",
        "        continue\n",
        "    print(count)\n",
        "    if count > 5:\n",
        "        break"
      ],
      "metadata": {
        "colab": {
          "base_uri": "https://localhost:8080/"
        },
        "id": "qxAkyjv_vmmK",
        "outputId": "62efd4e9-5b9c-4162-9327-ada86a6fd477"
      },
      "execution_count": 33,
      "outputs": [
        {
          "output_type": "stream",
          "name": "stdout",
          "text": [
            "1\n",
            "3\n",
            "5\n",
            "7\n"
          ]
        }
      ]
    },
    {
      "cell_type": "markdown",
      "source": [
        "# Functions"
      ],
      "metadata": {
        "id": "71fDvlzaBrun"
      }
    },
    {
      "cell_type": "code",
      "source": [],
      "metadata": {
        "id": "Idz7c25FBurR"
      },
      "execution_count": null,
      "outputs": []
    }
  ]
}